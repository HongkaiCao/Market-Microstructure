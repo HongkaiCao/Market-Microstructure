{
 "cells": [
  {
   "cell_type": "markdown",
   "metadata": {},
   "source": [
    "# MTH9879 Homework 4\n",
    "\n",
    "Assigned: February 21, 2017.\n",
    "Due: March 7, 2017 by 6pm. \n",
    "\n",
    "Late homework **will not be accepted**.\n",
    "\n",
    "$$\n",
    "\\newcommand{\\underbar}{\\underline}\n",
    "\\newcommand{\\supp}{\\mathrm{supp}}\n",
    "\\newcommand{\\E}{\\mathbb{E}}\n",
    "\\newcommand{\\EE}{\\mathbb{E}}\n",
    "\\newcommand{\\Eof}[1]{\\mathbb{E}\\left[ #1 \\right]}\n",
    "\\def\\Cov{{ \\mbox{Cov} }}\n",
    "\\def\\Var{{ \\mbox{Var} }}\n",
    "\\newcommand{\\1}{\\mathbf{1} }\n",
    "\\newcommand{\\PP}{\\mathbb{P} }\n",
    "%\\newcommand{\\Pr}{\\mathrm{Pr} }\n",
    "\\newcommand{\\QQ}{\\mathbb{Q} }\n",
    "\\newcommand{\\RR}{\\mathbb{R} }\n",
    "\\newcommand{\\DD}{\\mathbb{D} }\n",
    "\\newcommand{\\HH}{\\mathbb{H} }\n",
    "\\newcommand{\\spn}{\\mathrm{span} }\n",
    "\\newcommand{\\cov}{\\mathrm{cov} }\n",
    "\\newcommand{\\sgn}{\\mathrm{sgn} }\n",
    "\\newcommand{\\HS}{\\mathcal{L}_{\\mathrm{HS}} }\n",
    "%\\newcommand{\\HS}{\\mathrm{HS} }\n",
    "\\newcommand{\\trace}{\\mathrm{trace} }\n",
    "\\newcommand{\\LL}{\\mathcal{L} }\n",
    "%\\newcommand{\\LL}{\\mathrm{L} }\n",
    "\\newcommand{\\s}{\\mathcal{S} }\n",
    "\\newcommand{\\ee}{\\mathcal{E} }\n",
    "\\newcommand{\\ff}{\\mathcal{F} }\n",
    "\\newcommand{\\hh}{\\mathcal{H} }\n",
    "\\newcommand{\\bb}{\\mathcal{B} }\n",
    "\\newcommand{\\dd}{\\mathcal{D} }\n",
    "\\newcommand{\\g}{\\mathcal{G} }\n",
    "\\newcommand{\\p}{\\partial}\n",
    "\\newcommand{\\half}{\\frac{1}{2} }\n",
    "\\newcommand{\\T}{\\mathcal{T} }\n",
    "\\newcommand{\\bi}{\\begin{itemize}}\n",
    "\\newcommand{\\ei}{\\end{itemize}}\n",
    "\\newcommand{\\beq}{\\begin{equation}}\n",
    "\\newcommand{\\eeq}{\\end{equation}}\n",
    "\\newcommand{\\beas}{\\begin{eqnarray*}}\n",
    "\\newcommand{\\eeas}{\\end{eqnarray*}}\n",
    "\\newcommand{\\cO}{\\mathcal{O}}\n",
    "\\newcommand{\\cF}{\\mathcal{F}}\n",
    "\\newcommand{\\cL}{\\mathcal{L}}\n",
    "\\newcommand{\\BS}{\\text{BS}}\n",
    "$$"
   ]
  },
  {
   "cell_type": "markdown",
   "metadata": {},
   "source": [
    "<font color = \"red\">Homework is to be done by each student individually.  To receive full credit, you must email a completed copy of this iPython notebook to Victor Istratov (stavka@gmail.com), Yassine Ghalem (yassine.ghalem@gmail.com) and Jim Gatheral (jim.gatheral@gmail.com) by the due date and time.  All R-code must run correctly and solutions must be written up neatly in Markdown/LaTeX format.\n"
   ]
  },
  {
   "cell_type": "markdown",
   "metadata": {},
   "source": [
    "* **Author: Hongchao Pan**\n",
    "* Kernel Version: R 3.3.2\n",
    "* Packages/Libraries: \n",
    "* Notes:"
   ]
  },
  {
   "cell_type": "code",
   "execution_count": 1,
   "metadata": {
    "collapsed": false
   },
   "outputs": [
    {
     "name": "stderr",
     "output_type": "stream",
     "text": [
      "\n",
      "Attaching package: ‘zoo’\n",
      "\n",
      "The following objects are masked from ‘package:base’:\n",
      "\n",
      "    as.Date, as.Date.numeric\n",
      "\n",
      "Loading required package: TTR\n",
      "Version 0.4-0 included new data defaults. See ?getSymbols.\n",
      "\n",
      "Attaching package: ‘highfrequency’\n",
      "\n",
      "The following objects are masked from ‘package:quantmod’:\n",
      "\n",
      "    getPrice, has.Qty\n",
      "\n"
     ]
    }
   ],
   "source": [
    "# install packages if not have\n",
    "\n",
    "#install.packages(\"highfrequency\")\n",
    "# Cannot install 'highfrequency' from CRAN\n",
    "# download the r-release binaries and copy to the R library folder\n",
    "\n",
    "#install.packages(\"quantmod\")\n",
    "#install.packages(\"zoo\")\n",
    "\n",
    "# Loading libraries\n",
    "library(zoo)\n",
    "library(xts)\n",
    "library(quantmod)  # Attached to highfrequency\n",
    "library(highfrequency)\n",
    "library(repr) # For changing plot features"
   ]
  },
  {
   "cell_type": "markdown",
   "metadata": {},
   "source": [
    "### 0. (0 points) \n",
    "Read Chapter 5 and 6 of Hasbrouck and Chapters 2 and 3 of Foucault, Pagano and R&ouml;ell. \n"
   ]
  },
  {
   "cell_type": "markdown",
   "metadata": {},
   "source": [
    "## Glosten and Milgrom"
   ]
  },
  {
   "cell_type": "markdown",
   "metadata": {},
   "source": [
    "### 1. (8 points) \n",
    "\n",
    "(Adapted from Hasbrouck 5.2 but please note that the setup in (3) in the slides is different from Hasbrouck's in Figure 5.1 of his book.) Consider a variant of the Glosten and Milgrom model where there is informed trading only in the low state $V=\\underline V$.\n",
    "\n",
    "(a) Show that the learned probability after one step that the true price is $\\bar V$ is given by\n",
    "\n",
    "$$\n",
    "\\delta_1(Buy)=\\Pr(\\bar V|Buy)=\\frac{\\delta}{1-\\mu\\,(1-\\delta)};\\quad \\delta_1(Sell)=\\Pr(\\bar V|Sell)=\\frac{\\delta}{1+\\mu\\,(1-\\delta)}\n",
    "$$\n",
    "\n",
    "and that\n",
    "\n",
    "$$\n",
    "A=\\frac{\\underline V\\,{(1-\\delta)\\,(1-\\mu)}+\\bar V\\,{\\delta}}{{1-\\mu\\,(1-\\delta)}};\\quad B=\\frac{\\underline V\\,{(1-\\delta)\\,(1+\\mu)}+\\bar V\\,{\\delta}}{1+\\mu\\,(1-\\delta)}\n",
    "$$\n",
    "\n",
    "(b) Deduce an expression for the spread $s=A-B$.\n",
    "\n",
    "(c) Explain the sensitivities of the spread to the parameters of the model to a non-expert.\n"
   ]
  },
  {
   "cell_type": "markdown",
   "metadata": {},
   "source": [
    "### Answers of Q1"
   ]
  },
  {
   "cell_type": "markdown",
   "metadata": {},
   "source": [
    "#### (a)"
   ]
  },
  {
   "cell_type": "markdown",
   "metadata": {},
   "source": [
    "Since the revised Glosten and Milgrom model only informed trading only in the low state $V=\\underline V$, the new sequantial trade model event tree changes to below:"
   ]
  },
  {
   "cell_type": "markdown",
   "metadata": {},
   "source": [
    "\n",
    "<img src=\"GM_trading_tree.png\" style=\"float:center; height: 250px\">"
   ]
  },
  {
   "cell_type": "markdown",
   "metadata": {},
   "source": [
    "Therefore, we have:\n",
    "\n",
    "* The unconditional probability of a Buy and a Sell is given by:\n",
    "\n",
    "$$\n",
    "\\text{Pr(Buy)}=\\frac{\\delta}{2}+\\frac{(1-\\mu)(1-\\delta)}{2}=\\frac{1-\\mu (1-\\delta)}{2}\n",
    "$$\n",
    "\n",
    "$$\n",
    "\\text{Pr(Sell)}=\\frac{\\delta}{2}+\\frac{(1-\\mu)(1-\\delta)}{2}+\\mu (1-\\delta)=\\frac{1+\\mu (1-\\delta)}{2}\n",
    "$$\n"
   ]
  },
  {
   "cell_type": "markdown",
   "metadata": {},
   "source": [
    "* Buy inspection the new tree, we have:\n",
    "\n",
    "$$\n",
    "\\text{Pr}(\\bar V \\cap \\text{Buy})=\\frac{\\delta}{2}\n",
    "$$\n",
    "\n",
    "$$\n",
    "\\text{Pr}(\\bar V \\cap \\text{Sell})=\\frac{\\delta}{2}\n",
    "$$"
   ]
  },
  {
   "cell_type": "markdown",
   "metadata": {},
   "source": [
    "$\\Rightarrow$\n",
    "\n",
    "$$\n",
    "\\delta_1(\\text{Buy}) = \\text{Pr}(\\bar V | \\text{Buy})\n",
    "=\\frac{\\text{Pr}(\\bar V \\cap \\text{Buy})}{\\text{Pr(Buy)}}\n",
    "=\\frac{\\delta}{1-\\mu(1-\\delta)}\n",
    "$$\n",
    "\n",
    "$$\n",
    "\\delta_1(\\text{Sell}) = \\text{Pr}(\\bar V | \\text{Sell})\n",
    "=\\frac{\\text{Pr}(\\bar V \\cap \\text{Sell})}{\\text{Pr(Sell)}}\n",
    "=\\frac{\\delta}{1+\\mu(1-\\delta)}\n",
    "$$"
   ]
  },
  {
   "cell_type": "markdown",
   "metadata": {},
   "source": [
    "* In one step, the value of V can be $\\bar V$ or $\\underline V$, therefore:\n",
    "\n",
    "$$\n",
    "\\text{Pr}(\\underline V|\\text{Buy})=1-\\text{Pr}(\\bar V | \\text{Buy})=\\frac{(1-\\mu)(1-\\delta)}{1-\\mu(1-\\delta)}\n",
    "$$\n",
    "\n",
    "$$\n",
    "\\text{Pr}(\\underline V|\\text{Sell})=1-\\text{Pr}(\\bar V | \\text{Sell})=\\frac{(1+\\mu)(1-\\delta)}{1+\\mu(1-\\delta)}\n",
    "$$"
   ]
  },
  {
   "cell_type": "markdown",
   "metadata": {},
   "source": [
    "$\\Rightarrow$\n",
    "\n",
    "$$\n",
    "A=\\mathbb{E}[V|\\text{Buy}]={\\bar V\\,\\Pr(\\bar V|\\text{Buy})+\\underline V\\,\\Pr(\\underline V|\\text{Buy})}\\\\\n",
    "=\\frac{\\bar V \\delta + \\underline V (1-\\mu)(1-\\delta)}{1-\\mu(1-\\delta)}\n",
    "$$\n",
    "\n",
    "$$\n",
    "B=\\mathbb{E}[V|\\text{Sell}]={\\bar V\\,\\Pr(\\bar V|\\text{Sell})+\\underline V\\,\\Pr(\\underline V|\\text{Sell})}\\\\\n",
    "=\\frac{\\bar V \\delta + \\underline V (1+\\mu)(1-\\delta)}{1+\\mu(1-\\delta)}\n",
    "$$"
   ]
  },
  {
   "cell_type": "markdown",
   "metadata": {},
   "source": [
    "#### (b)"
   ]
  },
  {
   "cell_type": "markdown",
   "metadata": {},
   "source": [
    "$$\n",
    "s=A-B=\\frac{\\bar V \\delta + \\underline V (1-\\mu)(1-\\delta)}{1-\\mu(1-\\delta)}-\\frac{\\bar V \\delta + \\underline V (1+\\mu)(1-\\delta)}{1+\\mu(1-\\delta)}\\\\\n",
    "=\\frac{2\\delta \\mu(1-\\delta)(\\bar V - \\underline V)}{1-\\mu^2 (1-\\delta)^2}\n",
    "$$"
   ]
  },
  {
   "cell_type": "markdown",
   "metadata": {},
   "source": [
    "#### (c)"
   ]
  },
  {
   "cell_type": "markdown",
   "metadata": {},
   "source": [
    "* From the above equation of spread $s$ we could conclude:\n",
    "<br><br>\n",
    "\n",
    "    * parameter $\\bar V - \\underline V$: The spread $s$ will **increase** if price difference $\\bar V - \\underline V$ increases. As the larger the difference, the higher the risk, the model implies that larger spread $s$ is needed to compensate the higher risk.\n",
    "    <br><br>\n",
    "    \n",
    "    * parameter $\\mu$: The $\\mu$ and $\\delta$ are both less than 1 and non-negative, but the coefficient of $\\mu$ in numerator is much larger than the coefficient of $\\mu^2$ in denominator. Thereby the spread $s$ will **increase** if $\\mu$ increases. This implies that larger spread $s$ is needed to compensate the informed trading.\n",
    "    <br><br>\n",
    "    \n",
    "    * parameter $\\delta$: Similar reason for $\\mu$ (be careful the negative sign of $\\delta^2$ in numerator), the spread $s$ will **decrease** if $\\delta$ increases. This implies that the larger spread $s$ is needed to compensated the risk of more chance of stock goes to uninformed state ($\\bar V$ here) with the only informed state is lower state ($\\underline V$ here)"
   ]
  },
  {
   "cell_type": "markdown",
   "metadata": {},
   "source": [
    "### Load data and R package for the next questions"
   ]
  },
  {
   "cell_type": "code",
   "execution_count": null,
   "metadata": {
    "collapsed": false
   },
   "outputs": [],
   "source": [
    "download.file(url=\"http://mfe.baruch.cuny.edu/wp-content/uploads/2015/02/tq.zip\", destfile=\"tq.zip\")\n",
    "unzip(zipfile=\"tq.zip\")"
   ]
  },
  {
   "cell_type": "code",
   "execution_count": 2,
   "metadata": {
    "collapsed": false
   },
   "outputs": [],
   "source": [
    "load('tq.rData')\n",
    "# The loading of libraries has been moved to the 1st cell\n",
    "#library(highfrequency)\n",
    "#library(xts)"
   ]
  },
  {
   "cell_type": "markdown",
   "metadata": {},
   "source": [
    "## The Lee and Ready tick test"
   ]
  },
  {
   "cell_type": "markdown",
   "metadata": {},
   "source": [
    "### 2. (10 points) \n",
    "\n",
    "In the following use the trades and quotes object *tqBAC* in the loaded data *tq.rData*.  Denote trade prices by $p_t$ and mid-quotes by $m_t$.\n",
    "\n",
    "(a) Compute the time series of trade signs $\\epsilon_t$ according to $\\epsilon_t=+1$ if $p_t>m_t$ and  $\\epsilon_t=-1$ otherwise, using the Lee-Ready rule for trades at mid.  Name this series *tradeSigns*. (Note this was already done in the lecture.)\n",
    "\n",
    "(b) Compute the Lee-Ready trade-sign indicator time series (as if you didn't have quotes and so no mid-prices).\n",
    "\n",
    "(c) Compute the correlation of these two indicators.\n",
    "\n",
    "(d) Assume the rule in part (a) is 100% accurate.  What percentage of trades are correctly signed by the Lee-Ready test?\n",
    "\n",
    "(e) Explain the relationship between your answers in (c) and (d).\n"
   ]
  },
  {
   "cell_type": "markdown",
   "metadata": {},
   "source": [
    "### Answer of Q2\n",
    "#### (a) Compute the time series trade signs"
   ]
  },
  {
   "cell_type": "code",
   "execution_count": 4,
   "metadata": {
    "collapsed": false
   },
   "outputs": [
    {
     "data": {
      "text/html": [
       "<table>\n",
       "<thead><tr><th></th><th scope=col>SYMBOL</th><th scope=col>EX</th><th scope=col>PRICE</th><th scope=col>SIZE</th><th scope=col>COND</th><th scope=col>BID</th><th scope=col>BIDSIZ</th><th scope=col>OFR</th><th scope=col>OFRSIZ</th></tr></thead>\n",
       "<tbody>\n",
       "\t<tr><th scope=row>2012-05-04 09:30:00</th><td>BAC   </td><td>T     </td><td>7.89  </td><td>38538 </td><td>F     </td><td>7.89  </td><td>523   </td><td>7.9   </td><td>952   </td></tr>\n",
       "\t<tr><th scope=row>2012-05-04 09:30:01</th><td>BAC   </td><td>Z     </td><td>7.885 </td><td>288   </td><td>@     </td><td>7.88  </td><td>61033 </td><td>7.9   </td><td>92866 </td></tr>\n",
       "\t<tr><th scope=row>2012-05-04 09:30:03</th><td>BAC   </td><td>X     </td><td>7.89  </td><td>1000  </td><td>@     </td><td>7.88  </td><td>1974  </td><td>7.89  </td><td>333   </td></tr>\n",
       "\t<tr><th scope=row>2012-05-04 09:30:07</th><td>BAC   </td><td>T     </td><td>7.89  </td><td>19052 </td><td>F     </td><td>7.88  </td><td>1058  </td><td>7.89  </td><td>218   </td></tr>\n",
       "\t<tr><th scope=row>2012-05-04 09:30:08</th><td>BAC   </td><td>Y     </td><td>7.89  </td><td>85053 </td><td>F     </td><td>7.88  </td><td>108101</td><td>7.9   </td><td>31104 </td></tr>\n",
       "\t<tr><th scope=row>2012-05-04 09:30:09</th><td>BAC   </td><td>D     </td><td>7.8901</td><td>10219 </td><td>@     </td><td>7.89  </td><td>268   </td><td>7.9   </td><td>291   </td></tr>\n",
       "</tbody>\n",
       "</table>\n"
      ],
      "text/latex": [
       "\\begin{tabular}{r|lllllllll}\n",
       "  & SYMBOL & EX & PRICE & SIZE & COND & BID & BIDSIZ & OFR & OFRSIZ\\\\\n",
       "\\hline\n",
       "\t2012-05-04 09:30:00 & BAC    & T      & 7.89   & 38538  & F      & 7.89   & 523    & 7.9    & 952   \\\\\n",
       "\t2012-05-04 09:30:01 & BAC    & Z      & 7.885  & 288    & @      & 7.88   & 61033  & 7.9    & 92866 \\\\\n",
       "\t2012-05-04 09:30:03 & BAC    & X      & 7.89   & 1000   & @      & 7.88   & 1974   & 7.89   & 333   \\\\\n",
       "\t2012-05-04 09:30:07 & BAC    & T      & 7.89   & 19052  & F      & 7.88   & 1058   & 7.89   & 218   \\\\\n",
       "\t2012-05-04 09:30:08 & BAC    & Y      & 7.89   & 85053  & F      & 7.88   & 108101 & 7.9    & 31104 \\\\\n",
       "\t2012-05-04 09:30:09 & BAC    & D      & 7.8901 & 10219  & @      & 7.89   & 268    & 7.9    & 291   \\\\\n",
       "\\end{tabular}\n"
      ],
      "text/markdown": [
       "\n",
       "| <!--/--> | SYMBOL | EX | PRICE | SIZE | COND | BID | BIDSIZ | OFR | OFRSIZ | \n",
       "|---|---|---|---|---|---|\n",
       "| 2012-05-04 09:30:00 | BAC    | T      | 7.89   | 38538  | F      | 7.89   | 523    | 7.9    | 952    | \n",
       "| 2012-05-04 09:30:01 | BAC    | Z      | 7.885  | 288    | @      | 7.88   | 61033  | 7.9    | 92866  | \n",
       "| 2012-05-04 09:30:03 | BAC    | X      | 7.89   | 1000   | @      | 7.88   | 1974   | 7.89   | 333    | \n",
       "| 2012-05-04 09:30:07 | BAC    | T      | 7.89   | 19052  | F      | 7.88   | 1058   | 7.89   | 218    | \n",
       "| 2012-05-04 09:30:08 | BAC    | Y      | 7.89   | 85053  | F      | 7.88   | 108101 | 7.9    | 31104  | \n",
       "| 2012-05-04 09:30:09 | BAC    | D      | 7.8901 | 10219  | @      | 7.89   | 268    | 7.9    | 291    | \n",
       "\n",
       "\n"
      ],
      "text/plain": [
       "                    SYMBOL EX PRICE  SIZE  COND BID  BIDSIZ OFR  OFRSIZ\n",
       "2012-05-04 09:30:00 BAC    T  7.89   38538 F    7.89 523    7.9  952   \n",
       "2012-05-04 09:30:01 BAC    Z  7.885  288   @    7.88 61033  7.9  92866 \n",
       "2012-05-04 09:30:03 BAC    X  7.89   1000  @    7.88 1974   7.89 333   \n",
       "2012-05-04 09:30:07 BAC    T  7.89   19052 F    7.88 1058   7.89 218   \n",
       "2012-05-04 09:30:08 BAC    Y  7.89   85053 F    7.88 108101 7.9  31104 \n",
       "2012-05-04 09:30:09 BAC    D  7.8901 10219 @    7.89 268    7.9  291   "
      ]
     },
     "metadata": {},
     "output_type": "display_data"
    }
   ],
   "source": [
    "# Load the data\n",
    "tqdata <- tqBAC\n",
    "data.frame(head(tqdata))"
   ]
  },
  {
   "cell_type": "markdown",
   "metadata": {},
   "source": [
    "Table 1. Overview of tqBAC"
   ]
  },
  {
   "cell_type": "code",
   "execution_count": 4,
   "metadata": {
    "collapsed": false
   },
   "outputs": [
    {
     "data": {
      "text/html": [
       "17858"
      ],
      "text/latex": [
       "17858"
      ],
      "text/markdown": [
       "17858"
      ],
      "text/plain": [
       "[1] 17858"
      ]
     },
     "metadata": {},
     "output_type": "display_data"
    }
   ],
   "source": [
    "length(tqdata)/9"
   ]
  },
  {
   "cell_type": "code",
   "execution_count": null,
   "metadata": {
    "collapsed": false
   },
   "outputs": [],
   "source": [
    "# Compute the time series trade signs\n",
    "tradeSigns <- getTradeDirection(tqdata)"
   ]
  },
  {
   "cell_type": "code",
   "execution_count": null,
   "metadata": {
    "collapsed": false
   },
   "outputs": [],
   "source": [
    "length(tradeSigns)"
   ]
  },
  {
   "cell_type": "code",
   "execution_count": null,
   "metadata": {
    "collapsed": false
   },
   "outputs": [],
   "source": [
    "length(tqdata$PRICE)\n",
    "length(tqdata$EX)"
   ]
  },
  {
   "cell_type": "markdown",
   "metadata": {},
   "source": [
    "#### (b) Compute the Lee-Ready trade-sign indicator"
   ]
  },
  {
   "cell_type": "markdown",
   "metadata": {},
   "source": [
    "* Rules from lecture\n",
    "    * If a trade is on uptick or zero-uptick, it is a buy, trade-sign=+1\n",
    "    * If a trade is on downtick or zero-downtick, it is a sell, trade-sign=-1\n",
    "    * For zero-uptick: \n",
    "        * the trade-sign is +1 if previous price went up\n",
    "        * or -1 if previous price went down. \n",
    "        * **This is the same trade-sign of last time**"
   ]
  },
  {
   "cell_type": "code",
   "execution_count": null,
   "metadata": {
    "collapsed": true
   },
   "outputs": [],
   "source": [
    "# Get the price time series\n",
    "price<- as.numeric(tqdata$PRICE)\n",
    "# Get the length of the time series\n",
    "n<-length(price)"
   ]
  },
  {
   "cell_type": "markdown",
   "metadata": {},
   "source": [
    "Notes for computing the trade signs by using Lee-Ready rule:\n",
    "* I chose to compute the trade signs from 2nd trade, since the zero-uptick or zero-downtick in Lee-Ready needs the information of previous trade and 1st trade does not have the previous information.\n"
   ]
  },
  {
   "cell_type": "code",
   "execution_count": null,
   "metadata": {
    "collapsed": false
   },
   "outputs": [],
   "source": [
    "# Compute the Lee-Ready trade signs\n",
    "\n",
    "# Rules from lecture\n",
    "# If a trade is on uptick or zero-uptick, it is a buy, trade-sign=+1\n",
    "# If a trade is on downtick or zero-downtick, it is a sell, trade-sign=-1\n",
    "# For zero-uptick: if a trade is zero-uptick, the trade-sign is +1 if previous price went up\n",
    "# or -1 if previous price went down. This is the same trade-sign of last time\n",
    "\n",
    "# R: index starts from 1, not 0 in the list\n",
    "LR_tradeSigns<- c() # empty list\n",
    "# If consider the 1st trade\n",
    "# Compute the trade sign of first trade, since there is not previous price available\n",
    "#if(price[2]>price[1]){\n",
    "#    LR_tradeSigns<- c(LR_tradeSigns,1)\n",
    "#}else if(price[2]<price[1]){\n",
    "#    LR_tradeSigns<- c(LR_tradeSigns,-1)\n",
    "#}else{\n",
    "#    print(\"The 1st and 2nd price are the same, use next time price as initial price.\")\n",
    "#}"
   ]
  },
  {
   "cell_type": "code",
   "execution_count": null,
   "metadata": {
    "collapsed": false
   },
   "outputs": [],
   "source": [
    "# Since no print from above cell, we can use 1st price as initial price\n",
    "\n",
    "# If does not consider the 1st trade, we will compute the trade sign from 2nd trade, \n",
    "# since the zero-uptick or zero-downtick in Lee-Ready needs the information of previous trade\n",
    "\n",
    "# Here, I chose to compute the trade-signs from 2nd trade\n",
    "# Compute all the trade signs\n",
    "\n",
    "\n",
    "for (i in 2:n-1){\n",
    "    if(price[i+1]>price[i]){\n",
    "        # trade is on up-tick\n",
    "        LR_tradeSigns<- c(LR_tradeSigns,1)\n",
    "    }else if(price[i+1]<price[i]){\n",
    "        # trade is on down-tick\n",
    "        LR_tradeSigns<- c(LR_tradeSigns,-1)\n",
    "    }else{\n",
    "        # trade is on zero-tick\n",
    "        LR_tradeSigns<-c(LR_tradeSigns,LR_tradeSigns[i-1])\n",
    "    }\n",
    "}\n"
   ]
  },
  {
   "cell_type": "code",
   "execution_count": null,
   "metadata": {
    "collapsed": false
   },
   "outputs": [],
   "source": [
    "# Lee-Ready method cannot compute the last time price\n",
    "cat(\"Length difference of two trade-sign time series\",length(tradeSigns)-length(LR_tradeSigns))"
   ]
  },
  {
   "cell_type": "markdown",
   "metadata": {},
   "source": [
    "#### (c) Compute the correlation of these two indicators"
   ]
  },
  {
   "cell_type": "code",
   "execution_count": null,
   "metadata": {
    "collapsed": false
   },
   "outputs": [],
   "source": [
    "# Since tradeSigns has one more sign than Lee-Ready method\n",
    "corrTS<- cor(LR_tradeSigns,tradeSigns[-1])\n",
    "cat(\"The correlation of two trade sign indicators is:\", corrTS)"
   ]
  },
  {
   "cell_type": "markdown",
   "metadata": {},
   "source": [
    "#### (d) Compute the percentage of trades are correctly signed by the Lee-Ready test"
   ]
  },
  {
   "cell_type": "code",
   "execution_count": null,
   "metadata": {
    "collapsed": false
   },
   "outputs": [],
   "source": [
    "# Count the number of same trade signs in two time series\n",
    "num<- 0\n",
    "for (i in 1: length(LR_tradeSigns)){\n",
    "    # LR_tradeSigns left-shift 1 position\n",
    "    if(LR_tradeSigns[i]==tradeSigns[i+1]){\n",
    "        num<- num+1\n",
    "    }\n",
    "}\n",
    "\n",
    "cat(\"The percentage of trades with correctly signs by the Lee-Ready test is:\",\n",
    "   num*100/length(LR_tradeSigns),\"%\")"
   ]
  },
  {
   "cell_type": "markdown",
   "metadata": {},
   "source": [
    "#### (e) Explain the relationship between your answers in (c) and (d)"
   ]
  },
  {
   "cell_type": "markdown",
   "metadata": {},
   "source": [
    "* The incorrection rate is 17% from (d), which is slightly higher than the rate (15%) in the lecture notes observed by Bandi and Russell\n",
    "* Since $0.6618357 \\approx 2 \\times 0.8297026-1$, We could assume that the relationship of correction rate ($P$) and correlation $\\rho$ has following eqaution: \n",
    "\n",
    "$$\n",
    "\\rho \\approx 2P-1\n",
    "$$"
   ]
  },
  {
   "cell_type": "markdown",
   "metadata": {},
   "source": [
    "* From figure below, we can see:\n",
    "    * Point B of ($P,\\rho$) on the line $y=2x-1$.\n",
    "    * Point C(1,1) means the correction percentage is 100% if two trade-sign time series are perfect correlated (correlation=1)\n",
    "    * Point A(0,-1) means the ocrrection percentage is 0% if two trade-sign time series are perfect negative correlated (correlation=-1)"
   ]
  },
  {
   "cell_type": "markdown",
   "metadata": {},
   "source": [
    "* Therefore, we conclude that the relationship of correction rate and correlation coefficient is:\n",
    "\n",
    "$$\n",
    "\\rho \\approx 2P-1\n",
    "$$"
   ]
  },
  {
   "cell_type": "code",
   "execution_count": null,
   "metadata": {
    "collapsed": false
   },
   "outputs": [],
   "source": [
    "# Plot the relationship of correlation and corretion\n",
    "P<-c(0,num/length(LR_tradeSigns),1)\n",
    "rho<-c(-1,corrTS,1)\n",
    "options(repr.plot.height=3, repr.plot.width=6)\n",
    "plot(P,rho,type='o',col='red',xlab='correction rate',ylab='correlation coefficient')\n",
    "# Add y=2x-1 line\n",
    "curve(2*x-1,from=0, to=1,add = TRUE,col='blue')\n",
    "text(0,-0.75,\"A\",col='red')\n",
    "text(0.83,0.4,\"B\",col='red')\n",
    "text(1,0.75,\"C\",col='red')"
   ]
  },
  {
   "cell_type": "markdown",
   "metadata": {},
   "source": [
    "Figure 1. Relationship of correction rate and correlation coefficients with indicator line $y=2x-1$"
   ]
  },
  {
   "cell_type": "markdown",
   "metadata": {},
   "source": [
    "## Realized spread by exchange"
   ]
  },
  {
   "cell_type": "markdown",
   "metadata": {},
   "source": [
    "### 3. (8 points)\n",
    "\n",
    "(a) Reproduce Figure 6 from the lecture slides, making sure to get the aesthetics right.\n",
    "\n",
    "(b) Explain why the realized spread profile varies by exchange.\n",
    "\n",
    "(c) Redo the picture adjusting for the following (assumed) take fees:\n",
    "\n",
    "** Exchange ** | ** Take fee ** \n",
    "--- | --- \n",
    "| (**cents**)\n",
    "D | 0.10 \n",
    "B | -0.04\n",
    "Z | 0.29\n",
    "Y | 0.00\n",
    "P | 0.25\n",
    "\n",
    "(d) Based on your results, where would you advise sending a small market order?  How about a large one?\n"
   ]
  },
  {
   "cell_type": "markdown",
   "metadata": {},
   "source": [
    "### Answer of Q3\n",
    "#### (a) Reproduce Figure 6 from the lecture slides"
   ]
  },
  {
   "cell_type": "code",
   "execution_count": null,
   "metadata": {
    "collapsed": false
   },
   "outputs": [],
   "source": [
    "#download.file(url=\"http://mfe.baruch.cuny.edu/wp-content/uploads/2015/02/tqBAC_20130731.zip\", destfile=\"tqBAC_20130731.zip\")\n",
    "#unzip(zipfile=\"tqBAC_20130731.zip\")\n",
    "#load(\"tqBAC_20130731.rData\")\n",
    "#tqdata <- NULL\n",
    "#for(i in 1:8){tqdata <- xts(rbind(tqdata,tqBAC[[i]]))}\n",
    "#data.frame(head(tqdata))"
   ]
  },
  {
   "cell_type": "code",
   "execution_count": 5,
   "metadata": {
    "collapsed": false
   },
   "outputs": [
    {
     "data": {
      "text/html": [
       "<table>\n",
       "<thead><tr><th></th><th scope=col>SYMBOL</th><th scope=col>EX</th><th scope=col>PRICE</th><th scope=col>SIZE</th><th scope=col>COND</th><th scope=col>BID</th><th scope=col>BIDSIZ</th><th scope=col>OFR</th><th scope=col>OFRSIZ</th></tr></thead>\n",
       "<tbody>\n",
       "\t<tr><th scope=row>2012-05-04 09:30:00</th><td>BAC   </td><td>T     </td><td>7.89  </td><td>38538 </td><td>F     </td><td>7.89  </td><td>523   </td><td>7.9   </td><td>952   </td></tr>\n",
       "\t<tr><th scope=row>2012-05-04 09:30:01</th><td>BAC   </td><td>Z     </td><td>7.885 </td><td>288   </td><td>@     </td><td>7.88  </td><td>61033 </td><td>7.9   </td><td>92866 </td></tr>\n",
       "\t<tr><th scope=row>2012-05-04 09:30:03</th><td>BAC   </td><td>X     </td><td>7.89  </td><td>1000  </td><td>@     </td><td>7.88  </td><td>1974  </td><td>7.89  </td><td>333   </td></tr>\n",
       "\t<tr><th scope=row>2012-05-04 09:30:07</th><td>BAC   </td><td>T     </td><td>7.89  </td><td>19052 </td><td>F     </td><td>7.88  </td><td>1058  </td><td>7.89  </td><td>218   </td></tr>\n",
       "\t<tr><th scope=row>2012-05-04 09:30:08</th><td>BAC   </td><td>Y     </td><td>7.89  </td><td>85053 </td><td>F     </td><td>7.88  </td><td>108101</td><td>7.9   </td><td>31104 </td></tr>\n",
       "\t<tr><th scope=row>2012-05-04 09:30:09</th><td>BAC   </td><td>D     </td><td>7.8901</td><td>10219 </td><td>@     </td><td>7.89  </td><td>268   </td><td>7.9   </td><td>291   </td></tr>\n",
       "</tbody>\n",
       "</table>\n"
      ],
      "text/latex": [
       "\\begin{tabular}{r|lllllllll}\n",
       "  & SYMBOL & EX & PRICE & SIZE & COND & BID & BIDSIZ & OFR & OFRSIZ\\\\\n",
       "\\hline\n",
       "\t2012-05-04 09:30:00 & BAC    & T      & 7.89   & 38538  & F      & 7.89   & 523    & 7.9    & 952   \\\\\n",
       "\t2012-05-04 09:30:01 & BAC    & Z      & 7.885  & 288    & @      & 7.88   & 61033  & 7.9    & 92866 \\\\\n",
       "\t2012-05-04 09:30:03 & BAC    & X      & 7.89   & 1000   & @      & 7.88   & 1974   & 7.89   & 333   \\\\\n",
       "\t2012-05-04 09:30:07 & BAC    & T      & 7.89   & 19052  & F      & 7.88   & 1058   & 7.89   & 218   \\\\\n",
       "\t2012-05-04 09:30:08 & BAC    & Y      & 7.89   & 85053  & F      & 7.88   & 108101 & 7.9    & 31104 \\\\\n",
       "\t2012-05-04 09:30:09 & BAC    & D      & 7.8901 & 10219  & @      & 7.89   & 268    & 7.9    & 291   \\\\\n",
       "\\end{tabular}\n"
      ],
      "text/markdown": [
       "\n",
       "| <!--/--> | SYMBOL | EX | PRICE | SIZE | COND | BID | BIDSIZ | OFR | OFRSIZ | \n",
       "|---|---|---|---|---|---|\n",
       "| 2012-05-04 09:30:00 | BAC    | T      | 7.89   | 38538  | F      | 7.89   | 523    | 7.9    | 952    | \n",
       "| 2012-05-04 09:30:01 | BAC    | Z      | 7.885  | 288    | @      | 7.88   | 61033  | 7.9    | 92866  | \n",
       "| 2012-05-04 09:30:03 | BAC    | X      | 7.89   | 1000   | @      | 7.88   | 1974   | 7.89   | 333    | \n",
       "| 2012-05-04 09:30:07 | BAC    | T      | 7.89   | 19052  | F      | 7.88   | 1058   | 7.89   | 218    | \n",
       "| 2012-05-04 09:30:08 | BAC    | Y      | 7.89   | 85053  | F      | 7.88   | 108101 | 7.9    | 31104  | \n",
       "| 2012-05-04 09:30:09 | BAC    | D      | 7.8901 | 10219  | @      | 7.89   | 268    | 7.9    | 291    | \n",
       "\n",
       "\n"
      ],
      "text/plain": [
       "                    SYMBOL EX PRICE  SIZE  COND BID  BIDSIZ OFR  OFRSIZ\n",
       "2012-05-04 09:30:00 BAC    T  7.89   38538 F    7.89 523    7.9  952   \n",
       "2012-05-04 09:30:01 BAC    Z  7.885  288   @    7.88 61033  7.9  92866 \n",
       "2012-05-04 09:30:03 BAC    X  7.89   1000  @    7.88 1974   7.89 333   \n",
       "2012-05-04 09:30:07 BAC    T  7.89   19052 F    7.88 1058   7.89 218   \n",
       "2012-05-04 09:30:08 BAC    Y  7.89   85053 F    7.88 108101 7.9  31104 \n",
       "2012-05-04 09:30:09 BAC    D  7.8901 10219 @    7.89 268    7.9  291   "
      ]
     },
     "metadata": {},
     "output_type": "display_data"
    }
   ],
   "source": [
    "# Load the data\n",
    "#load('tq.rData')\n",
    "#tqdata <- tqBAC\n",
    "data.frame(head(tqdata))"
   ]
  },
  {
   "cell_type": "markdown",
   "metadata": {},
   "source": [
    "Table 2. Overview of tqBAC"
   ]
  },
  {
   "cell_type": "code",
   "execution_count": 6,
   "metadata": {
    "collapsed": false
   },
   "outputs": [
    {
     "data": {
      "text/html": [
       "17858"
      ],
      "text/latex": [
       "17858"
      ],
      "text/markdown": [
       "17858"
      ],
      "text/plain": [
       "[1] 17858"
      ]
     },
     "metadata": {},
     "output_type": "display_data"
    }
   ],
   "source": [
    "length(tqdata)/9"
   ]
  },
  {
   "cell_type": "code",
   "execution_count": 7,
   "metadata": {
    "collapsed": false
   },
   "outputs": [
    {
     "data": {
      "text/html": [
       "17858"
      ],
      "text/latex": [
       "17858"
      ],
      "text/markdown": [
       "17858"
      ],
      "text/plain": [
       "[1] 17858"
      ]
     },
     "metadata": {},
     "output_type": "display_data"
    }
   ],
   "source": [
    "length(tqdata$EX)"
   ]
  },
  {
   "cell_type": "code",
   "execution_count": null,
   "metadata": {
    "collapsed": false
   },
   "outputs": [],
   "source": [
    "# 1st attempt\n",
    "# D,B,Z,Y,P: exchange, EX in the dateframe\n",
    "\n",
    "# Get the price and mid-price of each exchange\n",
    "p_D<- c()\n",
    "p_B<- c()\n",
    "p_Z<- c()\n",
    "p_Y<- c()\n",
    "p_P<- c()\n",
    "\n",
    "mid_D<- c()\n",
    "mid_B<- c()\n",
    "mid_Z<- c()\n",
    "mid_Y<- c()\n",
    "mid_P<- c()\n",
    "\n",
    "# Get the tradeSigns of 5 exchanges\n",
    "TS_D<- c()\n",
    "TS_B<- c()\n",
    "TS_Z<- c()\n",
    "TS_Y<- c()\n",
    "TS_P<- c()\n",
    "\n",
    "# Trade signs of whole data sets\n",
    "tradeSigns<- getTradeDirection(tqdata)\n",
    "\n",
    "\n",
    "for(i in 1: length(tqdata$EX)){\n",
    "    if(as.character(tqdata$EX[i])=='D'){\n",
    "        p_D<- c(p_D,as.numeric(tqdata$PRICE[i]))\n",
    "        mid_D<- c(mid_D,(as.numeric(tqdata$BID[i])+as.numeric(tqdata$OFR[i]))/2)\n",
    "        TS_D<- c(TS_D,tradeSigns[i])  # Get the trade signs from whole tradeSigns\n",
    "    }else if(as.character(tqdata$EX[i])=='B'){\n",
    "        p_B<- c(p_B,as.numeric(tqdata$PRICE[i]))\n",
    "        mid_B<- c(mid_B,(as.numeric(tqdata$BID[i])+as.numeric(tqdata$OFR[i]))/2)\n",
    "        TS_B<- c(TS_B,tradeSigns[i])  # Get the trade signs from whole tradeSigns\n",
    "    }else if(as.character(tqdata$EX[i])=='Z'){\n",
    "        p_Z<- c(p_Z,as.numeric(tqdata$PRICE[i]))\n",
    "        mid_Z<- c(mid_Z,(as.numeric(tqdata$BID[i])+as.numeric(tqdata$OFR[i]))/2)\n",
    "        TS_Z<- c(TS_Z,tradeSigns[i])  # Get the trade signs from whole tradeSigns\n",
    "    }else if(as.character(tqdata$EX[i])=='Y'){\n",
    "        p_Y<- c(p_Y,as.numeric(tqdata$PRICE[i]))\n",
    "        mid_Y<- c(mid_Y,(as.numeric(tqdata$BID[i])+as.numeric(tqdata$OFR[i]))/2)\n",
    "        TS_Y<- c(TS_Y,tradeSigns[i])  # Get the trade signs from whole tradeSigns\n",
    "    }else if(as.character(tqdata$EX[i])=='P'){\n",
    "        p_P<- c(p_P,as.numeric(tqdata$PRICE[i]))\n",
    "        mid_P<- c(mid_P,(as.numeric(tqdata$BID[i])+as.numeric(tqdata$OFR[i]))/2)\n",
    "        TS_P<- c(TS_P,tradeSigns[i])  # Get the trade signs from whole tradeSigns\n",
    "    }\n",
    "}\n"
   ]
  },
  {
   "cell_type": "code",
   "execution_count": 8,
   "metadata": {
    "collapsed": false
   },
   "outputs": [],
   "source": [
    "# D,B,Z,Y,P: exchange, EX in the dateframe\n",
    "\n",
    "# Get the price and mid-price of each exchange\n",
    "p_D<- c()\n",
    "p_B<- c()\n",
    "p_Z<- c()\n",
    "p_Y<- c()\n",
    "p_P<- c()\n",
    "p_O<- c() # Record the price not in the trageted exchanges list\n",
    "\n",
    "mid_D<- c()\n",
    "mid_B<- c()\n",
    "mid_Z<- c()\n",
    "mid_Y<- c()\n",
    "mid_P<- c()\n",
    "mid_O<- c() # Record the mid-price not in the targeted exchanges list\n",
    "\n",
    "# Get the tradeSigns of 5 exchanges\n",
    "TS_D<- c()\n",
    "TS_B<- c()\n",
    "TS_Z<- c()\n",
    "TS_Y<- c()\n",
    "TS_P<- c()\n",
    "TS_O<- c() # Record the trade signs not in the targeted exchanges list\n",
    "\n",
    "# Check the EX\n",
    "EX_D<- c()\n",
    "EX_B<- c()\n",
    "EX_Z<- c()\n",
    "EX_Y<- c()\n",
    "EX_P<- c()\n",
    "EX_O<- c() # Record the EX not in the targeted exchanges list\n",
    "\n",
    "\n",
    "# Trade signs, price, bid, ask, and exchanges from whole data sets\n",
    "tradeSigns<- getTradeDirection(tqdata)\n",
    "price<-as.numeric(tqdata$PRICE)\n",
    "BID<-as.numeric(tqdata$BID)\n",
    "OFR<-as.numeric(tqdata$OFR)\n",
    "EX<-as.character(tqdata$EX)"
   ]
  },
  {
   "cell_type": "code",
   "execution_count": 9,
   "metadata": {
    "collapsed": false
   },
   "outputs": [
    {
     "data": {
      "text/html": [
       "<ol class=list-inline>\n",
       "\t<li>'T'</li>\n",
       "\t<li>'Z'</li>\n",
       "\t<li>'X'</li>\n",
       "\t<li>'T'</li>\n",
       "\t<li>'Y'</li>\n",
       "\t<li>'D'</li>\n",
       "</ol>\n"
      ],
      "text/latex": [
       "\\begin{enumerate*}\n",
       "\\item 'T'\n",
       "\\item 'Z'\n",
       "\\item 'X'\n",
       "\\item 'T'\n",
       "\\item 'Y'\n",
       "\\item 'D'\n",
       "\\end{enumerate*}\n"
      ],
      "text/markdown": [
       "1. 'T'\n",
       "2. 'Z'\n",
       "3. 'X'\n",
       "4. 'T'\n",
       "5. 'Y'\n",
       "6. 'D'\n",
       "\n",
       "\n"
      ],
      "text/plain": [
       "[1] \"T\" \"Z\" \"X\" \"T\" \"Y\" \"D\""
      ]
     },
     "metadata": {},
     "output_type": "display_data"
    },
    {
     "data": {
      "text/html": [
       "<ol class=list-inline>\n",
       "\t<li>7.89</li>\n",
       "\t<li>7.885</li>\n",
       "\t<li>7.89</li>\n",
       "\t<li>7.89</li>\n",
       "\t<li>7.89</li>\n",
       "\t<li>7.8901</li>\n",
       "</ol>\n"
      ],
      "text/latex": [
       "\\begin{enumerate*}\n",
       "\\item 7.89\n",
       "\\item 7.885\n",
       "\\item 7.89\n",
       "\\item 7.89\n",
       "\\item 7.89\n",
       "\\item 7.8901\n",
       "\\end{enumerate*}\n"
      ],
      "text/markdown": [
       "1. 7.89\n",
       "2. 7.885\n",
       "3. 7.89\n",
       "4. 7.89\n",
       "5. 7.89\n",
       "6. 7.8901\n",
       "\n",
       "\n"
      ],
      "text/plain": [
       "[1] 7.8900 7.8850 7.8900 7.8900 7.8900 7.8901"
      ]
     },
     "metadata": {},
     "output_type": "display_data"
    },
    {
     "data": {
      "text/html": [
       "FALSE"
      ],
      "text/latex": [
       "FALSE"
      ],
      "text/markdown": [
       "FALSE"
      ],
      "text/plain": [
       "[1] FALSE"
      ]
     },
     "metadata": {},
     "output_type": "display_data"
    },
    {
     "data": {
      "text/html": [
       "7.8901"
      ],
      "text/latex": [
       "7.8901"
      ],
      "text/markdown": [
       "7.8901"
      ],
      "text/plain": [
       "[1] 7.8901"
      ]
     },
     "metadata": {},
     "output_type": "display_data"
    }
   ],
   "source": [
    "head(EX)\n",
    "head(price)\n",
    "EX[6]=='Y'\n",
    "price[6]"
   ]
  },
  {
   "cell_type": "code",
   "execution_count": 13,
   "metadata": {
    "collapsed": false
   },
   "outputs": [],
   "source": [
    "tq_D<- subset(tqdata, EX=='D')\n",
    "tq_B<- subset(tqdata, EX=='B')\n",
    "tq_Z<- subset(tqdata, EX=='Z')\n",
    "tq_Y<- subset(tqdata, EX=='Y')\n",
    "tq_P<- subset(tqdata, EX=='P')"
   ]
  },
  {
   "cell_type": "code",
   "execution_count": 14,
   "metadata": {
    "collapsed": true
   },
   "outputs": [],
   "source": [
    "mid_D<- (as.numeric(tq_D$BID)+as.numeric(tq_D$OFR))/2\n",
    "mid_B<- (as.numeric(tq_B$BID)+as.numeric(tq_B$OFR))/2\n",
    "mid_Z<- (as.numeric(tq_Z$BID)+as.numeric(tq_Z$OFR))/2\n",
    "mid_Y<- (as.numeric(tq_Y$BID)+as.numeric(tq_Y$OFR))/2\n",
    "mid_P<- (as.numeric(tq_P$BID)+as.numeric(tq_P$OFR))/2\n"
   ]
  },
  {
   "cell_type": "code",
   "execution_count": 15,
   "metadata": {
    "collapsed": true
   },
   "outputs": [],
   "source": [
    "p_D<- as.numeric(tq_D$PRICE)\n",
    "p_B<- as.numeric(tq_B$PRICE)\n",
    "p_Z<- as.numeric(tq_Z$PRICE)\n",
    "p_Y<- as.numeric(tq_Y$PRICE)\n",
    "p_P<- as.numeric(tq_P$PRICE)"
   ]
  },
  {
   "cell_type": "code",
   "execution_count": 16,
   "metadata": {
    "collapsed": true
   },
   "outputs": [],
   "source": [
    "TS_D<-getTradeDirection(tq_D)\n",
    "TS_B<-getTradeDirection(tq_B)\n",
    "TS_Z<-getTradeDirection(tq_Z)\n",
    "TS_Y<-getTradeDirection(tq_Y)\n",
    "TS_P<-getTradeDirection(tq_P)"
   ]
  },
  {
   "cell_type": "code",
   "execution_count": null,
   "metadata": {
    "collapsed": true
   },
   "outputs": [],
   "source": []
  },
  {
   "cell_type": "code",
   "execution_count": 10,
   "metadata": {
    "collapsed": false
   },
   "outputs": [],
   "source": [
    "# Compare the EX of tqdata with targeted exchanges\n",
    "for (i in 1: length(EX)){\n",
    "    if(EX[i]=='D'){\n",
    "        p_D<- c(p_D,tqdata[i]) # Get the price of D from whole data sets\n",
    "#        TS_D<- c(TS_D,tradeSigns[i]) # Get the trade signes associated to D\n",
    "        mid_D<- c(mid_D,((BID[i]+OFR[i])/2)) # Get the mid price associated to D\n",
    "        EX_D<- c(EX_D, EX[i])\n",
    "    }else if(EX[i]=='B'){\n",
    "        p_B<- c(p_B,price[i]) # Get the price fo B from whole data sets\n",
    "#        TS_B<- c(TS_B,tradeSigns[i]) # Get the trade signs associated to B\n",
    "        mid_B<- c(mid_B,((BID[i]+OFR[i])/2)) # Get the mid price associated to B\n",
    "        EX_B<- c(EX_B, EX[i])\n",
    "    }else if(EX[i]=='Z'){\n",
    "        # Get the information associated to Z\n",
    "        p_Z<- c(p_Z,price[i])\n",
    "#        TS_Z<- c(TS_Z,tradeSigns[i])\n",
    "        mid_Z<- c(mid_Z,((BID[i]+OFR[i])/2))\n",
    "        EX_Z<- c(EX_Z, EX[i])\n",
    "    }else if(EX[i]=='Y'){\n",
    "        # Get the information associated to Y\n",
    "        p_Y<- c(p_Y,price[i])\n",
    "#        TS_Y<- c(TS_Y,tradeSigns[i])\n",
    "        mid_Y<- c(mid_Y,((BID[i]+OFR[i])/2))\n",
    "        EX_Y<- c(EX_Y, EX[i])\n",
    "    }else if(EX[i]=='P'){\n",
    "        # Get the information associated to P\n",
    "        p_P<- c(p_P,price[i])\n",
    "#        TS_P<- c(TS_P,tradeSigns[i])\n",
    "        mid_P<- c(mid_P,((BID[i]+OFR[i])/2))\n",
    "        EX_P<- c(EX_P, EX[i])\n",
    "    }else{\n",
    "        # Get the information associated to others\n",
    "        p_O<- c(p_O,price[i])\n",
    "#        TS_O<- c(TS_O,tradeSigns[i])\n",
    "        mid_O<- c(mid_O,((BID[i]+OFR[i])/2))\n",
    "        EX_O<- c(EX_O, EX[i])     \n",
    "    }\n",
    "}"
   ]
  },
  {
   "cell_type": "code",
   "execution_count": null,
   "metadata": {
    "collapsed": true
   },
   "outputs": [],
   "source": [
    "tq_D<- c()\n",
    "tq_B<- c()\n",
    "tq_Z<- c()\n",
    "tq_Y<- c()\n",
    "tq_P<- c()\n",
    "tq_O<- c() # Record the price not in the trageted exchanges list\n",
    "# Compare the EX of tqdata with targeted exchanges\n",
    "for (i in 1: length(EX)){\n",
    "    if(EX[i]=='D'){\n",
    "        tq_D<- c(tq_D,tqdata[i]) # Get the price of D from whole data sets\n",
    "    }else if(EX[i]=='B'){\n",
    "        tq_B<- c(tq_B, tqdata[i])\n",
    "    }else if(EX[i]=='Z'){\n",
    "        tq_Z<- c(tq_Z, tqdata[i])\n",
    "    }else if(EX[i]=='Y'){\n",
    "        tq_Y<- c(tq_Y, tqdata[i])\n",
    "    }else if(EX[i]=='P'){\n",
    "        tq_B<- c(tq_B, tqdata[i])\n",
    "    }else{\n",
    "        # Get the information associated to others\n",
    "        p_O<- c(p_O,price[i])\n",
    "#        TS_O<- c(TS_O,tradeSigns[i])\n",
    "        mid_O<- c(mid_O,((BID[i]+OFR[i])/2))\n",
    "        EX_O<- c(EX_O, EX[i])     \n",
    "    }\n",
    "}"
   ]
  },
  {
   "cell_type": "code",
   "execution_count": 11,
   "metadata": {
    "collapsed": false
   },
   "outputs": [
    {
     "data": {
      "text/html": [
       "17858"
      ],
      "text/latex": [
       "17858"
      ],
      "text/markdown": [
       "17858"
      ],
      "text/plain": [
       "[1] 17858"
      ]
     },
     "metadata": {},
     "output_type": "display_data"
    }
   ],
   "source": [
    "length(EX_D)+length(EX_B)+length(EX_Z)+length(EX_Y)+length(EX_P)+length(EX_O)"
   ]
  },
  {
   "cell_type": "code",
   "execution_count": 20,
   "metadata": {
    "collapsed": false
   },
   "outputs": [
    {
     "ename": "ERROR",
     "evalue": "Error in tqdatacheck(tqdata): The argument tqdata should be an xts object\n",
     "output_type": "error",
     "traceback": [
      "Error in tqdatacheck(tqdata): The argument tqdata should be an xts object\nTraceback:\n",
      "1. getTradeDirection(p_D)",
      "2. tqdatacheck(tqdata)",
      "3. stop(\"The argument tqdata should be an xts object\")"
     ]
    }
   ],
   "source": [
    "TS_D<- getTradeDirection(p_D)\n",
    "TS_B<- getTradeDirection(p_D)\n",
    "TS_Z<- getTradeDirection(p_D)\n",
    "TS_Y<- getTradeDirection(p_D)\n",
    "TS_P<- getTradeDirection(p_D)"
   ]
  },
  {
   "cell_type": "code",
   "execution_count": null,
   "metadata": {
    "collapsed": true
   },
   "outputs": [],
   "source": [
    "# Define Realized spread functions for 5 different exchanges\n",
    "# exchange D\n",
    "n_D <- length(p_D)\n",
    "rs_D <- function(lag){mean(TS_D[1:(n_D-lag)]*(p_D[1:(n_D-lag)]-mid_D[-(1:lag)]))}\n",
    "\n",
    "# exchange B\n",
    "n_B <- length(p_B)\n",
    "rs_B <- function(lag){mean(TS_B[1:(n_B-lag)]*(p_B[1:(n_B-lag)]-mid_B[-(1:lag)]))}\n",
    "\n",
    "# exchange Z\n",
    "n_Z <- length(p_Z)\n",
    "rs_Z <- function(lag){mean(TS_Z[1:(n_Z-lag)]*(p_Z[1:(n_Z-lag)]-mid_Z[-(1:lag)]))}\n",
    "\n",
    "# exchange Y\n",
    "n_Y <- length(p_Y)\n",
    "rs_Y <- function(lag){mean(TS_Y[1:(n_Y-lag)]*(p_Y[1:(n_Y-lag)]-mid_Y[-(1:lag)]))}\n",
    "\n",
    "# exchange P\n",
    "n_P <- length(p_P)\n",
    "rs_P <- function(lag){mean(TS_P[1:(n_P-lag)]*(p_P[1:(n_P-lag)]-mid_P[-(1:lag)]))}"
   ]
  },
  {
   "cell_type": "code",
   "execution_count": null,
   "metadata": {
    "collapsed": false
   },
   "outputs": [],
   "source": [
    "# Get the BAC realized spread on 5 exchanges with maxlags=50\n",
    "rsLag_D <- sapply(1:50,rs_D)\n",
    "rsLag_B <- sapply(1:50,rs_B)\n",
    "rsLag_Z <- sapply(1:50,rs_Z)\n",
    "rsLag_Y <- sapply(1:50,rs_Y)\n",
    "rsLag_P <- sapply(1:50,rs_P)"
   ]
  },
  {
   "cell_type": "code",
   "execution_count": null,
   "metadata": {
    "collapsed": true
   },
   "outputs": [],
   "source": [
    "# Test whether there is a tricky in defined function\n",
    "rsLag_B2<- c()\n",
    "n_B<- length(p_B)\n",
    "for (lag in 1:50){\n",
    "    rsLag_B2<- c(rsLag_B2,mean(TS_B[1:(n_B-lag)]*(p_B[1:(n_B-lag)]-mid_B[-(1:lag)])))\n",
    "}"
   ]
  },
  {
   "cell_type": "code",
   "execution_count": null,
   "metadata": {
    "collapsed": false
   },
   "outputs": [],
   "source": [
    "rsLag_B-rsLag_B2"
   ]
  },
  {
   "cell_type": "code",
   "execution_count": null,
   "metadata": {
    "collapsed": false
   },
   "outputs": [],
   "source": [
    "options(repr.plot.height=6, repr.plot.width=10)\n",
    "plot(1:50,rsLag_D,col=\"red\",type=\"l\",xlab=expression(tau), ylab = \"Realized spread\",ylim = c(-0.001,0.006))\n",
    "lines(1:50,rsLag_B,type='l',col='blue')\n",
    "#lines(1:50,rsLag_B2,type='l',col='yellow')\n",
    "lines(1:50,rsLag_Z,type='l',col='orange')\n",
    "lines(1:50,rsLag_Y,type='l',col='purple')\n",
    "lines(1:50,rsLag_P,type='l',col='green')\n",
    "abline(h = 0,col = \"lightgray\",lty=2)\n",
    "legend('topright',\n",
    "      c(\"D ... FINRA\",\"B ... NASDAQ OMX BX Stock Ex\",\"Z ... BATS Exchange\",\n",
    "        \"Y ... BATS Y-Exchange\",\"P ... NYSE Arca SM\"),\n",
    "       lty=c(1,1,1,1,1),col=c(\"red\",\"blue\",\"orange\",\"purple\",\"green\"))"
   ]
  },
  {
   "cell_type": "markdown",
   "metadata": {},
   "source": [
    "## Predicting trade signs"
   ]
  },
  {
   "cell_type": "markdown",
   "metadata": {},
   "source": [
    "### 4. (6 points) \n",
    "\n",
    "The following require the *tradeSigns* series from Problem 2.\n",
    "\n",
    "(a) Denote the probability of a sign reversal by $\\pi$.  Derive an expression in terms of $\\pi$ for the conditional expectation $\\E[\\epsilon_t|\\epsilon_{t-1}]$.\n",
    "\n",
    "(b) Assume zero expectation of the trading signs, fit an AR(1) model to the series *tradeSigns*.  What is the coefficient returned by this model?  Explain how  this coefficient relates to $\\pi$?\n"
   ]
  },
  {
   "cell_type": "markdown",
   "metadata": {},
   "source": [
    "## The MRR model"
   ]
  },
  {
   "cell_type": "markdown",
   "metadata": {},
   "source": [
    "### 5. (6 points)\n",
    "Using the estimate of $\\rho$ (the coefficient obtained from fitting to an AR(1) model) from Problem 4 and equation (11) from the lecture slides:\n",
    "\n",
    "$$\n",
    "\\Delta p_t=(\\phi+\\lambda)\\,\\epsilon_t-(\\phi+\\rho\\,\\lambda)\\,\\epsilon_{t-1}+e_t+\\Delta \\xi_t\n",
    "$$\n",
    "\n",
    "estimate by linear regression the MRR parameters $\\phi$ (transaction cost) and $\\lambda$ (adverse selection or \"Kyle lambda\") from  *tqBAC*.  This amounts to ignoring the autocorrelation of the $\\Delta \\xi_t$.\n",
    "<br>\n",
    "\n",
    "Hint: Use the R function *lm*  to perform the linear regressions."
   ]
  }
 ],
 "metadata": {
  "kernelspec": {
   "display_name": "R",
   "language": "R",
   "name": "ir"
  },
  "language_info": {
   "codemirror_mode": "r",
   "file_extension": ".r",
   "mimetype": "text/x-r-source",
   "name": "R",
   "pygments_lexer": "r",
   "version": "3.3.2"
  }
 },
 "nbformat": 4,
 "nbformat_minor": 0
}
