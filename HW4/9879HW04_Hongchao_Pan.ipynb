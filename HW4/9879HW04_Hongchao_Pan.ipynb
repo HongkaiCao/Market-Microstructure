{
 "cells": [
  {
   "cell_type": "markdown",
   "metadata": {},
   "source": [
    "# MTH9879 Homework 4\n",
    "\n",
    "Assigned: February 21, 2017.\n",
    "Due: March 7, 2017 by 6pm. \n",
    "\n",
    "Late homework **will not be accepted**.\n",
    "\n",
    "$$\n",
    "\\newcommand{\\underbar}{\\underline}\n",
    "\\newcommand{\\supp}{\\mathrm{supp}}\n",
    "\\newcommand{\\E}{\\mathbb{E}}\n",
    "\\newcommand{\\EE}{\\mathbb{E}}\n",
    "\\newcommand{\\Eof}[1]{\\mathbb{E}\\left[ #1 \\right]}\n",
    "\\def\\Cov{{ \\mbox{Cov} }}\n",
    "\\def\\Var{{ \\mbox{Var} }}\n",
    "\\newcommand{\\1}{\\mathbf{1} }\n",
    "\\newcommand{\\PP}{\\mathbb{P} }\n",
    "%\\newcommand{\\Pr}{\\mathrm{Pr} }\n",
    "\\newcommand{\\QQ}{\\mathbb{Q} }\n",
    "\\newcommand{\\RR}{\\mathbb{R} }\n",
    "\\newcommand{\\DD}{\\mathbb{D} }\n",
    "\\newcommand{\\HH}{\\mathbb{H} }\n",
    "\\newcommand{\\spn}{\\mathrm{span} }\n",
    "\\newcommand{\\cov}{\\mathrm{cov} }\n",
    "\\newcommand{\\sgn}{\\mathrm{sgn} }\n",
    "\\newcommand{\\HS}{\\mathcal{L}_{\\mathrm{HS}} }\n",
    "%\\newcommand{\\HS}{\\mathrm{HS} }\n",
    "\\newcommand{\\trace}{\\mathrm{trace} }\n",
    "\\newcommand{\\LL}{\\mathcal{L} }\n",
    "%\\newcommand{\\LL}{\\mathrm{L} }\n",
    "\\newcommand{\\s}{\\mathcal{S} }\n",
    "\\newcommand{\\ee}{\\mathcal{E} }\n",
    "\\newcommand{\\ff}{\\mathcal{F} }\n",
    "\\newcommand{\\hh}{\\mathcal{H} }\n",
    "\\newcommand{\\bb}{\\mathcal{B} }\n",
    "\\newcommand{\\dd}{\\mathcal{D} }\n",
    "\\newcommand{\\g}{\\mathcal{G} }\n",
    "\\newcommand{\\p}{\\partial}\n",
    "\\newcommand{\\half}{\\frac{1}{2} }\n",
    "\\newcommand{\\T}{\\mathcal{T} }\n",
    "\\newcommand{\\bi}{\\begin{itemize}}\n",
    "\\newcommand{\\ei}{\\end{itemize}}\n",
    "\\newcommand{\\beq}{\\begin{equation}}\n",
    "\\newcommand{\\eeq}{\\end{equation}}\n",
    "\\newcommand{\\beas}{\\begin{eqnarray*}}\n",
    "\\newcommand{\\eeas}{\\end{eqnarray*}}\n",
    "\\newcommand{\\cO}{\\mathcal{O}}\n",
    "\\newcommand{\\cF}{\\mathcal{F}}\n",
    "\\newcommand{\\cL}{\\mathcal{L}}\n",
    "\\newcommand{\\BS}{\\text{BS}}\n",
    "$$"
   ]
  },
  {
   "cell_type": "markdown",
   "metadata": {},
   "source": [
    "<font color = \"red\">Homework is to be done by each student individually.  To receive full credit, you must email a completed copy of this iPython notebook to Victor Istratov (stavka@gmail.com), Yassine Ghalem (yassine.ghalem@gmail.com) and Jim Gatheral (jim.gatheral@gmail.com) by the due date and time.  All R-code must run correctly and solutions must be written up neatly in Markdown/LaTeX format.\n"
   ]
  },
  {
   "cell_type": "markdown",
   "metadata": {},
   "source": [
    "* **Author: Hongchao Pan**\n",
    "* Kernel Version: R 3.3.2\n",
    "* Packages/Libraries: zoo, xts, quantmod, highfrequency, repr\n",
    "* Notes:\n",
    "    * The running time of the notebook is aournd 5s\n",
    "    * Q5\n",
    "        * $\\epsilon_t$ is time series from 2 to end of tradeSigns\n",
    "        * $\\epsilon_{t-1}$ is time series from 1 to end-1 of tradeSigns\n",
    "        * $\\Delta p_t$ is time series from 2 to end minus 1 to end-1 of price "
   ]
  },
  {
   "cell_type": "code",
   "execution_count": 1,
   "metadata": {
    "collapsed": false
   },
   "outputs": [
    {
     "name": "stderr",
     "output_type": "stream",
     "text": [
      "\n",
      "Attaching package: ‘zoo’\n",
      "\n",
      "The following objects are masked from ‘package:base’:\n",
      "\n",
      "    as.Date, as.Date.numeric\n",
      "\n",
      "Loading required package: TTR\n",
      "Version 0.4-0 included new data defaults. See ?getSymbols.\n",
      "\n",
      "Attaching package: ‘highfrequency’\n",
      "\n",
      "The following objects are masked from ‘package:quantmod’:\n",
      "\n",
      "    getPrice, has.Qty\n",
      "\n"
     ]
    }
   ],
   "source": [
    "# install packages if not have\n",
    "\n",
    "#install.packages(\"highfrequency\")\n",
    "# Cannot install 'highfrequency' from CRAN\n",
    "# download the r-release binaries and copy to the R library folder\n",
    "\n",
    "#install.packages(\"quantmod\")\n",
    "#install.packages(\"zoo\")\n",
    "\n",
    "# Loading libraries\n",
    "library(zoo)\n",
    "library(xts)\n",
    "library(quantmod)  # Attached to highfrequency\n",
    "library(highfrequency)\n",
    "library(repr) # For changing plot features"
   ]
  },
  {
   "cell_type": "code",
   "execution_count": 2,
   "metadata": {
    "collapsed": true
   },
   "outputs": [],
   "source": [
    "# Record the total running time of this notebook\n",
    "# Starting record the time\n",
    "ptm<-proc.time()"
   ]
  },
  {
   "cell_type": "markdown",
   "metadata": {},
   "source": [
    "### 0. (0 points) \n",
    "Read Chapter 5 and 6 of Hasbrouck and Chapters 2 and 3 of Foucault, Pagano and R&ouml;ell. \n"
   ]
  },
  {
   "cell_type": "markdown",
   "metadata": {},
   "source": [
    "## Glosten and Milgrom"
   ]
  },
  {
   "cell_type": "markdown",
   "metadata": {},
   "source": [
    "### 1. (8 points) \n",
    "\n",
    "(Adapted from Hasbrouck 5.2 but please note that the setup in (3) in the slides is different from Hasbrouck's in Figure 5.1 of his book.) Consider a variant of the Glosten and Milgrom model where there is informed trading only in the low state $V=\\underline V$.\n",
    "\n",
    "(a) Show that the learned probability after one step that the true price is $\\bar V$ is given by\n",
    "\n",
    "$$\n",
    "\\delta_1(Buy)=\\Pr(\\bar V|Buy)=\\frac{\\delta}{1-\\mu\\,(1-\\delta)};\\quad \\delta_1(Sell)=\\Pr(\\bar V|Sell)=\\frac{\\delta}{1+\\mu\\,(1-\\delta)}\n",
    "$$\n",
    "\n",
    "and that\n",
    "\n",
    "$$\n",
    "A=\\frac{\\underline V\\,{(1-\\delta)\\,(1-\\mu)}+\\bar V\\,{\\delta}}{{1-\\mu\\,(1-\\delta)}};\\quad B=\\frac{\\underline V\\,{(1-\\delta)\\,(1+\\mu)}+\\bar V\\,{\\delta}}{1+\\mu\\,(1-\\delta)}\n",
    "$$\n",
    "\n",
    "(b) Deduce an expression for the spread $s=A-B$.\n",
    "\n",
    "(c) Explain the sensitivities of the spread to the parameters of the model to a non-expert.\n"
   ]
  },
  {
   "cell_type": "markdown",
   "metadata": {},
   "source": [
    "### Answers of Q1"
   ]
  },
  {
   "cell_type": "markdown",
   "metadata": {},
   "source": [
    "#### (a)"
   ]
  },
  {
   "cell_type": "markdown",
   "metadata": {},
   "source": [
    "Since the revised Glosten and Milgrom model only informed trading only in the low state $V=\\underline V$, the new sequantial trade model event tree changes to below:"
   ]
  },
  {
   "cell_type": "markdown",
   "metadata": {},
   "source": [
    "\n",
    "<img src=\"GM_trading_tree.png\" style=\"float:center; height: 250px\">"
   ]
  },
  {
   "cell_type": "markdown",
   "metadata": {},
   "source": [
    "Therefore, we have:\n",
    "\n",
    "* The unconditional probability of a Buy and a Sell is given by:\n",
    "\n",
    "$$\n",
    "\\text{Pr(Buy)}=\\frac{\\delta}{2}+\\frac{(1-\\mu)(1-\\delta)}{2}=\\frac{1-\\mu (1-\\delta)}{2}\n",
    "$$\n",
    "\n",
    "$$\n",
    "\\text{Pr(Sell)}=\\frac{\\delta}{2}+\\frac{(1-\\mu)(1-\\delta)}{2}+\\mu (1-\\delta)=\\frac{1+\\mu (1-\\delta)}{2}\n",
    "$$\n"
   ]
  },
  {
   "cell_type": "markdown",
   "metadata": {},
   "source": [
    "* Buy inspection the new tree, we have:\n",
    "\n",
    "$$\n",
    "\\text{Pr}(\\bar V \\cap \\text{Buy})=\\frac{\\delta}{2}\n",
    "$$\n",
    "\n",
    "$$\n",
    "\\text{Pr}(\\bar V \\cap \\text{Sell})=\\frac{\\delta}{2}\n",
    "$$"
   ]
  },
  {
   "cell_type": "markdown",
   "metadata": {},
   "source": [
    "$\\Rightarrow$\n",
    "\n",
    "$$\n",
    "\\delta_1(\\text{Buy}) = \\text{Pr}(\\bar V | \\text{Buy})\n",
    "=\\frac{\\text{Pr}(\\bar V \\cap \\text{Buy})}{\\text{Pr(Buy)}}\n",
    "=\\frac{\\delta}{1-\\mu(1-\\delta)}\n",
    "$$\n",
    "\n",
    "$$\n",
    "\\delta_1(\\text{Sell}) = \\text{Pr}(\\bar V | \\text{Sell})\n",
    "=\\frac{\\text{Pr}(\\bar V \\cap \\text{Sell})}{\\text{Pr(Sell)}}\n",
    "=\\frac{\\delta}{1+\\mu(1-\\delta)}\n",
    "$$"
   ]
  },
  {
   "cell_type": "markdown",
   "metadata": {},
   "source": [
    "* In one step, the value of V can be $\\bar V$ or $\\underline V$, therefore:\n",
    "\n",
    "$$\n",
    "\\text{Pr}(\\underline V|\\text{Buy})=1-\\text{Pr}(\\bar V | \\text{Buy})=\\frac{(1-\\mu)(1-\\delta)}{1-\\mu(1-\\delta)}\n",
    "$$\n",
    "\n",
    "$$\n",
    "\\text{Pr}(\\underline V|\\text{Sell})=1-\\text{Pr}(\\bar V | \\text{Sell})=\\frac{(1+\\mu)(1-\\delta)}{1+\\mu(1-\\delta)}\n",
    "$$"
   ]
  },
  {
   "cell_type": "markdown",
   "metadata": {},
   "source": [
    "$\\Rightarrow$\n",
    "\n",
    "$$\n",
    "A=\\mathbb{E}[V|\\text{Buy}]={\\bar V\\,\\Pr(\\bar V|\\text{Buy})+\\underline V\\,\\Pr(\\underline V|\\text{Buy})}\\\\\n",
    "=\\frac{\\bar V \\delta + \\underline V (1-\\mu)(1-\\delta)}{1-\\mu(1-\\delta)}\n",
    "$$\n",
    "\n",
    "$$\n",
    "B=\\mathbb{E}[V|\\text{Sell}]={\\bar V\\,\\Pr(\\bar V|\\text{Sell})+\\underline V\\,\\Pr(\\underline V|\\text{Sell})}\\\\\n",
    "=\\frac{\\bar V \\delta + \\underline V (1+\\mu)(1-\\delta)}{1+\\mu(1-\\delta)}\n",
    "$$"
   ]
  },
  {
   "cell_type": "markdown",
   "metadata": {},
   "source": [
    "#### (b)"
   ]
  },
  {
   "cell_type": "markdown",
   "metadata": {},
   "source": [
    "$$\n",
    "s=A-B=\\frac{\\bar V \\delta + \\underline V (1-\\mu)(1-\\delta)}{1-\\mu(1-\\delta)}-\\frac{\\bar V \\delta + \\underline V (1+\\mu)(1-\\delta)}{1+\\mu(1-\\delta)}\\\\\n",
    "=\\frac{2\\delta \\mu(1-\\delta)(\\bar V - \\underline V)}{1-\\mu^2 (1-\\delta)^2}\n",
    "$$"
   ]
  },
  {
   "cell_type": "markdown",
   "metadata": {},
   "source": [
    "#### (c)"
   ]
  },
  {
   "cell_type": "markdown",
   "metadata": {},
   "source": [
    "* From the above equation of spread $s$ we could conclude:\n",
    "<br><br>\n",
    "\n",
    "    * parameter $\\bar V - \\underline V$: The spread $s$ will **increase** if price difference $\\bar V - \\underline V$ increases. As the larger the difference, the higher the risk, the model implies that larger spread $s$ is needed to compensate the higher risk.\n",
    "    <br><br>\n",
    "    \n",
    "    * parameter $\\mu$: The $\\mu$ and $\\delta$ are both less than 1 and non-negative, but the coefficient of $\\mu$ in numerator is much larger than the coefficient of $\\mu^2$ in denominator. Thereby the spread $s$ will **increase** if $\\mu$ increases. This implies that larger spread $s$ is needed to compensate the informed trading.\n",
    "    <br><br>\n",
    "    \n",
    "    * parameter $\\delta$: Similar reason for $\\mu$ (be careful the negative sign of $\\delta^2$ in numerator), the spread $s$ will **decrease** if $\\delta$ increases. This implies that the larger spread $s$ is needed to compensated the risk of more chance of stock goes to uninformed state ($\\bar V$ here) with the only informed state is lower state ($\\underline V$ here)"
   ]
  },
  {
   "cell_type": "markdown",
   "metadata": {},
   "source": [
    "### Load data and R package for the next questions"
   ]
  },
  {
   "cell_type": "code",
   "execution_count": 3,
   "metadata": {
    "collapsed": false
   },
   "outputs": [],
   "source": [
    "download.file(url=\"http://mfe.baruch.cuny.edu/wp-content/uploads/2015/02/tq.zip\", destfile=\"tq.zip\")\n",
    "unzip(zipfile=\"tq.zip\")"
   ]
  },
  {
   "cell_type": "code",
   "execution_count": 4,
   "metadata": {
    "collapsed": false
   },
   "outputs": [],
   "source": [
    "load('tq.rData')\n",
    "# The loading of libraries has been moved to the 1st cell\n",
    "#library(highfrequency)\n",
    "#library(xts)"
   ]
  },
  {
   "cell_type": "markdown",
   "metadata": {},
   "source": [
    "## The Lee and Ready tick test"
   ]
  },
  {
   "cell_type": "markdown",
   "metadata": {},
   "source": [
    "### 2. (10 points) \n",
    "\n",
    "In the following use the trades and quotes object *tqBAC* in the loaded data *tq.rData*.  Denote trade prices by $p_t$ and mid-quotes by $m_t$.\n",
    "\n",
    "(a) Compute the time series of trade signs $\\epsilon_t$ according to $\\epsilon_t=+1$ if $p_t>m_t$ and  $\\epsilon_t=-1$ otherwise, using the Lee-Ready rule for trades at mid.  Name this series *tradeSigns*. (Note this was already done in the lecture.)\n",
    "\n",
    "(b) Compute the Lee-Ready trade-sign indicator time series (as if you didn't have quotes and so no mid-prices).\n",
    "\n",
    "(c) Compute the correlation of these two indicators.\n",
    "\n",
    "(d) Assume the rule in part (a) is 100% accurate.  What percentage of trades are correctly signed by the Lee-Ready test?\n",
    "\n",
    "(e) Explain the relationship between your answers in (c) and (d).\n"
   ]
  },
  {
   "cell_type": "markdown",
   "metadata": {},
   "source": [
    "### Answer of Q2\n",
    "#### (a) Compute the time series trade signs"
   ]
  },
  {
   "cell_type": "code",
   "execution_count": 5,
   "metadata": {
    "collapsed": false
   },
   "outputs": [
    {
     "data": {
      "text/html": [
       "<table>\n",
       "<thead><tr><th></th><th scope=col>SYMBOL</th><th scope=col>EX</th><th scope=col>PRICE</th><th scope=col>SIZE</th><th scope=col>COND</th><th scope=col>BID</th><th scope=col>BIDSIZ</th><th scope=col>OFR</th><th scope=col>OFRSIZ</th></tr></thead>\n",
       "<tbody>\n",
       "\t<tr><th scope=row>2012-05-04 09:30:00</th><td>BAC   </td><td>T     </td><td>7.89  </td><td>38538 </td><td>F     </td><td>7.89  </td><td>523   </td><td>7.9   </td><td>952   </td></tr>\n",
       "\t<tr><th scope=row>2012-05-04 09:30:01</th><td>BAC   </td><td>Z     </td><td>7.885 </td><td>288   </td><td>@     </td><td>7.88  </td><td>61033 </td><td>7.9   </td><td>92866 </td></tr>\n",
       "\t<tr><th scope=row>2012-05-04 09:30:03</th><td>BAC   </td><td>X     </td><td>7.89  </td><td>1000  </td><td>@     </td><td>7.88  </td><td>1974  </td><td>7.89  </td><td>333   </td></tr>\n",
       "\t<tr><th scope=row>2012-05-04 09:30:07</th><td>BAC   </td><td>T     </td><td>7.89  </td><td>19052 </td><td>F     </td><td>7.88  </td><td>1058  </td><td>7.89  </td><td>218   </td></tr>\n",
       "\t<tr><th scope=row>2012-05-04 09:30:08</th><td>BAC   </td><td>Y     </td><td>7.89  </td><td>85053 </td><td>F     </td><td>7.88  </td><td>108101</td><td>7.9   </td><td>31104 </td></tr>\n",
       "\t<tr><th scope=row>2012-05-04 09:30:09</th><td>BAC   </td><td>D     </td><td>7.8901</td><td>10219 </td><td>@     </td><td>7.89  </td><td>268   </td><td>7.9   </td><td>291   </td></tr>\n",
       "</tbody>\n",
       "</table>\n"
      ],
      "text/latex": [
       "\\begin{tabular}{r|lllllllll}\n",
       "  & SYMBOL & EX & PRICE & SIZE & COND & BID & BIDSIZ & OFR & OFRSIZ\\\\\n",
       "\\hline\n",
       "\t2012-05-04 09:30:00 & BAC    & T      & 7.89   & 38538  & F      & 7.89   & 523    & 7.9    & 952   \\\\\n",
       "\t2012-05-04 09:30:01 & BAC    & Z      & 7.885  & 288    & @      & 7.88   & 61033  & 7.9    & 92866 \\\\\n",
       "\t2012-05-04 09:30:03 & BAC    & X      & 7.89   & 1000   & @      & 7.88   & 1974   & 7.89   & 333   \\\\\n",
       "\t2012-05-04 09:30:07 & BAC    & T      & 7.89   & 19052  & F      & 7.88   & 1058   & 7.89   & 218   \\\\\n",
       "\t2012-05-04 09:30:08 & BAC    & Y      & 7.89   & 85053  & F      & 7.88   & 108101 & 7.9    & 31104 \\\\\n",
       "\t2012-05-04 09:30:09 & BAC    & D      & 7.8901 & 10219  & @      & 7.89   & 268    & 7.9    & 291   \\\\\n",
       "\\end{tabular}\n"
      ],
      "text/markdown": [
       "\n",
       "| <!--/--> | SYMBOL | EX | PRICE | SIZE | COND | BID | BIDSIZ | OFR | OFRSIZ | \n",
       "|---|---|---|---|---|---|\n",
       "| 2012-05-04 09:30:00 | BAC    | T      | 7.89   | 38538  | F      | 7.89   | 523    | 7.9    | 952    | \n",
       "| 2012-05-04 09:30:01 | BAC    | Z      | 7.885  | 288    | @      | 7.88   | 61033  | 7.9    | 92866  | \n",
       "| 2012-05-04 09:30:03 | BAC    | X      | 7.89   | 1000   | @      | 7.88   | 1974   | 7.89   | 333    | \n",
       "| 2012-05-04 09:30:07 | BAC    | T      | 7.89   | 19052  | F      | 7.88   | 1058   | 7.89   | 218    | \n",
       "| 2012-05-04 09:30:08 | BAC    | Y      | 7.89   | 85053  | F      | 7.88   | 108101 | 7.9    | 31104  | \n",
       "| 2012-05-04 09:30:09 | BAC    | D      | 7.8901 | 10219  | @      | 7.89   | 268    | 7.9    | 291    | \n",
       "\n",
       "\n"
      ],
      "text/plain": [
       "                    SYMBOL EX PRICE  SIZE  COND BID  BIDSIZ OFR  OFRSIZ\n",
       "2012-05-04 09:30:00 BAC    T  7.89   38538 F    7.89 523    7.9  952   \n",
       "2012-05-04 09:30:01 BAC    Z  7.885  288   @    7.88 61033  7.9  92866 \n",
       "2012-05-04 09:30:03 BAC    X  7.89   1000  @    7.88 1974   7.89 333   \n",
       "2012-05-04 09:30:07 BAC    T  7.89   19052 F    7.88 1058   7.89 218   \n",
       "2012-05-04 09:30:08 BAC    Y  7.89   85053 F    7.88 108101 7.9  31104 \n",
       "2012-05-04 09:30:09 BAC    D  7.8901 10219 @    7.89 268    7.9  291   "
      ]
     },
     "metadata": {},
     "output_type": "display_data"
    }
   ],
   "source": [
    "# Load the data\n",
    "tqdata <- tqBAC\n",
    "data.frame(head(tqdata))"
   ]
  },
  {
   "cell_type": "markdown",
   "metadata": {},
   "source": [
    "Table 1. Overview of tqBAC"
   ]
  },
  {
   "cell_type": "code",
   "execution_count": 6,
   "metadata": {
    "collapsed": false
   },
   "outputs": [],
   "source": [
    "# Compute the time series trade signs\n",
    "tradeSigns <- getTradeDirection(tqdata)"
   ]
  },
  {
   "cell_type": "markdown",
   "metadata": {},
   "source": [
    "#### (b) Compute the Lee-Ready trade-sign indicator"
   ]
  },
  {
   "cell_type": "markdown",
   "metadata": {},
   "source": [
    "* Rules from lecture\n",
    "    * If a trade is on uptick or zero-uptick, it is a buy, trade-sign=+1\n",
    "    * If a trade is on downtick or zero-downtick, it is a sell, trade-sign=-1\n",
    "    * For zero-uptick: \n",
    "        * the trade-sign is +1 if previous price went up\n",
    "        * or -1 if previous price went down. \n",
    "        * **This is the same trade-sign of last time**"
   ]
  },
  {
   "cell_type": "code",
   "execution_count": 7,
   "metadata": {
    "collapsed": true
   },
   "outputs": [],
   "source": [
    "# Get the price time series\n",
    "price<- as.numeric(tqdata$PRICE)\n",
    "# Get the length of the time series\n",
    "n<-length(price)"
   ]
  },
  {
   "cell_type": "markdown",
   "metadata": {},
   "source": [
    "Notes for computing the trade signs by using Lee-Ready rule:\n",
    "* I chose to compute the trade signs from 2nd trade, since the zero-uptick or zero-downtick in Lee-Ready needs the information of previous trade and 1st trade does not have the previous information.\n"
   ]
  },
  {
   "cell_type": "code",
   "execution_count": 8,
   "metadata": {
    "collapsed": false
   },
   "outputs": [],
   "source": [
    "# Compute the Lee-Ready trade signs\n",
    "\n",
    "# Rules from lecture\n",
    "# If a trade is on uptick or zero-uptick, it is a buy, trade-sign=+1\n",
    "# If a trade is on downtick or zero-downtick, it is a sell, trade-sign=-1\n",
    "# For zero-uptick: if a trade is zero-uptick, the trade-sign is +1 if previous price went up\n",
    "# or -1 if previous price went down. This is the same trade-sign of last time\n",
    "\n",
    "# R: index starts from 1, not 0 in the list\n",
    "# If does not consider the 1st trade, we will compute the trade sign from 2nd trade, \n",
    "# since the zero-uptick or zero-downtick in Lee-Ready needs the information of previous trade\n",
    "\n",
    "# Here, I chose to compute the trade-signs from 2nd trade\n",
    "# Compute all the trade signs\n",
    "\n",
    "# Define a global function to get the trade signs by using Lee-Ready rules\n",
    "getLRtradeSigns<<- function(price){\n",
    "    LR_tradeSigns<- c() # empty list\n",
    "    n<-length(price)\n",
    "    for (i in 2:n-1){\n",
    "        if(price[i+1]>price[i]){\n",
    "            # trade is on up-tick\n",
    "            LR_tradeSigns<- c(LR_tradeSigns,1)\n",
    "        }else if(price[i+1]<price[i]){\n",
    "            # trade is on down-tick\n",
    "            LR_tradeSigns<- c(LR_tradeSigns,-1)\n",
    "        }else{\n",
    "            # trade is on zero-tick\n",
    "            LR_tradeSigns<-c(LR_tradeSigns,LR_tradeSigns[i-1])\n",
    "        }\n",
    "    }\n",
    "    return (LR_tradeSigns)\n",
    "    \n",
    "}\n"
   ]
  },
  {
   "cell_type": "code",
   "execution_count": 9,
   "metadata": {
    "collapsed": false
   },
   "outputs": [],
   "source": [
    "LR_tradeSigns<- getLRtradeSigns(price)"
   ]
  },
  {
   "cell_type": "code",
   "execution_count": 10,
   "metadata": {
    "collapsed": false
   },
   "outputs": [
    {
     "name": "stdout",
     "output_type": "stream",
     "text": [
      "Length difference of two trade-sign time series 1"
     ]
    }
   ],
   "source": [
    "# Lee-Ready method cannot compute the last time price\n",
    "cat(\"Length difference of two trade-sign time series\",length(tradeSigns)-length(LR_tradeSigns))"
   ]
  },
  {
   "cell_type": "markdown",
   "metadata": {},
   "source": [
    "#### (c) Compute the correlation of these two indicators"
   ]
  },
  {
   "cell_type": "code",
   "execution_count": 11,
   "metadata": {
    "collapsed": false
   },
   "outputs": [
    {
     "name": "stdout",
     "output_type": "stream",
     "text": [
      "The correlation of two trade sign indicators is: 0.6618357"
     ]
    }
   ],
   "source": [
    "# Since tradeSigns has one more sign than Lee-Ready method\n",
    "corrTS<- cor(LR_tradeSigns,tradeSigns[-1])\n",
    "cat(\"The correlation of two trade sign indicators is:\", corrTS)"
   ]
  },
  {
   "cell_type": "markdown",
   "metadata": {},
   "source": [
    "#### (d) Compute the percentage of trades are correctly signed by the Lee-Ready test"
   ]
  },
  {
   "cell_type": "code",
   "execution_count": 12,
   "metadata": {
    "collapsed": false
   },
   "outputs": [
    {
     "name": "stdout",
     "output_type": "stream",
     "text": [
      "The percentage of trades with correctly signs by the Lee-Ready test is: 82.97026 %"
     ]
    }
   ],
   "source": [
    "# Count the number of same trade signs in two time series\n",
    "num<- 0\n",
    "for (i in 1: length(LR_tradeSigns)){\n",
    "    # LR_tradeSigns left-shift 1 position\n",
    "    if(LR_tradeSigns[i]==tradeSigns[i+1]){\n",
    "        num<- num+1\n",
    "    }\n",
    "}\n",
    "\n",
    "cat(\"The percentage of trades with correctly signs by the Lee-Ready test is:\",\n",
    "   num*100/length(LR_tradeSigns),\"%\")"
   ]
  },
  {
   "cell_type": "markdown",
   "metadata": {},
   "source": [
    "#### (e) Explain the relationship between your answers in (c) and (d)"
   ]
  },
  {
   "cell_type": "markdown",
   "metadata": {},
   "source": [
    "* The incorrection rate is 17% from (d), which is slightly higher than the rate (15%) in the lecture notes observed by Bandi and Russell\n",
    "* Since $0.6618357 \\approx 2 \\times 0.8297026-1$, We could assume that the relationship of correction rate ($P$) and correlation $\\rho$ has following eqaution: \n",
    "\n",
    "$$\n",
    "\\rho \\approx 2P-1\n",
    "$$"
   ]
  },
  {
   "cell_type": "markdown",
   "metadata": {},
   "source": [
    "* From figure below, we can see:\n",
    "    * Point B of ($P,\\rho$) on the line $y=2x-1$.\n",
    "    * Point C(1,1) means the correction percentage is 100% if two trade-sign time series are perfect correlated (correlation=1)\n",
    "    * Point A(0,-1) means the ocrrection percentage is 0% if two trade-sign time series are perfect negative correlated (correlation=-1)"
   ]
  },
  {
   "cell_type": "markdown",
   "metadata": {},
   "source": [
    "* Therefore, we conclude that the relationship of correction rate and correlation coefficient is:\n",
    "\n",
    "$$\n",
    "\\rho \\approx 2P-1\n",
    "$$"
   ]
  },
  {
   "cell_type": "code",
   "execution_count": 13,
   "metadata": {
    "collapsed": false
   },
   "outputs": [
    {
     "data": {
      "image/png": "[encoded data removed]",
      "text/plain": [
       "plot without title"
      ]
     },
     "metadata": {},
     "output_type": "display_data"
    }
   ],
   "source": [
    "# Plot the relationship of correlation and corretion\n",
    "P<-c(0,num/length(LR_tradeSigns),1)\n",
    "rho<-c(-1,corrTS,1)\n",
    "options(repr.plot.height=3, repr.plot.width=6)\n",
    "plot(P,rho,type='o',col='red',xlab='correction rate',ylab='correlation coefficient')\n",
    "# Add y=2x-1 line\n",
    "curve(2*x-1,from=0, to=1,add = TRUE,col='blue')\n",
    "text(0,-0.75,\"A\",col='red')\n",
    "text(0.83,0.4,\"B\",col='red')\n",
    "text(1,0.75,\"C\",col='red')"
   ]
  },
  {
   "cell_type": "markdown",
   "metadata": {},
   "source": [
    "Figure 1. Relationship of correction rate and correlation coefficients with indicator line $y=2x-1$"
   ]
  },
  {
   "cell_type": "markdown",
   "metadata": {},
   "source": [
    "## Realized spread by exchange"
   ]
  },
  {
   "cell_type": "markdown",
   "metadata": {},
   "source": [
    "### 3. (8 points)\n",
    "\n",
    "(a) Reproduce Figure 6 from the lecture slides, making sure to get the aesthetics right.\n",
    "\n",
    "(b) Explain why the realized spread profile varies by exchange.\n",
    "\n",
    "(c) Redo the picture adjusting for the following (assumed) take fees:\n",
    "\n",
    "** Exchange ** | ** Take fee ** \n",
    "--- | --- \n",
    "| (**cents**)\n",
    "D | 0.10 \n",
    "B | -0.04\n",
    "Z | 0.29\n",
    "Y | 0.00\n",
    "P | 0.25\n",
    "\n",
    "(d) Based on your results, where would you advise sending a small market order?  How about a large one?\n"
   ]
  },
  {
   "cell_type": "markdown",
   "metadata": {},
   "source": [
    "### Answer of Q3\n",
    "#### (a) Reproduce Figure 6 from the lecture slides"
   ]
  },
  {
   "cell_type": "code",
   "execution_count": 14,
   "metadata": {
    "collapsed": false
   },
   "outputs": [
    {
     "data": {
      "text/html": [
       "<table>\n",
       "<thead><tr><th></th><th scope=col>SYMBOL</th><th scope=col>EX</th><th scope=col>PRICE</th><th scope=col>SIZE</th><th scope=col>COND</th><th scope=col>BID</th><th scope=col>BIDSIZ</th><th scope=col>OFR</th><th scope=col>OFRSIZ</th></tr></thead>\n",
       "<tbody>\n",
       "\t<tr><th scope=row>2012-05-04 09:30:00</th><td>BAC   </td><td>T     </td><td>7.89  </td><td>38538 </td><td>F     </td><td>7.89  </td><td>523   </td><td>7.9   </td><td>952   </td></tr>\n",
       "\t<tr><th scope=row>2012-05-04 09:30:01</th><td>BAC   </td><td>Z     </td><td>7.885 </td><td>288   </td><td>@     </td><td>7.88  </td><td>61033 </td><td>7.9   </td><td>92866 </td></tr>\n",
       "\t<tr><th scope=row>2012-05-04 09:30:03</th><td>BAC   </td><td>X     </td><td>7.89  </td><td>1000  </td><td>@     </td><td>7.88  </td><td>1974  </td><td>7.89  </td><td>333   </td></tr>\n",
       "\t<tr><th scope=row>2012-05-04 09:30:07</th><td>BAC   </td><td>T     </td><td>7.89  </td><td>19052 </td><td>F     </td><td>7.88  </td><td>1058  </td><td>7.89  </td><td>218   </td></tr>\n",
       "\t<tr><th scope=row>2012-05-04 09:30:08</th><td>BAC   </td><td>Y     </td><td>7.89  </td><td>85053 </td><td>F     </td><td>7.88  </td><td>108101</td><td>7.9   </td><td>31104 </td></tr>\n",
       "\t<tr><th scope=row>2012-05-04 09:30:09</th><td>BAC   </td><td>D     </td><td>7.8901</td><td>10219 </td><td>@     </td><td>7.89  </td><td>268   </td><td>7.9   </td><td>291   </td></tr>\n",
       "</tbody>\n",
       "</table>\n"
      ],
      "text/latex": [
       "\\begin{tabular}{r|lllllllll}\n",
       "  & SYMBOL & EX & PRICE & SIZE & COND & BID & BIDSIZ & OFR & OFRSIZ\\\\\n",
       "\\hline\n",
       "\t2012-05-04 09:30:00 & BAC    & T      & 7.89   & 38538  & F      & 7.89   & 523    & 7.9    & 952   \\\\\n",
       "\t2012-05-04 09:30:01 & BAC    & Z      & 7.885  & 288    & @      & 7.88   & 61033  & 7.9    & 92866 \\\\\n",
       "\t2012-05-04 09:30:03 & BAC    & X      & 7.89   & 1000   & @      & 7.88   & 1974   & 7.89   & 333   \\\\\n",
       "\t2012-05-04 09:30:07 & BAC    & T      & 7.89   & 19052  & F      & 7.88   & 1058   & 7.89   & 218   \\\\\n",
       "\t2012-05-04 09:30:08 & BAC    & Y      & 7.89   & 85053  & F      & 7.88   & 108101 & 7.9    & 31104 \\\\\n",
       "\t2012-05-04 09:30:09 & BAC    & D      & 7.8901 & 10219  & @      & 7.89   & 268    & 7.9    & 291   \\\\\n",
       "\\end{tabular}\n"
      ],
      "text/markdown": [
       "\n",
       "| <!--/--> | SYMBOL | EX | PRICE | SIZE | COND | BID | BIDSIZ | OFR | OFRSIZ | \n",
       "|---|---|---|---|---|---|\n",
       "| 2012-05-04 09:30:00 | BAC    | T      | 7.89   | 38538  | F      | 7.89   | 523    | 7.9    | 952    | \n",
       "| 2012-05-04 09:30:01 | BAC    | Z      | 7.885  | 288    | @      | 7.88   | 61033  | 7.9    | 92866  | \n",
       "| 2012-05-04 09:30:03 | BAC    | X      | 7.89   | 1000   | @      | 7.88   | 1974   | 7.89   | 333    | \n",
       "| 2012-05-04 09:30:07 | BAC    | T      | 7.89   | 19052  | F      | 7.88   | 1058   | 7.89   | 218    | \n",
       "| 2012-05-04 09:30:08 | BAC    | Y      | 7.89   | 85053  | F      | 7.88   | 108101 | 7.9    | 31104  | \n",
       "| 2012-05-04 09:30:09 | BAC    | D      | 7.8901 | 10219  | @      | 7.89   | 268    | 7.9    | 291    | \n",
       "\n",
       "\n"
      ],
      "text/plain": [
       "                    SYMBOL EX PRICE  SIZE  COND BID  BIDSIZ OFR  OFRSIZ\n",
       "2012-05-04 09:30:00 BAC    T  7.89   38538 F    7.89 523    7.9  952   \n",
       "2012-05-04 09:30:01 BAC    Z  7.885  288   @    7.88 61033  7.9  92866 \n",
       "2012-05-04 09:30:03 BAC    X  7.89   1000  @    7.88 1974   7.89 333   \n",
       "2012-05-04 09:30:07 BAC    T  7.89   19052 F    7.88 1058   7.89 218   \n",
       "2012-05-04 09:30:08 BAC    Y  7.89   85053 F    7.88 108101 7.9  31104 \n",
       "2012-05-04 09:30:09 BAC    D  7.8901 10219 @    7.89 268    7.9  291   "
      ]
     },
     "metadata": {},
     "output_type": "display_data"
    }
   ],
   "source": [
    "# Load the data\n",
    "#load('tq.rData')  # Already loaded\n",
    "#tqdata <- tqBAC\n",
    "data.frame(head(tqdata))"
   ]
  },
  {
   "cell_type": "markdown",
   "metadata": {},
   "source": [
    "Table 2. Overview of tqBAC"
   ]
  },
  {
   "cell_type": "code",
   "execution_count": 15,
   "metadata": {
    "collapsed": false
   },
   "outputs": [],
   "source": [
    "# Get the price, mid-price, tradeSigns from original whole dataset\n",
    "price<- as.numeric(tqdata$PRICE)\n",
    "mid_price<- (as.numeric(tqdata$BID)+as.numeric(tqdata$OFR))/2\n",
    "tradeSigns<- getTradeDirection(tqdata)\n",
    "# Get the full indices of each exchanges\n",
    "ind_D<- which(as.character(tqdata$EX)=='D')\n",
    "ind_B<- which(as.character(tqdata$EX)=='B')\n",
    "ind_Z<- which(as.character(tqdata$EX)=='Z')\n",
    "ind_Y<- which(as.character(tqdata$EX)=='Y')\n",
    "ind_P<- which(as.character(tqdata$EX)=='P')"
   ]
  },
  {
   "cell_type": "code",
   "execution_count": 16,
   "metadata": {
    "collapsed": false
   },
   "outputs": [],
   "source": [
    "# Define Realized half-spread functions for 5 different exchanges\n",
    "n<- length(price) # The length of whole dataset\n",
    "\n",
    "# exchange D\n",
    "rs_D <- function(lag){\n",
    "    # Get the corresponding indices of exchange D with given lag (tau)\n",
    "    # Key point: indices of exchange should be no more than (whole dataset length - given lag),\n",
    "    # otherwise, the indices of mid-price (indices of exchange+tau) will be out of bound\n",
    "    ind_DL<- ind_D[ind_D<=(n-lag)]\n",
    "    \n",
    "    # Adjust the function in the lecture notes\n",
    "    # Key point: m_{t+tau} should come from the whole dataset, not individual exchange,\n",
    "    # since the time interval in each exchange is different than the time interval in whole dataset\n",
    "    # So the mid-price should use the mid-price from whole dataset contains information of all exchanges\n",
    "    return (mean(tradeSigns[ind_DL]*(price[ind_DL]-mid_price[ind_DL+lag])))\n",
    "}\n",
    "\n",
    "# exchange B\n",
    "rs_B <- function(lag){\n",
    "    # Get the corresponding indices of exchange B with given lag\n",
    "    ind_BL<- ind_B[ind_B<=(n-lag)]\n",
    "    \n",
    "    # Adjust the function in the lecture notes\n",
    "    # Key point: m_{t+tau} should come from the whole dataset, not individual exchange,\n",
    "    # since the time interval in each exchange is different than the time interval in whole dataset\n",
    "    # So themid- price should use the mid-price from whole dataset contains information of all exchanges\n",
    "    return (mean(tradeSigns[ind_BL]*(price[ind_BL]-mid_price[ind_BL+lag])))\n",
    "}\n",
    "\n",
    "# exchange Z\n",
    "rs_Z <- function(lag){\n",
    "    # Get the corresponding indices of exchange Z with given lag\n",
    "    ind_ZL<- ind_Z[ind_Z<=(n-lag)]\n",
    "    \n",
    "    # Adjust the function in the lecture notes\n",
    "    # Key point: m_{t+tau} should come from the whole dataset, not individual exchange,\n",
    "    # since the time interval in each exchange is different than the time interval in whole dataset\n",
    "    # So themid- price should use the mid-price from whole dataset contains information of all exchanges\n",
    "    return (mean(tradeSigns[ind_ZL]*(price[ind_ZL]-mid_price[ind_ZL+lag])))\n",
    "}\n",
    "\n",
    "# exchange Y\n",
    "rs_Y <- function(lag){\n",
    "    # Get the corresponding indices of exchange Y with given lag\n",
    "    ind_YL<- ind_Y[ind_Y<=(n-lag)]\n",
    "    \n",
    "    # Adjust the function in the lecture notes\n",
    "    # Key point: m_{t+tau} should come from the whole dataset, not individual exchange,\n",
    "    # since the time interval in each exchange is different than the time interval in whole dataset\n",
    "    # So themid- price should use the mid-price from whole dataset contains information of all exchanges\n",
    "    return (mean(tradeSigns[ind_YL]*(price[ind_YL]-mid_price[ind_YL+lag])))\n",
    "}\n",
    "\n",
    "# exchange P\n",
    "rs_P <- function(lag){\n",
    "    # Get the corresponding indices of exchange P with given lag\n",
    "    ind_PL<- ind_P[ind_P<=(n-lag)]\n",
    "    \n",
    "    # Adjust the function in the lecture notes\n",
    "    # Key point: m_{t+tau} should come from the whole dataset, not individual exchange,\n",
    "    # since the time interval in each exchange is different than the time interval in whole dataset\n",
    "    # So themid- price should use the mid-price from whole dataset contains information of all exchanges\n",
    "    return (mean(tradeSigns[ind_PL]*(price[ind_PL]-mid_price[ind_PL+lag])))\n",
    "}"
   ]
  },
  {
   "cell_type": "code",
   "execution_count": 17,
   "metadata": {
    "collapsed": false
   },
   "outputs": [],
   "source": [
    "# Get the BAC realized half-spread on 5 exchanges with maxlags=50\n",
    "rsLag_D <- sapply(1:50,rs_D)\n",
    "rsLag_B <- sapply(1:50,rs_B)\n",
    "rsLag_Z <- sapply(1:50,rs_Z)\n",
    "rsLag_Y <- sapply(1:50,rs_Y)\n",
    "rsLag_P <- sapply(1:50,rs_P)"
   ]
  },
  {
   "cell_type": "code",
   "execution_count": 18,
   "metadata": {
    "collapsed": false
   },
   "outputs": [
    {
     "data": {
      "image/png": "[encoded data removed]",
      "text/plain": [
       "plot without title"
      ]
     },
     "metadata": {},
     "output_type": "display_data"
    }
   ],
   "source": [
    "options(repr.plot.height=6, repr.plot.width=8)\n",
    "plot(1:50,rsLag_D,col=\"red\",type=\"l\",lwd=2,xlab=expression(tau), \n",
    "     ylab = \"Realized half-spread\",ylim = c(-0.000,0.0035))\n",
    "lines(1:50,rsLag_B,type='l',col='blue',lwd=2)\n",
    "lines(1:50,rsLag_Z,type='l',col='orange',lwd=2)\n",
    "lines(1:50,rsLag_Y,type='l',col='purple',lwd=2)\n",
    "lines(1:50,rsLag_P,type='l',col='dark green',lwd=2)\n",
    "abline(h = 0,col = \"lightgray\",lty=2)\n",
    "legend('topright',\n",
    "      c(\"D ... FINRA\",\"B ... NASDAQ OMX BX Stock Ex\",\"Z ... BATS Exchange\",\n",
    "        \"Y ... BATS Y-Exchange\",\"P ... NYSE Arca SM\"),\n",
    "       lty=c(1,1,1,1,1),col=c(\"red\",\"blue\",\"orange\",\"purple\",\"dark green\"))"
   ]
  },
  {
   "cell_type": "markdown",
   "metadata": {},
   "source": [
    "Figure 1. Reproduce Figure 6 in the lecture notes: *\"Different exchanges have different realized spread profiles depending on fee structure\"*\n",
    "* Note: The y-axis is **effective half-spread** by using the formula: \n",
    "\n",
    "$$\\frac{1}{2}s^R=\\langle  \\epsilon_t\\,(p_t-m_{t+\\tau})  \\rangle$$  \n",
    "    \n",
    "   for some $\\tau >0$."
   ]
  },
  {
   "cell_type": "markdown",
   "metadata": {},
   "source": [
    "#### (b) Explain why the realized spread profile varies by exchange"
   ]
  },
  {
   "cell_type": "markdown",
   "metadata": {},
   "source": [
    "* The reason of variation of realized spread by exchanges is the variation of fees in different exchanges. \n",
    "\n",
    "* In particular,\n",
    "\n",
    "    * From Figure 1 above, we can see that the realized spreads of Z and P are much smaller than spreads of others.\n",
    "\n",
    "    * From given take fee table of 5 exchanges, we can see the common feature of Z and P is higher take fee than others.\n",
    "\n",
    "    * From lecture 1, we know that BZX gives rebates to limit order submitters, but BYX gives rebates to markert order submitters.\n",
    "    \n",
    "    * Therefore, we could conclude that the higher the take fees of exchange, the smaller realized spread."
   ]
  },
  {
   "cell_type": "markdown",
   "metadata": {},
   "source": [
    "#### (c) Redo the picture adjusting for the given fees"
   ]
  },
  {
   "cell_type": "markdown",
   "metadata": {},
   "source": [
    "* Since (a) measured the realized half-spread by using the formula:     \n",
    "\n",
    "    $$\\frac{1}{2}s^R=\\langle  \\epsilon_t\\,(p_t-m_{t+\\tau})  \\rangle$$ \n",
    "\n",
    "    for some\n",
    "    $\\tau >0$ . **Note: no 2 here compare to the formula in Lecture 4, since this measure realized half-spread**\n",
    "    \n",
    "    Therefore, the adjusting formula with taking off take fee is:\n",
    "    \n",
    "    $$\\frac{1}{2}s^R=\\langle  \\epsilon_t\\,(p_t-m_{t+\\tau}-f)  \\rangle $$ \n",
    "    \n",
    "    for some\n",
    "    $\\tau >0$ and $f$ denotes the take fee of exchanges"
   ]
  },
  {
   "cell_type": "code",
   "execution_count": 19,
   "metadata": {
    "collapsed": true
   },
   "outputs": [],
   "source": [
    "# Take fees of 5 exchanges\n",
    "f<-c(0.001,-0.0004,0.0029,0,0.0025)"
   ]
  },
  {
   "cell_type": "code",
   "execution_count": 20,
   "metadata": {
    "collapsed": true
   },
   "outputs": [],
   "source": [
    "# Define Adjusting Realized half-spread functions for 5 different exchanges\n",
    "n<- length(price) # The length of whole dataset\n",
    "\n",
    "# exchange D\n",
    "rs_DA <- function(lag){\n",
    "    # Get the corresponding indices of exchange D with given lag (tau)\n",
    "    # Key point: indices of exchange should be no more than (whole dataset length - given lag),\n",
    "    # otherwise, the indices of mid-price (indices of exchange+tau) will be out of bound\n",
    "    ind_DL<- ind_D[ind_D<=(n-lag)]\n",
    "    \n",
    "    # Adjust the function in the lecture notes\n",
    "    # Key point: m_{t+tau} should come from the whole dataset, not individual exchange,\n",
    "    # since the time interval in each exchange is different than the time interval in whole dataset\n",
    "    # So the mid-price should use the mid-price from whole dataset contains information of all exchanges\n",
    "    return (mean(tradeSigns[ind_DL]*(price[ind_DL]-mid_price[ind_DL+lag]-f[1])))\n",
    "}\n",
    "\n",
    "# exchange B\n",
    "rs_BA <- function(lag){\n",
    "    # Get the corresponding indices of exchange B with given lag\n",
    "    ind_BL<- ind_B[ind_B<=(n-lag)]\n",
    "    \n",
    "    # Adjust the function in the lecture notes\n",
    "    # Key point: m_{t+tau} should come from the whole dataset, not individual exchange,\n",
    "    # since the time interval in each exchange is different than the time interval in whole dataset\n",
    "    # So themid- price should use the mid-price from whole dataset contains information of all exchanges\n",
    "    return (mean(tradeSigns[ind_BL]*(price[ind_BL]-mid_price[ind_BL+lag]-f[2])))\n",
    "}\n",
    "\n",
    "# exchange Z\n",
    "rs_ZA <- function(lag){\n",
    "    # Get the corresponding indices of exchange Z with given lag\n",
    "    ind_ZL<- ind_Z[ind_Z<=(n-lag)]\n",
    "    \n",
    "    # Adjust the function in the lecture notes\n",
    "    # Key point: m_{t+tau} should come from the whole dataset, not individual exchange,\n",
    "    # since the time interval in each exchange is different than the time interval in whole dataset\n",
    "    # So themid- price should use the mid-price from whole dataset contains information of all exchanges\n",
    "    return (mean(tradeSigns[ind_ZL]*(price[ind_ZL]-mid_price[ind_ZL+lag]-f[3])))\n",
    "}\n",
    "\n",
    "# exchange Y\n",
    "rs_YA <- function(lag){\n",
    "    # Get the corresponding indices of exchange Y with given lag\n",
    "    ind_YL<- ind_Y[ind_Y<=(n-lag)]\n",
    "    \n",
    "    # Adjust the function in the lecture notes\n",
    "    # Key point: m_{t+tau} should come from the whole dataset, not individual exchange,\n",
    "    # since the time interval in each exchange is different than the time interval in whole dataset\n",
    "    # So themid- price should use the mid-price from whole dataset contains information of all exchanges\n",
    "    return (mean(tradeSigns[ind_YL]*(price[ind_YL]-mid_price[ind_YL+lag]-f[4])))\n",
    "}\n",
    "\n",
    "# exchange P\n",
    "rs_PA <- function(lag){\n",
    "    # Get the corresponding indices of exchange P with given lag\n",
    "    ind_PL<- ind_P[ind_P<=(n-lag)]\n",
    "    \n",
    "    # Adjust the function in the lecture notes\n",
    "    # Key point: m_{t+tau} should come from the whole dataset, not individual exchange,\n",
    "    # since the time interval in each exchange is different than the time interval in whole dataset\n",
    "    # So themid- price should use the mid-price from whole dataset contains information of all exchanges\n",
    "    return (mean(tradeSigns[ind_PL]*(price[ind_PL]-mid_price[ind_PL+lag]-f[5])))\n",
    "}"
   ]
  },
  {
   "cell_type": "code",
   "execution_count": 21,
   "metadata": {
    "collapsed": true
   },
   "outputs": [],
   "source": [
    "# Get the BAC adjusting realized half-spread on 5 exchanges with maxlags=50\n",
    "# If consider the take fee happens at each lag time\n",
    "#rsLag_DA <- rsLag_D-f[1]\n",
    "#rsLag_BA <- rsLag_B-f[2]\n",
    "#rsLag_ZA <- rsLag_Z-f[3]\n",
    "#rsLag_YA <- rsLag_Y-f[4]\n",
    "#rsLag_PA <- rsLag_P-f[5]"
   ]
  },
  {
   "cell_type": "code",
   "execution_count": 22,
   "metadata": {
    "collapsed": false
   },
   "outputs": [],
   "source": [
    "# If consider the take fee happens in each timestep, not only happens at lag time\n",
    "# The take fee should be consider this way, since it happens when dealer submit order\n",
    "rsLag_DA <- sapply(1:50,rs_DA)\n",
    "rsLag_BA <- sapply(1:50,rs_BA)\n",
    "rsLag_ZA <- sapply(1:50,rs_ZA)\n",
    "rsLag_YA <- sapply(1:50,rs_YA)\n",
    "rsLag_PA <- sapply(1:50,rs_PA)"
   ]
  },
  {
   "cell_type": "code",
   "execution_count": 23,
   "metadata": {
    "collapsed": false
   },
   "outputs": [
    {
     "data": {
      "image/png": "[encoded data removed]",
      "text/plain": [
       "plot without title"
      ]
     },
     "metadata": {},
     "output_type": "display_data"
    }
   ],
   "source": [
    "options(repr.plot.height=6, repr.plot.width=8)\n",
    "plot(1:50,rsLag_DA,col=\"red\",type=\"l\",lwd=2,\n",
    "     xlab=expression(tau), ylab = \"Adjusted realized half-spread\",ylim = c(-0.000,0.0035))\n",
    "lines(1:50,rsLag_BA,type='l',col='blue',lwd=2)\n",
    "lines(1:50,rsLag_ZA,type='l',col='orange',lwd=2)\n",
    "lines(1:50,rsLag_YA,type='l',col='purple',lwd=2)\n",
    "lines(1:50,rsLag_PA,type='l',col='dark green',lwd=2)\n",
    "abline(h = 0,col = \"lightgray\",lty=2)\n",
    "legend('topright',\n",
    "      c(\"D ... FINRA\",\"B ... NASDAQ OMX BX Stock Ex\",\"Z ... BATS Exchange\",\n",
    "        \"Y ... BATS Y-Exchange\",\"P ... NYSE Arca SM\"),\n",
    "       lty=c(1,1,1,1,1),col=c(\"red\",\"blue\",\"orange\",\"purple\",\"dark green\"))"
   ]
  },
  {
   "cell_type": "markdown",
   "metadata": {},
   "source": [
    "Figure 2. Adjusting realized half-spread of different exchanges with same fee structure (no take fee)"
   ]
  },
  {
   "cell_type": "markdown",
   "metadata": {},
   "source": [
    "#### (d) Advise of sending a small market order, or a large market order"
   ]
  },
  {
   "cell_type": "markdown",
   "metadata": {},
   "source": [
    "* Comparing Figure 1 and Figure 2, we can see that the shape of chart does not change too much by taking off the assumed take fee.\n",
    "<br><br>\n",
    "\n",
    "* For small market order, the liquidity and the time to be executed is not a problem needs to be concerned. Therefore, we should choose an exchange with low fee. From the given table, Exchange B (with take fee -0.04 cents)might be a good exchange to send small market order.\n",
    "<br><br>\n",
    "\n",
    "* But for large market order, we should first consider the liquidity and time to be exectued instead of the taking fees. From lecture notes 1, we know that BYX gives rebates to market order, and the market orders are bigger than BZX. And then it would be better if dealer could find an exchange with low take fee meet previous conditions. Therefore, it might be a good choice to send large market order to Exchange Y (with no take fee: 0 cent)"
   ]
  },
  {
   "cell_type": "markdown",
   "metadata": {},
   "source": [
    "## Predicting trade signs"
   ]
  },
  {
   "cell_type": "markdown",
   "metadata": {},
   "source": [
    "### 4. (6 points) \n",
    "\n",
    "The following require the *tradeSigns* series from Problem 2.\n",
    "\n",
    "(a) Denote the probability of a sign reversal by $\\pi$.  Derive an expression in terms of $\\pi$ for the conditional expectation $\\E[\\epsilon_t|\\epsilon_{t-1}]$.\n",
    "\n",
    "(b) Assume zero expectation of the trading signs, fit an AR(1) model to the series *tradeSigns*.  What is the coefficient returned by this model?  Explain how  this coefficient relates to $\\pi$?\n"
   ]
  },
  {
   "cell_type": "markdown",
   "metadata": {},
   "source": [
    "### Answers of Q4\n",
    "#### (a) Compute the conditional expectation"
   ]
  },
  {
   "cell_type": "markdown",
   "metadata": {},
   "source": [
    "$\\epsilon_{t-1}$|$\\epsilon_t$|Probability\n",
    "--|--|--\n",
    "1|-1|$\\pi$\n",
    "1|1|$1-\\pi$\n",
    "-1|1|$\\pi$\n",
    "-1|-1|$1-\\pi$"
   ]
  },
  {
   "cell_type": "markdown",
   "metadata": {},
   "source": [
    "Since $\\epsilon$ can only be 1 or -1 with probability $\\frac{1}{2}$, therefore the conditional probability is:\n",
    "\n",
    "$$\n",
    "\\mathbb{E}[\\epsilon_t|\\epsilon_{t-1}]=\\epsilon_{t-1} \\times \\frac{1}{2} \\times 1 (-1\\times \\pi + 1\\times (1-\\pi))+\\epsilon_{t-1} \\times \\frac{1}{2} \\times (-1) (1\\times \\pi - 1\\times (1-\\pi))\\\\\n",
    "=\\epsilon_{t-1}(1-2\\pi)\n",
    "$$"
   ]
  },
  {
   "cell_type": "markdown",
   "metadata": {},
   "source": [
    "#### (b) Fit AR(1) of tradeSigns, get the coefficient, and explian the relationship of the coefficient to $\\pi$"
   ]
  },
  {
   "cell_type": "code",
   "execution_count": 24,
   "metadata": {
    "collapsed": true
   },
   "outputs": [],
   "source": [
    "# Get the tradeSigns\n",
    "tradeSigns<- getTradeDirection(tqdata)"
   ]
  },
  {
   "cell_type": "code",
   "execution_count": 25,
   "metadata": {
    "collapsed": true
   },
   "outputs": [],
   "source": [
    "# Fit AR(1)\n",
    "X_t<- tradeSigns[2:length(tradeSigns)]       # X_t\n",
    "X_t_1<- tradeSigns[1:(length(tradeSigns)-1)] # X_{t-1}\n",
    "# Combine the time series to a dataframe\n",
    "df_AR1<- data.frame(X_t,X_t_1)  # Column names: X_t, X_t_1"
   ]
  },
  {
   "cell_type": "code",
   "execution_count": 26,
   "metadata": {
    "collapsed": false
   },
   "outputs": [
    {
     "name": "stdout",
     "output_type": "stream",
     "text": [
      "The coefficient of linear regression without constant term is: 0.08472868 \n",
      "The coefficients (intercept and coefficient of X_{t-1}) of linear regression with constant term are : 0.05416048 0.08153492"
     ]
    }
   ],
   "source": [
    "# Get the coefficients through linear regression without constant term,\n",
    "# since conditional expection of epsilon_t given epsilon_{t-1} only has previous information,\n",
    "# no constant term\n",
    "fit_AR1<- lm(X_t~0+X_t_1, data = df_AR1)\n",
    "cat(\"The coefficient of linear regression without constant term is:\",fit_AR1$coefficients,\"\\n\")\n",
    "\n",
    "# If regress with constant term\n",
    "fit2_AR1<- lm(X_t~X_t_1, data = df_AR1)\n",
    "cat(\"The coefficients (intercept and coefficient of X_{t-1}) of linear regression with constant term are :\",fit2_AR1$coefficients)"
   ]
  },
  {
   "cell_type": "markdown",
   "metadata": {},
   "source": [
    "* The AR(1) model used for tradeSigns is:\n",
    "\n",
    "$$\n",
    "\\epsilon_t=\\alpha +\\beta \\epsilon_{t-1}+\\omega_t\n",
    "$$\n",
    "\n",
    "where $\\omega_t \\sim N(0,\\sigma^2)$"
   ]
  },
  {
   "cell_type": "markdown",
   "metadata": {},
   "source": [
    "* Therefore,\n",
    "    * if we consider $\\alpha != 0$, we have:\n",
    "    \n",
    "    $$\n",
    "    \\mathbb{E}[\\epsilon_t|\\epsilon_{t-1}]=\\beta \\epsilon_{t-1} +\\alpha=(1-2\\pi)\\epsilon_{t-1}\n",
    "    $$\n",
    "    \n",
    "    $\\Rightarrow$\n",
    "    \n",
    "    $$\n",
    "    1-2\\pi \\approx \\beta = 0.08472868\n",
    "    $$\n",
    "    \n",
    "    * If we consider $\\alpha =0$, we have:\n",
    "\n",
    "    $$\n",
    "    \\mathbb{E}[\\epsilon_t|\\epsilon_{t-1}]=\\beta \\epsilon_{t-1} =(1-2\\pi)\\epsilon_{t-1}\n",
    "    $$\n",
    "    \n",
    "    $\\Rightarrow$\n",
    "    \n",
    "    $$\n",
    "    1-2\\pi =\\beta = 0.08153492\n",
    "    $$\n"
   ]
  },
  {
   "cell_type": "markdown",
   "metadata": {},
   "source": [
    "## The MRR model"
   ]
  },
  {
   "cell_type": "markdown",
   "metadata": {},
   "source": [
    "### 5. (6 points)\n",
    "Using the estimate of $\\rho$ (the coefficient obtained from fitting to an AR(1) model) from Problem 4 and equation (11) from the lecture slides:\n",
    "\n",
    "$$\n",
    "\\Delta p_t=(\\phi+\\lambda)\\,\\epsilon_t-(\\phi+\\rho\\,\\lambda)\\,\\epsilon_{t-1}+e_t+\\Delta \\xi_t\n",
    "$$\n",
    "\n",
    "estimate by linear regression the MRR parameters $\\phi$ (transaction cost) and $\\lambda$ (adverse selection or \"Kyle lambda\") from  *tqBAC*.  This amounts to ignoring the autocorrelation of the $\\Delta \\xi_t$.\n",
    "<br>\n",
    "\n",
    "Hint: Use the R function *lm*  to perform the linear regressions."
   ]
  },
  {
   "cell_type": "markdown",
   "metadata": {},
   "source": [
    "### Answer of Q5"
   ]
  },
  {
   "cell_type": "code",
   "execution_count": 27,
   "metadata": {
    "collapsed": true
   },
   "outputs": [],
   "source": [
    "# Retrive the data from Q4\n",
    "epl_t<- X_t      # tradeSigns[2:length(tradeSigns)]\n",
    "epl_t_1<- X_t_1  # tradeSigns[1:l(ength(tradeSigns)-1)]\n",
    "# Get the time series of difference of price\n",
    "price<- as.numeric(tqdata$PRICE)\n",
    "diff_p<- price[2:length(price)]-price[1:(length(price)-1)]\n",
    "\n",
    "# Combine data\n",
    "df1<- data.frame(epl_t,epl_t_1)\n",
    "df2<- data.frame(diff_p,epl_t,epl_t_1)"
   ]
  },
  {
   "cell_type": "code",
   "execution_count": 28,
   "metadata": {
    "collapsed": false
   },
   "outputs": [
    {
     "name": "stdout",
     "output_type": "stream",
     "text": [
      "The coefficient rho from tradeSigns is:  0.08153492 \n",
      "The coefficients of current linear regression are:  0.002876938 -0.002336749"
     ]
    }
   ],
   "source": [
    "# Get the coefficients\n",
    "# Both linear regression has constant term\n",
    "fit1<-lm(epl_t~epl_t_1,data=df1)\n",
    "fit2<-lm(diff_p~epl_t+epl_t_1,data=df2)\n",
    "rho<- fit1$coefficients[2]\n",
    "cof1<-fit2$coefficients[2]\n",
    "cof2<-fit2$coefficients[3]\n",
    "cat(\"The coefficient rho from tradeSigns is: \",rho,'\\n')\n",
    "cat(\"The coefficients of current linear regression are: \",cof1,cof2)"
   ]
  },
  {
   "cell_type": "markdown",
   "metadata": {},
   "source": [
    "Therefore, we have:\n",
    "\n",
    "$$\n",
    "\\phi+\\lambda=cof1\\\\\n",
    "\\phi+\\rho\\lambda=-cof2\\\\\n",
    "$$\n",
    "\n",
    "$\\Rightarrow$\n",
    "\n",
    "$$\n",
    "\\lambda=\\frac{cof1+cof2}{1-\\rho}\\\\\n",
    "\\phi=cof1-\\lambda\n",
    "$$\n"
   ]
  },
  {
   "cell_type": "code",
   "execution_count": 29,
   "metadata": {
    "collapsed": false
   },
   "outputs": [
    {
     "name": "stdout",
     "output_type": "stream",
     "text": [
      "The Kyle lambda of MMR model is:  0.000588144 \n",
      "The transaction cost of MMR model is:  0.002288794"
     ]
    }
   ],
   "source": [
    "cat(\"The Kyle lambda of MMR model is: \",(cof1+cof2)/(1-rho),\"\\n\")\n",
    "cat(\"The transaction cost of MMR model is: \",(cof1-(cof1+cof2)/(1-rho)))"
   ]
  },
  {
   "cell_type": "code",
   "execution_count": 30,
   "metadata": {
    "collapsed": false
   },
   "outputs": [
    {
     "name": "stdout",
     "output_type": "stream",
     "text": [
      "[1] \"The running time of this notebooks is: \"\n"
     ]
    },
    {
     "data": {
      "text/plain": [
       "   user  system elapsed \n",
       "  4.046   0.396   5.138 "
      ]
     },
     "metadata": {},
     "output_type": "display_data"
    }
   ],
   "source": [
    "# End recording the running time\n",
    "print('The running time of this notebooks is: ')\n",
    "proc.time()-ptm"
   ]
  }
 ],
 "metadata": {
  "kernelspec": {
   "display_name": "R",
   "language": "R",
   "name": "ir"
  },
  "language_info": {
   "codemirror_mode": "r",
   "file_extension": ".r",
   "mimetype": "text/x-r-source",
   "name": "R",
   "pygments_lexer": "r",
   "version": "3.3.2"
  }
 },
 "nbformat": 4,
 "nbformat_minor": 0
}
