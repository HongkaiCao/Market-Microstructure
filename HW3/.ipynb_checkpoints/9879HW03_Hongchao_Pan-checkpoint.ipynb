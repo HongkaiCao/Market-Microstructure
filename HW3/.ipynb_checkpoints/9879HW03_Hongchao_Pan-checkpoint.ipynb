{
 "cells": [
  {
   "cell_type": "markdown",
   "metadata": {},
   "source": [
    "# MTH9879 Homework 3\n",
    "\n",
    "Assigned: February 14, 2017.\n",
    "Due: February 28, 2017 by 6pm. \n",
    "|\n",
    "Late homework **will not be accepted**.\n",
    "\n",
    "$$\n",
    "\\newcommand{\\supp}{\\mathrm{supp}}\n",
    "\\newcommand{\\E}{\\mathbb{E}}\n",
    "\\newcommand{\\EE}{\\mathbb{E}}\n",
    "\\newcommand{\\Eof}[1]{\\mathbb{E}\\left[ #1 \\right]}\n",
    "\\def\\Cov{{ \\mbox{Cov} }}\n",
    "\\def\\Var{{ \\mbox{Var} }}\n",
    "\\newcommand{\\1}{\\mathbf{1} }\n",
    "\\newcommand{\\PP}{\\mathbb{P} }\n",
    "%\\newcommand{\\Pr}{\\mathrm{Pr} }\n",
    "\\newcommand{\\QQ}{\\mathbb{Q} }\n",
    "\\newcommand{\\RR}{\\mathbb{R} }\n",
    "\\newcommand{\\DD}{\\mathbb{D} }\n",
    "\\newcommand{\\HH}{\\mathbb{H} }\n",
    "\\newcommand{\\spn}{\\mathrm{span} }\n",
    "\\newcommand{\\cov}{\\mathrm{cov} }\n",
    "\\newcommand{\\sgn}{\\mathrm{sgn} }\n",
    "\\newcommand{\\HS}{\\mathcal{L}_{\\mathrm{HS}} }\n",
    "%\\newcommand{\\HS}{\\mathrm{HS} }\n",
    "\\newcommand{\\trace}{\\mathrm{trace} }\n",
    "\\newcommand{\\LL}{\\mathcal{L} }\n",
    "%\\newcommand{\\LL}{\\mathrm{L} }\n",
    "\\newcommand{\\s}{\\mathcal{S} }\n",
    "\\newcommand{\\ee}{\\mathcal{E} }\n",
    "\\newcommand{\\ff}{\\mathcal{F} }\n",
    "\\newcommand{\\hh}{\\mathcal{H} }\n",
    "\\newcommand{\\bb}{\\mathcal{B} }\n",
    "\\newcommand{\\dd}{\\mathcal{D} }\n",
    "\\newcommand{\\g}{\\mathcal{G} }\n",
    "\\newcommand{\\p}{\\partial}\n",
    "\\newcommand{\\half}{\\frac{1}{2} }\n",
    "\\newcommand{\\T}{\\mathcal{T} }\n",
    "\\newcommand{\\bi}{\\begin{itemize}}\n",
    "\\newcommand{\\ei}{\\end{itemize}}\n",
    "\\newcommand{\\beq}{\\begin{equation}}\n",
    "\\newcommand{\\eeq}{\\end{equation}}\n",
    "\\newcommand{\\beas}{\\begin{eqnarray*}}\n",
    "\\newcommand{\\eeas}{\\end{eqnarray*}}\n",
    "\\newcommand{\\cO}{\\mathcal{O}}\n",
    "\\newcommand{\\cF}{\\mathcal{F}}\n",
    "\\newcommand{\\cL}{\\mathcal{L}}\n",
    "\\newcommand{\\BS}{\\text{BS}}\n",
    "$$"
   ]
  },
  {
   "cell_type": "markdown",
   "metadata": {},
   "source": [
    "<font color = \"red\">Homework is to be done by each student individually.  To receive full credit, you must email a completed copy of this iPython notebook to Victor Istratov (stavka@gmail.com), Yassine Ghalem (yassine.ghalem@gmail.com) and Jim Gatheral (jim.gatheral@gmail.com) by the due date and time.  All R-code must run correctly and solutions must be written up neatly in Markdown/LaTeX format.\n"
   ]
  },
  {
   "cell_type": "markdown",
   "metadata": {},
   "source": [
    "* **Author: Hongchao Pan**\n",
    "* Kernel Version: R 3.3.2\n",
    "* Packages/Libraries: repr\n",
    "* Notes:"
   ]
  },
  {
   "cell_type": "markdown",
   "metadata": {},
   "source": [
    "### 0. (0 points) \n",
    "Read Chapter 11 of Hasbrouck and Section 3.5 of Foucault, Pagano and R&ouml;ell. <br>\n",
    "Also, read the article on high-frequency trading by Menkveld available at http://papers.tinbergen.nl/11076.pdf."
   ]
  },
  {
   "cell_type": "markdown",
   "metadata": {},
   "source": [
    "## The Garman (1976) model"
   ]
  },
  {
   "cell_type": "markdown",
   "metadata": {},
   "source": [
    "### 1. (6 points) \n",
    "Suppose supply and demand functions satisfy\n",
    "\n",
    "$$\n",
    "P_A(\\lambda) = 101 − 18\\lambda + \\lambda^2; \\; P_B(\\lambda) = 61 + 2\\lambda + \\lambda^2,\n",
    "$$\n",
    "\n",
    "where $\\lambda$ is the market order arrival rate per minute and $P_B(\\cdot)$ and $P_A(\\cdot)$ denote supply and demand curves respectively. <br>\n",
    "Determine the dealer’s optimal bid $B$ and ask $A$ and the average profit per minute."
   ]
  },
  {
   "cell_type": "markdown",
   "metadata": {},
   "source": [
    "### Answer of Q1"
   ]
  },
  {
   "cell_type": "markdown",
   "metadata": {},
   "source": [
    "* According to Garman's model, the P&L per unit of time is: \n",
    "\n",
    "$$\\pi(B,A)=(A-B)\\,\\lambda = \\left(P_A(\\lambda) - P_B(\\lambda)\\right)\\,\\lambda=-20\\lambda ^2 +40\\lambda $$\n",
    "\n",
    "* And we know that the dealer's optimal bid $B$ and ask $A$ achieved by maximizing the P&L. The 1st derivate of $\\pi$ is: \n",
    "\n",
    "$$ \\frac{d\\pi(B,A)}{d\\lambda}=-40\\lambda +40 $$\n",
    "\n",
    "* Therefore when $\\lambda=1$, the dealer get:\n",
    "    * the optimal bid $B_{opt}(1)=84$\n",
    "    * optimal ask $A_{opt}(1)=64$\n",
    "    * Average ptofit per minute: $\\pi_{opt}(1)=-20+40=20$"
   ]
  },
  {
   "cell_type": "markdown",
   "metadata": {},
   "source": [
    "## The Stoll (1978) model"
   ]
  },
  {
   "cell_type": "markdown",
   "metadata": {},
   "source": [
    "### 2. (4 points) \n",
    "In the Stoll (1978) model, assuming exponential utility with $S \\sim N(\\mu, \\sigma^2)$, and with current inventory $q$ shares, what are the dealer’s indifference bid and ask prices for $n$ shares?"
   ]
  },
  {
   "cell_type": "markdown",
   "metadata": {},
   "source": [
    "### Answer of Q2"
   ]
  },
  {
   "cell_type": "markdown",
   "metadata": {},
   "source": [
    "* Assume the dealer post $n$ shares at bid side, and the dealer's current inventory is $q$.\n",
    "    * If his bid is not hit, his terminal wealth will be $W=q\\,S$.\n",
    "    * If his bid is hit, his terminal wealth will be $W=(q+n)S-B$.\n",
    "* The dealer has exponential utility with:\n",
    "    $$\n",
    "    U(W)=-e^{-\\alpha\\,W}.\n",
    "    $$\n",
    "* The security has the random payoff $S \\sim N(\\mu, \\sigma^2)$.\n",
    "\n",
    "* For the dealer to be indifference, we must have:\n",
    "    $$\n",
    "    \\E[U\\left((q+n)S-nB\\right)]=\\E[U(q\\,S)]\n",
    "    $$\n",
    "$\\Rightarrow$\n",
    "\n",
    "    $$ \n",
    "    (q+n)\\E[S]-nB-\\frac{\\alpha}{2}\\,\\Var[(q+n)\\,S]\\\\=q\\,\\E[S]-\\frac{\\alpha}{2}\\,\\Var[q\\,S]\n",
    "    $$\n",
    "$\\Rightarrow$\n",
    "\n",
    "    $$ \n",
    "    B=\\mu-\\frac{\\alpha}{2n}\\,\\left[(q+n)^2-q^2\\right]\\,\\sigma^2=\\mu-\\frac{\\alpha}{2}\\,(2\\,q+n)\\,\\sigma^2.\n",
    "    $$\n",
    "  \n",
    "* Similarly, assume dealer post $n$ shares at ask side, we have\n",
    "    $$\n",
    "    \\E[U\\left(nA-(q-n)S\\right)]=\\E[U(q\\,S)]\n",
    "    $$\n",
    "$\\Rightarrow$\n",
    "\n",
    "    $$ \n",
    "    nA+(q-n)\\E[S]-\\frac{\\alpha}{2}\\,\\Var[(q-n)\\,S]\\\\=q\\,\\E[S]-\\frac{\\alpha}{2}\\,\\Var[q\\,S]\n",
    "    $$\n",
    "    $\\Rightarrow$\n",
    "    $$\n",
    "    A=\\mu+\\frac{\\alpha}{2n}\\,\\left[(q+n)^2-q^2\\right]\\,\\sigma^2=\\mu+\\frac{\\alpha}{2}\\,(n-2q)\\,\\sigma^2.\n",
    "    $$\n"
   ]
  },
  {
   "cell_type": "markdown",
   "metadata": {},
   "source": [
    "### 3. (10 points)\n",
    "As mentioned in Lecture 3, in real markets, bid and ask prices $B$ and $A$ are typically given and the dealer must decide how much size to quote at these fixed prices.  Suppose there are currently $Q_A$ offered and $Q_B$ shares bid.  According to Lecture 1,\n",
    "\n",
    "$$\n",
    "\\Eof{S} \\approx M + \\frac s 2 \\,\\frac 4\\pi \\,\\arctan I.\n",
    "$$\n",
    "\n",
    "where $M$ is the mid-price, $s=A-B$, and the book imbalance is given by\n",
    "\n",
    "$$\n",
    "I = \\frac{Q_B-Q_A}{Q_B + Q_A}.\n",
    "$$\n",
    "\n",
    "Assume that $S$ is normally distributed with variance $\\sigma^2$, that the dealer has exponential utility, and that his current inventory is $q$.\n",
    "\n",
    "(a) Use your answer to Problem 2 to show that the indifference size $n_B$ the dealer should quote at the bid $B$ is given by\n",
    "\n",
    "$$\n",
    "n_B = \\frac{s}{\\alpha\\,\\sigma^2}\\,\\left(  1+\\frac 4 \\pi \\,\\arctan I \\right) - 2\\,q.\n",
    "$$\n",
    "\n",
    "(c) Derive a similar formula for the indifference offered quantity $n_A$.\n",
    "\n",
    "(b) Give your intuition for the sensitivities of $n_B$ and $n_A$ to each of the various inputs.\n"
   ]
  },
  {
   "cell_type": "markdown",
   "metadata": {},
   "source": [
    "### Answer of Q3\n",
    "#### (a)\n",
    "From Q2 we have:\n",
    "    $$\n",
    "    B=\\mu-\\frac{\\alpha}{2}\\,(2\\,q+n_B)\\,\\sigma^2\n",
    "    $$\n",
    "    $\\Rightarrow$\n",
    "    $$\n",
    "    n_B=\\frac{2(\\mu -B)}{\\alpha \\delta^2} -2q\n",
    "    $$\n",
    "Since $s=A-B, M=\\frac{A-B}{2}+B=\\frac{s}{2}, \\mu \\approx M + \\frac s 2 \\,\\frac 4\\pi \\,\\arctan I$, then\n",
    "\n",
    "$$\n",
    "\\mu-B=\\frac{s}{2}+ \\frac s 2 \\,\\frac 4\\pi \\,\\arctan I\n",
    "$$\n",
    "    \n",
    "$\\Rightarrow$\n",
    "$$\n",
    "n_B=\\frac{s}{\\alpha\\,\\sigma^2}\\,\\left(  1+\\frac 4 \\pi \\,\\arctan I \\right) - 2\\,q\n",
    "$$"
   ]
  },
  {
   "cell_type": "markdown",
   "metadata": {},
   "source": [
    "#### (b)\n",
    "Similarly, from Q2 we have:\n",
    "$$\n",
    "A=\\mu+\\frac{\\alpha}{2}\\,(n_A-2q)\\,\\sigma^2\n",
    "$$\n",
    "$\\Rightarrow$\n",
    "$$\n",
    "n_A=\\frac{2(A-\\mu)}{\\alpha \\delta^2}+2q\n",
    "$$\n",
    "Since $M=A-\\frac{s}{2}$, then\n",
    "$$\n",
    "A-\\mu=\\frac{s}{2}-\\frac s 2 \\,\\frac 4\\pi \\,\\arctan I\n",
    "$$\n",
    "$\\Rightarrow$\n",
    "$$\n",
    "n_A=\\frac{s}{\\alpha\\,\\sigma^2}\\,\\left(  1-\\frac 4 \\pi \\,\\arctan I \\right) + 2\\,q\n",
    "$$"
   ]
  },
  {
   "cell_type": "markdown",
   "metadata": {},
   "source": [
    "#### (c)\n",
    "* The table below shows the changing of $n_A$ and $n_B$ with **increasing** of the parameters.\n",
    "\n",
    "**Parameters**|$s$|$\\alpha$|$\\delta^2$|$I$|$q$\n",
    "----|---|---|---|---|---\n",
    "$n_B$|$\\uparrow$|$\\downarrow$|$\\downarrow$|$\\uparrow$|$\\downarrow$\n",
    "$n_A$|$\\uparrow$|$\\downarrow$|$\\downarrow$|$\\downarrow$|$\\uparrow$"
   ]
  },
  {
   "cell_type": "markdown",
   "metadata": {},
   "source": [
    "* From the table, we could conclude:\n",
    "    * parameter **$s$**: The dealer would post more size on both bid and ask side if spread $s$ increases. The reason of this action is that the dealer might get more profit with larger spread with correct transactions.\n",
    "    <br><br>\n",
    "    * parameter **$\\alpha$**: The dealer would post less size on both bid and ask side if $\\alpha$ increases. Since the $\\alpha$ is risk-reverse factor, the dealer post less size means he might be exposured to less risky positions.\n",
    "    <br><br>\n",
    "    * parameter **$\\delta^2$**: The dealer would post less size on both bid and ask side if $\\delta^2$ increases. Since $\\delta$ indicates the volatility of the stock price, the larger $\\delta$, the more chance to loss more money. The dealer post less size on both sides also means he might be exposured to less risky positions.\n",
    "    <br><br>\n",
    "    * parameter **$I$**: The dealer would post more size on bid side, but less size on ask side if $I$ increases. Since $I= \\frac{Q_B-Q_A}{Q_B + Q_A}$, larger $I$ means larger bid shares $Q_B$ available indicates that the price of the stock might go up. Therefore, the dealer would buy more and sell less to increase the profit.\n",
    "    <br><br>\n",
    "    * parameter **$q$**: The dealer would post more size on bid side, but less size on ask side if $q$ increases. Since $q$ is the dealer's current inventory, the dealer would sell more and buy less to decrease his inventory and risk if $q$ is large."
   ]
  },
  {
   "cell_type": "markdown",
   "metadata": {},
   "source": [
    "## Avellaneda and Stoikov (2008)"
   ]
  },
  {
   "cell_type": "markdown",
   "metadata": {},
   "source": [
    "### 4. (6 points) \n",
    "According to the lecture slides, in the Avellaneda and Stoikov model, the optimal bid and ask prices are given in terms of market order arrival rates by\n",
    "\n",
    "$$\n",
    "B=r_B-\\frac{1}{\\alpha}\\,\\log\\left(1+\\alpha\\,\\frac{{\\lambda_B}(B)}{\\lambda_B'(B)}\\right).\n",
    "$$\n",
    "\n",
    "Similarly, the optimal ask price is given by\n",
    "\n",
    "$$\n",
    "A=r_A-\\frac{1}{\\alpha}\\,\\log\\left(1+\\alpha\\,\\frac{{\\lambda_A}(A)}{\\lambda_A'(A)}\\right).\n",
    "$$\n",
    "\n",
    "where $A= S+\\delta_A$ and $B= S-\\delta_B$.\n",
    "\n",
    "Suppose that arrival rates of orders (symmetric between market buys and sells) are given by\n",
    "\n",
    "$$\n",
    "\\lambda(\\delta) = e^{-k \\delta \\pm \\beta\\,q}\n",
    "$$\n",
    "\n",
    "for some constant $\\beta>0$ that reflects adverse selection (i.e., the longer you are, the more market sell orders arrive).\n",
    "\n",
    "(a) Write down expressions for $A$ and $B$ in terms of $r_A$, $r_B$, $k$, $\\beta$ and $q$.\n",
    "\n",
    "(b) How does the optimal spread depend on $q$?\n",
    "\n",
    "(c) Conjecture how the reservation prices $r_A$ and $r_B$ should depend on $q$ if there is adverse selection.\n"
   ]
  },
  {
   "cell_type": "code",
   "execution_count": null,
   "metadata": {
    "collapsed": true
   },
   "outputs": [],
   "source": []
  }
 ],
 "metadata": {
  "kernelspec": {
   "display_name": "R",
   "language": "R",
   "name": "ir"
  },
  "language_info": {
   "codemirror_mode": "r",
   "file_extension": ".r",
   "mimetype": "text/x-r-source",
   "name": "R",
   "pygments_lexer": "r",
   "version": "3.3.2"
  }
 },
 "nbformat": 4,
 "nbformat_minor": 0
}
