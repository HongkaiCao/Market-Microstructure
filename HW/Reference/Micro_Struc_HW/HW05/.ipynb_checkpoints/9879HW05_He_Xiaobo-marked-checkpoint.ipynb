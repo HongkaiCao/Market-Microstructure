{
 "cells": [
  {
   "cell_type": "markdown",
   "metadata": {},
   "source": [
    "# Xiaobo He <font color='blue'> Score: 20/22 </font>\n",
    "\n",
    "#### <font color='blue'> Please see the corresponding cells for comments (in blue) on each individual question, if there's any. </font>"
   ]
  },
  {
   "cell_type": "markdown",
   "metadata": {},
   "source": [
    "# MTH9879 Homework 5 Solutions\n",
    "\n",
    "Assigned: March 15, 2016.\n",
    "Due: March 29, 2016 by 6pm. \n",
    "\n",
    "Late homework **will not be accepted**.\n",
    "\n",
    "$$\n",
    "\\newcommand{\\supp}{\\mathrm{supp}}\n",
    "\\newcommand{\\E}{\\mathbb{E}}\n",
    "\\newcommand{\\EE}{\\mathbb{E}}\n",
    "\\newcommand{\\Eof}[1]{\\mathbb{E}\\left[ #1 \\right]}\n",
    "\\def\\Cov{{ \\mbox{Cov} }}\n",
    "\\def\\Var{{ \\mbox{Var} }}\n",
    "\\newcommand{\\1}{\\mathbf{1} }\n",
    "\\newcommand{\\PP}{\\mathbb{P} }\n",
    "%\\newcommand{\\Pr}{\\mathrm{Pr} }\n",
    "\\newcommand{\\QQ}{\\mathbb{Q} }\n",
    "\\newcommand{\\RR}{\\mathbb{R} }\n",
    "\\newcommand{\\DD}{\\mathbb{D} }\n",
    "\\newcommand{\\HH}{\\mathbb{H} }\n",
    "\\newcommand{\\spn}{\\mathrm{span} }\n",
    "\\newcommand{\\cov}{\\mathrm{cov} }\n",
    "\\newcommand{\\sgn}{\\mathrm{sgn} }\n",
    "\\newcommand{\\HS}{\\mathcal{L}_{\\mathrm{HS}} }\n",
    "%\\newcommand{\\HS}{\\mathrm{HS} }\n",
    "\\newcommand{\\trace}{\\mathrm{trace} }\n",
    "\\newcommand{\\LL}{\\mathcal{L} }\n",
    "%\\newcommand{\\LL}{\\mathrm{L} }\n",
    "\\newcommand{\\s}{\\mathcal{S} }\n",
    "\\newcommand{\\ee}{\\mathcal{E} }\n",
    "\\newcommand{\\ff}{\\mathcal{F} }\n",
    "\\newcommand{\\hh}{\\mathcal{H} }\n",
    "\\newcommand{\\bb}{\\mathcal{B} }\n",
    "\\newcommand{\\dd}{\\mathcal{D} }\n",
    "\\newcommand{\\g}{\\mathcal{G} }\n",
    "\\newcommand{\\p}{\\partial}\n",
    "\\newcommand{\\half}{\\frac{1}{2} }\n",
    "\\newcommand{\\T}{\\mathcal{T} }\n",
    "\\newcommand{\\bi}{\\begin{itemize}}\n",
    "\\newcommand{\\ei}{\\end{itemize}}\n",
    "\\newcommand{\\beq}{\\begin{equation}}\n",
    "\\newcommand{\\eeq}{\\end{equation}}\n",
    "\\newcommand{\\beas}{\\begin{eqnarray*}}\n",
    "\\newcommand{\\eeas}{\\end{eqnarray*}}\n",
    "\\newcommand{\\cO}{\\mathcal{O}}\n",
    "\\newcommand{\\cF}{\\mathcal{F}}\n",
    "\\newcommand{\\cI}{\\mathcal{I}}\n",
    "\\newcommand{\\cL}{\\mathcal{L}}\n",
    "\\newcommand{\\cM}{\\mathcal{M}}\n",
    "\\newcommand{\\BS}{\\text{BS}}\n",
    "$$"
   ]
  },
  {
   "cell_type": "markdown",
   "metadata": {},
   "source": [
    "<font color = \"red\">Homework is to be done by each student individually.  To receive full credit, you must email a completed copy of this iPython notebook to Tai-Ho Wang (tai-ho.wang@baruch.cuny.edu) and Jim Gatheral (jim.gatheral@baruch.cuny.edu) by the due date and time.  All R-code must run correctly and solutions must be written up neatly in Markdown/LaTeX format.\n",
    "\n",
    "<font color=\"blue\">If you encounter problems with Markdown/LaTeX or iPython notebook, please contact Yuxi Liu, who has kindly offered to help.\n"
   ]
  },
  {
   "cell_type": "markdown",
   "metadata": {},
   "source": [
    "### 0. (0 points) \n",
    "Read Chapter 7 of Hasbrouck, Chapters 4 and 5 of Foucault, Pagano and R&ouml;ell, and Section 3 of Bouchaud, Farmer and Lillo."
   ]
  },
  {
   "cell_type": "markdown",
   "metadata": {},
   "source": [
    "## The Kyle (1985) model"
   ]
  },
  {
   "cell_type": "markdown",
   "metadata": {},
   "source": [
    "### 1. (14 points) <font color=blue> Score: 12/14 </font>\n",
    "\n",
    "Suppose that the monopolistic trader in the Kyle (1985) model is not told the true value $\\tilde S$ but is instead given a signal $x=\\tilde S+\\epsilon$ with $\\epsilon \\sim N(0,\\sigma_\\epsilon^2)$, where $\\tilde S$ and $\\epsilon$ are assumed independent.\n",
    "\n",
    "(a) Compute the conditional expectation $\\mathbb{E}[\\tilde S|x]$.\n",
    "\n",
    "(b) If $\\mathcal I$ assumes that the market maker $\\mathcal M$ generates a price function of the form $p=\\mu +\\lambda\\,y$, show that the informed trader's optimal (profit maximizing) demand is given by\n",
    "\n",
    "$$\n",
    "y_i=\\frac{\\phi}{2\\,\\lambda}\\,\\left(x-\\mu\\right)\n",
    "$$\n",
    "\n",
    "where\n",
    "\n",
    "$$\n",
    "\\phi = \\frac{\\sigma^2}{\\sigma^2+\\sigma_\\epsilon^2}.\n",
    "$$\n",
    "\n",
    "(c) Following the derivation from the lecture slides, use the result of (b) to deduce equation (11) in the lecture slides:\n",
    "\n",
    "$$\n",
    "\\lambda=\\frac{\\sigma}{2\\,\\sigma_u}\\,\\sqrt{\\phi}.\n",
    "$$\n"
   ]
  },
  {
   "cell_type": "markdown",
   "metadata": {},
   "source": [
    "### 1. Solution\n",
    "### (a)\n",
    "Since $x=\\tilde S+\\epsilon$ with $\\epsilon \\sim N(0,\\sigma_\\epsilon^2)$, we have that\n",
    "\n",
    "$$ x\\,|\\,\\tilde S \\sim N(\\tilde S, \\sigma^2_\\epsilon) $$\n",
    "$$ \\tilde S \\sim N(\\mu, \\sigma^2_\\tilde S) $$\n",
    "$$\n",
    "\\begin{eqnarray}\n",
    "    \\mathbb E(x | \\tilde S) &=& \\tilde S + \\mathbb E(\\epsilon | \\tilde S) &=& \\mu\n",
    "\\end{eqnarray}\n",
    "$$\n",
    "\n",
    "Apply Kalman filter, we can get\n",
    "\\begin{eqnarray}\n",
    "    \\mathbb E(\\tilde S | x) = \\beta x + (1 - \\beta) \\mu\n",
    "\\end{eqnarray}\n",
    "\n",
    "where $\\beta$ is\n",
    "\\begin{eqnarray}\n",
    "    \\beta = \\frac{\\tau _x}{\\tau_{\\tilde S} + \\tau_x} = \\frac{\\sigma_{\\tilde S}^2}{\\sigma_\\epsilon ^2 +\\sigma_{\\tilde S}^2}\n",
    "\\end{eqnarray}"
   ]
  },
  {
   "cell_type": "markdown",
   "metadata": {},
   "source": [
    "### (b)\n",
    "The profit of informed trader is\n",
    "\n",
    "$$\n",
    "\\begin{eqnarray}\n",
    "    \\mathbb E( y_i (\\tilde S - p) | x) &=& \\mathbb{E} \\left[y_i(\\tilde S - (\\mu + \\lambda y))\\,|\\,x\\right] \\\\\n",
    "    &=& \\mathbb E(y_i (\\tilde S - \\mu - \\lambda y) | x) \\\\\n",
    "    &=& \\mathbb{E} \\left[y_i (\\tilde S - \\mu -\\lambda (y_i + y_u)) \\,|\\, x \\right]\\\\\n",
    "    &=& \\mathbb E(y_i (\\tilde S - \\mu - \\lambda y_i - \\lambda y_u) | x ) \\\\\n",
    "    &=& \\mathbb E(y_i \\tilde S - y_i \\mu - \\lambda y_i^2 - \\lambda y_u y_i) | x )\\\\\n",
    "    &=& y_i \\mathbb E (\\tilde S | x) - y_i \\mu - \\lambda y_i^2 - \\lambda y_i \\mathbb E(y_u | x) \\\\\n",
    "    &=& y_i \\left[\\phi x - \\phi \\mu - \\lambda y_i\\right]\n",
    "\\end{eqnarray}\n",
    "$$\n",
    "\n",
    "To maximize the profit, we have that\n",
    "$$\n",
    "\\begin{eqnarray}\n",
    "    y_i^{optimal} &=& \\frac {\\phi x -\\phi \\mu} { 2\\lambda}\n",
    "\\end{eqnarray}\n",
    "$$"
   ]
  },
  {
   "cell_type": "markdown",
   "metadata": {},
   "source": [
    "### (c)\n",
    "We have that\n",
    "$$\n",
    "\\mathbb E (\\tilde S|y)=\\mathbb E (\\tilde S)+\\frac{\\mbox Cov (\\tilde S,y)}{\\mbox Var(y)}(y-\\mathbb E (y))\n",
    "$$\n",
    "\n",
    "Assume market maker $\\mathcal{M}$ conjectures informed trader $\\mathcal{I}$ has demand function:\n",
    "\\begin{equation}\n",
    "    y_i = a + b \\tilde S\n",
    "\\end{equation}\n",
    "\n",
    "<font color=blue> (Guess you meant $y_i = a + b x$, i.e., $x$ rather than $\\tilde S$, in the last equation.) </font>\n",
    "\n",
    "Then we can calculate that\n",
    "$$\n",
    "\\begin{eqnarray}\n",
    "    \\mbox Cov(\\tilde S,y) &=& \\mbox Cov(\\tilde S, y_i + y_u)\\\\\n",
    "    &=& \\mbox Cov(\\tilde S, y_i)\\\\\n",
    "    &=& \\mbox Cov(\\tilde S, a + b\\tilde S + b\\epsilon)\\\\\n",
    "    &=& b\\sigma_{\\tilde S}^2\\\\\n",
    "\\end{eqnarray}\n",
    "$$\n",
    "\n",
    "$$\n",
    "\\begin{eqnarray}    \n",
    "    \\mbox Var(y) &=& \\mbox Var(y_i + y_u)\\\\\n",
    "    &=& \\mbox Var(a + bx + y_u)\\\\\n",
    "    &=& \\mbox Var(a + b\\tilde S + b\\epsilon + y_u)\\\\\n",
    "    &=& b^2\\sigma_{\\tilde S}^2 +b^2\\sigma_{\\epsilon}^2 + \\sigma_u^2\n",
    "\\end{eqnarray}\n",
    "$$\n",
    "\n",
    "Therefore, we will have\n",
    "$$\n",
    "\\begin{eqnarray}    \n",
    "    \\lambda &=& \\frac{\\mbox Cov (\\tilde S,y)}{\\mbox Var(y)}\n",
    "            &=& \\frac {b\\sigma_{\\tilde S}^2} {b^2(\\sigma_{\\tilde S}^2 +\\sigma_{\\epsilon}^2) + \\sigma_u^2}\n",
    "            &=& =\\frac {\\sigma_{\\tilde S}} {2\\sigma_u} \\sqrt{\\phi}\n",
    "\\end{eqnarray}\n",
    "$$\n",
    "\n",
    "<font color=blue> (2pts off) The last equation is the key. Further explanation is required. </font>\n",
    "\n",
    "since $b=\\frac \\phi {2\\lambda}$."
   ]
  },
  {
   "cell_type": "markdown",
   "metadata": {},
   "source": [
    "### 2. (2 points) <font color=blue> Score: 2/2 </font>\n",
    "In the Kyle model, if the characteristic uninformed demand $\\sigma_u$ increases by some factor $\\theta$, what happens to the optimal informed trader demand $y_i$?"
   ]
  },
  {
   "cell_type": "markdown",
   "metadata": {},
   "source": [
    "### 2 Solution\n",
    "Since we have \n",
    "$$y_i^{optimal} = \\frac {\\phi x -\\phi \\mu} { 2\\lambda}$$\n",
    "$$\\lambda=\\frac {\\sigma_{\\tilde S}} {2\\sigma_u} \\sqrt{\\phi}$$\n",
    "\n",
    "Then \n",
    "$$y_i^{optimal} = \\frac {\\phi\\sigma_u(x-\\mu)} {\\sigma_{\\tilde S}\\sqrt{\\phi}} = \\frac {\\sqrt{\\phi}\\sigma_u(x-\\mu)} {\\sigma_{\\tilde S}} $$\n",
    "\n",
    "It clearly indicates that if the characteristic uninformed demand $\\sigma_u$ increase by some factor $\\theta$, $y_i^{optimal}$ increases by the same factor.\n",
    "\n",
    "<br>\n",
    "<font color=blue> What's $\\phi$ here? "
   ]
  },
  {
   "cell_type": "markdown",
   "metadata": {},
   "source": [
    "### 3. (6 points) <font color=blue> Score: 6/6 </font>\n",
    "\n",
    "As in Exercise 7.3 of Hasbrouck (but with different notation), suppose that a broker $\\mathcal P$ spots an insider and decides to submit his own piggyback orders.  Specifically, if $\\mathcal I$ submits demand $y_i$, $\\mathcal P$ submits demand $\\gamma\\,y_i$ with $\\gamma>0$.\n",
    "\n",
    "(a) Assuming that $\\mathcal I$ can detect how much piggyback order flow there is, deduce that the equilibrium Kyle lambda is unchanged from the original case where there are no piggyback orders.\n",
    "\n",
    "(b) Derive expressions for $\\mathcal I$'s optimal demand $y_i$ and his expected P&L.\n",
    "\n",
    "(c) Explain to a non-expert what happens to your trade capacity and your profitability if someone is piggybacking on your trades.\n"
   ]
  },
  {
   "cell_type": "markdown",
   "metadata": {},
   "source": [
    "### 3 solution\n",
    "### (a)\n",
    "The market maker $\\mathcal M$ cannot distinguish piggyback order from informed order, therefore, the equilibrium Kyle $\\lambda$ will not change. It's still $\\lambda = \\frac{b\\sigma^2}{\\sigma_u^2+b^2\\sigma^2}$.\n",
    "\n",
    "### (b)\n",
    "Follow the same process for problem 1, we have that\n",
    "$$\n",
    "\\begin{eqnarray}\n",
    "    \\mathbb E(y_i(\\tilde S -p(y)) | \\tilde S) &=& \\mathbb E(y_i(\\tilde S - ( \\mu + \\lambda y)) | \\tilde S)) \\\\\n",
    "    &=& \\mathbb E(y_i(\\tilde S - ( \\mu + \\lambda(y_i + y_p))) | \\tilde S))\\\\\n",
    "    &=& \\mathbb E(y_i(\\tilde S - ( \\mu + \\lambda(y_i+\\gamma y_i)) | \\tilde S))\\\\\n",
    "    &=& \\mathbb E(y_i(\\tilde S - ( \\mu + \\lambda(1+\\gamma)y_i)) | \\tilde S))\\\\\n",
    "    &=& \\tilde S y_i - \\mu y_i - \\lambda(1+\\gamma)y_i^2\n",
    "\\end{eqnarray}\n",
    "$$\n",
    "\n",
    "Take the derivative according to $y_i$, we get the optimal demand is\n",
    "$$\n",
    "\\begin{eqnarray}\n",
    "    y_i^{optimal} &=& \\frac {\\tilde S - \\mu} {2\\lambda(1+\\gamma)} &=& \\frac {(\\tilde S - \\mu) \\sigma_u} {(1+ \\gamma)\\sigma}\n",
    "\\end{eqnarray}\n",
    "$$\n",
    "\n",
    "Then the expected P&L is \n",
    "$$\n",
    "\\begin{eqnarray}\n",
    "    \\mathbb E(y_i(\\tilde S -p) | \\tilde S) &=& \\tilde S y_i - \\mu y_i - \\lambda(1+\\gamma)y_i^2 &=& \\frac {\\sigma_u(\\tilde S - \\mu)^2} {2\\sigma(1+\\gamma)}\n",
    "\\end{eqnarray}\n",
    "$$\n",
    "\n",
    "### (c)\n",
    "If someone is piggybacking your trades, your trade capacity and profitability will decrease by the factor of $1+\\gamma$. More piggybacking, less expected profit. Intuitionally, if someone else piggybacks your trade, then he will behavor like a informed trader, you will have to share the profit with him because he is using exactly the same strategy as yours. If every trader has the same information, there will have no trade at all, and the liquidity will decrease dramatically. As a result, the profit will also disappear."
   ]
  },
  {
   "cell_type": "code",
   "execution_count": null,
   "metadata": {
    "collapsed": true
   },
   "outputs": [],
   "source": []
  }
 ],
 "metadata": {
  "celltoolbar": "Slideshow",
  "kernelspec": {
   "display_name": "R",
   "language": "R",
   "name": "ir"
  },
  "language_info": {
   "codemirror_mode": "r",
   "file_extension": ".r",
   "mimetype": "text/x-r-source",
   "name": "R",
   "pygments_lexer": "r",
   "version": "3.3.2"
  }
 },
 "nbformat": 4,
 "nbformat_minor": 0
}
