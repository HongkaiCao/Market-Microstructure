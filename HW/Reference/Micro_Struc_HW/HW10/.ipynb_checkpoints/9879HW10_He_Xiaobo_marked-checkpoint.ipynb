{
 "cells": [
  {
   "cell_type": "markdown",
   "metadata": {},
   "source": [
    "# Xiaobo He <font color='blue'> Score: 24/24 </font>\n",
    "\n",
    "#### <font color='blue'> Please see the corresponding cells for comments (in blue) on each individual question, if there's any. </font>"
   ]
  },
  {
   "cell_type": "markdown",
   "metadata": {},
   "source": [
    "# MTH9879 Homework 10\n",
    "\n",
    "Assigned: April 19, 2016.\n",
    "Due: May 3, 2016 by 6pm. \n",
    "\n",
    "Late homework **will not be accepted**.\n",
    "\n",
    "$$\n",
    "\\newcommand{\\supp}{\\mathrm{supp}}\n",
    "\\newcommand{\\E}{\\mathbb{E}}\n",
    "\\newcommand{\\Eof}[1]{\\mathbb{E}\\left[ #1 \\right]}\n",
    "\\def\\Cov{{ \\mbox{Cov} }}\n",
    "\\def\\Var{{ \\mbox{Var} }}\n",
    "\\newcommand{\\1}{\\mathbf{1} }\n",
    "\\newcommand{\\PP}{\\mathbb{P} }\n",
    "%\\newcommand{\\Pr}{\\mathrm{Pr} }\n",
    "\\newcommand{\\QQ}{\\mathbb{Q} }\n",
    "\\newcommand{\\RR}{\\mathbb{R} }\n",
    "\\newcommand{\\DD}{\\mathbb{D} }\n",
    "\\newcommand{\\HH}{\\mathbb{H} }\n",
    "\\newcommand{\\spn}{\\mathrm{span} }\n",
    "\\newcommand{\\cov}{\\mathrm{cov} }\n",
    "\\newcommand{\\sgn}{\\mathrm{sgn} }\n",
    "\\newcommand{\\HS}{\\mathcal{L}_{\\mathrm{HS}} }\n",
    "%\\newcommand{\\HS}{\\mathrm{HS} }\n",
    "\\newcommand{\\trace}{\\mathrm{trace} }\n",
    "\\newcommand{\\LL}{\\mathcal{L} }\n",
    "%\\newcommand{\\LL}{\\mathrm{L} }\n",
    "\\newcommand{\\s}{\\mathcal{S} }\n",
    "\\newcommand{\\ee}{\\mathcal{E} }\n",
    "\\newcommand{\\ff}{\\mathcal{F} }\n",
    "\\newcommand{\\hh}{\\mathcal{H} }\n",
    "\\newcommand{\\bb}{\\mathcal{B} }\n",
    "\\newcommand{\\dd}{\\mathcal{D} }\n",
    "\\newcommand{\\g}{\\mathcal{G} }\n",
    "\\newcommand{\\p}{\\partial}\n",
    "\\newcommand{\\half}{\\frac{1}{2} }\n",
    "\\newcommand{\\T}{\\mathcal{T} }\n",
    "\\newcommand{\\bi}{\\begin{itemize}}\n",
    "\\newcommand{\\ei}{\\end{itemize}}\n",
    "\\newcommand{\\beq}{\\begin{equation}}\n",
    "\\newcommand{\\eeq}{\\end{equation}}\n",
    "\\newcommand{\\beas}{\\begin{eqnarray*}}\n",
    "\\newcommand{\\eeas}{\\end{eqnarray*}}\n",
    "\\newcommand{\\cO}{\\mathcal{O}}\n",
    "\\newcommand{\\cC}{\\mathcal{C}}\n",
    "\\newcommand{\\cF}{\\mathcal{F}}\n",
    "\\newcommand{\\cL}{\\mathcal{L}}\n",
    "\\newcommand{\\BS}{\\text{BS}}\n",
    "$$"
   ]
  },
  {
   "cell_type": "markdown",
   "metadata": {},
   "source": [
    "<font color = \"red\">Homework is to be done by each student individually.  To receive full credit, you must email a completed copy of this iPython notebook to Tai-Ho Wang (tai-ho.wang@baruch.cuny.edu) and Jim Gatheral (jim.gatheral@baruch.cuny.edu) by the due date and time.  All R-code must run correctly and solutions must be written up neatly in Markdown/LaTeX format.\n",
    "\n",
    "<font color=\"blue\">If you encounter problems with Markdown/LaTeX or iPython notebook, please contact Yuxi Liu, who has kindly offered to help.\n"
   ]
  },
  {
   "cell_type": "markdown",
   "metadata": {},
   "source": [
    "## Numerical solution of Fredholm equation"
   ]
  },
  {
   "cell_type": "markdown",
   "metadata": {},
   "source": [
    "### 1. (12 points) <font color=blue> Score: 12/12 </font>\n",
    "Consider the Fredholm equation (7) in Lecture 10:\n",
    "\n",
    "$$\n",
    "\\int_0^T{G}(|t-s|)\\,dx_s =\\text{const.}\\qquad\\text{for all $t\\in [0,T]$.}\n",
    "$$\n",
    "\n",
    "Define $t_i:={i}\\frac T{N}$. One way to discretize this integral equation is as follows:\n",
    "\n",
    "$$\n",
    "\\sum_{j=1}^N G_{ij}\\,v_j=\\text{const.}\n",
    "$$\n",
    "\n",
    "where $v_j=x_{t_{j}}-x_{t_{j-1}}$ and\n",
    "\n",
    "<a name=\"eq:1\"></a>(1)\n",
    "$$\n",
    "G_{ij}=\n",
    "\\int_{t_{i-1}}^{t_i}\\,\\int_{t_{j-1}}^{t_j}\\,G(|t-s|)\\,ds\\,dt.\n",
    "$$\n",
    "\n",
    "(a) Derive an explicit expression for the $G_{ij}$ in the case\n",
    "$$\n",
    "G(\\tau)=\\frac {1}{(1+\\tau)^2}.\n",
    "$$\n",
    "You will need to compute separate expressions for the cases $i \\neq j$ and $i=j$.\n",
    "\n",
    "(b) With $N=512$, use matrix algebra to solve equation [(1)](#eq:1) numerically with this decay kernel.\n",
    "\n",
    "(c) Plot your results - you should end up with something like Figure 2 of Lecture 10.\n",
    "\n"
   ]
  },
  {
   "cell_type": "markdown",
   "metadata": {},
   "source": [
    "### 1 Solution:"
   ]
  },
  {
   "cell_type": "markdown",
   "metadata": {},
   "source": [
    "### (a)\n",
    "If $i = j$, \n",
    "$$\n",
    "\\begin{eqnarray}\n",
    "\\int_{t_{i-1}}^{t_i} \\int_{t_{j-1}}^{t_j} G(|t-s|)dsdt \n",
    "&=& \\int_{t_{i-1}}^{t_i} \\int_{t_{i-1}}^{t_i} ( \\frac {1} {(1+t-s)^2} + \\frac {1} {(1+s-t)^2} ) ds dt \\\\\n",
    "&=& \\int_{t_{i-1}}^{t_i} (1-\\frac{1}{1+t-s} + 1 - \\frac{1}{1+s-t}) |_{t_{j-1}}^{t_j}  dt \\\\\n",
    "&=& \\int_{t_{i-1}}^{t_i} (2-\\frac{1} {1 + t - t_{i-1}} - \\frac{1} {1 + t_i - t} ) dt \\\\\n",
    "&=& 2(t_i-t_{i-1}) - 2\\ln(1 + t_i -t_{i - 1}) \\\\\n",
    "&=& 2 [\\frac{T}{N}-\\ln(1+\\frac{T}{N})]\n",
    "\\end{eqnarray}\n",
    "$$\n",
    "\n",
    "If $ i>j $,\n",
    "$$\n",
    "\\begin{eqnarray}\n",
    "\\int_{t_{i-1}}^{t_i} \\int_{t_{j-1}}^{t_j} G(|t-s|)ds dt \n",
    "&=& \\int_{t_{i-1}}^{t_i} \\int_{t_{j-1}}^{t_j} \\frac{1}{(1+t-s)^2} ds dt \\\\\n",
    "&=& \\int_{t_{i-1}}^{t_i} \\frac {1} {1+t-s}  |_{t_{j-1}}^{t_j}   dt \\\\\n",
    "&=& \\int_{t_{i-1}}^{t_i} \\frac {1} {1+t-t_j} - \\frac {1} {1+t-t_{j-1}} dt \\\\\n",
    "&=& \\ln(1+t-t_j) |_{t_{i-1}}^{t_i} + \\ln(1+t-t_{j-1})|_{t_{i-1}}^{t_i} \\\\\n",
    "&=& \\ln(1+t_i-t_j) - \\ln(1+t_{i-1}-t_j) + \\ln(1 + t_{i-1} - t_{j-1}) - \\ln(1 + t_i - t_{j-1}) \\\\\n",
    "&=&\\ln\\frac{[1+(i-j)\\frac{T}{N}]^2}{[1+(i-j-1)\\frac{T}{N}][1+(i-j+1)\\frac{T}{N}]}\n",
    "\\end{eqnarray}\n",
    "$$\n",
    "\n",
    "Similarly if $ i<j $,\n",
    "$$\n",
    "\\begin{eqnarray}\n",
    "\\int_{t_{i-1}}^{t_i} \\int_{t_{j-1}}^{t_j} G(|t-s|)ds dt \n",
    "&=& \\int_{t_{i-1}}^{t_i} \\int_{t_{j-1}}^{t_j} \\frac{1} {(1+s-t)^2}ds dt \\\\\n",
    "&=& -\\int_{t_{i-1}}^{t_i} \\frac {1} {1+s-t} |_{t_{j-1}}^{t_j} dt \\\\\n",
    "&=& \\int_{t_{i-1}}^{t_i} \\frac {1} {1+t_{j-1}-t} - \\frac {1} {1+t_j-t}  dt \\\\\n",
    "&=& -\\ln(1+t_{j-1}-t)|_{t_{i-1}}^{t_i} + \\ln(1+t_j-t) |_{t_{i-1}}^{t_i} \\\\\n",
    "&=& \\ln(1 + t_j - t_i)-\\ln(1 + t_j - t_{i-1}) + \\ln(1 + t_{j-1} - t_{i-1})-\\ln(1 + t_{j-1} - t_i) \\\\\n",
    "&=&\\ln\\frac{[1+(j-i)\\frac{T}{N}]^2}{[1+(j-i-1)\\frac{T}{N}][1+(j-i+1)\\frac{T}{N}]}\n",
    "\\end{eqnarray}\n",
    "$$"
   ]
  },
  {
   "cell_type": "code",
   "execution_count": 1,
   "metadata": {
    "collapsed": false
   },
   "outputs": [
    {
     "data": {
      "text/html": [
       "<table>\n",
       "<tbody>\n",
       "\t<tr><td>13.8249</td></tr>\n",
       "\t<tr><td>-3.633899</td></tr>\n",
       "\t<tr><td>1.044032</td></tr>\n",
       "\t<tr><td>-0.2095416</td></tr>\n",
       "\t<tr><td>0.1262268</td></tr>\n",
       "\t<tr><td>0.03613198</td></tr>\n",
       "</tbody>\n",
       "</table>\n"
      ],
      "text/latex": [
       "\\begin{tabular}{l}\n",
       "\t 13.8249\\\\\n",
       "\t -3.633899\\\\\n",
       "\t 1.044032\\\\\n",
       "\t -0.2095416\\\\\n",
       "\t 0.1262268\\\\\n",
       "\t 0.03613198\\\\\n",
       "\\end{tabular}\n"
      ],
      "text/markdown": [
       "1. 13.8249004590386\n",
       "2. -3.63389927134798\n",
       "3. 1.04403234321828\n",
       "4. -0.209541640796606\n",
       "5. 0.126226825060234\n",
       "6. 0.0361319802416464\n",
       "\n",
       "\n"
      ],
      "text/plain": [
       "            [,1]\n",
       "[1,] 13.82490046\n",
       "[2,] -3.63389927\n",
       "[3,]  1.04403234\n",
       "[4,] -0.20954164\n",
       "[5,]  0.12622683\n",
       "[6,]  0.03613198"
      ]
     },
     "execution_count": 1,
     "metadata": {},
     "output_type": "execute_result"
    }
   ],
   "source": [
    "#(b) solve equation\n",
    "\n",
    "N <- 512\n",
    "T <- 1\n",
    "\n",
    "solve_G <- function (N, T, G){\n",
    "    for(i in 1 : N)\n",
    "        for(j in 1 : N) {\n",
    "            if(i == j) { G[i,j] <- 2 * T / N - 2 * log(1 + T / N); }    \n",
    "            else if(j > i) { G[i,j] <- 2 * log(1 + (j - i) * T / N) - log(1 + (j - i + 1) * T / N) - log(1 + (j - i - 1) * T / N);  }\n",
    "            else { G[i,j] <- 2 * log(1 + (i - j) * T / N) - log(1 + (i - j + 1) * T / N) - log(1 + (i - j - 1) * T / N);}\n",
    "        }\n",
    "return(solve(G) %*% rep(1/10000, N) )\n",
    "}\n",
    "\n",
    "        \n",
    "#(c) plot the result\n",
    "\n",
    "G <- matrix(0, nrow=N, ncol=N)\n",
    "v <- solve_G(N,T,G)\n",
    "head(v)"
   ]
  },
  {
   "cell_type": "code",
   "execution_count": 2,
   "metadata": {
    "collapsed": false
   },
   "outputs": [
    {
     "data": {
      "image/png": "[encoded data removed]",
      "image/svg+xml": [
       "<?xml version=\"1.0\" encoding=\"UTF-8\"?>\n",
       "<svg xmlns=\"http://www.w3.org/2000/svg\" xmlns:xlink=\"http://www.w3.org/1999/xlink\" width=\"504pt\" height=\"504pt\" viewBox=\"0 0 504 504\" version=\"1.1\">\n",
       "<defs>\n",
       "<g>\n",
       "<symbol overflow=\"visible\" id=\"glyph0-0\">\n",
       "<path style=\"stroke:none;\" d=\"\"/>\n",
       "</symbol>\n",
       "<symbol overflow=\"visible\" id=\"glyph0-1\">\n",
       "<path style=\"stroke:none;\" d=\"M 6.078125 -4.09375 C 6.078125 -7.046875 5.140625 -8.515625 3.296875 -8.515625 C 1.46875 -8.515625 0.515625 -7.015625 0.515625 -4.15625 C 0.515625 -1.296875 1.46875 0.1875 3.296875 0.1875 C 5.09375 0.1875 6.078125 -1.296875 6.078125 -4.09375 Z M 5 -4.1875 C 5 -1.78125 4.453125 -0.703125 3.28125 -0.703125 C 2.15625 -0.703125 1.59375 -1.828125 1.59375 -4.15625 C 1.59375 -6.484375 2.15625 -7.578125 3.296875 -7.578125 C 4.4375 -7.578125 5 -6.46875 5 -4.1875 Z \"/>\n",
       "</symbol>\n",
       "<symbol overflow=\"visible\" id=\"glyph0-2\">\n",
       "<path style=\"stroke:none;\" d=\"M 2.296875 0 L 2.296875 -1.25 L 1.046875 -1.25 L 1.046875 0 Z \"/>\n",
       "</symbol>\n",
       "<symbol overflow=\"visible\" id=\"glyph0-3\">\n",
       "<path style=\"stroke:none;\" d=\"M 6.125 -6.015625 C 6.125 -7.453125 5.015625 -8.515625 3.40625 -8.515625 C 1.671875 -8.515625 0.65625 -7.625 0.59375 -5.5625 L 1.65625 -5.5625 C 1.734375 -6.984375 2.328125 -7.578125 3.375 -7.578125 C 4.328125 -7.578125 5.046875 -6.90625 5.046875 -5.984375 C 5.046875 -5.3125 4.65625 -4.734375 3.90625 -4.3125 L 2.796875 -3.6875 C 1.015625 -2.671875 0.5 -1.875 0.40625 0 L 6.078125 0 L 6.078125 -1.046875 L 1.59375 -1.046875 C 1.703125 -1.734375 2.09375 -2.1875 3.125 -2.796875 L 4.328125 -3.4375 C 5.515625 -4.078125 6.125 -4.96875 6.125 -6.015625 Z \"/>\n",
       "</symbol>\n",
       "<symbol overflow=\"visible\" id=\"glyph0-4\">\n",
       "<path style=\"stroke:none;\" d=\"M 6.234375 -2.046875 L 6.234375 -2.984375 L 4.984375 -2.984375 L 4.984375 -8.515625 L 4.203125 -8.515625 L 0.34375 -3.15625 L 0.34375 -2.046875 L 3.921875 -2.046875 L 3.921875 0 L 4.984375 0 L 4.984375 -2.046875 Z M 3.921875 -2.984375 L 1.265625 -2.984375 L 3.921875 -6.703125 Z \"/>\n",
       "</symbol>\n",
       "<symbol overflow=\"visible\" id=\"glyph0-5\">\n",
       "<path style=\"stroke:none;\" d=\"M 6.15625 -2.640625 C 6.15625 -4.21875 5.078125 -5.296875 3.546875 -5.296875 C 2.71875 -5.296875 2.046875 -4.96875 1.59375 -4.34375 C 1.609375 -6.421875 2.28125 -7.578125 3.484375 -7.578125 C 4.234375 -7.578125 4.75 -7.109375 4.921875 -6.28125 L 5.96875 -6.28125 C 5.765625 -7.6875 4.859375 -8.515625 3.5625 -8.515625 C 1.578125 -8.515625 0.515625 -6.84375 0.515625 -3.875 C 0.515625 -1.21875 1.421875 0.1875 3.375 0.1875 C 4.984375 0.1875 6.15625 -0.96875 6.15625 -2.640625 Z M 5.078125 -2.5625 C 5.078125 -1.484375 4.359375 -0.75 3.390625 -0.75 C 2.40625 -0.75 1.65625 -1.53125 1.65625 -2.609375 C 1.65625 -3.671875 2.375 -4.359375 3.421875 -4.359375 C 4.4375 -4.359375 5.078125 -3.703125 5.078125 -2.5625 Z \"/>\n",
       "</symbol>\n",
       "<symbol overflow=\"visible\" id=\"glyph0-6\">\n",
       "<path style=\"stroke:none;\" d=\"M 6.15625 -2.40625 C 6.15625 -3.34375 5.671875 -4.015625 4.6875 -4.46875 C 5.5625 -5 5.859375 -5.4375 5.859375 -6.234375 C 5.859375 -7.578125 4.8125 -8.515625 3.296875 -8.515625 C 1.796875 -8.515625 0.75 -7.578125 0.75 -6.234375 C 0.75 -5.453125 1.03125 -5.015625 1.890625 -4.46875 C 0.921875 -4.015625 0.4375 -3.34375 0.4375 -2.40625 C 0.4375 -0.859375 1.625 0.1875 3.296875 0.1875 C 4.984375 0.1875 6.15625 -0.859375 6.15625 -2.40625 Z M 4.78125 -6.21875 C 4.78125 -5.421875 4.1875 -4.890625 3.296875 -4.890625 C 2.40625 -4.890625 1.828125 -5.421875 1.828125 -6.234375 C 1.828125 -7.046875 2.40625 -7.578125 3.296875 -7.578125 C 4.203125 -7.578125 4.78125 -7.046875 4.78125 -6.21875 Z M 5.078125 -2.390625 C 5.078125 -1.375 4.359375 -0.75 3.28125 -0.75 C 2.25 -0.75 1.53125 -1.390625 1.53125 -2.390625 C 1.53125 -3.390625 2.25 -4.015625 3.296875 -4.015625 C 4.359375 -4.015625 5.078125 -3.390625 5.078125 -2.390625 Z \"/>\n",
       "</symbol>\n",
       "<symbol overflow=\"visible\" id=\"glyph0-7\">\n",
       "<path style=\"stroke:none;\" d=\"M 4.15625 0 L 4.15625 -8.515625 L 3.46875 -8.515625 C 3.09375 -7.203125 2.859375 -7.015625 1.21875 -6.8125 L 1.21875 -6.0625 L 3.109375 -6.0625 L 3.109375 0 Z \"/>\n",
       "</symbol>\n",
       "<symbol overflow=\"visible\" id=\"glyph0-8\">\n",
       "<path style=\"stroke:none;\" d=\"M 3.046875 0 L 3.046875 -0.84375 C 2.921875 -0.796875 2.765625 -0.796875 2.5625 -0.796875 C 2.140625 -0.796875 2.015625 -0.90625 2.015625 -1.359375 L 2.015625 -5.46875 L 3.046875 -5.46875 L 3.046875 -6.28125 L 2.015625 -6.28125 L 2.015625 -8.015625 L 1.015625 -8.015625 L 1.015625 -6.28125 L 0.171875 -6.28125 L 0.171875 -5.46875 L 1.015625 -5.46875 L 1.015625 -0.90625 C 1.015625 -0.28125 1.453125 0.078125 2.234375 0.078125 C 2.46875 0.078125 2.71875 0.0625 3.046875 0 Z \"/>\n",
       "</symbol>\n",
       "<symbol overflow=\"visible\" id=\"glyph1-0\">\n",
       "<path style=\"stroke:none;\" d=\"\"/>\n",
       "</symbol>\n",
       "<symbol overflow=\"visible\" id=\"glyph1-1\">\n",
       "<path style=\"stroke:none;\" d=\"M -4.09375 -6.078125 C -7.046875 -6.078125 -8.515625 -5.140625 -8.515625 -3.296875 C -8.515625 -1.46875 -7.015625 -0.515625 -4.15625 -0.515625 C -1.296875 -0.515625 0.1875 -1.46875 0.1875 -3.296875 C 0.1875 -5.09375 -1.296875 -6.078125 -4.09375 -6.078125 Z M -4.1875 -5 C -1.78125 -5 -0.703125 -4.453125 -0.703125 -3.28125 C -0.703125 -2.15625 -1.828125 -1.59375 -4.15625 -1.59375 C -6.484375 -1.59375 -7.578125 -2.15625 -7.578125 -3.296875 C -7.578125 -4.4375 -6.46875 -5 -4.1875 -5 Z \"/>\n",
       "</symbol>\n",
       "<symbol overflow=\"visible\" id=\"glyph1-2\">\n",
       "<path style=\"stroke:none;\" d=\"M -2.8125 -6.15625 C -4.5 -6.15625 -5.609375 -5.046875 -5.609375 -3.40625 C -5.609375 -2.8125 -5.453125 -2.328125 -5.09375 -1.84375 L -7.28125 -2.171875 L -7.28125 -5.71875 L -8.328125 -5.71875 L -8.328125 -1.3125 L -3.875 -0.6875 L -3.875 -1.65625 C -4.46875 -2.140625 -4.671875 -2.5625 -4.671875 -3.21875 C -4.671875 -4.359375 -3.9375 -5.078125 -2.671875 -5.078125 C -1.453125 -5.078125 -0.75 -4.375 -0.75 -3.21875 C -0.75 -2.296875 -1.21875 -1.734375 -2.1875 -1.46875 L -2.1875 -0.421875 C -0.484375 -0.765625 0.1875 -1.734375 0.1875 -3.234375 C 0.1875 -4.953125 -1.015625 -6.15625 -2.8125 -6.15625 Z \"/>\n",
       "</symbol>\n",
       "<symbol overflow=\"visible\" id=\"glyph1-3\">\n",
       "<path style=\"stroke:none;\" d=\"M 0 -4.15625 L -8.515625 -4.15625 L -8.515625 -3.46875 C -7.203125 -3.09375 -7.015625 -2.859375 -6.8125 -1.21875 L -6.0625 -1.21875 L -6.0625 -3.109375 L 0 -3.109375 Z \"/>\n",
       "</symbol>\n",
       "<symbol overflow=\"visible\" id=\"glyph1-4\">\n",
       "<path style=\"stroke:none;\" d=\"M -6.28125 -5.828125 L -6.28125 -4.703125 L -1.1875 -2.921875 L -6.28125 -1.25 L -6.28125 -0.125 L 0 -2.328125 L 0 -3.421875 Z \"/>\n",
       "</symbol>\n",
       "</g>\n",
       "</defs>\n",
       "<g id=\"surface25\">\n",
       "<rect x=\"0\" y=\"0\" width=\"504\" height=\"504\" style=\"fill:rgb(100%,100%,100%);fill-opacity:1;stroke:none;\"/>\n",
       "<path style=\"fill:none;stroke-width:0.75;stroke-linecap:round;stroke-linejoin:round;stroke:rgb(0%,0%,100%);stroke-opacity:1;stroke-miterlimit:10;\" d=\"M 74.398438 72.800781 L 75.152344 416.800781 L 75.902344 324.628906 L 76.65625 349.328125 L 77.40625 342.710938 L 78.15625 344.488281 L 78.910156 344.015625 L 79.660156 344.144531 L 80.410156 344.109375 L 81.164062 344.121094 L 81.914062 344.121094 L 82.667969 344.125 L 83.417969 344.125 L 84.167969 344.128906 L 84.921875 344.128906 L 85.671875 344.132812 L 87.175781 344.132812 L 87.925781 344.136719 L 88.679688 344.136719 L 89.429688 344.140625 L 90.179688 344.140625 L 90.933594 344.144531 L 92.433594 344.144531 L 93.1875 344.148438 L 93.9375 344.148438 L 94.691406 344.152344 L 96.191406 344.152344 L 96.945312 344.15625 L 97.695312 344.15625 L 98.445312 344.160156 L 99.949219 344.160156 L 100.703125 344.164062 L 102.203125 344.164062 L 102.957031 344.167969 L 104.457031 344.167969 L 105.210938 344.171875 L 105.960938 344.171875 L 106.714844 344.175781 L 108.214844 344.175781 L 108.96875 344.179688 L 110.46875 344.179688 L 111.222656 344.183594 L 113.476562 344.183594 L 114.226562 344.1875 L 115.730469 344.1875 L 116.480469 344.191406 L 117.984375 344.191406 L 118.738281 344.195312 L 120.992188 344.195312 L 121.742188 344.199219 L 123.246094 344.199219 L 123.996094 344.203125 L 126.25 344.203125 L 127.003906 344.207031 L 129.257812 344.207031 L 130.007812 344.210938 L 132.261719 344.210938 L 133.015625 344.214844 L 135.269531 344.214844 L 136.019531 344.21875 L 138.273438 344.21875 L 139.027344 344.222656 L 142.03125 344.222656 L 142.785156 344.226562 L 145.039062 344.226562 L 145.789062 344.230469 L 148.796875 344.230469 L 149.546875 344.234375 L 153.304688 344.234375 L 154.054688 344.238281 L 157.0625 344.238281 L 157.8125 344.242188 L 161.570312 344.242188 L 162.320312 344.246094 L 166.078125 344.246094 L 166.832031 344.25 L 170.585938 344.25 L 171.339844 344.253906 L 175.847656 344.253906 L 176.597656 344.257812 L 181.859375 344.257812 L 182.613281 344.261719 L 187.871094 344.261719 L 188.625 344.265625 L 195.386719 344.265625 L 196.136719 344.269531 L 202.902344 344.269531 L 203.652344 344.273438 L 211.917969 344.273438 L 212.671875 344.277344 L 223.191406 344.277344 L 223.941406 344.28125 L 239.722656 344.28125 L 240.472656 344.285156 L 292.324219 344.285156 L 293.078125 344.28125 L 308.859375 344.28125 L 309.609375 344.277344 L 320.128906 344.277344 L 320.882812 344.273438 L 329.148438 344.273438 L 329.898438 344.269531 L 336.664062 344.269531 L 337.414062 344.265625 L 344.175781 344.265625 L 344.929688 344.261719 L 350.1875 344.261719 L 350.941406 344.257812 L 356.199219 344.257812 L 356.953125 344.253906 L 361.460938 344.253906 L 362.210938 344.25 L 365.96875 344.25 L 366.722656 344.246094 L 370.476562 344.246094 L 371.230469 344.242188 L 374.988281 344.242188 L 375.738281 344.238281 L 378.746094 344.238281 L 379.496094 344.234375 L 383.253906 344.234375 L 384.003906 344.230469 L 387.011719 344.230469 L 387.761719 344.226562 L 390.015625 344.226562 L 390.769531 344.222656 L 393.773438 344.222656 L 394.523438 344.21875 L 396.78125 344.21875 L 397.53125 344.214844 L 399.785156 344.214844 L 400.535156 344.210938 L 402.792969 344.210938 L 403.542969 344.207031 L 405.796875 344.207031 L 406.546875 344.203125 L 408.804688 344.203125 L 409.554688 344.199219 L 411.058594 344.199219 L 411.808594 344.195312 L 414.0625 344.195312 L 414.816406 344.191406 L 416.316406 344.191406 L 417.070312 344.1875 L 418.570312 344.1875 L 419.324219 344.183594 L 421.578125 344.183594 L 422.328125 344.179688 L 423.832031 344.179688 L 424.582031 344.175781 L 426.085938 344.175781 L 426.839844 344.171875 L 427.589844 344.171875 L 428.339844 344.167969 L 429.84375 344.167969 L 430.59375 344.164062 L 432.097656 344.164062 L 432.851562 344.160156 L 434.351562 344.160156 L 435.105469 344.15625 L 435.855469 344.15625 L 436.609375 344.152344 L 438.109375 344.152344 L 438.863281 344.148438 L 439.613281 344.148438 L 440.363281 344.144531 L 441.867188 344.144531 L 442.621094 344.140625 L 443.371094 344.140625 L 444.121094 344.136719 L 444.875 344.136719 L 445.625 344.132812 L 447.128906 344.132812 L 447.878906 344.128906 L 448.632812 344.128906 L 449.382812 344.125 L 450.132812 344.125 L 450.886719 344.121094 L 451.636719 344.121094 L 452.386719 344.109375 L 453.140625 344.144531 L 453.890625 344.015625 L 454.644531 344.488281 L 455.394531 342.710938 L 456.144531 349.328125 L 456.898438 324.628906 L 457.648438 416.800781 L 458.398438 72.800781 \"/>\n",
       "<path style=\"fill:none;stroke-width:0.75;stroke-linecap:round;stroke-linejoin:round;stroke:rgb(0%,0%,0%);stroke-opacity:1;stroke-miterlimit:10;\" d=\"M 73.648438 430.558594 L 458.398438 430.558594 \"/>\n",
       "<path style=\"fill:none;stroke-width:0.75;stroke-linecap:round;stroke-linejoin:round;stroke:rgb(0%,0%,0%);stroke-opacity:1;stroke-miterlimit:10;\" d=\"M 73.648438 430.558594 L 73.648438 437.761719 \"/>\n",
       "<path style=\"fill:none;stroke-width:0.75;stroke-linecap:round;stroke-linejoin:round;stroke:rgb(0%,0%,0%);stroke-opacity:1;stroke-miterlimit:10;\" d=\"M 150.597656 430.558594 L 150.597656 437.761719 \"/>\n",
       "<path style=\"fill:none;stroke-width:0.75;stroke-linecap:round;stroke-linejoin:round;stroke:rgb(0%,0%,0%);stroke-opacity:1;stroke-miterlimit:10;\" d=\"M 227.550781 430.558594 L 227.550781 437.761719 \"/>\n",
       "<path style=\"fill:none;stroke-width:0.75;stroke-linecap:round;stroke-linejoin:round;stroke:rgb(0%,0%,0%);stroke-opacity:1;stroke-miterlimit:10;\" d=\"M 304.5 430.558594 L 304.5 437.761719 \"/>\n",
       "<path style=\"fill:none;stroke-width:0.75;stroke-linecap:round;stroke-linejoin:round;stroke:rgb(0%,0%,0%);stroke-opacity:1;stroke-miterlimit:10;\" d=\"M 381.449219 430.558594 L 381.449219 437.761719 \"/>\n",
       "<path style=\"fill:none;stroke-width:0.75;stroke-linecap:round;stroke-linejoin:round;stroke:rgb(0%,0%,0%);stroke-opacity:1;stroke-miterlimit:10;\" d=\"M 458.398438 430.558594 L 458.398438 437.761719 \"/>\n",
       "<g style=\"fill:rgb(0%,0%,0%);fill-opacity:1;\">\n",
       "  <use xlink:href=\"#glyph0-1\" x=\"65.148438\" y=\"456.256836\"/>\n",
       "  <use xlink:href=\"#glyph0-2\" x=\"71.820312\" y=\"456.256836\"/>\n",
       "  <use xlink:href=\"#glyph0-1\" x=\"75.15625\" y=\"456.256836\"/>\n",
       "</g>\n",
       "<g style=\"fill:rgb(0%,0%,0%);fill-opacity:1;\">\n",
       "  <use xlink:href=\"#glyph0-1\" x=\"142.097656\" y=\"456.256836\"/>\n",
       "  <use xlink:href=\"#glyph0-2\" x=\"148.769531\" y=\"456.256836\"/>\n",
       "  <use xlink:href=\"#glyph0-3\" x=\"152.105469\" y=\"456.256836\"/>\n",
       "</g>\n",
       "<g style=\"fill:rgb(0%,0%,0%);fill-opacity:1;\">\n",
       "  <use xlink:href=\"#glyph0-1\" x=\"219.050781\" y=\"456.256836\"/>\n",
       "  <use xlink:href=\"#glyph0-2\" x=\"225.722656\" y=\"456.256836\"/>\n",
       "  <use xlink:href=\"#glyph0-4\" x=\"229.058594\" y=\"456.256836\"/>\n",
       "</g>\n",
       "<g style=\"fill:rgb(0%,0%,0%);fill-opacity:1;\">\n",
       "  <use xlink:href=\"#glyph0-1\" x=\"296\" y=\"456.256836\"/>\n",
       "  <use xlink:href=\"#glyph0-2\" x=\"302.671875\" y=\"456.256836\"/>\n",
       "  <use xlink:href=\"#glyph0-5\" x=\"306.007812\" y=\"456.256836\"/>\n",
       "</g>\n",
       "<g style=\"fill:rgb(0%,0%,0%);fill-opacity:1;\">\n",
       "  <use xlink:href=\"#glyph0-1\" x=\"372.949219\" y=\"456.256836\"/>\n",
       "  <use xlink:href=\"#glyph0-2\" x=\"379.621094\" y=\"456.256836\"/>\n",
       "  <use xlink:href=\"#glyph0-6\" x=\"382.957031\" y=\"456.256836\"/>\n",
       "</g>\n",
       "<g style=\"fill:rgb(0%,0%,0%);fill-opacity:1;\">\n",
       "  <use xlink:href=\"#glyph0-7\" x=\"449.898438\" y=\"456.256836\"/>\n",
       "  <use xlink:href=\"#glyph0-2\" x=\"456.570312\" y=\"456.256836\"/>\n",
       "  <use xlink:href=\"#glyph0-1\" x=\"459.90625\" y=\"456.256836\"/>\n",
       "</g>\n",
       "<path style=\"fill:none;stroke-width:0.75;stroke-linecap:round;stroke-linejoin:round;stroke:rgb(0%,0%,0%);stroke-opacity:1;stroke-miterlimit:10;\" d=\"M 59.039062 345.199219 L 59.039062 148.164062 \"/>\n",
       "<path style=\"fill:none;stroke-width:0.75;stroke-linecap:round;stroke-linejoin:round;stroke:rgb(0%,0%,0%);stroke-opacity:1;stroke-miterlimit:10;\" d=\"M 59.039062 345.199219 L 51.839844 345.199219 \"/>\n",
       "<path style=\"fill:none;stroke-width:0.75;stroke-linecap:round;stroke-linejoin:round;stroke:rgb(0%,0%,0%);stroke-opacity:1;stroke-miterlimit:10;\" d=\"M 59.039062 246.683594 L 51.839844 246.683594 \"/>\n",
       "<path style=\"fill:none;stroke-width:0.75;stroke-linecap:round;stroke-linejoin:round;stroke:rgb(0%,0%,0%);stroke-opacity:1;stroke-miterlimit:10;\" d=\"M 59.039062 148.164062 L 51.839844 148.164062 \"/>\n",
       "<g style=\"fill:rgb(0%,0%,0%);fill-opacity:1;\">\n",
       "  <use xlink:href=\"#glyph1-1\" x=\"41.538086\" y=\"348.699219\"/>\n",
       "</g>\n",
       "<g style=\"fill:rgb(0%,0%,0%);fill-opacity:1;\">\n",
       "  <use xlink:href=\"#glyph1-2\" x=\"41.538086\" y=\"250.183594\"/>\n",
       "</g>\n",
       "<g style=\"fill:rgb(0%,0%,0%);fill-opacity:1;\">\n",
       "  <use xlink:href=\"#glyph1-3\" x=\"41.538086\" y=\"155.164062\"/>\n",
       "  <use xlink:href=\"#glyph1-1\" x=\"41.538086\" y=\"148.492188\"/>\n",
       "</g>\n",
       "<path style=\"fill:none;stroke-width:0.75;stroke-linecap:round;stroke-linejoin:round;stroke:rgb(0%,0%,0%);stroke-opacity:1;stroke-miterlimit:10;\" d=\"M 59.039062 430.558594 L 473.761719 430.558594 L 473.761719 59.039062 L 59.039062 59.039062 L 59.039062 430.558594 \"/>\n",
       "<g style=\"fill:rgb(0%,0%,0%);fill-opacity:1;\">\n",
       "  <use xlink:href=\"#glyph0-8\" x=\"264.398438\" y=\"484.057617\"/>\n",
       "</g>\n",
       "<g style=\"fill:rgb(0%,0%,0%);fill-opacity:1;\">\n",
       "  <use xlink:href=\"#glyph1-4\" x=\"12.737305\" y=\"247.800781\"/>\n",
       "</g>\n",
       "</g>\n",
       "</svg>\n"
      ],
      "text/plain": [
       "plot without title"
      ]
     },
     "metadata": {
      "image/svg+xml": {
       "isolated": true
      }
     },
     "output_type": "display_data"
    }
   ],
   "source": [
    "plot(seq(T/N,T,by=T/N),v,col=\"blue\",type=\"l\", ylab = expression(\"v\"), xlab = expression(\"t\"))"
   ]
  },
  {
   "cell_type": "markdown",
   "metadata": {},
   "source": [
    "## Optimal interval VWAP strategy in the square-root model"
   ]
  },
  {
   "cell_type": "markdown",
   "metadata": {},
   "source": [
    "### 2. (12 points) <font color=blue> Score: 12/12 </font>\n",
    "\n",
    "Consider equation (11) of Lecture 10 for the cost of liquidation using interval VWAPs:\n",
    "\n",
    "$$\n",
    "\\cC=\\sum_{j=1}^m\\,C_{jj}+\\sum_{i< j}^m\\,C_{ji}.\n",
    "$$\n",
    "\n",
    "(a) With $m=3$ (that is 3 interval VWAP slices), and assuming the square-root process where\n",
    "\n",
    "$$\n",
    "h(v)=\\frac  3 4 \\sigma\\,\\sqrt{\\frac{v}{V}} =\\frac  3 4 \\sigma\\,\\sqrt{\\frac{\\dot x}{V}}, \n",
    "\\quad \\mbox{ and } \\quad\n",
    "G(\\tau)=1/\\sqrt{\\tau},\n",
    "$$\n",
    "\n",
    "compute explicit expressions for the matrix elements $C_{ji}$ in terms of $x_1$, $x_2$, $t_1$, and $t_2$ (noting that $t_0=0$ and $t_3=T$).\n",
    "\n",
    "(b) Minimize the resulting expression for the expected cost of liquidation numerically to find optimal choices of $x_1$ and $x_2$ when $t_1=T/3$, and $t_2=2 \\,T/3$.\n",
    "\n",
    "(c) What is the percentage saving from trading with the 3-slice strategy relative to a VWAP?\n",
    "\n",
    "(d) Explain to your non-mathematical manager why this strategy has lower expected cost."
   ]
  },
  {
   "cell_type": "markdown",
   "metadata": {},
   "source": [
    "### 2 Solution:"
   ]
  },
  {
   "cell_type": "markdown",
   "metadata": {},
   "source": [
    "### (a)\n",
    "When $i=j$, we have that\n",
    "\n",
    "\\begin{equation}\n",
    "C_{ij} = C_{ii}=\\frac{x_i}{t_{i}-t_{i-1}}\\,h(v_i)\\,\\int_{t_{i-1}}^{t_i}\\,dt\\,\\int_{t_{i-1}}^{t}\\,\\frac{1}{\\sqrt{t-s}}\\,ds=\n",
    "\\frac{4}{3}\\,x_i\\,h(v_i)\\,\\sqrt{t_i-t_{i-1}} = \\frac{\\sigma}{\\sqrt{V}} x_i^{3/2}\n",
    "\\end{equation}\n",
    "\n",
    "Therefore,\n",
    "\n",
    "\\begin{eqnarray*}\n",
    "C_{11} &=& \\frac{\\sigma}{\\sqrt{V}} x_1^{3/2} \\\\\n",
    "C_{22} &=& \\frac{\\sigma}{\\sqrt{V}} x_2^{3/2} \\\\\n",
    "C_{33} &=& \\frac{\\sigma}{\\sqrt{V}} x_3^{3/2} \\\\\n",
    "\\end{eqnarray*}\n",
    "\n",
    "When $i>j$,\n",
    "\n",
    "$$\n",
    "\\begin{eqnarray}\n",
    "\\mathbb C_{ji} \n",
    "&=& \\frac{4}{3} \\cdot x_j \\cdot h(v_i) \\cdot \\frac {(t_j-t_{i-1})^{3/2}-(t_j-t_i)^{3/2}-(t_{j-1}-t_{i-1})^{3/2}+(t_{j-1}-t_{i})^{3/2}}{t_j-t_{j-1}} \\\\\n",
    "&=& \\sigma \\cdot x_j \\cdot \\sqrt{\\frac{x_i}{V(t_i-t_{i-1}}} \\cdot \\frac{(t_j-t_{i-1})^{3/2}-(t_j-t_i)^{3/2}-(t_{j-1}-t_{i-1})^{3/2}+(t_{j-1}-t_i)^{3/2}}{t_j-t_{j-1}}\n",
    "\\end{eqnarray}\n",
    "$$\n",
    "\n",
    "Therefore,\n",
    "\n",
    "$$\n",
    "\\begin{eqnarray}\n",
    "\\mathbb C_{21}\n",
    "&=& \\sigma \\cdot x_2 \\cdot \\sqrt{\\frac{3x_1}{VT}} \\cdot \\frac{t_2^{3/2}-(t_2-t_1)^{3/2}-t_1^{3/2}}{t_2-t_1} \\\\\n",
    "\\mathbb C_{31}\n",
    "&=& \\sigma \\cdot x_3 \\cdot \\sqrt{\\frac{3x_1}{VT}} \\cdot \\frac{T^{3/2}-(T-t_1)^{3/2}-t_2^{3/2}+(t_2-t_1)^{3/2}}{t_2-t_1} \\\\\n",
    "\\mathbb C_{32}\n",
    "&=& \\sigma \\cdot x_3 \\cdot \\sqrt{\\frac{3x_2}{VT}} \\cdot \\frac{(T-t_1)^{3/2}-(T-t_2)^{3/2}-(t_2-t_1)^{3/2}}{T-t_2}\n",
    "\\end{eqnarray}\n",
    "$$"
   ]
  },
  {
   "cell_type": "code",
   "execution_count": 1,
   "metadata": {
    "collapsed": false
   },
   "outputs": [
    {
     "name": "stdout",
     "output_type": "stream",
     "text": [
      "The optimal choice of x_1 = 0.6470814 \n",
      "X and the optimal choice of x_2 = 1.532216e-16 \n",
      "The minimum cost is  0.8832821 \n"
     ]
    }
   ],
   "source": [
    "#(b)\n",
    "options(warn = -1)\n",
    "X <- 1000\n",
    "init<- X / 3\n",
    "\n",
    "cost <- function(x) {    \n",
    "    x3 <- X - x[1] - x[2];\n",
    "    c <- x[1] * sqrt(x[1]) + x[2] * sqrt(x[1])*(2 * sqrt(2) - 2) + x3 * sqrt(x[1]) * (3 * sqrt(3) - 4 * sqrt(2) + 1) +\n",
    "        x[2] * sqrt(x[2]) + x3  * sqrt(x[2]) * (2 * sqrt(2) - 2) + x3 * sqrt(x3);\n",
    "    return(c);\n",
    "}\n",
    "\n",
    "x <- c(init,init);\n",
    "res <- optim(x, cost)$par;\n",
    "normalized_res <- res / X;\n",
    "op_cost <- cost(res)\n",
    "VWAP_cost <- X * sqrt(X);\n",
    "min_cost <- op_cost/VWAP_cost\n",
    "\n",
    "cat(\"The optimal choice of x_1 =\", normalized_res[1], \"\\n\")\n",
    "cat(\"X and the optimal choice of x_2 =\", normalized_res[2], \"\\n\")\n",
    "cat(\"The minimum cost is \", min_cost, \"\\n\")"
   ]
  },
  {
   "cell_type": "code",
   "execution_count": 2,
   "metadata": {
    "collapsed": false
   },
   "outputs": [
    {
     "name": "stdout",
     "output_type": "stream",
     "text": [
      "The percentage saving is  11.67179 % \n"
     ]
    }
   ],
   "source": [
    "#(c)\n",
    "saving <- (VWAP_cost  - op_cost) / VWAP_cost * 100\n",
    "cat(\"The percentage saving is \", saving, \"% \\n\")"
   ]
  },
  {
   "cell_type": "markdown",
   "metadata": {},
   "source": [
    "### (d)\n",
    "The effect of earlier excuted orders on market prices are temporary, which will decay away with time. As a result, if we divide a large order into pieces, and excute one after another with time delay, the effect from previously excuted orders getting smaller. Therefore we can save money.  "
   ]
  }
 ],
 "metadata": {
  "celltoolbar": "Slideshow",
  "kernelspec": {
   "display_name": "R",
   "language": "R",
   "name": "ir"
  },
  "language_info": {
   "codemirror_mode": "r",
   "file_extension": ".r",
   "mimetype": "text/x-r-source",
   "name": "R",
   "pygments_lexer": "r",
   "version": "3.2.2"
  }
 },
 "nbformat": 4,
 "nbformat_minor": 0
}
