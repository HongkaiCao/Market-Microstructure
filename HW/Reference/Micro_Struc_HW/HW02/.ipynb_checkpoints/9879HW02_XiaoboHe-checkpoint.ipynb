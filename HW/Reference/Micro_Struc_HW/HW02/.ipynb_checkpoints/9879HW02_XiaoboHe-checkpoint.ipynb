{
 "cells": [
  {
   "cell_type": "markdown",
   "metadata": {},
   "source": [
    "# MTH9879 Homework 2\n",
    "\n",
    "Assigned: February 16, 2016.\n",
    "Due: March 1, 2016 by 6pm. \n",
    "\n",
    "Late homework **will not be accepted**.\n",
    "\n",
    "$$\n",
    "\\newcommand{\\supp}{\\mathrm{supp}}\n",
    "\\newcommand{\\E}{\\mathbb{E} }\n",
    "\\def\\Cov{{ \\mbox{Cov} }}\n",
    "\\def\\Var{{ \\mbox{Var} }}\n",
    "\\newcommand{\\1}{\\mathbf{1} }\n",
    "\\newcommand{\\PP}{\\mathbb{P} }\n",
    "%\\newcommand{\\Pr}{\\mathrm{Pr} }\n",
    "\\newcommand{\\QQ}{\\mathbb{Q} }\n",
    "\\newcommand{\\RR}{\\mathbb{R} }\n",
    "\\newcommand{\\DD}{\\mathbb{D} }\n",
    "\\newcommand{\\HH}{\\mathbb{H} }\n",
    "\\newcommand{\\spn}{\\mathrm{span} }\n",
    "\\newcommand{\\cov}{\\mathrm{cov} }\n",
    "\\newcommand{\\sgn}{\\mathrm{sgn} }\n",
    "\\newcommand{\\HS}{\\mathcal{L}_{\\mathrm{HS}} }\n",
    "%\\newcommand{\\HS}{\\mathrm{HS} }\n",
    "\\newcommand{\\trace}{\\mathrm{trace} }\n",
    "\\newcommand{\\LL}{\\mathcal{L} }\n",
    "%\\newcommand{\\LL}{\\mathrm{L} }\n",
    "\\newcommand{\\s}{\\mathcal{S} }\n",
    "\\newcommand{\\ee}{\\mathcal{E} }\n",
    "\\newcommand{\\ff}{\\mathcal{F} }\n",
    "\\newcommand{\\hh}{\\mathcal{H} }\n",
    "\\newcommand{\\bb}{\\mathcal{B} }\n",
    "\\newcommand{\\dd}{\\mathcal{D} }\n",
    "\\newcommand{\\g}{\\mathcal{G} }\n",
    "\\newcommand{\\p}{\\partial}\n",
    "\\newcommand{\\half}{\\frac{1}{2} }\n",
    "\\newcommand{\\T}{\\mathcal{T} }\n",
    "\\newcommand{\\bi}{\\begin{itemize}}\n",
    "\\newcommand{\\ei}{\\end{itemize}}\n",
    "\\newcommand{\\beq}{\\begin{equation}}\n",
    "\\newcommand{\\eeq}{\\end{equation}}\n",
    "\\newcommand{\\beas}{\\begin{eqnarray*}}\n",
    "\\newcommand{\\eeas}{\\end{eqnarray*}}\n",
    "\\newcommand{\\cO}{\\mathcal{O}}\n",
    "\\newcommand{\\cF}{\\mathcal{F}}\n",
    "\\newcommand{\\cL}{\\mathcal{L}}\n",
    "\\newcommand{\\BS}{\\text{BS}}\n",
    "$$"
   ]
  },
  {
   "cell_type": "markdown",
   "metadata": {},
   "source": [
    "<font color = \"red\">Homework is to be done by each student individually.  To receive full credit, you must email a completed copy of this iPython notebook to Tai-Ho Wang (tai-ho.wang@baruch.cuny.edu) and Jim Gatheral (jim.gatheral@baruch.cuny.edu) by the due date and time.  All R-code must run correctly and solutions must be written up neatly in Markdown/LaTeX format.\n",
    "\n",
    "<font color=\"blue\">If you encounter problems with Markdown/LaTeX or iPython notebook, please contact Yuxi Liu, who has kindly offered to help.\n"
   ]
  },
  {
   "cell_type": "markdown",
   "metadata": {},
   "source": [
    "### 0. (0 points) \n",
    "\n",
    "Read Chapter 12 of Hasbrouck and Section 6.4 of Foucault, Pagano and R&ouml;ell.\n"
   ]
  },
  {
   "cell_type": "markdown",
   "metadata": {},
   "source": [
    "## The Parlour (1998) model"
   ]
  },
  {
   "cell_type": "markdown",
   "metadata": {},
   "source": [
    "### 1. (10 points) \n",
    "Consider the first step $t = 1$ of the 3-step order book case presented in the lecture slides. Suppose that the order book at (or just before) $t = 1$ has one share offered and one share bid ($n_B = n_A = 1$).\n",
    "\n",
    "Give the probabilities as of a market buy, market sell, limit buy and limit sell at $t = 1$,\n",
    "You may use my Mathematica notebook *Parlour.nb* as a guide (if you wish)."
   ]
  },
  {
   "cell_type": "markdown",
   "metadata": {},
   "source": [
    "Solution:\n",
    "The probability of a market buy/sell at $t=3$ is $P_3(MB)= P_3(MS) = 5/22 $. \n",
    "The a limit buy/sell placed at at $t=1$ will only get filled if a market sell/buy occurs at both $t=2$ and $t=3$.\n",
    "The probability of a new trader to submit a market buy/sell order at $t=2$ is $P_2(MB)= P_2(MS) = 5/22 $.\n",
    "At $t=1$, we compute a buyer will choose as follows:\n",
    "\n",
    "\n",
    "| Action         | Condition | Numerically |\n",
    "|----------------|-----------|-------------|\n",
    "| Limit buy (LB) |if $$(5.5\\beta_1-5) \\times 5/22\\times5/22>(5.5\\beta_1-6)\\\\$$and$$(5.5\\beta_1-5)\\times5/22\\times5/22>0$$      |    $10/11<\\beta_1<5558/5049$         |\n",
    "| Market buy (MB)  |     if $$(5.5\\beta_1-6)>(5.5\\beta_1-5) \\times 5/22 \\times 5/22\\\\$$ and $5.5\\beta_1-6>0$      |   $5558/5049<\\beta_1<2$          |\n",
    "| Do nothing     |     otherwise      |   $0<\\beta_1<10/11$          |\n",
    "        \n",
    "Then we get at $t=1$, \n",
    "\n",
    "the probability of market buy $P_1(MB)=1/2*1/2*(2-5558/5049)=1135/5049$ \n",
    "\n",
    "the probability of limit buy $P_1(LB)=1/2*1/2*(5558/5049-10/11)=22/459$ \n",
    "\n",
    "the probability of market sell $P_1(MS)=P_1(MB)=1135/5049$ \n",
    "\n",
    "the probability of limit sell $P_1(LS)=P_1(LB)=22/459$ "
   ]
  },
  {
   "cell_type": "markdown",
   "metadata": {},
   "source": [
    "### 2. (4 points) \n",
    "Explain why the optimal market/limit order decision depends in general on quantity available on both sides of the order book in the Parlour model."
   ]
  },
  {
   "cell_type": "markdown",
   "metadata": {},
   "source": [
    "Solution:\n",
    "As in the model predictions, an increase in book depth on the bid­side decreases the probability of a limit buy order, a decrease in book depth on the ask­side decreases the probability of a market sell order in subsequent periods and so decreases the probability of a limit buy order.\n",
    "\n",
    "The reason is that in Parlour model, at most one limit order is allowed to be filled at each time step. As the result, the probability of a limit order to be filled will be lower when there is a larger book depth. For the same reason, shorter book depth on the ask side will attract the trader to submit limit sell orders and increase the probability of a limit buy order.\n",
    "\n",
    "Also, there is a herd effect for the autocorrelated order signs. A market sell will decrease the bid side to increase the probability of a limit buy order. This in turns will decreases the probability of a subsequent market buy, and leads to a larger queue on the offer side. This positive feedback will leads to an increase in the probability of a market sell.\n"
   ]
  },
  {
   "cell_type": "markdown",
   "metadata": {},
   "source": [
    "### Download R-code"
   ]
  },
  {
   "cell_type": "code",
   "execution_count": 1,
   "metadata": {
    "collapsed": false
   },
   "outputs": [],
   "source": [
    "download.file(url=\"http://mfe.baruch.cuny.edu/wp-content/uploads/2015/01/ziSetup.zip\", destfile=\"ziSetup.zip\")\n",
    "unzip(zipfile=\"ziSetup.zip\")\n",
    "source(\"ziSetup.R\")"
   ]
  },
  {
   "cell_type": "markdown",
   "metadata": {},
   "source": [
    "## Cont-Kukanov optimal order placement"
   ]
  },
  {
   "cell_type": "markdown",
   "metadata": {},
   "source": [
    "### 3. (16 points)\n",
    "\n",
    "Consider the two BATS exchanges BZX and BYX.  Suppose you are trying to buy shares of MSFT in 3.9 minutes ($1\\%$ of the trading day).  Suppose further that the two exchanges have the following characteristics:\n",
    "\n",
    "**Exchange** | **Make fee** | **Take fee** | **Daily volume** \n",
    "-----|-----:|-------:| ---- |\n",
    "| **(per share)** | **(per share)** | **(shares)** \n",
    "BZX | -0.32¢ | +0.30¢ | 10,500,000\n",
    "BYX | +0.03¢ | -0.03¢ | 1,300,000\n",
    "\n",
    "Assume the daily volatility of MSFT is $1\\%$ and that MSFT is trading at $\\$37.50$.\n",
    "\n",
    "(a) We may suppose that if your order is only partially filled, that's because the price moved away (*adverse selection*).  This suggests that we penalize any under fill of limit orders by $\\sigma\\,\\sqrt{T}$ where $T$ is the order duration.  Compute the corresponding value of $\\lambda_u$ in cents per share.\n",
    "\n",
    "\n",
    "(b) Assuming a spread of $1$ cent, what are $h$, $f$, and $r$ for BZX and BYX respectively (in cents per share)?\n",
    "\n",
    "\n",
    "(c) Assuming no seasonality, what is the mean value $\\bar \\xi$ of $\\xi$ (over 3.9 minutes) for BZX and BYX respectively (in shares)?\n",
    "\n",
    "\n",
    "(d)  Assume that $\\xi$ is log normally distributed with\n",
    "\n",
    "$$\n",
    "\\xi = \\bar \\xi \\,\\exp\\left\\{\\sigma\\,Z-\\frac 12\\,\\sigma^2\\right\\}.\n",
    "$$\n",
    "\n",
    "where $Z \\sim N(0,1)$ and $\\sigma = 1/2$.  What is the standard deviation of $\\xi$ (in terms of $\\bar \\xi$)?\n",
    "\n",
    "\n",
    "(e) Write R-code to determine the optimal order size $L^\\star+Q$ on BZX and BYX respectively. Assume here that you will either trade on BZX or BYX; there is no splitting of the order between the two exchanges. <br>\n",
    "(Hint: You may find the R function *qnorm(. )* useful).\n",
    "\n",
    "\n",
    "(f) Compare the optimal limit order sizes from part (e) with the ratios of quote sizes and volumes on BZX and BYX.  Are your results from part (e) roughly consistent with observation.  You may assume that the quote sizes shown on the MSFT BATS slides from Lecture 1 are typical."
   ]
  },
  {
   "cell_type": "code",
   "execution_count": 2,
   "metadata": {
    "collapsed": false
   },
   "outputs": [
    {
     "data": {
      "text/html": [
       "3.75"
      ],
      "text/latex": [
       "3.75"
      ],
      "text/markdown": [
       "3.75"
      ],
      "text/plain": [
       "[1] 3.75"
      ]
     },
     "metadata": {},
     "output_type": "display_data"
    }
   ],
   "source": [
    "##### Solution (a)\n",
    "sigma <- 0.01\n",
    "price <- 37.50\n",
    "t <- 0.01\n",
    "lamda_u <- sigma * price * sqrt(t) * 100.0\n",
    "lamda_u"
   ]
  },
  {
   "cell_type": "markdown",
   "metadata": {},
   "source": [
    "#####Solution (b):\n",
    "\n",
    "$h=0.5 \\times 1 = 0.5 \\ $ (in cents per share)\n",
    "\n",
    "$f(BZX)=0.30\\ $ (in cents per share), $f(BYX)=-0.03\\ $ (in cents per share)\n",
    "\n",
    "$r(BZX)=0.32\\ $ (in cents per share), $r(BYX)=-0.03\\ $ (in cents per share)"
   ]
  },
  {
   "cell_type": "markdown",
   "metadata": {},
   "source": [
    "#####Solution (c):\n",
    "\n",
    "$\\bar \\xi(BZX)=1\\% \\times 10500000=105000$, \n",
    "\n",
    "$\\bar \\xi(BYX)=1\\% \\times 1300000=13000$"
   ]
  },
  {
   "cell_type": "markdown",
   "metadata": {},
   "source": [
    "#####Solution (d):\n",
    "\n",
    "$\\xi$ is log-normal random variable, so its variance is:\n",
    "\n",
    "$$\n",
    "\\begin{align*}\n",
    "var(\\xi) = \\bar{\\xi}^2\\left(e^{\\sigma^2}-1\\right)e^{-\\frac{1}{2}2\\sigma^2+\\sigma^2}=\\bar{\\xi}^2\\left(e^{\\frac{1}{4}}-1\\right) \\\\\n",
    "\\end{align*}\n",
    "$$\n",
    "\n",
    "The standard deviation is $SD(\\xi)=\\bar \\xi \\sqrt{e^{1/4}-1}$\n"
   ]
  },
  {
   "cell_type": "code",
   "execution_count": 3,
   "metadata": {
    "collapsed": false
   },
   "outputs": [
    {
     "name": "stdout",
     "output_type": "stream",
     "text": [
      "[1] \"BZX: L+Q:\"\n",
      "[1] 76887.36\n",
      "[1] \"BYX: L+Q:\"\n",
      "[1] 7834.038\n"
     ]
    }
   ],
   "source": [
    "##### Solution (e)\n",
    "\n",
    "##set parameters\n",
    "sigma <- 0.01\n",
    "price <- 37.50\n",
    "t <- 0.01\n",
    "lambda_u <- 3.75\n",
    "h <- 0.5\n",
    "f_BZX <- 0.30\n",
    "f_BYX <- -0.03\n",
    "r_BZX <- 0.32\n",
    "r_BYX <- -0.03\n",
    "xi_bar_BZX <- 105000\n",
    "xi_bar_BYX <- 13000\n",
    "sigma <- 0.5\n",
    "\n",
    "prob_BZX <- (2.0*h + f_BZX + r_BZX) / (lambda_u + h + r_BZX)\n",
    "num_BZX <- xi_bar_BZX * exp(sigma*qnorm(prob_BZX) - 0.5*sigma*sigma)\n",
    "\n",
    "prob_BYX <- (2.0*h + f_BYX + r_BYX) / (lambda_u + h + r_BYX)\n",
    "num_BYX <- xi_bar_BYX * exp(sigma*qnorm(prob_BYX) - 0.5*sigma*sigma)\n",
    "\n",
    "print (\"BZX: L+Q:\")\n",
    "print (num_BZX)\n",
    "print (\"BYX: L+Q:\")\n",
    "print (num_BYX)"
   ]
  },
  {
   "cell_type": "code",
   "execution_count": 4,
   "metadata": {
    "collapsed": false
   },
   "outputs": [
    {
     "name": "stdout",
     "output_type": "stream",
     "text": [
      "[1] 9.814525\n",
      "[1] 6.058\n",
      "[1] 3.46903\n"
     ]
    }
   ],
   "source": [
    "##### Solution (f)\n",
    "OptimalSize_BZX <- 76887.36\n",
    "OptimalSize_BYX <- 7834.038\n",
    "\n",
    "MrktQuoteSize_BZX <- mean(c(1700,1558,1300,1100,700,800,900,900,1258,1900))\n",
    "MrktQuoteSize_BYX <- mean(c(100,100,100,200,200,100,400,400,200,200))\n",
    "\n",
    "MrktVol_BZX <- 1078386\n",
    "MrktVol_BYX <- 310861\n",
    "\n",
    "ratio1 <- OptimalSize_BZX / OptimalSize_BYX\n",
    "ratio2 <- MrktQuoteSize_BZX / MrktQuoteSize_BYX\n",
    "ratio3 <- MrktVol_BZX / MrktVol_BYX\n",
    "\n",
    "print (ratio1)\n",
    "print (ratio2)\n",
    "print (ratio3)"
   ]
  },
  {
   "cell_type": "markdown",
   "metadata": {},
   "source": [
    "The ratio of optimal quote size is 9.814525\n",
    "\n",
    "The ratio of market quote size is 6.058\n",
    "\n",
    "The ratio of market volume is 3.46903\n",
    "\n",
    "They are roughly similar and on the same order of magnitude.\n"
   ]
  },
  {
   "cell_type": "markdown",
   "metadata": {},
   "source": [
    "## The Bouchaud-M&eacute;zard-Potters order book approximation"
   ]
  },
  {
   "cell_type": "markdown",
   "metadata": {},
   "source": [
    "### 4. (16 points)\n",
    "\n",
    "When $\\lambda(u)=\\alpha$,  a constant, the BMP order density becomes\n",
    "\n",
    "\\begin{eqnarray*}\n",
    "\\rho_{BMP}(\\Delta) &=& \\frac{\\alpha}{\\delta}\\,\\left\\{e^{-\\Delta/{\\tilde \\Delta}}\\,\\int_0^{\\Delta/{\\tilde\\Delta}}\\,\\sinh(u)\\,du + \\sinh(\\Delta/{\\tilde \\Delta})\\,\\int_{\\Delta/{\\tilde\\Delta}}^\\infty\\,e^{-u}\\,du\\right\\} \\\\\n",
    "&=&\\frac{\\alpha}{\\delta}\\,\\left\\{1 - e^{-\\Delta/{\\tilde \\Delta}}  \\right\\}\n",
    "\\end{eqnarray*}\n",
    "\n",
    "where the characteristic distance\n",
    "\n",
    "$$\n",
    "\\tilde \\Delta=\\sqrt{\\frac{\\sigma^2}{2\\,\\delta}}.\n",
    "$$\n",
    "\n",
    "(a) Amend the SFGK zero intelligence code from Problem 3 of HW1 to count the number of limit orders generated in addition to computing the average book shape.\n",
    "\n",
    "(b) With $\\alpha = 1$, $\\mu = 10$ and $\\delta = \\frac15$, simulate 100,000 events and plot the resulting average book shape in red (in a band $\\pm 20$ around the mid price).\n",
    "\n",
    "(c) From your simulation, what is the probability $P_L$ of a limit order at a given level conditional on an event? (Recall that there are 60 limit order levels in the simulation).\n",
    "\n",
    "(d) In [Gatheral and Oomen]<sup id=\"cite_ref-GO\" class=\"reference\"><a href=\"#cite_note-GO\"><span>[</span>1<span>]</span></a></sup>, with these SFGK parameters, realized variance per event was estimated as\n",
    "\n",
    "$$\n",
    "\\sigma^2_{GO} = 0.083.\n",
    "$$\n",
    "\n",
    "Using your estimate $P_L$ of limit orders per level per event, convert this estimate to variance per limit order (recall that $\\alpha=1$).  Denote your result by $\\sigma^2_{GO}$.  Compute the characteristic distance $\\tilde \\Delta_{GO}$ with this estimate $\\sigma^2_{GO}$.\n",
    "\n",
    "(e) In Lecture 1, using dimensional analysis, we estimated that variance $\\sigma^2_{DA}$ per unit time should be of the order of\n",
    "\n",
    "$$\n",
    "\\sigma^2_{DA} = \\frac{\\mu\\,\\delta}{\\alpha^2}.\n",
    "$$\n",
    "\n",
    "Compute the characteristic distance $\\tilde \\Delta_{DA}$ with this estimate $\\sigma^2_{DA}$.\n",
    "\n",
    "(f)  Using your two estimates of $\\tilde \\Delta$ from parts (d) and (e),  write functions to compute the corresponding order book densities $\\rho_{GO}(\\Delta)$ and $\\rho_{DA}(\\Delta)$.\n",
    "\n",
    "(g)\n",
    "Superimpose plots of the asymptotic densities $\\rho_{DA}(\\Delta)$ (in blue) and $\\rho_{DA}(\\Delta)$ (in orange) on your plot of the average book shape."
   ]
  },
  {
   "cell_type": "code",
   "execution_count": 5,
   "metadata": {
    "collapsed": true
   },
   "outputs": [],
   "source": [
    "####### solution(a)\n",
    "\n",
    "Limit_Buy_num<<-0\n",
    "Limit_Sell_num<<-0\n",
    "\n",
    "#Buy limit order\n",
    "limitBuyOrder <- function(price=NA){\n",
    "  Limit_Buy_num<<-Limit_Buy_num+1\n",
    "  if (is.na(price))\n",
    "  {prx <<- (bestOffer()-pick(L))}\n",
    "  else prx <<-price  \n",
    "  if(logging==T){eventLog[count,]<<- c(\"LB\",prx)} \n",
    "  book$buySize[book$Price==prx]<<-book$buySize[book$Price==prx]+1} \n",
    "\n",
    "#Sell limit order\n",
    "limitSellOrder <- function(price=NA){\n",
    "  Limit_Sell_num<<-Limit_Sell_num+1\n",
    "  if (is.na(price))\n",
    "  {prx <<- (bestBid()+pick(L))}\n",
    "  else prx <<-price  \n",
    "  if(logging==T){eventLog[count,] <<- c(\"LS\",prx)}  \n",
    "  book$sellSize[book$Price==prx]<<-book$sellSize[book$Price==prx]+1}\n"
   ]
  },
  {
   "cell_type": "code",
   "execution_count": null,
   "metadata": {
    "collapsed": false
   },
   "outputs": [],
   "source": [
    "####### solution(b)\n",
    "\n",
    "logging <- F \n",
    "\n",
    "# initialize parameters\n",
    "alpha <- 1.0\n",
    "mu <- 10.0\n",
    "delta <- 1/5.0\n",
    "\n",
    "# initialize order book\n",
    "initializeBook5()\n",
    "\n",
    "# Burn in for 100 events\n",
    "for(count in 1:100){\n",
    "  generateEvent()\n",
    "}\n",
    "\n",
    "# Average over 100,000 events\n",
    "numEvents <- 100000 \n",
    "avgBookShape <- bookShape(20)/numEvents\n",
    "\n",
    "for(count in 2:numEvents){\n",
    "  generateEvent()\n",
    "  avgBookShape <- avgBookShape+bookShape(20)/numEvents\n",
    "}\n",
    "\n",
    "plot(-20:20,avgBookShape,main=NA,xlab=\"Relative price\",ylab=\"# Shares\", col=\"blue\", type=\"b\")"
   ]
  },
  {
   "cell_type": "code",
   "execution_count": null,
   "metadata": {
    "collapsed": false
   },
   "outputs": [],
   "source": [
    "####### solution(c)\n",
    "Prob_L <- (Limit_Buy_num + Limit_Sell_num) / (2*L) / numEvents\n",
    "\n",
    "print(\"The probability of a limit order is: \")\n",
    "print(Prob_L)\n"
   ]
  },
  {
   "cell_type": "markdown",
   "metadata": {},
   "source": [
    "######solution (d)\n",
    "\n",
    "<br />$\\sigma^2_{GO}(per\\ event) = 0.083.$\n",
    "\n",
    "<br />$\\sigma ^2_{GO}(per\\ LO)=\\sigma ^2_{GO}(per\\ event)/(2P_L)=0.083/0.0083445/2=4.980897$\n",
    "\n",
    "<br />$\\tilde \\Delta_{GO}=\\sqrt{\\sigma^2_{GO}/(2\\delta)}=\\sqrt{4.97/(2*1/5)}=3.528773$"
   ]
  },
  {
   "cell_type": "markdown",
   "metadata": {},
   "source": [
    "######solution (e)\n",
    "\n",
    "<br /> $\\sigma^2_{DA} = \\frac{\\mu\\,\\delta}{\\alpha^2}=\\frac{10 \\times 1/5}{1^2}=2$\n",
    "\n",
    "<br />$\\tilde \\Delta_{DA}=\\sqrt{\\sigma^2_{DA}/(2\\delta)}=\\sqrt{2/(2*1/5)}=2.236068$"
   ]
  },
  {
   "cell_type": "markdown",
   "metadata": {},
   "source": [
    "######Solution(f)\n",
    "\n",
    "\\begin{eqnarray*}\n",
    "\\rho_{BMP}(\\Delta) &=& \\frac{\\alpha}{\\delta}\\,\\left\\{e^{-\\Delta/{\\tilde \\Delta}}\\,\\int_0^{\\Delta/{\\tilde\\Delta}}\\,\\sinh(u)\\,du + \\sinh(\\Delta/{\\tilde \\Delta})\\,\\int_{\\Delta/{\\tilde\\Delta}}^\\infty\\,e^{-u}\\,du\\right\\}\n",
    "&=&\\frac{\\alpha}{\\delta}\\,\\left\\{1 - e^{-\\Delta/{\\tilde \\Delta}}  \\right\\}\n",
    "\\end{eqnarray*}"
   ]
  },
  {
   "cell_type": "code",
   "execution_count": null,
   "metadata": {
    "collapsed": true
   },
   "outputs": [],
   "source": [
    "rho_BMP <- function(alpha, delta_lower_case, delta_capital, delta_capital_bar){\n",
    "    \n",
    "return(alpha / delta_lower_case * (1 - exp( -abs(delta_capital)/delta_capital_bar )))\n",
    "    \n",
    "}"
   ]
  },
  {
   "cell_type": "code",
   "execution_count": null,
   "metadata": {
    "collapsed": false
   },
   "outputs": [],
   "source": [
    "###### solution(g)\n",
    "\n",
    "plot(-20:20, avgBookShape, main=NA, xlab=\"relative price\", ylab=\"number of Shares\", col=\"blue\", type=\"b\")\n",
    "curve(rho_BMP(1,1/5,x,3.52),from=-20, to=20, n=1000, col=\"red\", add=T)\n",
    "curve(rho_BMP(1,1/5,x, 2.24),from=-20, to=20, n=1000,col=\"pink\", add=T)\n",
    "legend('bottomright', inset=0.03, legend=c('ZI Simulation', 'BMP-GO','BMP-DA'), lty=c(1, 1,1), col=c('blue','red','pink'), cex=0.7)"
   ]
  },
  {
   "cell_type": "markdown",
   "metadata": {},
   "source": [
    "### 5. (6 points)\n",
    "\n",
    "Another of Mike and Farmer's observations is that the distribution of marketable as well as unmarketable limit orders as a function of distance $\\Delta$ to the same-side best quote is well-described by a Student-$t$ distribution.  Assume $\\mu=1/2$ as above.\n",
    "\n",
    "(a) Derive an expression in terms of the Student-$t$ cumulative density function for the ratio of arrival rates of limit to market orders as a function of the spread $s$.  How does this ratio vary with $s$?\n",
    "\n",
    "(b) Relative to the zero-intelligence model, does this empirically observed strategic behavior make the spread revert faster or more slowly?"
   ]
  },
  {
   "cell_type": "markdown",
   "metadata": {},
   "source": [
    "Solution:\n",
    "\n",
    "(a)\n",
    "Let $F(x)$ be the CDF of Student-$t$ distribution. $s$ is the bid-ask spread. The probability of the order being limit order is $F(s)$. Then the probability of the order as market order is $1-F(s)$. \n",
    "\n",
    "Then the ratio of limit to market orders as a function of the spread $s$ will be: $F(s)/(1-F(s))$.\n",
    "\n",
    "When spread $s$ increase, the ratio will increase as well since $F(s)$ is monotonic increasing function.\n",
    "\n",
    "\n",
    "(b) This empirically observed strategic behavior make the spread revert faster. The reason is that when the spread decrease, we will have more market orders, which will widen the spread.  When the spread increase, we will have more limit orders, which will decrease the spread.\n",
    "\n",
    "\n"
   ]
  },
  {
   "cell_type": "markdown",
   "metadata": {},
   "source": [
    "### References\n",
    "\n",
    "<div class=\"reflist\" style=\"list-style-type: decimal;\">\n",
    "\n",
    "<ol>\n",
    "\n",
    "  <li id=\"cite_note-GO\"><span class=\"mw-cite-backlink\"><b><a href=\"#cite_ref-GO\">^</a></b></span> Jim Gatheral and Roel C. A Oomen, Zero-intelligence realized variance estimation, <span>*Finance and Stochastics*,</span> <span>**14**</span>(2) 249–283, 2010.</li>\n",
    "\n",
    "</ol>"
   ]
  }
 ],
 "metadata": {
  "kernelspec": {
   "display_name": "R",
   "language": "R",
   "name": "ir"
  },
  "language_info": {
   "codemirror_mode": "r",
   "file_extension": ".r",
   "mimetype": "text/x-r-source",
   "name": "R",
   "pygments_lexer": "r",
   "version": "3.3.2"
  }
 },
 "nbformat": 4,
 "nbformat_minor": 0
}
