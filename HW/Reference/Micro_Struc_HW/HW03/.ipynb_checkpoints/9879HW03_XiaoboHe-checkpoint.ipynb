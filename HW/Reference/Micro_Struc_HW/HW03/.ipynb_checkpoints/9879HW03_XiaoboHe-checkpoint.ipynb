{
 "cells": [
  {
   "cell_type": "markdown",
   "metadata": {},
   "source": [
    "# MTH9879 Homework 3 Solutions\n",
    "\n",
    "Assigned: February 23, 2016.\n",
    "Due: March 8, 2016 by 6pm. \n",
    "\n",
    "Late homework **will not be accepted**.\n",
    "\n",
    "$$\n",
    "\\newcommand{\\supp}{\\mathrm{supp}}\n",
    "\\newcommand{\\E}{\\mathbb{E}}\n",
    "\\newcommand{\\EE}{\\mathbb{E}}\n",
    "\\newcommand{\\Eof}[1]{\\mathbb{E}\\left[ #1 \\right]}\n",
    "\\def\\Cov{{ \\mbox{Cov} }}\n",
    "\\def\\Var{{ \\mbox{Var} }}\n",
    "\\newcommand{\\1}{\\mathbf{1} }\n",
    "\\newcommand{\\PP}{\\mathbb{P} }\n",
    "%\\newcommand{\\Pr}{\\mathrm{Pr} }\n",
    "\\newcommand{\\QQ}{\\mathbb{Q} }\n",
    "\\newcommand{\\RR}{\\mathbb{R} }\n",
    "\\newcommand{\\DD}{\\mathbb{D} }\n",
    "\\newcommand{\\HH}{\\mathbb{H} }\n",
    "\\newcommand{\\spn}{\\mathrm{span} }\n",
    "\\newcommand{\\cov}{\\mathrm{cov} }\n",
    "\\newcommand{\\sgn}{\\mathrm{sgn} }\n",
    "\\newcommand{\\HS}{\\mathcal{L}_{\\mathrm{HS}} }\n",
    "%\\newcommand{\\HS}{\\mathrm{HS} }\n",
    "\\newcommand{\\trace}{\\mathrm{trace} }\n",
    "\\newcommand{\\LL}{\\mathcal{L} }\n",
    "%\\newcommand{\\LL}{\\mathrm{L} }\n",
    "\\newcommand{\\s}{\\mathcal{S} }\n",
    "\\newcommand{\\ee}{\\mathcal{E} }\n",
    "\\newcommand{\\ff}{\\mathcal{F} }\n",
    "\\newcommand{\\hh}{\\mathcal{H} }\n",
    "\\newcommand{\\bb}{\\mathcal{B} }\n",
    "\\newcommand{\\dd}{\\mathcal{D} }\n",
    "\\newcommand{\\g}{\\mathcal{G} }\n",
    "\\newcommand{\\p}{\\partial}\n",
    "\\newcommand{\\half}{\\frac{1}{2} }\n",
    "\\newcommand{\\T}{\\mathcal{T} }\n",
    "\\newcommand{\\bi}{\\begin{itemize}}\n",
    "\\newcommand{\\ei}{\\end{itemize}}\n",
    "\\newcommand{\\beq}{\\begin{equation}}\n",
    "\\newcommand{\\eeq}{\\end{equation}}\n",
    "\\newcommand{\\beas}{\\begin{eqnarray*}}\n",
    "\\newcommand{\\eeas}{\\end{eqnarray*}}\n",
    "\\newcommand{\\cO}{\\mathcal{O}}\n",
    "\\newcommand{\\cF}{\\mathcal{F}}\n",
    "\\newcommand{\\cL}{\\mathcal{L}}\n",
    "\\newcommand{\\BS}{\\text{BS}}\n",
    "$$"
   ]
  },
  {
   "cell_type": "markdown",
   "metadata": {},
   "source": [
    "<font color = \"red\">Homework is to be done by each student individually.  To receive full credit, you must email a completed copy of this iPython notebook to Tai-Ho Wang (tai-ho.wang@baruch.cuny.edu) and Jim Gatheral (jim.gatheral@baruch.cuny.edu) by the due date and time.  All R-code must run correctly and solutions must be written up neatly in Markdown/LaTeX format.\n",
    "\n",
    "<font color=\"blue\">If you encounter problems with Markdown/LaTeX or iPython notebook, please contact Yuxi Liu, who has kindly offered to help.\n"
   ]
  },
  {
   "cell_type": "markdown",
   "metadata": {},
   "source": [
    "### 0. (0 points) \n",
    "Read Chapter 11 of Hasbrouck and Section 3.5 of Foucault, Pagano and R&ouml;ell. <br>\n",
    "Also, read the article on high-frequency trading by Menkveld."
   ]
  },
  {
   "cell_type": "markdown",
   "metadata": {},
   "source": [
    "## The Garman (1976) model"
   ]
  },
  {
   "cell_type": "markdown",
   "metadata": {},
   "source": [
    "### 1. (6 points) \n",
    "Suppose supply and demand functions satisfy\n",
    "\n",
    "$$\n",
    "P_A(\\lambda) = 101 − 18\\lambda + \\lambda^2; \\; P_B(\\lambda) = 61 + 2\\lambda + \\lambda^2,\n",
    "$$\n",
    "\n",
    "where $\\lambda$ is the market order arrival rate per minute and $P_B(\\cdot)$ and $P_A(\\cdot)$ denote supply and demand curves respectively. <br>\n",
    "Determine the dealer’s optimal bid $B$ and ask $A$ and the average profit per minute."
   ]
  },
  {
   "cell_type": "markdown",
   "metadata": {},
   "source": [
    "### Solution:\n",
    "\n",
    "The P&L per unit of time is:\n",
    "$$ \n",
    "\\textbf{P} =(P_A (\\lambda) - P_B (\\lambda)) \\times \\lambda = (40-20\\lambda)\\lambda =40\\lambda - 20\\lambda^2 \n",
    "$$\n",
    "\n",
    "Take the direvative, then we get that when $ \\lambda^* = 1 $, $ \\textbf{P} $ reach maxmium.\n",
    "\n",
    "The dealer's optimal bid $B$ and ask $A$ are: $ P_A^*(\\lambda^*) = 84 $, and  $ P_B^*(\\lambda^*) = 64 $.\n",
    "\n",
    "\n",
    "And the average profit per minute: $ (P_A^* - P_B^*)\\lambda^* = 20 $"
   ]
  },
  {
   "cell_type": "markdown",
   "metadata": {},
   "source": [
    "## The Stoll (1978) model"
   ]
  },
  {
   "cell_type": "markdown",
   "metadata": {},
   "source": [
    "### 2. (4 points) \n",
    "In the Stoll (1978) model, assuming exponential utility with $S \\sim N(\\mu, \\sigma^2)$, and with current inventory $q$ shares, what are the dealer’s indifference bid and ask prices for $n$ shares?"
   ]
  },
  {
   "cell_type": "markdown",
   "metadata": {},
   "source": [
    "### Solution:\n",
    "\n",
    "The dealer posts $n$ shares  indifference bid at $B$, then we have\n",
    "$$\n",
    "\\E[U\\left((q+n)S-nB\\right)]=\\E[U(q\\,S)] \n",
    "$$\n",
    "So\n",
    "$$ \n",
    "    (q+n)\\E[S]-nB-\\frac{\\alpha}{2}\\,\\Var[(q+n)\\,S]=q\\,\\E[S]-\\frac{\\alpha}{2}\\,\\Var[q\\,S]\n",
    "$$\n",
    "Since $S \\sim N(\\mu, \\sigma^2)$, we can get the bid price\n",
    "    $$\n",
    "    B = \\mu - \\frac {\\alpha}{2}(n + 2q)\\sigma^2 \n",
    "    $$\n",
    "In the same way, we can get the ask price\n",
    "$$ \n",
    "A = \\mu + \\frac {\\alpha}{2}(n - 2q)\\sigma^2 \n",
    "$$"
   ]
  },
  {
   "cell_type": "markdown",
   "metadata": {},
   "source": [
    "### 3. (10 points)\n",
    "As mentioned in Lecture 3, in real markets, bid and ask prices $B$ and $A$ are typically given and the dealer must decide how much size to quote at these fixed prices.  Suppose there are currently $Q_A$ offered and $Q_B$ shares bid.  According to Lecture 1,\n",
    "\n",
    "$$\n",
    "\\Eof{S} \\approx M + \\frac s 2 \\,\\frac 4\\pi \\,\\arctan I.\n",
    "$$\n",
    "\n",
    "where $M$ is the mid-price, $s=A-B$, and the book imbalance is given by\n",
    "\n",
    "$$\n",
    "I = \\frac{Q_B-Q_A}{Q_B + Q_A}.\n",
    "$$\n",
    "\n",
    "Assume that $S$ is normally distributed with variance $\\sigma^2$, that the dealer has exponential utility, and that his current inventory is $q$.\n",
    "\n",
    "(a) Use your answer to Problem 2 to show that the indifference size $n_B$ the dealer should quote at the bid $B$ is given by\n",
    "\n",
    "$$\n",
    "n_B = \\frac{s}{\\alpha\\,\\sigma^2}\\,\\left(  1+\\frac 4 \\pi \\,\\arctan I \\right) - 2\\,q.\n",
    "$$\n",
    "\n",
    "(c) Derive a similar formula for the indifference offered quantity $n_A$.\n",
    "\n",
    "(b) Give your intuition for the sensitivities of $n_B$ and $n_A$ to each of the various inputs.\n"
   ]
  },
  {
   "cell_type": "markdown",
   "metadata": {},
   "source": [
    "### Solution:\n",
    "\n",
    "### (a) \n",
    "\n",
    "Since we have\n",
    "$$\n",
    "B = \\mu - \\frac {\\alpha}{2}(n_B + 2q)\\sigma^2 \n",
    "$$\n",
    "$$\n",
    "\\mu = \\E[S]\\approx M + \\frac s 2 \\frac 4\\pi \\arctan I \n",
    "$$\n",
    "Then we get that\n",
    "$$\n",
    "n_B = \\frac {2\\times(\\mu - B) }{\\alpha\\sigma^2} - 2q = \\frac s{\\alpha\\sigma^2}(1 + \\frac4\\pi \\,\\arctan I) - 2q \n",
    "$$\n",
    "\n",
    "### (b) \n",
    "\n",
    "Similarly, we have\n",
    "$$\n",
    "A = \\mu + \\frac {\\alpha}{2}(n_A - 2q)\\sigma^2 \n",
    "$$\n",
    "$$\n",
    "\\mu = \\E[S]\\approx M + \\frac s 2 \\frac 4\\pi \\arctan I \n",
    "$$\n",
    "Then we get that\n",
    "$$\n",
    "n_A = \\frac s{\\alpha\\sigma^2}(1 - \\frac4\\pi \\arctan I) + 2q\n",
    "$$\n"
   ]
  },
  {
   "cell_type": "markdown",
   "metadata": {},
   "source": [
    "### (c)\n",
    "\n",
    "Parameter spread $s$: When spread is bigger, the dealer would like to increase both bid and ask size to increase the profit. This makes sense since bigger spread means larger profit for every successful market making transaction.\n",
    "\n",
    "Parameter risk reverse factor $\\alpha$: When the risk reverse factor increases, both quantity $n_A$ and $n_B$ will decrease, which implies dealer would buy and sell less as he becomes more risk averse.\n",
    "\n",
    "Parameter variance $\\sigma^2$: When variance increases, both quantity $n_A$ and $n_B$ will decrease, which implies dealer would buy and sell less as it is more risky.\n",
    "\n",
    "Parameter book imbalance $I$: When the book imbalance increases, the bid quantity $n_B$ increases, while the ask quantity $n_A$ decreases, which means that the dealer should buy more and sell less to maximize profits. \n",
    "\n",
    "Parameter current inventory size $q$: When the current inventory size increases, the bid quantity $n_B$ decreases, while the ask quantity $n_A$ increases. This implies that the dealer has already haven large size of shares in hand so he is more likely to sell than to buy."
   ]
  },
  {
   "cell_type": "markdown",
   "metadata": {},
   "source": [
    "## Avellaneda and Stoikov (2008)"
   ]
  },
  {
   "cell_type": "markdown",
   "metadata": {},
   "source": [
    "### 4. (6 points) \n",
    "According to the lecture slides, in the Avellaneda and Stoikov model, the optimal bid and ask prices are given in terms of market order arrival rates by\n",
    "\n",
    "$$\n",
    "B=r_B-\\frac{1}{\\alpha}\\,\\log\\left(1+\\alpha\\,\\frac{{\\lambda_B}(B)}{\\lambda_B'(B)}\\right).\n",
    "$$\n",
    "\n",
    "Similarly, the optimal ask price is given by\n",
    "\n",
    "$$\n",
    "A=r_A-\\frac{1}{\\alpha}\\,\\log\\left(1+\\alpha\\,\\frac{{\\lambda_A}(A)}{\\lambda_A'(A)}\\right).\n",
    "$$\n",
    "\n",
    "where $A= S+\\delta_A$ and $B= S-\\delta_B$.\n",
    "\n",
    "Suppose that arrival rates of orders (symmetric between market buys and sells) are given by\n",
    "\n",
    "$$\n",
    "\\lambda(\\delta) = e^{-k \\delta \\pm \\beta\\,q}\n",
    "$$\n",
    "\n",
    "for some constant $\\beta>0$ that reflects adverse selection (i.e., the longer you are, the more market sell orders arrive).\n",
    "\n",
    "(a) Write down expressions for $A$ and $B$ in terms of $r_A$, $r_B$, $k$, $\\beta$ and $q$.\n",
    "\n",
    "(b) How does the optimal spread depend on $q$?\n",
    "\n",
    "(c) Conjecture how the reservation prices $r_A$ and $r_B$ should depend on $q$ if there is adverse selection.\n"
   ]
  },
  {
   "cell_type": "markdown",
   "metadata": {},
   "source": [
    "### Solution:\n",
    "\n",
    "### (a)\n",
    "\n",
    "Since we have equations for $A$, $B$, and $\\lambda(\\delta)$, plug $\\lambda(\\delta)$ into $A$ and $B$, we have the expressions:\n",
    "$$\n",
    "A = r_A - \\frac1{\\alpha} \\,\\log (1 + \\frac{\\alpha}{k-\\beta \\frac{\\partial{q}}{\\partial{\\delta}}}) \n",
    "$$\n",
    "$$\n",
    "B = r_B - \\frac1{\\alpha} \\,\\log (1 + \\frac{\\alpha}{k+\\beta \\frac{\\partial{q}}{\\partial{\\delta}}}) \n",
    "$$\n",
    "if $q$ is a constant w.r.t $\\delta$, then\n",
    "\\begin{eqnarray}\n",
    "A &=& r_A - \\frac1{\\alpha} \\,\\log (1 + \\frac{\\alpha}{k}) \\\\\n",
    "B &=& r_B - \\frac1{\\alpha} \\,\\log (1 + \\frac{\\alpha}{k}) \n",
    "\\end{eqnarray}\n",
    "\n"
   ]
  },
  {
   "cell_type": "markdown",
   "metadata": {},
   "source": [
    "### (b)\n",
    "\n",
    "The optimal spread is\n",
    "$$\n",
    "s = A-B = r_A - r_B + \\frac 2 a log (1 + \\frac \\alpha k)\n",
    "$$\n",
    "\n",
    "The optimal spread is not directly dependent on $q$ according the expression. However, $r_A$ and $r_B$ is dependent on $q$ so this will effect optimal spread."
   ]
  },
  {
   "cell_type": "markdown",
   "metadata": {},
   "source": [
    "### (c)\n",
    "\n",
    "The reservation prices are\n",
    "$$\n",
    "r_B(t,x,S,q) = s - \\frac{\\alpha}{2}\\,(2\\,q+1)\\,\\sigma^2\\,(T-t)\n",
    "$$\n",
    "\n",
    "$$\n",
    "r_A(t,x,S,q) = s + \\frac{\\alpha}{2}\\,(-2\\,q+1)\\,\\sigma^2\\,(T-t)\n",
    "$$\n",
    "\n",
    "There are two effects on $r_B$ and $r_A$ with respective to $q$. When $q$ increase, the spread $s$ will increase, but in the mean while, the negative signs in the expression would decrease $r_B$ and $r_A$."
   ]
  },
  {
   "cell_type": "code",
   "execution_count": null,
   "metadata": {
    "collapsed": true
   },
   "outputs": [],
   "source": []
  }
 ],
 "metadata": {
  "kernelspec": {
   "display_name": "R",
   "language": "R",
   "name": "ir"
  },
  "language_info": {
   "codemirror_mode": "r",
   "file_extension": ".r",
   "mimetype": "text/x-r-source",
   "name": "R",
   "pygments_lexer": "r",
   "version": "3.2.2"
  }
 },
 "nbformat": 4,
 "nbformat_minor": 0
}
