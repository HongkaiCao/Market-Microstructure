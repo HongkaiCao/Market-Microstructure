{
 "cells": [
  {
   "cell_type": "markdown",
   "metadata": {},
   "source": [
    "# MTH9879 Homework 6\n",
    "\n",
    "Assigned: March 21, 2017.\n",
    "Due: April 4, 2017 by 6pm. \n",
    "\n",
    "Late homework **will not be accepted**.\n",
    "\n",
    "$$\n",
    "\\newcommand{\\supp}{\\mathrm{supp}}\n",
    "\\newcommand{\\E}{\\mathbb{E}}\n",
    "\\newcommand{\\EE}{\\mathbb{E}}\n",
    "\\newcommand{\\Eof}[1]{\\mathbb{E}\\left[ #1 \\right]}\n",
    "\\def\\Cov{{ \\mbox{Cov} }}\n",
    "\\def\\Var{{ \\mbox{Var} }}\n",
    "\\newcommand{\\1}{\\mathbf{1} }\n",
    "\\newcommand{\\PP}{\\mathbb{P} }\n",
    "%\\newcommand{\\Pr}{\\mathrm{Pr} }\n",
    "\\newcommand{\\QQ}{\\mathbb{Q} }\n",
    "\\newcommand{\\RR}{\\mathbb{R} }\n",
    "\\newcommand{\\DD}{\\mathbb{D} }\n",
    "\\newcommand{\\HH}{\\mathbb{H} }\n",
    "\\newcommand{\\spn}{\\mathrm{span} }\n",
    "\\newcommand{\\cov}{\\mathrm{cov} }\n",
    "\\newcommand{\\sgn}{\\mathrm{sgn} }\n",
    "\\newcommand{\\HS}{\\mathcal{L}_{\\mathrm{HS}} }\n",
    "%\\newcommand{\\HS}{\\mathrm{HS} }\n",
    "\\newcommand{\\trace}{\\mathrm{trace} }\n",
    "\\newcommand{\\LL}{\\mathcal{L} }\n",
    "%\\newcommand{\\LL}{\\mathrm{L} }\n",
    "\\newcommand{\\s}{\\mathcal{S} }\n",
    "\\newcommand{\\ee}{\\mathcal{E} }\n",
    "\\newcommand{\\ff}{\\mathcal{F} }\n",
    "\\newcommand{\\hh}{\\mathcal{H} }\n",
    "\\newcommand{\\bb}{\\mathcal{B} }\n",
    "\\newcommand{\\dd}{\\mathcal{D} }\n",
    "\\newcommand{\\g}{\\mathcal{G} }\n",
    "\\newcommand{\\p}{\\partial}\n",
    "\\newcommand{\\half}{\\frac{1}{2} }\n",
    "\\newcommand{\\T}{\\mathcal{T} }\n",
    "\\newcommand{\\bi}{\\begin{itemize}}\n",
    "\\newcommand{\\ei}{\\end{itemize}}\n",
    "\\newcommand{\\beq}{\\begin{equation}}\n",
    "\\newcommand{\\eeq}{\\end{equation}}\n",
    "\\newcommand{\\beas}{\\begin{eqnarray*}}\n",
    "\\newcommand{\\eeas}{\\end{eqnarray*}}\n",
    "\\newcommand{\\cO}{\\mathcal{O}}\n",
    "\\newcommand{\\cF}{\\mathcal{F}}\n",
    "\\newcommand{\\cI}{\\mathcal{I}}\n",
    "\\newcommand{\\cL}{\\mathcal{L}}\n",
    "\\newcommand{\\cM}{\\mathcal{M}}\n",
    "\\newcommand{\\BS}{\\text{BS}}\n",
    "$$"
   ]
  },
  {
   "cell_type": "markdown",
   "metadata": {},
   "source": [
    "<font color = \"red\">Homework is to be done by each student individually.  To receive full credit, you must email a completed copy of this iPython notebook to Victor Istratov (stavka@gmail.com), Yassine Ghalem (yassine.ghalem@gmail.com) and Jim Gatheral (jim.gatheral@gmail.com) by the due date and time.  All R-code must run correctly and solutions must be written up neatly in Markdown/LaTeX format."
   ]
  },
  {
   "cell_type": "markdown",
   "metadata": {},
   "source": [
    "### 0. (0 points) \n",
    "Read the review article by McAleer and Medeiros and also the nice article by Barndorff-Nielsen et al."
   ]
  },
  {
   "cell_type": "markdown",
   "metadata": {},
   "source": [
    "## Comparison of estimators"
   ]
  },
  {
   "cell_type": "markdown",
   "metadata": {},
   "source": [
    "### Download RV estimator code"
   ]
  },
  {
   "cell_type": "code",
   "execution_count": 1,
   "metadata": {
    "collapsed": false
   },
   "outputs": [],
   "source": [
    "download.file(url=\"http://mfe.baruch.cuny.edu/wp-content/uploads/2015/02/tq.zip\", destfile=\"tq.zip\")\n",
    "unzip(zipfile=\"tq.zip\")\n",
    "download.file(url=\"http://mfe.baruch.cuny.edu/wp-content/uploads/2015/03/RvEstimators.R.zip\", destfile=\"RvEstimators.R.zip\")\n",
    "unzip(zipfile=\"RvEstimators.R.zip\")"
   ]
  },
  {
   "cell_type": "markdown",
   "metadata": {},
   "source": [
    "### 1. (12 points) \n",
    "This assignment uses the *tqBAC* dataset from *tq.rData* and the RV estimators from *RvEstimators.R*."
   ]
  },
  {
   "cell_type": "code",
   "execution_count": 2,
   "metadata": {
    "collapsed": false
   },
   "outputs": [
    {
     "name": "stderr",
     "output_type": "stream",
     "text": [
      "Loading required package: xts\n",
      "Loading required package: zoo\n",
      "\n",
      "Attaching package: ‘zoo’\n",
      "\n",
      "The following objects are masked from ‘package:base’:\n",
      "\n",
      "    as.Date, as.Date.numeric\n",
      "\n"
     ]
    }
   ],
   "source": [
    "load('tq.rData')\n",
    "library(highfrequency)\n",
    "source('RvEstimators.R')"
   ]
  },
  {
   "cell_type": "markdown",
   "metadata": {},
   "source": [
    "(a) Consider the BAC trade price series.  Superimpose signature plots of the following estimators with subsampling frequency $q$ from 1 to 20: ZHOU, TSRV, MSRV, KRVTH, KRVC.  Express your results as $\\sqrt{RV}$ to make them more intuitive, as in Table 1 of Lecture 6 (recall that volatility estimates should be of the order of $2\\%$!).\n",
    "<br>\n",
    "Pay attention to good aesthetics, addling a proper legend to your plot.\n",
    "\n",
    "(b) Repeat part (a) for the BAC mid-quote series.\n",
    "\n",
    "(c) Which of these estimators do you recommend and why?  What sub-sampling frequency do you recommend based on these pictures?"
   ]
  },
  {
   "cell_type": "markdown",
   "metadata": {},
   "source": [
    "## The Epps effect"
   ]
  },
  {
   "cell_type": "markdown",
   "metadata": {},
   "source": [
    "### 2. (14 points) \n",
    "For this assignment, use the *tqBAC* and  *tqC* datasets from *tq.rData*, the function *getSymbols* from the *quantmod* package, and the function *aggregatets* from the * highfrequency* package."
   ]
  },
  {
   "cell_type": "code",
   "execution_count": 3,
   "metadata": {
    "collapsed": false
   },
   "outputs": [
    {
     "name": "stderr",
     "output_type": "stream",
     "text": [
      "Loading required package: TTR\n",
      "Version 0.4-0 included new data defaults. See ?getSymbols.\n",
      "\n",
      "Attaching package: ‘quantmod’\n",
      "\n",
      "The following objects are masked from ‘package:highfrequency’:\n",
      "\n",
      "    getPrice, has.Qty\n",
      "\n"
     ]
    }
   ],
   "source": [
    "load('tq.rData')\n",
    "library(highfrequency)\n",
    "library(quantmod)"
   ]
  },
  {
   "cell_type": "markdown",
   "metadata": {},
   "source": [
    "(a) Write a function to aggregate a *tq* object (such as *tqBAC*) to the nearest $k$ seconds. <br>\n",
    "(Hint: Use the function *aggregatets(.)*).\n",
    "\n",
    "(b) Write a function to compute the correlation between two high-frequency log return series (in *tq* format) where the underlying prices have been aggregated to the nearest $k$ seconds.\n",
    "\n",
    "(c) Plot the correlation between BAC and C returns where these returns are sampled every $k$ seconds, with $ k  \\in \\{2,3,4,. .., 599,600\\} $.  Use a kernel smoothing function such as *ksmooth* to smooth your results.  Make sure the aesthetics are good with nice labels etc.\n",
    "\n",
    "(d)  Is your plot consistent with the Epps effect?  What was the intraday correlation between BAC and C returns on 04-May-2012?\n",
    "\n",
    "(e) Use the function *getSymbols* from *quantmod* to download daily data for BAC and C from 01-Jan-2012 to 31-Dec-2012.  What was the historical correlation of daily BAC and C returns over that period?"
   ]
  },
  {
   "cell_type": "markdown",
   "metadata": {},
   "source": [
    "## The Hayashi-Yoshida estimator"
   ]
  },
  {
   "cell_type": "markdown",
   "metadata": {},
   "source": [
    "### 3. (2 points) \n",
    "Show that when two time series $p^{(1)}$ and $p^{(2)}$ are synchronous, the Hayashi-Yoshida estimator coincides with the realized covariance estimator."
   ]
  },
  {
   "cell_type": "markdown",
   "metadata": {},
   "source": [
    "## Fulvio Corsi's HAR-RV model"
   ]
  },
  {
   "cell_type": "markdown",
   "metadata": {},
   "source": [
    "The following code loads the data of SPX realized volatility required for this problem. Data were downloaded from the Oxford-Man website"
   ]
  },
  {
   "cell_type": "code",
   "execution_count": 4,
   "metadata": {
    "collapsed": false
   },
   "outputs": [],
   "source": [
    "download.file(url=\"http://mfe.baruch.cuny.edu/wp-content/uploads/2015/03/spx_krv.rData_.zip\", destfile=\"spx_krv.zip\")\n",
    "unzip(zipfile=\"spx_krv.zip\")\n",
    "load(\"spx_krv.rData\")"
   ]
  },
  {
   "cell_type": "code",
   "execution_count": 5,
   "metadata": {
    "collapsed": false
   },
   "outputs": [
    {
     "data": {
      "text/html": [
       "<table>\n",
       "<thead><tr><th></th><th scope=col>head.spx.krv.</th></tr></thead>\n",
       "<tbody>\n",
       "\t<tr><th scope=row>2000-01-03</th><td>0.0001607266</td></tr>\n",
       "\t<tr><th scope=row>2000-01-04</th><td>0.0002643965</td></tr>\n",
       "\t<tr><th scope=row>2000-01-05</th><td>0.0003046503</td></tr>\n",
       "\t<tr><th scope=row>2000-01-06</th><td>0.0001485821</td></tr>\n",
       "\t<tr><th scope=row>2000-01-07</th><td>0.0001232670</td></tr>\n",
       "\t<tr><th scope=row>2000-01-10</th><td>0.0001306934</td></tr>\n",
       "</tbody>\n",
       "</table>\n"
      ],
      "text/latex": [
       "\\begin{tabular}{r|l}\n",
       "  & head.spx.krv.\\\\\n",
       "\\hline\n",
       "\t2000-01-03 & 0.0001607266\\\\\n",
       "\t2000-01-04 & 0.0002643965\\\\\n",
       "\t2000-01-05 & 0.0003046503\\\\\n",
       "\t2000-01-06 & 0.0001485821\\\\\n",
       "\t2000-01-07 & 0.0001232670\\\\\n",
       "\t2000-01-10 & 0.0001306934\\\\\n",
       "\\end{tabular}\n"
      ],
      "text/markdown": [
       "\n",
       "| <!--/--> | head.spx.krv. | \n",
       "|---|---|---|---|---|---|\n",
       "| 2000-01-03 | 0.0001607266 | \n",
       "| 2000-01-04 | 0.0002643965 | \n",
       "| 2000-01-05 | 0.0003046503 | \n",
       "| 2000-01-06 | 0.0001485821 | \n",
       "| 2000-01-07 | 0.0001232670 | \n",
       "| 2000-01-10 | 0.0001306934 | \n",
       "\n",
       "\n"
      ],
      "text/plain": [
       "           head.spx.krv.\n",
       "2000-01-03 0.0001607266 \n",
       "2000-01-04 0.0002643965 \n",
       "2000-01-05 0.0003046503 \n",
       "2000-01-06 0.0001485821 \n",
       "2000-01-07 0.0001232670 \n",
       "2000-01-10 0.0001306934 "
      ]
     },
     "metadata": {},
     "output_type": "display_data"
    }
   ],
   "source": [
    "data.frame(head(spx.krv))"
   ]
  },
  {
   "cell_type": "markdown",
   "metadata": {},
   "source": [
    "### 4. (12 points)\n",
    "\n",
    "(a) Rerun the HAR-RV example code using the 2008 *DJI_RV* sample from the *highfrequency* package.\n",
    "\n",
    "(b) Repeat the analysis of part (a) with *spx.krv* restricted to 2008.\n",
    "\n",
    "(c) Tabulate the HAR-RV coefficients for the two 2008 datasets.  Are they similar or do they differ?  Is most weight on the 1-day, 5-day, or 22-day RV?\n",
    "\n",
    "(d) Using *quantmod* download daily VIX data.  Subset this data to 2008 and plot ${\\rm VIX}^2$.\n",
    "\n",
    "(e)  Plot SPX RV and superimpose DJI RV for 2008. Superimpose a plot of $\\text{VIX}^2$, adding a scale on the right hand axis (see how this is done in the lecture iPython notebook). Comment on the resulting plot.\n"
   ]
  }
 ],
 "metadata": {
  "kernelspec": {
   "display_name": "R",
   "language": "",
   "name": "ir"
  },
  "language_info": {
   "codemirror_mode": "r",
   "file_extension": ".r",
   "mimetype": "text/x-r-source",
   "name": "R",
   "pygments_lexer": "r",
   "version": "3.3.2"
  }
 },
 "nbformat": 4,
 "nbformat_minor": 0
}
