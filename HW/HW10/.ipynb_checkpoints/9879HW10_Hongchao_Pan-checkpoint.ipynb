{
 "cells": [
  {
   "cell_type": "markdown",
   "metadata": {},
   "source": [
    "# MTH9879 Homework 10\n",
    "\n",
    "Assigned: May 2, 2017.\n",
    "Due: May 16, 2017 by 6pm. \n",
    "\n",
    "Late homework **will not be accepted**.\n",
    "\n",
    "$$\n",
    "\\newcommand{\\supp}{\\mathrm{supp}}\n",
    "\\newcommand{\\E}{\\mathbb{E}}\n",
    "\\newcommand{\\Eof}[1]{\\mathbb{E}\\left[ #1 \\right]}\n",
    "\\def\\Cov{{ \\mbox{Cov} }}\n",
    "\\def\\Var{{ \\mbox{Var} }}\n",
    "\\newcommand{\\1}{\\mathbf{1} }\n",
    "\\newcommand{\\PP}{\\mathbb{P} }\n",
    "%\\newcommand{\\Pr}{\\mathrm{Pr} }\n",
    "\\newcommand{\\QQ}{\\mathbb{Q} }\n",
    "\\newcommand{\\RR}{\\mathbb{R} }\n",
    "\\newcommand{\\DD}{\\mathbb{D} }\n",
    "\\newcommand{\\HH}{\\mathbb{H} }\n",
    "\\newcommand{\\spn}{\\mathrm{span} }\n",
    "\\newcommand{\\cov}{\\mathrm{cov} }\n",
    "\\newcommand{\\sgn}{\\mathrm{sgn} }\n",
    "\\newcommand{\\HS}{\\mathcal{L}_{\\mathrm{HS}} }\n",
    "%\\newcommand{\\HS}{\\mathrm{HS} }\n",
    "\\newcommand{\\trace}{\\mathrm{trace} }\n",
    "\\newcommand{\\LL}{\\mathcal{L} }\n",
    "%\\newcommand{\\LL}{\\mathrm{L} }\n",
    "\\newcommand{\\s}{\\mathcal{S} }\n",
    "\\newcommand{\\ee}{\\mathcal{E} }\n",
    "\\newcommand{\\ff}{\\mathcal{F} }\n",
    "\\newcommand{\\hh}{\\mathcal{H} }\n",
    "\\newcommand{\\bb}{\\mathcal{B} }\n",
    "\\newcommand{\\dd}{\\mathcal{D} }\n",
    "\\newcommand{\\g}{\\mathcal{G} }\n",
    "\\newcommand{\\p}{\\partial}\n",
    "\\newcommand{\\half}{\\frac{1}{2} }\n",
    "\\newcommand{\\T}{\\mathcal{T} }\n",
    "\\newcommand{\\bi}{\\begin{itemize}}\n",
    "\\newcommand{\\ei}{\\end{itemize}}\n",
    "\\newcommand{\\beq}{\\begin{equation}}\n",
    "\\newcommand{\\eeq}{\\end{equation}}\n",
    "\\newcommand{\\beas}{\\begin{eqnarray*}}\n",
    "\\newcommand{\\eeas}{\\end{eqnarray*}}\n",
    "\\newcommand{\\cO}{\\mathcal{O}}\n",
    "\\newcommand{\\cC}{\\mathcal{C}}\n",
    "\\newcommand{\\cF}{\\mathcal{F}}\n",
    "\\newcommand{\\cL}{\\mathcal{L}}\n",
    "\\newcommand{\\BS}{\\text{BS}}\n",
    "$$"
   ]
  },
  {
   "cell_type": "markdown",
   "metadata": {},
   "source": [
    "<font color = \"red\">Homework is to be done by each student individually.  To receive full credit, you must email a completed copy of this iPython notebook to Victor Istratov (stavka@gmail.com), Yassine Ghalem (yassine.ghalem@gmail.com) and Jim Gatheral (jim.gatheral@gmail.com) by the due date and time.  All R-code must run correctly and solutions must be written up neatly in Markdown/LaTeX format."
   ]
  },
  {
   "cell_type": "markdown",
   "metadata": {},
   "source": [
    "* **Author: Hongchao Pan**\n",
    "* Kernel Version: R 3.3.2\n",
    "* Packages/Libraries: repr \n",
    "* Notes:"
   ]
  },
  {
   "cell_type": "code",
   "execution_count": 1,
   "metadata": {
    "collapsed": true
   },
   "outputs": [],
   "source": [
    "# Load libraries\n",
    "library(repr)"
   ]
  },
  {
   "cell_type": "markdown",
   "metadata": {},
   "source": [
    "## Numerical solution of Fredholm equation"
   ]
  },
  {
   "cell_type": "markdown",
   "metadata": {},
   "source": [
    "### 1. (12 points)\n",
    "Consider the Fredholm equation (7) in Lecture 10:\n",
    "\n",
    "$$\n",
    "\\int_0^T{G}(|t-s|)\\,dx_s =\\text{const.}\\qquad\\text{for all $t\\in [0,T]$.}\n",
    "$$\n",
    "\n",
    "Define $t_i:={i}\\frac T{N}$. One way to discretize this integral equation is as follows:\n",
    "\n",
    "$$\n",
    "\\sum_{j=1}^N G_{ij}\\,v_j=\\text{const.}\n",
    "$$\n",
    "\n",
    "where $v_j=x_{t_{j}}-x_{t_{j-1}}$ and\n",
    "\n",
    "<a name=\"eq:1\"></a>(1)\n",
    "$$\n",
    "G_{ij}=\n",
    "\\int_{t_{i-1}}^{t_i}\\,\\int_{t_{j-1}}^{t_j}\\,G(|t-s|)\\,ds\\,dt.\n",
    "$$\n",
    "\n",
    "(a) Derive an explicit expression for the $G_{ij}$ in the case\n",
    "$$\n",
    "G(\\tau)=\\frac {1}{(1+\\tau)^2}.\n",
    "$$\n",
    "You will need to compute separate expressions for the cases $i \\neq j$ and $i=j$.\n",
    "\n",
    "(b) With $N=512$, use matrix algebra to solve equation [(1)](#eq:1) numerically with this decay kernel.\n",
    "\n",
    "(c) Plot your results - you should end up with something like Figure 2 of Lecture 10.\n",
    "\n"
   ]
  },
  {
   "cell_type": "markdown",
   "metadata": {},
   "source": [
    "### Answer of Q1\n",
    "\n",
    "#### Answer of (a): Derive explicit expression of $G_{ij}$"
   ]
  },
  {
   "cell_type": "markdown",
   "metadata": {},
   "source": [
    "* Given $t_i=i\\frac{T}{N}$, Denote $\\delta t=\\frac{T}{N}$.\n",
    "\n",
    "\n",
    "* if $i=j$, we have:\n",
    "$$\n",
    "\\begin{eqnarray*}\n",
    "G_{ij} &=& \\int_{t_{i-1}}^{t_i} \\int_{t_{i-1}}^{t_i} \\frac{1}{(1+|t-s|)^2}dsdt\\\\\n",
    "&=& \\int_{t_{i-1}}^{t_i} \\int_{t_{i-1},\\,s<t}^{t} \\frac{1}{(1+t-s)^2}dsdt + \\int_{t_{i-1}}^{t_i} \\int_{t,\\,s>t}^{t_i} \\frac{1}{(1+t-s)^2}dsdt\\\\\n",
    "&=& \\int_{t_{i-1}}^{t_i} \\frac{1}{1+t-s}\\big|_{t_{i-1}}^t dt -\\int_{t_{i-1}}^{t_i} \\frac{1}{1+s-t}\\big|_t^{t_i}dt\\\\\n",
    "&=& \\int_{t_{i-1}}^{t_i} \\left(2-\\frac{2}{1+t-t_{i-1}}\\right)dt\\\\\n",
    "&=& 2(t_i-t_{i-1})-2ln(1+t_i-t_{i-1})\\\\\n",
    "&=& 2\\frac{T}{N}-2ln\\left(1+\\frac{T}{N}\\right)\\\\\n",
    "&=& 2\\delta t -2ln\\left(1+\\delta t\\right)\n",
    "\\end{eqnarray*}\n",
    "$$\n",
    "\n",
    "\n",
    "* If $i>j \\rightarrow s<t$, we have:\n",
    "$$\n",
    "\\begin{eqnarray*}\n",
    "G_{ij} &=& \\int_{t_{i-1}}^{t_i} \\int_{t_{j-1}}^{t_j} \\frac{1}{(1+|t-s|)^2}dsdt\\\\\n",
    "&=& \\int_{t_{i-1}}^{t_i} \\int_{t_{i-1}}^{t_i} \\frac{1}{(1+t-s)^2}dsdt\\\\\n",
    "&=& \\int_{t_{i-1}}^{t_i} \\frac{1}{1+t-s}\\big|_{t_{j-1}}^{t_j} dt \\\\\n",
    "&=& \\int_{t_{i-1}}^{t_i} \\frac{1}{1+t-t_j}dt - \\int_{t_{i-1}}^{t_i} \\frac{1}{1+t-t_{j-1}}dt\\\\\n",
    "&=& ln\\frac{1+t_i-t_j}{1+t_{i-1}-t_j} - ln\\frac{1+t_i-t_{j-1}}{1+t_{i-1}-t_{j-1}}\\\\\n",
    "&=& ln \\frac{\\left[1+(i-j)\\frac{T}{N}\\right]^2}{\\left[1+(i-1-j)\\frac{T}{N}\\right] \\left[1+(i+1-j)\\frac{T}{N}\\right]}\\\\\n",
    "&=& ln \\frac{\\left[1+(i-j)\\delta t\\right]^2}{\\left[1+(i-1-j)\\delta t\\right] \\left[1+(i+1-j)\\delta t\\right]}\n",
    "\\end{eqnarray*}\n",
    "$$\n",
    "\n",
    "\n",
    "* If $i<j \\rightarrow s>t$, we have:\n",
    "$$\n",
    "\\begin{eqnarray*}\n",
    "G_{ij} &=& \\int_{t_{i-1}}^{t_i} \\int_{t_{j-1}}^{t_j} \\frac{1}{(1+|t-s|)^2}dsdt\\\\\n",
    "&=& \\int_{t_{i-1}}^{t_i} \\int_{t_{i-1}}^{t_i} \\frac{1}{(1+s-t)^2}dsdt\\\\\n",
    "&=& \\int_{t_{i-1}}^{t_i} -\\frac{1}{1+s-t}\\big|_{t_{j-1}}^{t_j} dt\\\\\n",
    "&=& \\int_{t_{i-1}}^{t_i} \\frac{1}{1+t_{j-1}-t} dt - \\int_{t_{i-1}}^{t_i} \\frac{1}{1+t_j-t}dt\\\\\n",
    "&=& ln\\frac{1+t_j-t_i}{1+t_j-t_{i-1}} - ln\\frac{1+t_{j-1}-t_i}{1+t_{j-1}-t_i}\\\\\n",
    "&=& ln \\frac{\\left[1+(j-1)\\frac{T}{N}\\right]^2}{\\left[1+(j-i+1)\\frac{T}{N}\\right] \\left[1+(j-1-i)\\frac{T}{N}\\right]}\\\\\n",
    "&=& ln \\frac{\\left[1+(j-1)\\delta t\\right]^2}{\\left[1+(j-i+1)\\delta t\\right] \\left[1+(j-1-i)\\delta t\\right]}\\\\\n",
    "\\end{eqnarray*}\n",
    "$$"
   ]
  },
  {
   "cell_type": "markdown",
   "metadata": {},
   "source": [
    "#### Answer of (b): Solve the equation numerically"
   ]
  },
  {
   "cell_type": "code",
   "execution_count": 2,
   "metadata": {
    "collapsed": true
   },
   "outputs": [],
   "source": [
    "# Initialize the parameters\n",
    "T<- 1  # Assume T=1\n",
    "N<- 512 # Number of steps/intervals\n",
    "\n",
    "# Define function to compute G_ij\n",
    "G_ij<- function (i,j,dt){\n",
    "    if(i==j){\n",
    "        # Equation 1\n",
    "        return (2*dt-2*log(1+dt))\n",
    "    }\n",
    "    else if(i>j){\n",
    "        # Equation 2\n",
    "        return (log(((1+(i-j)*dt)**2)/((1+(i-j-1)*dt)*(1+(i+1-j)*dt))))\n",
    "    }\n",
    "    else{\n",
    "        # Equation 3\n",
    "        return (log(((1+(j-i)*dt)**2)/((1+(j-i+1)*dt)*(1+(j-1-i)*dt))))\n",
    "    }\n",
    "}\n"
   ]
  },
  {
   "cell_type": "code",
   "execution_count": 3,
   "metadata": {
    "collapsed": false
   },
   "outputs": [],
   "source": [
    "# Get the matrix G based on i,j\n",
    "G<- matrix(0,nrow = N,ncol = N) # initialize G with all 0\n",
    "for(i in 1:N){\n",
    "    for (j in 1:N){\n",
    "        G[i,j]<- G_ij(i,j,T/N) # dt=T/N\n",
    "    }\n",
    "}\n"
   ]
  },
  {
   "cell_type": "code",
   "execution_count": 4,
   "metadata": {
    "collapsed": false
   },
   "outputs": [
    {
     "name": "stdout",
     "output_type": "stream",
     "text": [
      "The equation has been solved numerically with following heading values: 13.8249 -3.633898 1.044031 -0.209541 0.126226 0.036133"
     ]
    }
   ],
   "source": [
    "# Solve GV=C\n",
    "# Assume constant vector C as following\n",
    "C<- rep(1/10000,N)\n",
    "V<- solve(G,C)\n",
    "cat(\"The equation has been solved numerically with following heading values:\" \n",
    "    ,round(head(V),6))"
   ]
  },
  {
   "cell_type": "markdown",
   "metadata": {},
   "source": [
    "#### Answer of (c): Plot the numerical solution"
   ]
  },
  {
   "cell_type": "code",
   "execution_count": 5,
   "metadata": {
    "collapsed": false
   },
   "outputs": [
    {
     "data": {
      "image/png": "[encoded data removed]",
      "text/plain": [
       "Plot with title “Numerical solution of the Fredholm equation”"
      ]
     },
     "metadata": {},
     "output_type": "display_data"
    }
   ],
   "source": [
    "# Plot the V\n",
    "X<- seq(1/N,T,1/N)  # Steps: 1/N\n",
    "options(repr.plot.height=4, repr.plot.width=6)\n",
    "plot(X,V,type='l',col='red',lwd=2,xlab='Time',ylab=expression(paste(mu)),\n",
    "    main='Numerical solution of the Fredholm equation')"
   ]
  },
  {
   "cell_type": "markdown",
   "metadata": {},
   "source": [
    "Figure 1. Numerical solution of the decay kernel"
   ]
  },
  {
   "cell_type": "markdown",
   "metadata": {},
   "source": [
    "## Optimal interval VWAP strategy in the square-root model"
   ]
  },
  {
   "cell_type": "markdown",
   "metadata": {},
   "source": [
    "### 2. (12 points)\n",
    "\n",
    "Consider equation (11) of Lecture 10 for the cost of liquidation using interval VWAPs:\n",
    "\n",
    "$$\n",
    "\\cC=\\sum_{j=1}^m\\,C_{jj}+\\sum_{i< j}^m\\,C_{ji}.\n",
    "$$\n",
    "\n",
    "(a) With $m=3$ (that is 3 interval VWAP slices), and assuming the square-root process where\n",
    "\n",
    "$$\n",
    "h(v)=\\frac  3 4 \\sigma\\,\\sqrt{\\frac{v}{V}} =\\frac  3 4 \\sigma\\,\\sqrt{\\frac{\\dot x}{V}}, \n",
    "\\quad \\mbox{ and } \\quad\n",
    "G(\\tau)=1/\\sqrt{\\tau},\n",
    "$$\n",
    "\n",
    "compute explicit expressions for the matrix elements $C_{ji}$ in terms of $x_1$, $x_2$, $t_1$, and $t_2$ (noting that $t_0=0$ and $t_3=T$).\n",
    "\n",
    "(b) Minimize the resulting expression for the expected cost of liquidation numerically to find optimal choices of $x_1$ and $x_2$ when $t_1=T/3$, and $t_2=2 \\,T/3$.\n",
    "\n",
    "(c) What is the percentage saving from trading with the 3-slice strategy relative to a VWAP?\n",
    "\n",
    "(d) Explain to your non-mathematical manager why this strategy has lower expected cost."
   ]
  },
  {
   "cell_type": "markdown",
   "metadata": {},
   "source": [
    "### Answer of Q2\n",
    "\n",
    "#### Answer of (a): Expilict expressions"
   ]
  },
  {
   "cell_type": "markdown",
   "metadata": {},
   "source": [
    "* From Lecture #10, we know that if $i=j$,\n",
    "$$\n",
    "\\begin{eqnarray*}\n",
    "C_{ii}&=&\\frac{x_i}{t_{i}-t_{i-1}}\\,h(v_i)\\,\\int_{t_{i-1}}^{t_i}\\,dt\\,\\int_{t_{i-1}}^{t}\\,\\frac{1}{\\sqrt{t-s}}\\,ds\\\\\n",
    "&=&\n",
    "\\frac{4}{3}\\,x_i\\,h(v_i)\\,\\sqrt{t_i-t_{i-1}}.\n",
    "\\end{eqnarray*}\n",
    "$$\n",
    "Given $h(v)=\\frac  3 4 \\sigma\\,\\sqrt{\\frac{v}{V}}$, and $v_i=\\frac{x_i}{t_i-t_{i-1}}$, then we have:\n",
    "$$\n",
    "\\begin{eqnarray*}\n",
    "C_{ii} &=& \\frac{4}{3}\\,x_i\\,h(v_i)\\,\\sqrt{t_i-t_{i-1}}\\\\\n",
    "&=& \\frac{4}{3}\\,x_i\\,\\frac{3}{4}\\sigma \\sqrt{\\frac{v_i}{V}}\\,\\sqrt{t_i-t_{i-1}}\\\\\n",
    "&=& \\frac{\\sigma}{\\sqrt{V}}x_i\\sqrt{x_i}\n",
    "\\end{eqnarray*}\n",
    "$$\n",
    "\n",
    "\n",
    "* From Lecture #10, if $i<j$, we have:\n",
    "$$\n",
    "\\begin{eqnarray*}\n",
    "C_{ji}&=&\\frac{x_j}{t_{j}-t_{j-1}}\\,h(v_i)\\,\\int_{t_{j-1}}^{t_j}\\,dt\\,\\int_{t_{i-1}}^{t_i}\\,\\frac{1}{\\sqrt{t-s}}\\,ds\\\\&=&\n",
    "\\frac{4}{3}\\,x_j\\,h(v_i)\\times\\\\&&\\frac{\\left(t_{j}-t_{i-1}\\right)^{3/2} \n",
    "-\\left(t_{j}-t_{i}\\right)^{3/2}\n",
    "-\\left(t_{j-1}-t_{i-1}\\right)^{3/2}\n",
    "+\\left(t_{j-1}-t_{i}\\right)^{3/2}\n",
    "}{t_{j}-t_{j-1}}\\end{eqnarray*}\n",
    "$$\n",
    "With the same conditions, we have:\n",
    "$$\n",
    "C_{ji}=\\frac{\\sigma x_j\\sqrt{x_i}}{\\sqrt{V(t_i-t_{i-1})}} \\frac{\\left(t_{j}-t_{i-1}\\right)^{3/2} \n",
    "-\\left(t_{j}-t_{i}\\right)^{3/2}\n",
    "-\\left(t_{j-1}-t_{i-1}\\right)^{3/2}\n",
    "+\\left(t_{j-1}-t_{i}\\right)^{3/2}\n",
    "}{t_{j}-t_{j-1}}\n",
    "$$"
   ]
  },
  {
   "cell_type": "markdown",
   "metadata": {},
   "source": [
    "#### Answer of (b): Find optimal $x_1$ and $x_2$"
   ]
  },
  {
   "cell_type": "markdown",
   "metadata": {},
   "source": [
    "* Denote the total shares of 3 slices is $X$, then we have $x_3=X-x_1-x_2$\n",
    "\n",
    "\n",
    "* Given $t_0=0,t_1=T/3, t_2=2T/3, t_3=T$, we have:\n",
    "$$\n",
    "\\begin{eqnarray*}\n",
    "C_{11} &=&\\frac{\\sigma}{V}{x_1}^{3/2}\\\\\n",
    "C_{22} &=&\\frac{\\sigma}{V}{x_2}^{3/2}\\\\\n",
    "C_{33} &=&\\frac{\\sigma}{V}{x_3}^{3/2}\\\\\n",
    "C_{21} &=& x_2\\sqrt{x_1}\\frac{\\sigma}{\\sqrt{V(t_1-t_0)}}\\frac{t_2^{3/2}-(t_2-t_1)^{3/2}-t_1^{3/2}}{t_2-t_1}\\\\\n",
    "&=& (2\\sqrt{2}-2) x_2\\sqrt{x_1}\\frac{\\sigma}{\\sqrt{V}}\\\\\n",
    "C_{31}&=& x_3\\sqrt{x_1}\\frac{\\sigma}{\\sqrt{V(t_1-t_0)}} \\frac{t_3^{3/2}-(t_3-t_1)^{3/2}-t_2^{3/2}+(t_2-t_1)^{3/2}}{t_2-t_1}\\\\\n",
    "&=& (3\\sqrt{3}-4\\sqrt{2}+1)x_3\\sqrt{x_1}\\frac{\\sigma}{\\sqrt{V}}\\\\\n",
    "C_{32}&=& x_3\\sqrt{x_2}\\frac{\\sigma}{\\sqrt{V(t_2-t_1)}}  \\frac{(t_3-t_1)^{3/2}-(t_3-t_2)^{3/2}-(t_2-t_1)^{3/2}}{t_3-t_2}\\\\\n",
    "&=& (2\\sqrt{2}-2)x_3\\sqrt{x_2}\\frac{\\sigma}{\\sqrt{V}}\n",
    "\\end{eqnarray*}\n",
    "$$\n",
    "\n",
    "\n",
    "\n",
    "* Therefore, the implementation of the cost as following"
   ]
  },
  {
   "cell_type": "code",
   "execution_count": 6,
   "metadata": {
    "collapsed": true
   },
   "outputs": [],
   "source": [
    "# Initialize parameters\n",
    "X<- 100000 # Assume total shares = 1000000\n",
    "# Assume Vol and V =1 for simiplify\n",
    "vol<- 1 \n",
    "V<-1\n",
    "\n",
    "# Define a function to compute cost\n",
    "Cost<- function(x){\n",
    "    # parameter x is a vector/list contain two values: x1 and x2\n",
    "    # Get x1,x2,x3\n",
    "    x1<- x[1]\n",
    "    x2<- x[2]\n",
    "    x3<- X-x1-x2\n",
    "    \n",
    "    # Cii\n",
    "    C11<- (vol/V)*(x1**1.5)\n",
    "    C22<- (vol/V)*(x2**1.5)\n",
    "    C33<- (vol/V)*(x3**1.5)\n",
    "    \n",
    "    # Cji with i<j\n",
    "    C21<- (2*sqrt(2)-2)*x2*sqrt(x1)*vol/sqrt(V)\n",
    "    C31<- (3*sqrt(3)-4*sqrt(2)+1)*x3*sqrt(x1)*vol/sqrt(V)\n",
    "    C32<- (2*sqrt(2)-2)*x3*sqrt(x2)*vol/sqrt(V)\n",
    "    \n",
    "    return(C11+C22+C33+C21+C31+C32)\n",
    "    \n",
    "}"
   ]
  },
  {
   "cell_type": "code",
   "execution_count": 7,
   "metadata": {
    "collapsed": false
   },
   "outputs": [
    {
     "data": {
      "text/html": [
       "<ol class=list-inline>\n",
       "\t<li>64702.8125094697</li>\n",
       "\t<li>1.38428477567887e-08</li>\n",
       "</ol>\n"
      ],
      "text/latex": [
       "\\begin{enumerate*}\n",
       "\\item 64702.8125094697\n",
       "\\item 1.38428477567887e-08\n",
       "\\end{enumerate*}\n"
      ],
      "text/markdown": [
       "1. 64702.8125094697\n",
       "2. 1.38428477567887e-08\n",
       "\n",
       "\n"
      ],
      "text/plain": [
       "[1] 6.470281e+04 1.384285e-08"
      ]
     },
     "metadata": {},
     "output_type": "display_data"
    }
   ],
   "source": [
    "# Optimization\n",
    "options(warn = -1) # Do not show warning\n",
    "# Initial guess: x1=10000 and x2=100\n",
    "# Initial guess: x2=100 since the strage is 3-slices strategy\n",
    "res<- optim(c(10000,100),Cost) \n",
    "res$par # x1 and x2 (almost 0)"
   ]
  },
  {
   "cell_type": "code",
   "execution_count": 8,
   "metadata": {
    "collapsed": false
   },
   "outputs": [
    {
     "name": "stdout",
     "output_type": "stream",
     "text": [
      "The optimal choice of x1 with given conditions is:  64.703 % \n",
      "The optimal choice of x2 with given conditions is:  0 % \n"
     ]
    }
   ],
   "source": [
    "# Get the optimal x1, x2, and x3 with form percentage\n",
    "opt_x1<- res$par[1]\n",
    "opt_x2<- res$par[2]\n",
    "x1_pect<- round(opt_x1/X,5)\n",
    "x2_pect<- round(opt_x2/X,5)\n",
    "x3_pect<- 1-x1_pect-x2_pect\n",
    "cat(\"The optimal choice of x1 with given conditions is: \",x1_pect*100,\"%\",\"\\n\")\n",
    "cat(\"The optimal choice of x2 with given conditions is: \",x2_pect*100,\"%\",\"\\n\")"
   ]
  },
  {
   "cell_type": "markdown",
   "metadata": {},
   "source": [
    "#### Answer of (c): Saving smount of the cost"
   ]
  },
  {
   "cell_type": "code",
   "execution_count": 9,
   "metadata": {
    "collapsed": false
   },
   "outputs": [
    {
     "name": "stdout",
     "output_type": "stream",
     "text": [
      "The percentage saving cost is:  11.67 %"
     ]
    }
   ],
   "source": [
    "cost_VWAP<- X*sqrt(X) # Cost of VWAP\n",
    "cost_slices<- Cost(res$par) # optimial minimum cost\n",
    "saving_pect<- (cost_VWAP-cost_slices)/cost_VWAP\n",
    "cat(\"The percentage saving cost is: \",round(saving_pect*100,2),\"%\")"
   ]
  },
  {
   "cell_type": "markdown",
   "metadata": {},
   "source": [
    "#### Answer of (d): Explanation of lower cost"
   ]
  },
  {
   "cell_type": "markdown",
   "metadata": {},
   "source": [
    "* The trading rate is constant in VWAP trading stategy, which indicates that the market impact accumulated continuously from the trading with no gaps when he/she use VWAP.\n",
    "\n",
    "\n",
    "* However, as we can see from answers of (b) in Q2 that $x_2$ is 0 in the 3-slice strategy, which implies that there is a gap between order $x_1$ and $x_3$. The market impact is not continuous, thus the market impact of order $x_1$ will decay in trading period $t_2$ compare to the continuous impact in $t_2$ in VWAP strategy. Therefore, we have lower expected cost in slice strategy than VWAP strategy."
   ]
  },
  {
   "cell_type": "code",
   "execution_count": null,
   "metadata": {
    "collapsed": true
   },
   "outputs": [],
   "source": []
  }
 ],
 "metadata": {
  "kernelspec": {
   "display_name": "R",
   "language": "R",
   "name": "ir"
  },
  "language_info": {
   "codemirror_mode": "r",
   "file_extension": ".r",
   "mimetype": "text/x-r-source",
   "name": "R",
   "pygments_lexer": "r",
   "version": "3.3.2"
  }
 },
 "nbformat": 4,
 "nbformat_minor": 0
}
