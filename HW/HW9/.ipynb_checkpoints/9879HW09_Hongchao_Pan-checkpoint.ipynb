{
 "cells": [
  {
   "cell_type": "markdown",
   "metadata": {},
   "source": [
    "# MTH9879 Homework 9\n",
    "\n",
    "Assigned: April 25, 2017.\n",
    "Due: May 9, 2017 by 6pm. \n",
    "\n",
    "Late homework **will not be accepted**.\n",
    "\n",
    "$$\n",
    "\\newcommand{\\supp}{\\mathrm{supp}}\n",
    "\\newcommand{\\E}{\\mathbb{E}}\n",
    "\\newcommand{\\Eof}[1]{\\mathbb{E}\\left[ #1 \\right]}\n",
    "\\def\\Cov{{ \\mbox{Cov} }}\n",
    "\\def\\Var{{ \\mbox{Var} }}\n",
    "\\newcommand{\\1}{\\mathbf{1} }\n",
    "\\newcommand{\\PP}{\\mathbb{P} }\n",
    "%\\newcommand{\\Pr}{\\mathrm{Pr} }\n",
    "\\newcommand{\\QQ}{\\mathbb{Q} }\n",
    "\\newcommand{\\RR}{\\mathbb{R} }\n",
    "\\newcommand{\\DD}{\\mathbb{D} }\n",
    "\\newcommand{\\HH}{\\mathbb{H} }\n",
    "\\newcommand{\\spn}{\\mathrm{span} }\n",
    "\\newcommand{\\cov}{\\mathrm{cov} }\n",
    "\\newcommand{\\sgn}{\\mathrm{sgn} }\n",
    "\\newcommand{\\HS}{\\mathcal{L}_{\\mathrm{HS}} }\n",
    "%\\newcommand{\\HS}{\\mathrm{HS} }\n",
    "\\newcommand{\\trace}{\\mathrm{trace} }\n",
    "\\newcommand{\\LL}{\\mathcal{L} }\n",
    "%\\newcommand{\\LL}{\\mathrm{L} }\n",
    "\\newcommand{\\s}{\\mathcal{S} }\n",
    "\\newcommand{\\ee}{\\mathcal{E} }\n",
    "\\newcommand{\\ff}{\\mathcal{F} }\n",
    "\\newcommand{\\hh}{\\mathcal{H} }\n",
    "\\newcommand{\\bb}{\\mathcal{B} }\n",
    "\\newcommand{\\dd}{\\mathcal{D} }\n",
    "\\newcommand{\\g}{\\mathcal{G} }\n",
    "\\newcommand{\\p}{\\partial}\n",
    "\\newcommand{\\half}{\\frac{1}{2} }\n",
    "\\newcommand{\\T}{\\mathcal{T} }\n",
    "\\newcommand{\\bi}{\\begin{itemize}}\n",
    "\\newcommand{\\ei}{\\end{itemize}}\n",
    "\\newcommand{\\beq}{\\begin{equation}}\n",
    "\\newcommand{\\eeq}{\\end{equation}}\n",
    "\\newcommand{\\beas}{\\begin{eqnarray*}}\n",
    "\\newcommand{\\eeas}{\\end{eqnarray*}}\n",
    "\\newcommand{\\cO}{\\mathcal{O}}\n",
    "\\newcommand{\\cC}{\\mathcal{C}}\n",
    "\\newcommand{\\cF}{\\mathcal{F}}\n",
    "\\newcommand{\\cL}{\\mathcal{L}}\n",
    "\\newcommand{\\BS}{\\text{BS}}\n",
    "$$"
   ]
  },
  {
   "cell_type": "markdown",
   "metadata": {},
   "source": [
    "<font color = \"red\">Homework is to be done by each student individually.  To receive full credit, you must email a completed copy of this iPython notebook to Victor Istratov (stavka@gmail.com), Yassine Ghalem (yassine.ghalem@gmail.com) and Jim Gatheral (jim.gatheral@gmail.com) by the due date and time.  All R-code must run correctly and solutions must be written up neatly in Markdown/LaTeX format.\n"
   ]
  },
  {
   "cell_type": "markdown",
   "metadata": {},
   "source": [
    "* **Author: Hongchao Pan**\n",
    "* Kernel Version: R 3.3.2\n",
    "* Packages/Libraries: \n",
    "* Notes:\n",
    "    * Correction: the optimal trading rate given in Q1 (c):\n",
    "    $$\n",
    "    v^\\star = \\frac{x}{T-t} - \\frac{1}{4}\\, \\kappa \\, (T-t)\n",
    "    $$\n",
    "    <font color=blue>\n",
    "    Should be: \n",
    "    $$\n",
    "    v^\\star = \\frac{x}{T-t} + \\frac{1}{4}\\, \\kappa \\, (T-t)\n",
    "    $$\n",
    "    </font>\n",
    "    \n",
    "    * Q2:\n",
    "        * Assume initial position is 10000\n",
    "        * Only consider buy order (corresponding signed.trades is positive)"
   ]
  },
  {
   "cell_type": "code",
   "execution_count": 1,
   "metadata": {
    "collapsed": true
   },
   "outputs": [],
   "source": [
    "# Load libraries\n",
    "library(repr)"
   ]
  },
  {
   "cell_type": "markdown",
   "metadata": {},
   "source": [
    "### 1. (20 points)\n",
    "Following Almgren and Chriss,  assume that the stock price $S_t$ evolves as\n",
    "\n",
    "$$\n",
    "dS_t = \\sigma\\,dZ_t\n",
    "$$\n",
    "\n",
    "and the price $\\tilde S_t$ at which we transact is given by\n",
    "\n",
    "$$\n",
    "\\tilde S_t = S_t - \\eta\\,v_t\n",
    "$$\n",
    "\n",
    "where $v_t:=-{\\dot x}_t$ is the rate of trading with $x_0 = X$ and $x_T = 0$.\n",
    "\n",
    "In the lecture notes, we showed that with a risk term that penalizes average VaR instead of variance, the risk-adjusted cost of trading associated with a given price path $\\{S_t\\}$ is given by\n",
    "\n",
    "$$\n",
    "C = \\int_0^T\\,(S_t - \\eta\\,v_t) \\,dx_t + \\lambda\\,\\sigma\\,\\int_0^T\\,x_t\\,dt\n",
    "$$\n",
    "\n",
    "for some price of risk $\\lambda$. We want to find a (possibly state-dependent) control $v_t$ that minimizes the expected cost $\\cC=\\E[C]$.\n",
    "\n",
    "(a) Apply the technique of integration by parts to simplify the term $\\int_0^T S_t dx_t$. Does the optimal strategy depend on the stock price $S_t$?  Why not?  Write down the HJB equation for the resulting problem.\n",
    "\n",
    "(b) Solve the first order condition to find the optimal trading rate $v^\\star$.    \n",
    "\n",
    "(c) Substitute $v^\\star$ back into the HJB equation to show that the value function $\\cC$ must satisfy\n",
    "$$\n",
    "\\cC_t = \\frac{\\cC_x^2}{4\\,\\eta\\,} - \\lambda \\sigma x.\n",
    "$$\n",
    "\n",
    "(d) With the terminal condition, \n",
    "\n",
    "$$\\lim_{t\\uparrow T}\\cC(t,x) = \\begin{cases}0&\\text{if $x=0$,}\\\\\n",
    "+\\infty&\\text{if $x\\neq0$.}\n",
    "\\end{cases}$$\n",
    "\n",
    "solve the HJB equaiton with the ansatz $\\cC(t,x) = \\eta\\,\\left[a(t)\\,x^2 + b(t)\\,x + c(t)\\right]$. Verify that the optimal trading rate is given by\n",
    "\n",
    "$$\n",
    "v^\\star = \\frac{x}{T-t} - \\frac{1}{4}\\, \\kappa \\, (T-t)\n",
    "$$\n",
    "<font color=blue>\n",
    "Should be: \n",
    "$$\n",
    "v^\\star = \\frac{x}{T-t} + \\frac{1}{4}\\, \\kappa \\, (T-t)\n",
    "$$\n",
    "</font>\n",
    "with \n",
    "\n",
    "$$\n",
    "\\kappa = \\frac{\\lambda\\,\\sigma}{\\eta}.\n",
    "$$\n",
    "\n",
    "(e) Define the characteristic time $T^\\star$ as\n",
    "\n",
    "$$\n",
    "T^\\star=\\sqrt{\\frac{4\\,X}{\\kappa}}=\\sqrt{\\frac{4\\,\\eta\\,X}{\\lambda\\,\\sigma}}.\n",
    "$$\n",
    "\n",
    "\n",
    "Verify that the optimal trading strategy with liquidation horizon set to the characteristic time $T^\\star$ is given by\n",
    "\n",
    "$$\n",
    "\\begin{eqnarray*}\n",
    "x_t&=&X\\,\\left(1-\\frac{t}{T}\\right)^2.\n",
    "\\end{eqnarray*}\n",
    "$$\n"
   ]
  },
  {
   "cell_type": "markdown",
   "metadata": {},
   "source": [
    "### Answers of Q1\n",
    "\n",
    "#### Answer of (a)"
   ]
  },
  {
   "cell_type": "markdown",
   "metadata": {},
   "source": [
    "* Apply Ito's product rule (or trick of integration by part) to $S_tx_t$, we have:\n",
    "$$\n",
    "\\begin{eqnarray*}\n",
    "d(S_tx_t) &=& x_t dS_t + S_tdx_t + d[S_tx_t]\\\\\n",
    "&=& x_t dS_t + S_tdx_t  (*)\\\\\n",
    "&=& S_Tx_T - S_0x_0 (**)\\\\\n",
    "&=& -S_0X\n",
    "\\end{eqnarray*}\n",
    "$$\n",
    "$\\text{(*)}$: $d[S_tx_t]=0$, since we only consider buy(sell) if buy(sell) order <br>\n",
    "$\\text{(**)}$: $x_0=X, x_T=0$ <br>\n",
    "$\\Rightarrow$\n",
    "$$\n",
    "\\begin{eqnarray*}\n",
    "\\int_0^T S_tdx_t &=& -S_0X+\\int_0^T x_tdS_t\\\\\n",
    "\\mathbb{E}\\left(\\int_0^T S_tdx_t\\right) &=& -S_0X+ \\mathbb{E}\\left(\\int_0^T x_tdS_t\\right)\\\\\n",
    "&=& -S_0X\n",
    "\\end{eqnarray*}\n",
    "$$\n",
    "\n",
    "* Therefore, we have:\n",
    "$$\n",
    "\\begin{eqnarray*}\n",
    "\\E[C]&=& \\E\\left(\\int_0^T S_tdx_t -\\eta \\int_0^T v_tdx_t +\\lambda \\sigma \\int_0^T x_t dt \\right)\\\\\n",
    "&=& -S_0X +\\E\\left(\\eta \\int_0^T {v_t}^2 dt + \\lambda \\sigma \\int_0^T x_t dt \\right) (*)\\\\\n",
    "&=& -S_0X +\\left(\\eta \\int_0^T {v_t}^2 dt + \\lambda \\sigma \\int_0^T x_t dt \\right)\n",
    "\\end{eqnarray*}\n",
    "$$\n",
    "where $v_t=-\\dot{x_t}$<br>\n",
    "$\\Rightarrow$\n",
    "The optimal strategy is:\n",
    "$$\n",
    "{C}(t,x)=\\min_{v\\in\\mathcal G[t,T]}\\left(\\E(C)\\right) = \\min_{v\\in\\mathcal G[t,T]}\\left(\\eta \\int_t^T {v_s}^2 ds + \\lambda \\sigma \\int_t^T x_s ds \\right)\n",
    "$$\n",
    "\n",
    "\n",
    "* Since $x_0=X, x_T=0$, we can see the optimal strategy above is determinstic, i.e., not depend on stock price $S_t$.\n",
    "\n",
    "\n",
    "* Based on equation (3) in Lecture notes #9, we can write the HJB equation as following:\n",
    "$$\n",
    "\\frac{\\partial {C}}{\\partial t} + \\lambda\\,\\sigma\\,x_t + \\min_{v \\in \\mathcal{G}}\\left\\{-v\\,{C}_x + \\eta\\,v^2\\right\\}=0\n",
    "$$"
   ]
  },
  {
   "cell_type": "markdown",
   "metadata": {},
   "source": [
    "#### Answer of (b)"
   ]
  },
  {
   "cell_type": "markdown",
   "metadata": {},
   "source": [
    "* Denote $y=\\left\\{-v\\,{C}_x + \\eta\\,v^2\\right\\}$\n",
    "\n",
    "\n",
    "* Take the derivative of $y$ with respect to $v$, we have:\n",
    "$$\n",
    "v^\\star = \\frac{{C}_x}{2\\eta}\n",
    "$$"
   ]
  },
  {
   "cell_type": "markdown",
   "metadata": {},
   "source": [
    "#### Answer of (c)"
   ]
  },
  {
   "cell_type": "markdown",
   "metadata": {},
   "source": [
    "* Substitute $v^\\star$ back to the HJB equation in (a), we have:\n",
    "$$\n",
    "\\frac{\\partial {C}}{\\partial t} + \\lambda\\,\\sigma\\,x_t  -\\frac{{C}_x}{2\\eta}\\,{C}_x + \\eta \\frac{{{C}_x}^2}{4\\eta^2}=0\n",
    "$$\n",
    "$\\Rightarrow$\n",
    "$$\n",
    "{C}_t=\\frac{{{C}_x}^2}{4\\eta}-\\lambda \\sigma x\n",
    "$$\n",
    "with $x_t=x$"
   ]
  },
  {
   "cell_type": "markdown",
   "metadata": {},
   "source": [
    "#### Answer of (d)"
   ]
  },
  {
   "cell_type": "markdown",
   "metadata": {},
   "source": [
    "* Since $C(t,x) = \\eta\\left[a(t)\\,x^2 + b(t)\\,x + c(t)\\right]$, we have:\n",
    "$$\n",
    "C_t=\\eta \\left[\\dot{a(t)}x^2 +\\dot{b(t)}x+\\dot{c(t)}\\right]\\\\\n",
    "C_x=\\eta \\left[2a(t)x+b(t) \\right]\n",
    "$$\n",
    "\n",
    "\n",
    "* Substitute these back to HJB equation in (c), we have:\n",
    "$$\n",
    "\\frac{\\eta^2 \\left[4a^2(t)+b^2(t)+4a(t)b(t)\\right]}{4\\eta}-\\lambda \\sigma x -\\eta \\left[\\dot{a(t)}x^2+\\dot{b(t)}x+\\dot{c(t)}\\right]=0\n",
    "$$\n",
    "$\\Rightarrow$\n",
    "$$\n",
    "\\dot{a(t)}-a^2(t)=0\\\\\n",
    "\\eta\\dot{b(t)}+\\lambda \\sigma -\\eta a(t)b(t)=0\\\\\n",
    "\\dot{c(t)}-\\frac{b^2(t)}{4}=0\n",
    "$$\n",
    "With the given terminal condition, \n",
    "$$\\lim_{t\\uparrow T}\\cC(t,x) = \\begin{cases}0&\\text{if $x=0$,}\\\\\n",
    "+\\infty&\\text{if $x\\neq0$.}\n",
    "\\end{cases}$$\n",
    "We have:\n",
    "$$\n",
    "a(t)=\\frac{1}{T-t} \\\\\n",
    "b(t)=\\frac{\\lambda \\sigma}{2\\eta}(T-t)\\\\\n",
    "c(t)=-\\frac{\\lambda^2\\sigma^2}{48\\eta^2}(T-t)^3\n",
    "$$\n",
    "Then \n",
    "$$\n",
    "C(t,x)=\\eta \\left[\\frac{1}{T-t}x^2+\\frac{\\lambda \\sigma}{2\\eta}(T-t) x-\\frac{\\lambda^2\\sigma^2}{48\\eta^2}(T-t)^3 \\right]\n",
    "$$\n",
    "\n",
    "\n",
    "* The optimal trading rate then will be:\n",
    "$$\n",
    "\\begin{eqnarray*}\n",
    "v^\\star &=& \\frac{C_x}{2\\eta}\\\\\n",
    "&=& \\frac{\\eta\\left[2a(t)x+b(t)\\right]}{2\\eta}\\\\\n",
    "&=& {\\frac{x}{T-t}+\\frac{\\lambda \\sigma}{4\\eta}(T-t)}\\\\\n",
    "&=& {\\frac{x}{T-t}+\\frac{1}{4}\\kappa (T-t)}\n",
    "\\end{eqnarray*}\n",
    "$$\n",
    "where $\\kappa=\\frac{\\lambda \\sigma}{\\eta}$"
   ]
  },
  {
   "cell_type": "markdown",
   "metadata": {},
   "source": [
    "#### Answer of (e)"
   ]
  },
  {
   "cell_type": "markdown",
   "metadata": {},
   "source": [
    "* From Lecture #9, we have:<br><br>\n",
    "The Euler-Lagrange equation:\n",
    "$$\\ddot x- A=0$$\n",
    "with\n",
    "$$A=\\frac{\\lambda\\,\\sigma}{2\\,\\eta}=\\frac{\\kappa}{2}$$\n",
    "\n",
    "\n",
    "* With the boundary conditions $x_0=X$, $x_T=0$. The solution is then\n",
    "$$x(t)=\\left(X-\\frac{A \\, T}{2}\\,t\\right)\\,\\left(1-\\frac{t}{T}\\right)$$\n",
    "\n",
    "\n",
    "* Given $T^\\star =\\sqrt{\\frac{4X}{\\kappa}} \\,\\rightarrow\\, \\frac{\\kappa}{4}=\\frac{X}{T^2}$, we have:\n",
    "$$\n",
    "\\begin{eqnarray*}\n",
    "x(t) &=& \\left(X-\\frac{\\kappa T}{4}t\\right)\\left(1-\\frac{t}{T}\\right)\\\\\n",
    "&=& \\left(X-\\frac{t}{T}X\\right)\\left(1-\\frac{t}{T}\\right)\\\\\n",
    "&=& X\\left(1-\\frac{t}{T}\\right)^2\n",
    "\\end{eqnarray*}\n",
    "$$"
   ]
  },
  {
   "cell_type": "markdown",
   "metadata": {},
   "source": [
    "## ABM and GBM"
   ]
  },
  {
   "cell_type": "markdown",
   "metadata": {},
   "source": [
    "### Download MSFT data"
   ]
  },
  {
   "cell_type": "code",
   "execution_count": 2,
   "metadata": {
    "collapsed": false
   },
   "outputs": [
    {
     "name": "stderr",
     "output_type": "stream",
     "text": [
      "Loading required package: xts\n",
      "Loading required package: zoo\n",
      "\n",
      "Attaching package: ‘zoo’\n",
      "\n",
      "The following objects are masked from ‘package:base’:\n",
      "\n",
      "    as.Date, as.Date.numeric\n",
      "\n"
     ]
    }
   ],
   "source": [
    "library(highfrequency)\n",
    "download.file(url=\"http://mfe.baruch.cuny.edu/wp-content/uploads/2015/03/MSFT130311.rData_.zip\", destfile=\"MSFT130311.zip\")\n",
    "unzip(zipfile=\"MSFT130311.zip\")\n",
    "load(\"MSFT130311.rData\")"
   ]
  },
  {
   "cell_type": "markdown",
   "metadata": {},
   "source": [
    "### 2. (8 points)\n",
    "\n",
    "Recall from the lecture slides that with time-averaged VaR as the risk penalty, and when the liquidation time $T$ is chosen to be the characteristic time, the optimal trading rate under ABM becomes\n",
    "\n",
    "$$\n",
    "v^A(t)= \\frac{x_t}{T-t}\\,+\\frac{X}{T}\\,\\left(1-\\frac t T\\right)\n",
    "$$\n",
    "\n",
    "and the optimal trading rate under GBM becomes\n",
    "\n",
    "$$\n",
    "v^G(t)= \\frac{x_t}{T-t}\\,+\\frac{X}{T}\\,\\frac{S_t}{S_0}\\,\\left(1-\\frac t T\\right).\n",
    "$$\n",
    "\n",
    "(a) The *msft.bats* dataset from *MSFT130311.rData* contains all trades on the BATS exchange on 11-Mar-2013.  One trading days has 390 minutes.  Sample the  *msft.bats* dataset evenly, roughly every minute of volume time.  Superimpose plots of the optimal strategy under ABM and GBM assuming liquidation takes place over one trading day.\n",
    "\n",
    "(b) Denote the corresponding position sizes by $x^A(t)$ and $x^G(t)$ respectively.  What is the maximum deviation of the two position sizes as a percentage of the initial position $X$?  How significant is this deviation?\n",
    "\n"
   ]
  },
  {
   "cell_type": "markdown",
   "metadata": {},
   "source": [
    "### Answers of Q2\n",
    "\n",
    "#### Answer of (a): Plots"
   ]
  },
  {
   "cell_type": "code",
   "execution_count": 3,
   "metadata": {
    "collapsed": false
   },
   "outputs": [
    {
     "data": {
      "image/png": "[encoded data removed]",
      "text/plain": [
       "plot without title"
      ]
     },
     "metadata": {},
     "output_type": "display_data"
    }
   ],
   "source": [
    "# Plot the msft.bats trade price to check outliers\n",
    "options(repr.plot.height=4, repr.plot.width=8)\n",
    "plot(msft130311.bats$trade.price,type = 'l',col=\"blue\",ylab=\"msft.bats trade price\")"
   ]
  },
  {
   "cell_type": "markdown",
   "metadata": {},
   "source": [
    "Figure 1. Overview of msft.bats trade prices"
   ]
  },
  {
   "cell_type": "code",
   "execution_count": 4,
   "metadata": {
    "collapsed": false
   },
   "outputs": [
    {
     "data": {
      "text/html": [
       "<table>\n",
       "<thead><tr><th scope=col>signed.shares</th><th scope=col>trade.price</th></tr></thead>\n",
       "<tbody>\n",
       "\t<tr><td> 35  </td><td>27.95</td></tr>\n",
       "\t<tr><td>100  </td><td>27.90</td></tr>\n",
       "\t<tr><td>900  </td><td>27.91</td></tr>\n",
       "\t<tr><td>400  </td><td>27.94</td></tr>\n",
       "\t<tr><td>100  </td><td>27.94</td></tr>\n",
       "\t<tr><td>100  </td><td>27.94</td></tr>\n",
       "</tbody>\n",
       "</table>\n"
      ],
      "text/latex": [
       "\\begin{tabular}{r|ll}\n",
       " signed.shares & trade.price\\\\\n",
       "\\hline\n",
       "\t  35   & 27.95\\\\\n",
       "\t 100   & 27.90\\\\\n",
       "\t 900   & 27.91\\\\\n",
       "\t 400   & 27.94\\\\\n",
       "\t 100   & 27.94\\\\\n",
       "\t 100   & 27.94\\\\\n",
       "\\end{tabular}\n"
      ],
      "text/markdown": [
       "\n",
       "signed.shares | trade.price | \n",
       "|---|---|---|---|---|---|\n",
       "|  35   | 27.95 | \n",
       "| 100   | 27.90 | \n",
       "| 900   | 27.91 | \n",
       "| 400   | 27.94 | \n",
       "| 100   | 27.94 | \n",
       "| 100   | 27.94 | \n",
       "\n",
       "\n"
      ],
      "text/plain": [
       "  signed.shares trade.price\n",
       "1  35           27.95      \n",
       "2 100           27.90      \n",
       "3 900           27.91      \n",
       "4 400           27.94      \n",
       "5 100           27.94      \n",
       "6 100           27.94      "
      ]
     },
     "metadata": {},
     "output_type": "display_data"
    }
   ],
   "source": [
    "# Retrive the dataset\n",
    "df<- msft130311.bats\n",
    "head(df)"
   ]
  },
  {
   "cell_type": "code",
   "execution_count": 5,
   "metadata": {
    "collapsed": false
   },
   "outputs": [],
   "source": [
    "# Initialize the parameters\n",
    "T<- 390  # One day trading time: 390mins\n",
    "X<- 10000  # Assume the initial position X=10000\n",
    "\n",
    "# Get the cumulative sum of trade positions\n",
    "# Since the model only consider buy if buy order or sell if sell order\n",
    "# Adjust all the positions to be buy order, i.e., positive signs\n",
    "# Only select the positive positions (buy order)\n",
    "subdf<- subset(df,signed.shares>=0)\n",
    "subdf$cumshares<- cumsum(subdf$signed.shares)\n",
    "\n",
    "\n",
    "# Total number and total volume of trades\n",
    "num_trades<- length(subdf$cumshares)\n",
    "tol_vol<- subdf$cumshares[num_trades] # The last element of cumulative shares is the total shares\n",
    "\n",
    "\n",
    "\n",
    "# Sample the msft.bats dataset evenly, roughly every minute of volume time\n",
    "samples<- seq(1,tol_vol,tol_vol/T)\n",
    "\n",
    "# Sample indices\n",
    "sample_ind<- c(1:length(samples))\n",
    "\n",
    "# Compare the cumulative sum of shares with samples\n",
    "j<- 1\n",
    "for(i in 1:num_trades){\n",
    "    if(subdf$cumshares[i]>samples[j] && j<=length(samples)){\n",
    "        sample_ind[j]<- i\n",
    "        j<- j+1\n",
    "    }\n",
    "}\n",
    "\n",
    "# Construct the price path S_t based on the indices above and trade.price in msft.bats\n",
    "price_path<- subdf[sample_ind,'trade.price']\n",
    "\n",
    "# Calculate the trading rate under ABM and GBM\n",
    "# x_t=X(1-t/T)^2\n",
    "# Trival list for future using\n",
    "v_ABM<- c(1:T)\n",
    "v_GBM<- c(1:T)\n",
    "# Initial price\n",
    "S0<- price_path[1]\n",
    "# Position sizes under ABM and GBM\n",
    "x_ABM<- c(0:T)\n",
    "x_GBM<- c(0:T)\n",
    "x_ABM[1]<- X # Initial position\n",
    "x_GBM[1]<- X # Initial position\n",
    "\n",
    "for (t in 1: T){\n",
    "    v_ABM[t]<- (x_ABM[t])/(T-t) + X*(1-t/T)/T  # optimal trading rate v of ABM\n",
    "    x_ABM[t+1]<- max(x_ABM[t]-v_ABM[t],0)    # The position next step under ABM\n",
    "    \n",
    "    v_GBM[t]<- (x_GBM[t])/(T-t) + X*price_path[t]*(1-t/T)/(T*S0)  # optimal trading rate v of ABM\n",
    "    x_GBM[t+1]<- max(x_GBM[t]-v_GBM[t],0)  # The position next step under GBM\n",
    "}\n"
   ]
  },
  {
   "cell_type": "code",
   "execution_count": 6,
   "metadata": {
    "collapsed": false
   },
   "outputs": [
    {
     "data": {
      "image/png": "[encoded data removed]",
      "text/plain": [
       "Plot with title “Optimal trading rates under ABM VS GBM”"
      ]
     },
     "metadata": {},
     "output_type": "display_data"
    }
   ],
   "source": [
    "# Plot the optimal trading rate under ABM and GBM\n",
    "options(repr.plot.height=5, repr.plot.width=10)\n",
    "plot(1:T,v_ABM,xlab='Time steps/mins',ylab='Optimal trading rate',\n",
    "    main='Optimal trading rates under ABM VS GBM',type='l',col='black',lwd=3)\n",
    "lines(1:T,v_GBM,lty=2,col='orange',lwd=3)\n",
    "legend('topright',c('ABM','GBM'),lty=c(1,2),col=c('black','orange'),lwd=2,\n",
    "      text.col=c('black','orange'),y.intersp=1.5,cex=1, inset=0.003,box.col='white')"
   ]
  },
  {
   "cell_type": "markdown",
   "metadata": {},
   "source": [
    "Figure 2. Optimal trading rates under ABM and GBM. Notes: they are very close"
   ]
  },
  {
   "cell_type": "markdown",
   "metadata": {},
   "source": [
    "#### Answer of (b): Maximum percentage deviation of position sizes"
   ]
  },
  {
   "cell_type": "code",
   "execution_count": 7,
   "metadata": {
    "collapsed": false
   },
   "outputs": [
    {
     "name": "stdout",
     "output_type": "stream",
     "text": [
      "The maximum percentage deviation of position sizes is:  0.121514 % \n",
      "The maximum percentage deviation is so small that is not significant."
     ]
    }
   ],
   "source": [
    "# Compute the deviation between two position sizes\n",
    "dev<- (x_GBM-x_ABM)*100/X\n",
    "dev<- dev[-length(dev)]  # Avoid the last element - NaN\n",
    "cat(\"The maximum percentage deviation of position sizes is: \",round(max(abs(dev)),9),\"%\",\"\\n\")\n",
    "cat(\"The maximum percentage deviation is so small that is not significant.\")"
   ]
  },
  {
   "cell_type": "markdown",
   "metadata": {},
   "source": [
    "## Kratz and Schöneborn with time-averaged VaR risk charge"
   ]
  },
  {
   "cell_type": "markdown",
   "metadata": {},
   "source": [
    "### 3. (12 points)\n",
    "\n",
    "(a) Repeat the computation of the optimal strategy from the lecture notes with time-averaged VaR\n",
    "\n",
    "$$\n",
    "\\lambda\\,\\sigma\\,\\int_0^T\\,x_t\\,dt\n",
    "$$\n",
    "\n",
    "as the risk term (rather than the quadratic variation $\\lambda\\,\\sigma^2\\,\\int_0^T\\,x_t^2\\,dt$).  Show that the optimal position\n",
    "\n",
    "$$\n",
    "x^\\star(t)=\\left(X-\\frac{A\\, T}{\\theta }\\right)\\,\\frac{1-e^{-\\theta\\,(T-t)} }{1-e^{-\\theta\\,T }}+\\frac{A }{\\theta }\\,(T-t)\n",
    "$$\n",
    "and deduce the optimal trading rate $v^\\star(t)$.\n",
    "\n",
    "(b) By Taylor-expanding the solution around $\\theta=0$, show that we retrieve the solution derived in the slides with no dark pool\n",
    "\n",
    "$$\n",
    "x^\\star(t)=\\left(X-\\frac{A \\, T}{2}\\,t\\right)\\,\\left(1-\\frac{t}{T}\\right) .\n",
    "$$\n",
    "\n",
    "in the limit $\\theta \\to 0$.\n"
   ]
  },
  {
   "cell_type": "markdown",
   "metadata": {},
   "source": [
    "### Answers of Q3\n",
    "\n",
    "#### Answer of (a)"
   ]
  },
  {
   "cell_type": "markdown",
   "metadata": {},
   "source": [
    "* With time-averaged VaR as risk term, then the expected risk-adjusted cost is then given by\n",
    "\n",
    "$$\n",
    "\\begin{eqnarray*}\n",
    "\\E[C] &=& \\E \\left[\\eta\\,\\int_0^T\\,{\\dot x}_t^2\\,dt + \\lambda\\,\\sigma\\,\\int_0^T\\,x_t\\,dt\\right]\\\\\n",
    "\\end{eqnarray*}\n",
    "$$\n",
    "\n",
    "\n",
    "* In this case, the expected risk-adjusted cost is then adjusted to the following:\n",
    "$$\n",
    "\\begin{eqnarray*}\n",
    "\\E[C] &=& \\E \\left[\\left(\\eta\\,\\int_0^T\\,{\\dot x}_t^2\\,dt + \\lambda\\,\\sigma\\,\\int_0^T\\,x_t\\,dt\\right)1_{t<t^{\\star}}\\right]\\\\\n",
    "&=& \\eta \\, \\E\\left[\\int_0^T \\left({\\dot x}_t^2+\\frac{\\lambda \\sigma}{\\eta} x_t \\right)1_{t<t^{\\star}}dt \\right]\\\\\n",
    "&=& \\eta \\, \\E \\left[\\int_0^T \\left({\\dot x}_t^2+\\frac{\\lambda \\sigma}{\\eta} x_t \\right)e^{-\\theta t}dt \\right]\\\\\n",
    "&=& \\eta \\, \\E \\left[\\int_0^T \\left({\\dot x}_t^2 e^{-\\theta t}+\\frac{\\lambda \\sigma}{\\eta} e^{-\\theta t} x_t \\right)dt \\right]\\\\\n",
    "\\end{eqnarray*}\n",
    "$$\n",
    "\n",
    "\n",
    "* Apply the Euler-lagrange equation to the above equation, we have:\n",
    "$$\n",
    "\\frac{d}{dt}(2\\dot{x}_te^{-\\theta t}) - \\frac{\\lambda\\sigma}{\\eta}e^{-\\theta t} = 0 \n",
    "$$\n",
    "$\\Rightarrow$\n",
    "$$\n",
    "2\\ddot{x}_t e^{-\\theta t} - 2\\theta\\dot{x}_te^{-\\theta t}- \\frac{\\lambda\\sigma}{\\eta}e^{-\\theta t} = 0 \n",
    "$$\n",
    "$\\Rightarrow$\n",
    "$$\n",
    "\\ddot{x}_t - \\theta\\dot{x}_t - \\frac{\\lambda\\sigma}{2\\eta} = 0\n",
    "$$\n",
    "\n",
    "\n",
    "* With terminal condition, $x_0=X, x_T=0$, we can solve the above ODE to get the result as:\n",
    "$$ \n",
    "x^\\star(t)=\\left(X-\\frac{\\lambda \\sigma\\, T}{2\\eta \\theta }\\right)\\,\\frac{1-e^{-\\theta\\,(T-t)} }{1-e^{-\\theta\\,T }}+\\frac{\\lambda \\sigma }{2\\eta \\theta }\\,(T-t) \n",
    "$$\n",
    "\n",
    "\n",
    "* Denote $A=\\frac{\\lambda \\sigma}{2\\eta}$, we have:\n",
    "$$ \n",
    "x^\\star(t)=\\left(X-\\frac{A\\, T}{\\theta }\\right)\\,\\frac{1-e^{-\\theta\\,(T-t)} }{1-e^{-\\theta\\,T }}+\\frac{A }{\\theta }\\,(T-t) \n",
    "$$\n",
    "\n",
    "* Then the corresponding optimal trading rate is:\n",
    "$$\n",
    "v^\\star(t)=-\\dot{x}^\\star(t)=\\left(X-\\frac{A\\, T}{\\theta }\\right)\\,\\frac{\\theta e^{-\\theta\\,(T-t)} }{1-e^{-\\theta\\,T }}+\\frac{A }{\\theta }\n",
    "$$"
   ]
  },
  {
   "cell_type": "markdown",
   "metadata": {},
   "source": [
    "#### Answer of (b): Taylor expansion"
   ]
  },
  {
   "cell_type": "markdown",
   "metadata": {},
   "source": [
    "* Denote $f(\\theta)=1-e^{-\\theta (T-t)}$, and $g(\\theta)=1-e^{-\\theta T}$, then we have:\n",
    "$$\n",
    "f(0)=0\\\\\n",
    "f'(\\theta)=(T-t)e^{-\\theta (T-t)} \\,\\rightarrow \\, f'(0)=(T-t)\\\\\n",
    "f''(\\theta)=-(T-t)^2e^{-\\theta (T-t)} \\,\\rightarrow \\, f''(0)=-(T-t)^2\\\\\n",
    "f^{(3)}(\\theta)=(T-t)^3e^{-\\theta (T-t)} \\,\\rightarrow \\, f^{(3)}(0)=(T-t)^3\\\\\n",
    "...\\\\\n",
    "f^{(n)}(\\theta)=(-1)^{n+1}(T-t)^ne^{-\\theta (T-t)} \\,\\rightarrow \\, f^{(n)}(0)=(-1)^{n+1}(T-t)^n\\\\\n",
    "$$\n",
    "Similary, for $g(\\theta)$, we have:\n",
    "$$\n",
    "g(0)=0\\\\\n",
    "g'(\\theta)=Te^{-\\theta T} \\,\\rightarrow \\, g'(0)=T\\\\\n",
    "g''(\\theta)=-T^2e^{-\\theta T} \\,\\rightarrow \\, g''(0)=-T^2\\\\\n",
    "g^{(3)}(\\theta)=T^3e^{-\\theta T} \\,\\rightarrow \\, g^{(3)}(0)=T^3\\\\\n",
    "...\\\\\n",
    "g^{(n)}(\\theta)=(-1)^{n+1}T^ne^{-\\theta T} \\,\\rightarrow \\, g^{(n)}(0)=(-1)^{n+1}T^n\\\\\n",
    "$$\n",
    "\n",
    "\n",
    "* Based on the fomula of Taylor expansion and by choosing the 1st and 2nd order of Taylor series for approximation, then we have:\n",
    "$$\n",
    "1-e^{-\\theta(T-t)} \\approx (T-t)\\theta -\\frac{(T-t)^2}{2}\\theta^2 \\\\\n",
    "1-e^{-\\theta T} \\approx T \\theta - \\frac{T^2}{2}\\theta^2\n",
    "$$\n",
    "$\\Rightarrow$\n",
    "$$\n",
    "\\begin{eqnarray*}\n",
    "x^\\star(t)&=& \\left(X-\\frac{A\\, T}{\\theta }\\right)\\,\\frac{1-e^{-\\theta\\,(T-t)} }{1-e^{-\\theta\\,T }}+\\frac{A }{ \\theta }\\,(T-t) \\\\ \n",
    "&\\approx&\\left(X-\\frac{A\\, T}{ \\theta }\\right)\\,\\frac{(T-t)\\theta-\\frac{1}{2}(T-t)^2\\theta^2}{T\\theta-\\frac{1}{2}T^2\\theta^2}+\\frac{A }{ \\theta }\\,(T-t) \\\\\n",
    "&=& X\\frac{(T-t)-\\frac{1}{2}(T-t)^2\\theta}{T-\\frac{1}{2}T^2\\theta} - \\frac{AT}{\\theta}\\frac{(T-t)-\\frac{1}{2}(T-t)^2\\theta}{T-\\frac{1}{2}T^2\\theta} + \\frac{A(T-t)}{\\theta}\\\\\n",
    "&=& X\\frac{(T-t)-\\frac{1}{2}(T-t)^2\\theta}{T-\\frac{1}{2}T^2\\theta} +\\frac{A(T-t)}{\\theta} - \\frac{A(T-t)\\left(1-\\frac{T-t}{2}\\theta\\right)}{\\theta \\left(1-\\frac{1}{2}T\\theta\\right)}\\\\\n",
    "&=& X\\frac{(T-t)-\\frac{1}{2}(T-t)^2\\theta}{T-\\frac{1}{2}T^2\\theta} - A(T-t)\\frac{\\frac{1}{2}t}{1-\\frac{1}{2}T\\theta}\\\\\n",
    "&\\underset{lim\\,\\theta \\rightarrow0}\\approx& X\\left(1-\\frac{t}{T}\\right)-\\frac{ATt}{2}\\left(1-\\frac{t}{T}\\right)\\\\\n",
    "&\\underset{lim\\,\\theta \\rightarrow0}=& \\left(X-\\frac{AT}{2}t\\right)\\left(1-\\frac{t}{T}\\right)\n",
    "\\end{eqnarray*}\n",
    "$$"
   ]
  }
 ],
 "metadata": {
  "kernelspec": {
   "display_name": "R",
   "language": "R",
   "name": "ir"
  },
  "language_info": {
   "codemirror_mode": "r",
   "file_extension": ".r",
   "mimetype": "text/x-r-source",
   "name": "R",
   "pygments_lexer": "r",
   "version": "3.3.2"
  }
 },
 "nbformat": 4,
 "nbformat_minor": 0
}
