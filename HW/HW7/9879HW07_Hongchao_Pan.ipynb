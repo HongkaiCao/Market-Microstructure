{
 "cells": [
  {
   "cell_type": "markdown",
   "metadata": {},
   "source": [
    "# MTH9879 Homework 7\n",
    "\n",
    "Assigned: March 29, 2017.\n",
    "Due: April 25, 2017 by 6pm. \n",
    "\n",
    "Late homework **will not be accepted**.\n",
    "\n",
    "$$\n",
    "\\newcommand{\\supp}{\\mathrm{supp}}\n",
    "\\newcommand{\\E}{\\mathbb{E}}\n",
    "\\newcommand{\\Eof}[1]{\\mathbb{E}\\left[ #1 \\right]}\n",
    "\\def\\Cov{{ \\mbox{Cov} }}\n",
    "\\def\\Var{{ \\mbox{Var} }}\n",
    "\\newcommand{\\1}{\\mathbf{1} }\n",
    "\\newcommand{\\PP}{\\mathbb{P} }\n",
    "%\\newcommand{\\Pr}{\\mathrm{Pr} }\n",
    "\\newcommand{\\QQ}{\\mathbb{Q} }\n",
    "\\newcommand{\\RR}{\\mathbb{R} }\n",
    "\\newcommand{\\DD}{\\mathbb{D} }\n",
    "\\newcommand{\\HH}{\\mathbb{H} }\n",
    "\\newcommand{\\spn}{\\mathrm{span} }\n",
    "\\newcommand{\\cov}{\\mathrm{cov} }\n",
    "\\newcommand{\\sgn}{\\mathrm{sgn} }\n",
    "\\newcommand{\\HS}{\\mathcal{L}_{\\mathrm{HS}} }\n",
    "%\\newcommand{\\HS}{\\mathrm{HS} }\n",
    "\\newcommand{\\trace}{\\mathrm{trace} }\n",
    "\\newcommand{\\LL}{\\mathcal{L} }\n",
    "%\\newcommand{\\LL}{\\mathrm{L} }\n",
    "\\newcommand{\\s}{\\mathcal{S} }\n",
    "\\newcommand{\\ee}{\\mathcal{E} }\n",
    "\\newcommand{\\ff}{\\mathcal{F} }\n",
    "\\newcommand{\\hh}{\\mathcal{H} }\n",
    "\\newcommand{\\bb}{\\mathcal{B} }\n",
    "\\newcommand{\\dd}{\\mathcal{D} }\n",
    "\\newcommand{\\g}{\\mathcal{G} }\n",
    "\\newcommand{\\p}{\\partial}\n",
    "\\newcommand{\\half}{\\frac{1}{2} }\n",
    "\\newcommand{\\T}{\\mathcal{T} }\n",
    "\\newcommand{\\bi}{\\begin{itemize}}\n",
    "\\newcommand{\\ei}{\\end{itemize}}\n",
    "\\newcommand{\\beq}{\\begin{equation}}\n",
    "\\newcommand{\\eeq}{\\end{equation}}\n",
    "\\newcommand{\\beas}{\\begin{eqnarray*}}\n",
    "\\newcommand{\\eeas}{\\end{eqnarray*}}\n",
    "\\newcommand{\\cO}{\\mathcal{O}}\n",
    "\\newcommand{\\cF}{\\mathcal{F}}\n",
    "\\newcommand{\\cL}{\\mathcal{L}}\n",
    "\\newcommand{\\BS}{\\text{BS}}\n",
    "$$"
   ]
  },
  {
   "cell_type": "markdown",
   "metadata": {},
   "source": [
    "<font color = \"red\">Homework is to be done by each student individually.  To receive full credit, you must email a completed copy of this iPython notebook to Victor Istratov (stavka@gmail.com), Yassine Ghalem (yassine.ghalem@gmail.com) and Jim Gatheral (jim.gatheral@gmail.com) by the due date and time.  All R-code must run correctly and solutions must be written up neatly in Markdown/LaTeX format."
   ]
  },
  {
   "cell_type": "markdown",
   "metadata": {},
   "source": [
    "* **Author: Hongchao Pan**\n",
    "* Kernel Version: R 3.3.2\n",
    "* Packages/Libraries: repr, highfrequency\n",
    "* Notes:\n",
    "    * The running time of this notebook is around 8s\n",
    "    * Trade signs computed by using sign() in highfrequency package"
   ]
  },
  {
   "cell_type": "code",
   "execution_count": 1,
   "metadata": {
    "collapsed": false
   },
   "outputs": [],
   "source": [
    "# Load libraries\n",
    "library(repr)   # Change feature of plot"
   ]
  },
  {
   "cell_type": "code",
   "execution_count": 2,
   "metadata": {
    "collapsed": true
   },
   "outputs": [],
   "source": [
    "# Record the total running time of this notebook\n",
    "# Starting record the time\n",
    "ptm<-proc.time()"
   ]
  },
  {
   "cell_type": "markdown",
   "metadata": {},
   "source": [
    "### 0. (0 points) \n",
    "Read Sections 4, 5 and 6 of Bouchaud, Farmer and Lillo."
   ]
  },
  {
   "cell_type": "markdown",
   "metadata": {},
   "source": [
    "## Long memory"
   ]
  },
  {
   "cell_type": "markdown",
   "metadata": {},
   "source": [
    "### 1. (6 points)\n",
    "\n",
    "Consider the long memory process\n",
    "\n",
    "$$\n",
    "X_T=\\sum_{i=1}^T\\,\\epsilon_i\n",
    "$$\n",
    "\n",
    "with autocovariance function $\\gamma(\\tau)=\\E[\\epsilon_i\\,\\epsilon_{i-\\tau}] \\sim \\tau^{-\\alpha}$.  Show that as $\\tau \\to \\infty$,\n",
    "\n",
    "$$\n",
    "\\Var[X_{t+\\tau}-X_t] \\sim \\tau ^{2\\,H}\n",
    "$$\n",
    "\n",
    "where the Hurst exponent $H$ is given by\n",
    "\n",
    "$$\n",
    "H=1-\\frac{\\alpha}{2}.\n",
    "$$"
   ]
  },
  {
   "cell_type": "markdown",
   "metadata": {},
   "source": [
    "### Answer of Q1"
   ]
  },
  {
   "cell_type": "markdown",
   "metadata": {},
   "source": [
    "* From $X_T=\\sum_{i=1}^T\\,\\epsilon_i$, we have:\n",
    "$$\n",
    "\\begin{eqnarray*}\n",
    "X_{t+\\tau}-X_t & = & \\sum_{i=1}^{t+\\tau}\\epsilon_i - \\sum_{i=1}^{t}\\epsilon_i \\\\\n",
    "& = & \\sum_{i=t+1}^{t+\\tau}\\epsilon_i\n",
    "\\end{eqnarray*}\n",
    "$$"
   ]
  },
  {
   "cell_type": "markdown",
   "metadata": {},
   "source": [
    "* Thus:\n",
    "$$\n",
    "\\begin{eqnarray*}\n",
    "\\text{Var}[X_{t+\\tau}-X_t] &=& \\text{Var}[\\sum_{i=t+1}^{t+\\tau}\\epsilon_i] \\\\\n",
    "&=& \\sum_{i=t+1}^{t+\\tau}\\text{Var}[\\epsilon_i] + 2\\sum_{1 \\le i<j \\le \\tau} \\text{Cov}[\\epsilon_i,\\epsilon_j] \\\\\n",
    "&=& \\tau+2\\sum_{1 \\le i<j \\le \\tau}\\left(\\mathbb{E}\\left(\\epsilon_i\\epsilon_j\\right)-\\mathbb{E}\\left(\\epsilon_i\\right)\\mathbb{E}\\left(\\epsilon_j\\right)\\right) \\\\\n",
    "&=& \\tau+2\\sum_{1 \\le i<j \\le \\tau}\\left(\\mathbb{E}\\left(\\epsilon_i\\epsilon_j\\right) \\right) \\\\\n",
    "&\\sim& \\tau+ 2\\sum_{i=1}^{\\tau-1}\\sum_{k=1}^{\\tau-i}k^{-\\alpha}\\,\\text{ Let } k =j-i\\\\\n",
    "&\\approx& \\tau + 2\\sum_{i=1}^{\\tau-1}\\frac{k^{1-\\alpha}}{1-\\alpha}\\bigg|_1^{\\tau-i} (*)\\\\\n",
    "&=& \\tau + 2\\sum_{i=1}^{\\tau-1}\\left(\\frac{(\\tau-i)^{1-\\alpha}}{1-\\alpha}-\\frac{1}{1-\\alpha}\\right) \\\\\n",
    "&\\approx& \\tau + 2 \\left(\\frac{(\\tau-i)^{2-\\alpha}}{2-\\alpha}\\bigg|_{1}^{\\tau-1} - \\frac{\\tau-1}{1-\\alpha}\\right) (**)\\\\\n",
    "&=& \\tau + 2\\left(\\frac{1-(\\tau-1)^{2-\\alpha}}{2-\\alpha}-\\frac{\\tau-1}{1-\\alpha}\\right)\\\\\n",
    "&=& \\tau + \\frac{2}{\\alpha-2}(\\tau-1)^{2-\\alpha}+ \\text{const.}\\\\\n",
    "&\\sim& \\tau^{2-\\alpha}\\\\\n",
    "&=& \\tau^{2H}\n",
    "\\end{eqnarray*}\n",
    "$$\n",
    "with \n",
    "$$\n",
    "H=1-\\frac{\\alpha}{2}\\\\\n",
    "\\mathbb{E}(\\epsilon_i)=0\\\\\n",
    "\\sigma_{\\epsilon_i}=1\\\\\n",
    "\\tau \\rightarrow \\infty\n",
    "$$\n",
    "The sum of powers formula used in $\\text{(*) and (**)}$:\n",
    "$$\n",
    "\\sum_{a\\le k<b}k^m = \\frac{k^{m+1}}{m+1}\\bigg|_a^b\n",
    "$$\n",
    "with $a \\le b$, and $m \\neq -1$\n",
    "    \n",
    "    Reference:http://homepages.gac.edu/~holte/courses/mcs256/documents/summation/top10sums.pdf"
   ]
  },
  {
   "cell_type": "markdown",
   "metadata": {},
   "source": [
    "## MSFT data from Alejandro Ca&ntilde;ete"
   ]
  },
  {
   "cell_type": "code",
   "execution_count": 3,
   "metadata": {
    "collapsed": false
   },
   "outputs": [
    {
     "name": "stderr",
     "output_type": "stream",
     "text": [
      "Loading required package: xts\n",
      "Loading required package: zoo\n",
      "\n",
      "Attaching package: ‘zoo’\n",
      "\n",
      "The following objects are masked from ‘package:base’:\n",
      "\n",
      "    as.Date, as.Date.numeric\n",
      "\n"
     ]
    }
   ],
   "source": [
    "library(highfrequency)\n",
    "download.file(url=\"http://mfe.baruch.cuny.edu/wp-content/uploads/2015/03/MSFT130311.rData_.zip\", destfile=\"MSFT130311.zip\")\n",
    "unzip(zipfile=\"MSFT130311.zip\")\n",
    "load(\"MSFT130311.rData\")"
   ]
  },
  {
   "cell_type": "markdown",
   "metadata": {},
   "source": [
    "### 2. (10 points)\n",
    "\n",
    "(a) Generate the series *tradeSign* of trade signs from the *msft130311.inet* data frame.\n",
    "\n",
    "(b) Fit an AR(1) model to the *tradeSign*  data to give the forecast:\n",
    "    $$\n",
    "    \\hat \\epsilon^{(1)}_t=\\phi_1\\,\\epsilon_{t-1}\n",
    "    $$\n",
    "\n",
    "(c) How does $\\phi_1$ relate to the autocorrelation coefficients of *tradeSign*?  What is the mean-squared error of this AR(1) forecast?\n",
    "\n",
    "(d) Fit an $AR(p)$ model to the *tradeSign* data, allowing R to find the best value of $p$ using the default AIC criterion.  This generates the forecast:\n",
    "    $$\n",
    "    \\hat \\epsilon^{(2)}_t=\\sum_{k=1}^p\\,\\phi_k\\,\\epsilon_{t-k}.\n",
    "    $$\n",
    "\n",
    "(e) What value of $p$ is selected by R?  What is the mean-squared error of this AR(p) forecast?\n"
   ]
  },
  {
   "cell_type": "markdown",
   "metadata": {},
   "source": [
    "### Answer of Q2"
   ]
  },
  {
   "cell_type": "markdown",
   "metadata": {},
   "source": [
    "#### Answer of (a): Generate trade signs from the *msft130311.inet* data frame"
   ]
  },
  {
   "cell_type": "code",
   "execution_count": 4,
   "metadata": {
    "collapsed": false
   },
   "outputs": [
    {
     "data": {
      "image/png": "[encoded data removed]",
      "text/plain": [
       "Plot with title “Outlier check of msft130311.inet”"
      ]
     },
     "metadata": {},
     "output_type": "display_data"
    }
   ],
   "source": [
    "# Check the data from price: outliers\n",
    "options(repr.plot.height=4, repr.plot.width=6)\n",
    "plot(msft130311.inet$trade.price,type = 'l', col='blue',\n",
    "    ylab='INET trade price',main='Outlier check of msft130311.inet')"
   ]
  },
  {
   "cell_type": "markdown",
   "metadata": {},
   "source": [
    "Figure 1. Outelier check of *msft130311.inet* data: No outliers"
   ]
  },
  {
   "cell_type": "code",
   "execution_count": 5,
   "metadata": {
    "collapsed": false
   },
   "outputs": [],
   "source": [
    "# Compute the trade signs to generate series tradeSign by using signed.shares data\n",
    "tradeSign<- sign(msft130311.inet$signed.shares)"
   ]
  },
  {
   "cell_type": "markdown",
   "metadata": {},
   "source": [
    "#### Answer of (b): Fit an AR(1) model to the tradeSign data\n",
    "* Reference: https://stat.ethz.ch/R-manual/R-devel/library/stats/html/ar.html"
   ]
  },
  {
   "cell_type": "code",
   "execution_count": 6,
   "metadata": {
    "collapsed": false
   },
   "outputs": [
    {
     "data": {
      "text/plain": [
       "\n",
       "Call:\n",
       "ar(x = tradeSign, aic = FALSE, order.max = 1, demean = FALSE)\n",
       "\n",
       "Coefficients:\n",
       "     1  \n",
       "0.8223  \n",
       "\n",
       "Order selected 1  sigma^2 estimated as  0.3238"
      ]
     },
     "metadata": {},
     "output_type": "display_data"
    }
   ],
   "source": [
    "# Fit AR(1) model to tradeSign\n",
    "# No need to compute the AIC to selet order, assign order=1\n",
    "# demean=FALSE: the mean is not estimated during the fitting\n",
    "TSar1<- ar(tradeSign,aic=FALSE,order.max=1,demean=FALSE)\n",
    "TSar1"
   ]
  },
  {
   "cell_type": "markdown",
   "metadata": {},
   "source": [
    "#### Answer of (c): How does $\\phi_1$ relate to the autocorrelation coefficients of *tradeSign*?  What is the mean-squared error of this AR(1) forecast"
   ]
  },
  {
   "cell_type": "markdown",
   "metadata": {},
   "source": [
    "* **$\\phi_1$ & autocorrelation coefficient of *tradeSign***"
   ]
  },
  {
   "cell_type": "code",
   "execution_count": 7,
   "metadata": {
    "collapsed": false
   },
   "outputs": [
    {
     "data": {
      "text/plain": [
       "\n",
       "Autocorrelations of series ‘tradeSign’, by lag\n",
       "\n",
       "    0     1     2     3     4     5     6     7     8     9    10    11    12 \n",
       "1.000 0.822 0.714 0.645 0.594 0.556 0.522 0.495 0.478 0.459 0.438 0.423 0.407 \n",
       "   13    14    15    16    17    18    19    20    21    22    23    24    25 \n",
       "0.400 0.391 0.379 0.368 0.357 0.345 0.335 0.328 0.315 0.305 0.298 0.290 0.284 \n",
       "   26    27    28    29    30    31    32    33    34    35    36    37    38 \n",
       "0.280 0.275 0.270 0.262 0.255 0.251 0.246 0.236 0.222 0.213 0.207 0.206 0.205 \n",
       "   39    40    41    42 \n",
       "0.199 0.195 0.186 0.181 "
      ]
     },
     "metadata": {},
     "output_type": "display_data"
    },
    {
     "data": {
      "text/html": [
       "<span style=white-space:pre-wrap>'$\\phi_1$  is equal to 1st order autocorrelation coefficient of tradeSign?:  TRUE'</span>"
      ],
      "text/latex": [
       "'\\$\\textbackslash{}phi\\_1\\$  is equal to 1st order autocorrelation coefficient of tradeSign?:  TRUE'"
      ],
      "text/markdown": [
       "<span style=white-space:pre-wrap>'$\\phi_1$  is equal to 1st order autocorrelation coefficient of tradeSign?:  TRUE'</span>"
      ],
      "text/plain": [
       "[1] \"$\\\\phi_1$  is equal to 1st order autocorrelation coefficient of tradeSign?:  TRUE\""
      ]
     },
     "metadata": {},
     "output_type": "display_data"
    }
   ],
   "source": [
    "# Get phi_1\n",
    "phi1<- TSar1$ar\n",
    "# Compute the autocorrelation coefficients of tradeSign\n",
    "# demean=FALSE, must be consistent with previous ar model\n",
    "acts.inet <- acf(tradeSign,plot=FALSE,demean=FALSE)\n",
    "# AC computation: avoid 1st element, 0th order\n",
    "lag.inet <- acts.inet$lag[-1]\n",
    "acf.inet <- acts.inet$acf[-1]\n",
    "acts.inet\n",
    "paste('$\\\\phi_1$',' is equal to 1st order autocorrelation coefficient of tradeSign?: ',\n",
    "     identical(phi1,acf.inet[1]))"
   ]
  },
  {
   "cell_type": "markdown",
   "metadata": {},
   "source": [
    "* $\\phi_1$ **equals to the 1st order (lag=1) autocorrelation coefficient of *tradeSign***"
   ]
  },
  {
   "cell_type": "markdown",
   "metadata": {},
   "source": [
    "* **Mean-squared error of this AR(1) forecast**"
   ]
  },
  {
   "cell_type": "code",
   "execution_count": 8,
   "metadata": {
    "collapsed": false
   },
   "outputs": [
    {
     "name": "stdout",
     "output_type": "stream",
     "text": [
      "The mean-squared error of this AR(1) model is:  0.3238112"
     ]
    }
   ],
   "source": [
    "cat(\"The mean-squared error of this AR(1) model is: \",\n",
    "   TSar1$var.pred)"
   ]
  },
  {
   "cell_type": "markdown",
   "metadata": {},
   "source": [
    "#### Answer of (d): Fit AR(p) of *tradeSign*"
   ]
  },
  {
   "cell_type": "code",
   "execution_count": 9,
   "metadata": {
    "collapsed": false
   },
   "outputs": [
    {
     "data": {
      "text/plain": [
       "\n",
       "Call:\n",
       "ar(x = tradeSign, aic = TRUE, demean = FALSE)\n",
       "\n",
       "Coefficients:\n",
       "      1        2        3        4        5        6        7        8  \n",
       " 0.6958   0.0372   0.0417   0.0183   0.0234   0.0044  -0.0005   0.0298  \n",
       "      9       10       11       12       13       14       15       16  \n",
       " 0.0107  -0.0083   0.0145  -0.0140   0.0225   0.0121  -0.0005   0.0057  \n",
       "     17       18       19       20  \n",
       " 0.0047  -0.0043   0.0003   0.0165  \n",
       "\n",
       "Order selected 20  sigma^2 estimated as  0.3116"
      ]
     },
     "metadata": {},
     "output_type": "display_data"
    }
   ],
   "source": [
    "# Fit AR(p) by using AIC criterion\n",
    "# demean=FALSE: consistent with AR(1)\n",
    "TSarp<- ar(tradeSign, aic = TRUE,demean=FALSE)\n",
    "TSarp"
   ]
  },
  {
   "cell_type": "markdown",
   "metadata": {},
   "source": [
    "#### Answer of (e): What value of $p$ is selected by R?  What is the mean-squared error of this AR(p) forecast?"
   ]
  },
  {
   "cell_type": "code",
   "execution_count": 10,
   "metadata": {
    "collapsed": false
   },
   "outputs": [
    {
     "name": "stdout",
     "output_type": "stream",
     "text": [
      "The value of p selected by R is:  20 \n",
      "The mean-squared error of this AR(p) is:  0.3115532"
     ]
    }
   ],
   "source": [
    "cat(\"The value of p selected by R is: \", TSarp$order,\"\\n\")\n",
    "cat(\"The mean-squared error of this AR(p) is: \", TSarp$var.pred)"
   ]
  },
  {
   "cell_type": "markdown",
   "metadata": {},
   "source": [
    "### 3. (8 points)\n",
    "\n",
    "(a) Bin the AR(p) forecast data from the previous problem by forecast sign with bin-breaks from -1.01 to 1.01 in steps of 0.02.\n",
    "\n",
    "(b) Plot the average actual order sign in each bin against the average forecast order sign.  What is the slope of the resulting graph? (Hint: use the R function *lm*).\n",
    "\n",
    "(c) If the expected order sign is $\\hat \\epsilon$, what is the probability $p$ that the next trade will be a market buy?"
   ]
  },
  {
   "cell_type": "markdown",
   "metadata": {},
   "source": [
    "### Answer of Q3"
   ]
  },
  {
   "cell_type": "markdown",
   "metadata": {},
   "source": [
    "#### Answer of (a): Forecast AR(p) and plot the histogram plot with bin from -1.01 to 1.01 and steps of 0.02"
   ]
  },
  {
   "cell_type": "markdown",
   "metadata": {},
   "source": [
    "* Forecast AR(p) based on the formula:\n",
    "    $$\n",
    "    \\hat \\epsilon^{(2)}_t=\\sum_{k=1}^p\\,\\phi_k\\,\\epsilon_{t-k}.\n",
    "    $$"
   ]
  },
  {
   "cell_type": "code",
   "execution_count": 11,
   "metadata": {
    "collapsed": false
   },
   "outputs": [],
   "source": [
    "# Get the value of p\n",
    "p<- TSarp$order\n",
    "# Get the series of phi\n",
    "phik<- TSarp$ar\n",
    "\n",
    "# Create base trade sign based on value of p\n",
    "TSfore<- rep(0, length(tradeSign))\n",
    "\n",
    "for (t in 1: p){\n",
    "    TSfore[t]<- tradeSign[t]\n",
    "}\n",
    "    \n",
    "# Forecaset starts from t=p+1\n",
    "for (t in (p+1): length(tradeSign)){\n",
    "    for (k in 1:p){\n",
    "        TSfore[t]<- TSfore[t]+tradeSign[t-k]*phik[k]        \n",
    "    }\n",
    "}\n",
    "            "
   ]
  },
  {
   "cell_type": "code",
   "execution_count": 12,
   "metadata": {
    "collapsed": false
   },
   "outputs": [
    {
     "data": {
      "image/png": "[encoded data removed]",
      "text/plain": [
       "Plot with title “Histogram of forecasted tradeSign based on AR with lag  20”"
      ]
     },
     "metadata": {},
     "output_type": "display_data"
    }
   ],
   "source": [
    "options(repr.plot.height=4, repr.plot.width=6)\n",
    "# Plot the histogram\n",
    "hist(TSfore, breaks = seq(-1.01,1.01,by=0.02),xlab='Bin/Trade Sign',\n",
    "     main=paste('Histogram of forecasted tradeSign based on AR with lag ',p),\n",
    "    cex.main=0.85)"
   ]
  },
  {
   "cell_type": "markdown",
   "metadata": {
    "collapsed": true
   },
   "source": [
    "Figure 2. Histogram of forecasted tradeSign based on AR(p)"
   ]
  },
  {
   "cell_type": "markdown",
   "metadata": {},
   "source": [
    "#### Answer of (b): Plot the average actual order sign in each bin against the average forecast order sign. What is the slope of the resulting graph?"
   ]
  },
  {
   "cell_type": "markdown",
   "metadata": {},
   "source": [
    "**Compute the average forecasted order sign and average actual order sign**\n",
    "\n",
    "* The actual forecasted order sign started from $p+1$, since the order signs of forecast and actual are the same from 1 to $p$.\n",
    "\n",
    "* Therefore, I chose to **compare/compute the average order signs of forecast and actual from $p+1$**"
   ]
  },
  {
   "cell_type": "code",
   "execution_count": 13,
   "metadata": {
    "collapsed": false
   },
   "outputs": [],
   "source": [
    "# Compute the average forecasted order sign\n",
    "# Compute the number of bins\n",
    "bin_start<- -1.01\n",
    "bin_end<- 1.01\n",
    "bin_step<- 0.02\n",
    "bin_nums<- (bin_end-bin_start)/bin_step\n",
    "\n",
    "# Initial vectors with 0s\n",
    "actual<- rep(0, bin_nums)\n",
    "forecast<- rep(0, bin_nums)\n",
    "avg_forecast<- rep(0, bin_nums)\n",
    "avg_actual<- rep(0, bin_nums)\n",
    "\n",
    "# Compute the average order signs at each bins\n",
    "for (i in 1:bin_nums){\n",
    "    count<- 0\n",
    "    # Since the tradeSign is -1 or 1, using forecasted value as criterion\n",
    "    # Compute average order signs of forecast and actual from p+1\n",
    "    for (j in (p+1): length(TSfore)){\n",
    "        # Locate the corresponding bins\n",
    "        if(((bin_start+bin_step*(i-1))< TSfore[j]) & (TSfore[j] <= (bin_start+bin_step*i))){\n",
    "            count<- count+1\n",
    "            actual[i]<- actual[i]+tradeSign[j]\n",
    "            forecast[i]<- forecast[i]+TSfore[j]                    \n",
    "        }\n",
    "    }\n",
    "    # Compute the average of each bins\n",
    "    avg_actual[i]<- actual[i]/count\n",
    "    avg_forecast[i]<- forecast[i]/count\n",
    "    \n",
    "}        "
   ]
  },
  {
   "cell_type": "markdown",
   "metadata": {},
   "source": [
    "**Compute the slope**"
   ]
  },
  {
   "cell_type": "code",
   "execution_count": 14,
   "metadata": {
    "collapsed": false
   },
   "outputs": [
    {
     "data": {
      "text/plain": [
       "\n",
       "Call:\n",
       "lm(formula = avg_actual ~ avg_forecast)\n",
       "\n",
       "Coefficients:\n",
       " (Intercept)  avg_forecast  \n",
       "      0.0162        0.9863  \n"
      ]
     },
     "metadata": {},
     "output_type": "display_data"
    }
   ],
   "source": [
    "# Regress the average actual order sign on average forecasted order sign\n",
    "# With constant term of this regression\n",
    "res<- lm(avg_actual~avg_forecast)\n",
    "res\n",
    "slope<- res$coefficients[2]"
   ]
  },
  {
   "cell_type": "markdown",
   "metadata": {},
   "source": [
    "**Plot the average order signs**"
   ]
  },
  {
   "cell_type": "code",
   "execution_count": 15,
   "metadata": {
    "collapsed": false
   },
   "outputs": [
    {
     "data": {
      "image/png": "[encoded data removed]",
      "text/plain": [
       "Plot with title “Plot of average actual order sign VS average forecasted order sign”"
      ]
     },
     "metadata": {},
     "output_type": "display_data"
    }
   ],
   "source": [
    "# Plot with regression line\n",
    "options(repr.plot.height=4, repr.plot.width=6)\n",
    "plot(avg_forecast,avg_actual,main='Plot of average actual order sign VS average forecasted order sign',\n",
    "    xlab='Average forecasted order sign', ylab='Average actual order sign',cex.main=0.85)\n",
    "# Add the regression line\n",
    "abline(res,col='red')\n"
   ]
  },
  {
   "cell_type": "markdown",
   "metadata": {},
   "source": [
    "Figure 3. Plot of average actual order sign VS average forecasted order sign with regression line (red solid line)"
   ]
  },
  {
   "cell_type": "markdown",
   "metadata": {},
   "source": [
    "**Slope of the graph** "
   ]
  },
  {
   "cell_type": "code",
   "execution_count": 16,
   "metadata": {
    "collapsed": false
   },
   "outputs": [
    {
     "name": "stdout",
     "output_type": "stream",
     "text": [
      "The slope of the graph (Figure 3) is:  0.9863347"
     ]
    }
   ],
   "source": [
    "cat(\"The slope of the graph (Figure 3) is: \",slope)"
   ]
  },
  {
   "cell_type": "markdown",
   "metadata": {},
   "source": [
    "#### Answer of (c): what is the probability  *p*  that the next trade will be a market buy"
   ]
  },
  {
   "cell_type": "markdown",
   "metadata": {},
   "source": [
    "* Denote $p$ as the probability that the next trade will be a market buy, $1-p$ will be the a market sell of next trade.\n",
    "\n",
    "\n",
    "* Denote the slope of the regression in the graph (Figure 3) is $k$. Then the actual order sign is $k\\hat{\\epsilon}$ given expected (forecasted) order sign is $\\hat{\\epsilon}$\n",
    "\n",
    "\n",
    "* Thus, we have:\n",
    "$$\n",
    "k\\hat{\\epsilon}=1\\times p + (-1) \\times (1-p)=2p-1\n",
    "$$\n",
    "$\\Rightarrow$\n",
    "$$\n",
    "p=\\frac{k\\hat{\\epsilon}+1}{2}\n",
    "$$\n",
    "with $k$: the slope of the regression in Figure 3 (red line)"
   ]
  },
  {
   "cell_type": "code",
   "execution_count": 17,
   "metadata": {
    "collapsed": false
   },
   "outputs": [
    {
     "name": "stdout",
     "output_type": "stream",
     "text": [
      "The running time of this notebooks is: "
     ]
    },
    {
     "data": {
      "text/plain": [
       "   user  system elapsed \n",
       "  7.837   0.115   8.573 "
      ]
     },
     "metadata": {},
     "output_type": "display_data"
    }
   ],
   "source": [
    "# End recording the running time\n",
    "cat(\"The running time of this notebooks is: \")\n",
    "proc.time()-ptm"
   ]
  }
 ],
 "metadata": {
  "kernelspec": {
   "display_name": "R",
   "language": "R",
   "name": "ir"
  },
  "language_info": {
   "codemirror_mode": "r",
   "file_extension": ".r",
   "mimetype": "text/x-r-source",
   "name": "R",
   "pygments_lexer": "r",
   "version": "3.3.2"
  }
 },
 "nbformat": 4,
 "nbformat_minor": 0
}
