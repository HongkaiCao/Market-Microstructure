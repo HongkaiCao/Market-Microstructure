{
 "cells": [
  {
   "cell_type": "markdown",
   "metadata": {},
   "source": [
    "# MTH9879 Homework 5\n",
    "\n",
    "Assigned: March 7, 2017.\n",
    "Due: March 21, 2017 by 6pm.\n",
    "\n",
    "Late homework **will not be accepted**.\n",
    "\n",
    "$$\n",
    "\\newcommand{\\supp}{\\mathrm{supp}}\n",
    "\\newcommand{\\E}{\\mathbb{E}}\n",
    "\\newcommand{\\EE}{\\mathbb{E}}\n",
    "\\newcommand{\\Eof}[1]{\\mathbb{E}\\left[ #1 \\right]}\n",
    "\\def\\Cov{{ \\mbox{Cov} }}\n",
    "\\def\\Var{{ \\mbox{Var} }}\n",
    "\\newcommand{\\1}{\\mathbf{1} }\n",
    "\\newcommand{\\PP}{\\mathbb{P} }\n",
    "%\\newcommand{\\Pr}{\\mathrm{Pr} }\n",
    "\\newcommand{\\QQ}{\\mathbb{Q} }\n",
    "\\newcommand{\\RR}{\\mathbb{R} }\n",
    "\\newcommand{\\DD}{\\mathbb{D} }\n",
    "\\newcommand{\\HH}{\\mathbb{H} }\n",
    "\\newcommand{\\spn}{\\mathrm{span} }\n",
    "\\newcommand{\\cov}{\\mathrm{cov} }\n",
    "\\newcommand{\\sgn}{\\mathrm{sgn} }\n",
    "\\newcommand{\\HS}{\\mathcal{L}_{\\mathrm{HS}} }\n",
    "%\\newcommand{\\HS}{\\mathrm{HS} }\n",
    "\\newcommand{\\trace}{\\mathrm{trace} }\n",
    "\\newcommand{\\LL}{\\mathcal{L} }\n",
    "%\\newcommand{\\LL}{\\mathrm{L} }\n",
    "\\newcommand{\\s}{\\mathcal{S} }\n",
    "\\newcommand{\\ee}{\\mathcal{E} }\n",
    "\\newcommand{\\ff}{\\mathcal{F} }\n",
    "\\newcommand{\\hh}{\\mathcal{H} }\n",
    "\\newcommand{\\bb}{\\mathcal{B} }\n",
    "\\newcommand{\\dd}{\\mathcal{D} }\n",
    "\\newcommand{\\g}{\\mathcal{G} }\n",
    "\\newcommand{\\p}{\\partial}\n",
    "\\newcommand{\\half}{\\frac{1}{2} }\n",
    "\\newcommand{\\T}{\\mathcal{T} }\n",
    "\\newcommand{\\bi}{\\begin{itemize}}\n",
    "\\newcommand{\\ei}{\\end{itemize}}\n",
    "\\newcommand{\\beq}{\\begin{equation}}\n",
    "\\newcommand{\\eeq}{\\end{equation}}\n",
    "\\newcommand{\\beas}{\\begin{eqnarray*}}\n",
    "\\newcommand{\\eeas}{\\end{eqnarray*}}\n",
    "\\newcommand{\\cO}{\\mathcal{O}}\n",
    "\\newcommand{\\cF}{\\mathcal{F}}\n",
    "\\newcommand{\\cI}{\\mathcal{I}}\n",
    "\\newcommand{\\cL}{\\mathcal{L}}\n",
    "\\newcommand{\\cM}{\\mathcal{M}}\n",
    "\\newcommand{\\BS}{\\text{BS}}\n",
    "$$"
   ]
  },
  {
   "cell_type": "markdown",
   "metadata": {},
   "source": [
    "<font color = \"red\">Homework is to be done by each student individually.  To receive full credit, you must email a completed copy of this iPython notebook to Victor Istratov (stavka@gmail.com), Yassine Ghalem (yassine.ghalem@gmail.com) and Jim Gatheral (jim.gatheral@gmail.com) by the due date and time.  All R-code must run correctly and solutions must be written up neatly in Markdown/LaTeX format.\n"
   ]
  },
  {
   "cell_type": "markdown",
   "metadata": {},
   "source": [
    "### 0. (0 points) \n",
    "Read Chapter 7 of Hasbrouck, Chapters 4 and 5 of Foucault, Pagano and R&ouml;ell, and Section 3 of Bouchaud, Farmer and Lillo."
   ]
  },
  {
   "cell_type": "markdown",
   "metadata": {},
   "source": [
    "## The Kyle (1985) model"
   ]
  },
  {
   "cell_type": "markdown",
   "metadata": {},
   "source": [
    "### 1. (14 points)\n",
    "\n",
    "Suppose that the monopolistic trader in the Kyle (1985) model is not told the true value $\\tilde S$ but is instead given a signal $x=\\tilde S+\\epsilon$ with $\\epsilon \\sim N(0,\\sigma_\\epsilon^2)$, where $\\tilde S$ and $\\epsilon$ are assumed independent.\n",
    "\n",
    "(a) Compute the conditional expectation $\\mathbb{E}[\\tilde S|x]$.\n",
    "\n",
    "(b) If $\\mathcal I$ assumes that the market maker $\\mathcal M$ generates a price function of the form $p=\\mu +\\lambda\\,y$, show that the informed trader's optimal (profit maximizing) demand is given by\n",
    "\n",
    "$$\n",
    "y_i=\\frac{\\phi}{2\\,\\lambda}\\,\\left(x-\\mu\\right)\n",
    "$$\n",
    "\n",
    "where\n",
    "\n",
    "$$\n",
    "\\phi = \\frac{\\sigma^2}{\\sigma^2+\\sigma_\\epsilon^2}.\n",
    "$$\n",
    "\n",
    "(c) Following the derivation from the lecture slides, use the result of (b) to deduce equation (11) in the lecture slides:\n",
    "\n",
    "$$\n",
    "\\lambda=\\frac{\\sigma}{2\\,\\sigma_u}\\,\\sqrt{\\phi}.\n",
    "$$\n"
   ]
  },
  {
   "cell_type": "markdown",
   "metadata": {},
   "source": [
    "### 2. (2 points) \n",
    "In the Kyle model, if the characteristic uninformed demand $\\sigma_u$ increases by some factor $\\theta$, what happens to the optimal informed trader demand $y_i$?"
   ]
  },
  {
   "cell_type": "markdown",
   "metadata": {},
   "source": [
    "### 3. (6 points) \n",
    "\n",
    "As in Exercise 7.3 of Hasbrouck (but with different notation), suppose that a broker $\\mathcal P$ spots an insider and decides to submit his own piggyback orders.  Specifically, if $\\mathcal I$ submits demand $y_i$, $\\mathcal P$ submits demand $\\gamma\\,y_i$ with $\\gamma>0$.\n",
    "\n",
    "(a) Assuming that $\\mathcal I$ can detect how much piggyback order flow there is, deduce that the equilibrium Kyle lambda is unchanged from the original case where there are no piggyback orders.\n",
    "\n",
    "(b) Derive expressions for $\\mathcal I$'s optimal demand $y_i$ and his expected P&L.\n",
    "\n",
    "(c) Explain to a non-expert what happens to your trade capacity and your profitability if someone is piggybacking on your trades.\n"
   ]
  }
 ],
 "metadata": {
  "kernelspec": {
   "display_name": "R",
   "language": "R",
   "name": "ir"
  },
  "language_info": {
   "codemirror_mode": "r",
   "file_extension": ".r",
   "mimetype": "text/x-r-source",
   "name": "R",
   "pygments_lexer": "r",
   "version": "3.3.2"
  }
 },
 "nbformat": 4,
 "nbformat_minor": 0
}
