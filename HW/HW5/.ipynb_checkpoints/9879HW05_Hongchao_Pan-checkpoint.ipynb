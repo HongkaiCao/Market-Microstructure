{
 "cells": [
  {
   "cell_type": "markdown",
   "metadata": {},
   "source": [
    "# MTH9879 Homework 5\n",
    "\n",
    "Assigned: March 7, 2017.\n",
    "Due: March 21, 2017 by 6pm.\n",
    "\n",
    "Late homework **will not be accepted**.\n",
    "\n",
    "$$\n",
    "\\newcommand{\\supp}{\\mathrm{supp}}\n",
    "\\newcommand{\\E}{\\mathbb{E}}\n",
    "\\newcommand{\\EE}{\\mathbb{E}}\n",
    "\\newcommand{\\Eof}[1]{\\mathbb{E}\\left[ #1 \\right]}\n",
    "\\def\\Cov{{ \\mbox{Cov} }}\n",
    "\\def\\Var{{ \\mbox{Var} }}\n",
    "\\newcommand{\\1}{\\mathbf{1} }\n",
    "\\newcommand{\\PP}{\\mathbb{P} }\n",
    "%\\newcommand{\\Pr}{\\mathrm{Pr} }\n",
    "\\newcommand{\\QQ}{\\mathbb{Q} }\n",
    "\\newcommand{\\RR}{\\mathbb{R} }\n",
    "\\newcommand{\\DD}{\\mathbb{D} }\n",
    "\\newcommand{\\HH}{\\mathbb{H} }\n",
    "\\newcommand{\\spn}{\\mathrm{span} }\n",
    "\\newcommand{\\cov}{\\mathrm{cov} }\n",
    "\\newcommand{\\sgn}{\\mathrm{sgn} }\n",
    "\\newcommand{\\HS}{\\mathcal{L}_{\\mathrm{HS}} }\n",
    "%\\newcommand{\\HS}{\\mathrm{HS} }\n",
    "\\newcommand{\\trace}{\\mathrm{trace} }\n",
    "\\newcommand{\\LL}{\\mathcal{L} }\n",
    "%\\newcommand{\\LL}{\\mathrm{L} }\n",
    "\\newcommand{\\s}{\\mathcal{S} }\n",
    "\\newcommand{\\ee}{\\mathcal{E} }\n",
    "\\newcommand{\\ff}{\\mathcal{F} }\n",
    "\\newcommand{\\hh}{\\mathcal{H} }\n",
    "\\newcommand{\\bb}{\\mathcal{B} }\n",
    "\\newcommand{\\dd}{\\mathcal{D} }\n",
    "\\newcommand{\\g}{\\mathcal{G} }\n",
    "\\newcommand{\\p}{\\partial}\n",
    "\\newcommand{\\half}{\\frac{1}{2} }\n",
    "\\newcommand{\\T}{\\mathcal{T} }\n",
    "\\newcommand{\\bi}{\\begin{itemize}}\n",
    "\\newcommand{\\ei}{\\end{itemize}}\n",
    "\\newcommand{\\beq}{\\begin{equation}}\n",
    "\\newcommand{\\eeq}{\\end{equation}}\n",
    "\\newcommand{\\beas}{\\begin{eqnarray*}}\n",
    "\\newcommand{\\eeas}{\\end{eqnarray*}}\n",
    "\\newcommand{\\cO}{\\mathcal{O}}\n",
    "\\newcommand{\\cF}{\\mathcal{F}}\n",
    "\\newcommand{\\cI}{\\mathcal{I}}\n",
    "\\newcommand{\\cL}{\\mathcal{L}}\n",
    "\\newcommand{\\cM}{\\mathcal{M}}\n",
    "\\newcommand{\\BS}{\\text{BS}}\n",
    "$$"
   ]
  },
  {
   "cell_type": "markdown",
   "metadata": {},
   "source": [
    "<font color = \"red\">Homework is to be done by each student individually.  To receive full credit, you must email a completed copy of this iPython notebook to Victor Istratov (stavka@gmail.com), Yassine Ghalem (yassine.ghalem@gmail.com) and Jim Gatheral (jim.gatheral@gmail.com) by the due date and time.  All R-code must run correctly and solutions must be written up neatly in Markdown/LaTeX format.\n"
   ]
  },
  {
   "cell_type": "markdown",
   "metadata": {},
   "source": [
    "* **Author: Hongchao Pan**\n",
    "* Kernel Version: R 3.3.2\n",
    "* Packages/Libraries: \n",
    "* Notes:\n",
    "    * All answers has been written in Markdown"
   ]
  },
  {
   "cell_type": "markdown",
   "metadata": {},
   "source": [
    "### 0. (0 points) \n",
    "Read Chapter 7 of Hasbrouck, Chapters 4 and 5 of Foucault, Pagano and R&ouml;ell, and Section 3 of Bouchaud, Farmer and Lillo."
   ]
  },
  {
   "cell_type": "markdown",
   "metadata": {},
   "source": [
    "## The Kyle (1985) model"
   ]
  },
  {
   "cell_type": "markdown",
   "metadata": {},
   "source": [
    "### 1. (14 points)\n",
    "\n",
    "Suppose that the monopolistic trader in the Kyle (1985) model is not told the true value $\\tilde S$ but is instead given a signal $x=\\tilde S+\\epsilon$ with $\\epsilon \\sim N(0,\\sigma_\\epsilon^2)$, where $\\tilde S$ and $\\epsilon$ are assumed independent.\n",
    "\n",
    "(a) Compute the conditional expectation $\\mathbb{E}[\\tilde S|x]$.\n",
    "\n",
    "(b) If $\\mathcal I$ assumes that the market maker $\\mathcal M$ generates a price function of the form $p=\\mu +\\lambda\\,y$, show that the informed trader's optimal (profit maximizing) demand is given by\n",
    "\n",
    "$$\n",
    "y_i=\\frac{\\phi}{2\\,\\lambda}\\,\\left(x-\\mu\\right)\n",
    "$$\n",
    "\n",
    "where\n",
    "\n",
    "$$\n",
    "\\phi = \\frac{\\sigma^2}{\\sigma^2+\\sigma_\\epsilon^2}.\n",
    "$$\n",
    "\n",
    "(c) Following the derivation from the lecture slides, use the result of (b) to deduce equation (11) in the lecture slides:\n",
    "\n",
    "$$\n",
    "\\lambda=\\frac{\\sigma}{2\\,\\sigma_u}\\,\\sqrt{\\phi}.\n",
    "$$\n"
   ]
  },
  {
   "cell_type": "markdown",
   "metadata": {},
   "source": [
    "### Answer of Q1"
   ]
  },
  {
   "cell_type": "markdown",
   "metadata": {},
   "source": [
    "#### Answer of (a)\n",
    "\n",
    "* From Kyle model in lecture notes 5, we denote $\\tilde{S} \\sim N \\left(\\mu,\\sigma^2 \\right)$\n",
    "\n",
    "* $x=\\tilde{S} +\\epsilon,$ and $\\tilde{S}$ and $\\epsilon$ are independent.\n",
    "$\\Rightarrow$\n",
    "$$\n",
    "x \\sim N\\left(\\mu,\\sigma^2+\\sigma^2_{\\epsilon} \\right)\n",
    "$$\n",
    "$$\n",
    "x|\\tilde{S} \\sim N \\left(\\tilde{S},\\sigma^2_{\\epsilon} \\right)\n",
    "$$\n",
    "Therefore,\n",
    "$$g( \\tilde{S})=\\frac{1}{\\sqrt{2\\,\\pi}\\,\\sigma_{\\tilde{S}}}\\,\\exp\\left\\{-\\frac{(\\tilde{S}-\\bar{\\tilde{S}})^2}{2\\,\\sigma_{\\tilde{S}}^2}\\right\\}\n",
    "$$\n",
    "$$f(x| \\tilde{S})=\\frac{1}{\\sqrt{2\\,\\pi}\\,\\sigma_{x|\\tilde{S}}}\\,\\exp\\left\\{-\\frac{(x- \\tilde{S})^2}{2\\,\\sigma_{x|\\tilde{S}}^2}\\right\\}.$$\n",
    "where $\\sigma_{\\tilde{S}}=\\sigma$, and $\\sigma_{x|\\tilde{S}}=\\sigma_{\\epsilon}.$\n",
    "\n",
    "\n",
    "* Apply Bayes's rule and simple Kalman filter, we have:\n",
    "$$\n",
    "\\tilde{S}|x \\sim N \\left(\\beta x+ (1-\\beta)\\mu, (1-\\beta)\\sigma^2 \\right),\n",
    "$$\n",
    "where $\\beta=\\frac{\\tau_{x|\\tilde{S}}}{\\tau_{x|\\tilde{S}}+\\tau_{\\tilde{S}}}$ and $\\tau_i=\\frac{1}{\\sigma^2_i}$.\n",
    "$\\Rightarrow$\n",
    "\n",
    "$$\n",
    "\\beta=\\frac{\\frac{1}{\\sigma_{\\epsilon}^2}}{\\frac{1}{\\sigma_{\\epsilon}^2}+\\frac{1}{\\sigma^2}} = \\frac{\\sigma^2}{\\sigma^2+\\sigma_{\\epsilon}^2}\n",
    "$$\n",
    "\n",
    "* Therefore, $$\\mathbb{E}(\\tilde{S}|x)=\\beta x+(1-\\beta)\\mu$$\n",
    "where $$\\beta=\\frac{\\sigma^2}{\\sigma^2+\\sigma_{\\epsilon}^2}$$"
   ]
  },
  {
   "cell_type": "markdown",
   "metadata": {},
   "source": [
    "#### Answer of (b)\n",
    "\n",
    "-    With price function generated from $\\mathcal{M}$, $p=\\mu+\\lambda y$, the expected profit of imformated trader $\\mathcal{I}$ is:$$\n",
    "\\mathbb{E} [y_i\\,(\\tilde S-p(y))|x]=\\mathbb{E}[yi(\\tilde{S}-\\mu-\\lambda y_i - \\lambda y_u)| x] \\\\\n",
    "=-\\lambda \\mathbb{E}(y_i^2|x)+\\mathbb{E}(y_i\\tilde{S}|x)-\\mu\\mathbb{E}(y_i|x)-\\lambda \\mathbb{E}(y_iy_u|x)\\\\\n",
    "=-\\lambda y_i^2 +y_i (\\beta x+ (1-\\beta)\\mu) -\\mu y_i\\\\\n",
    "=-\\lambda y_i^2 +\\beta y_i(x-\\mu)$$\n",
    "since uninformed demand $y_u$ is independent of $\\tilde{S}$ and $\\epsilon$ and has mean 0.\n",
    "\n",
    "\n",
    "-    Maximum the expected profit by taking direviate with respect to $y_i$:\n",
    "$$\n",
    "\\frac{d\\mathbb{E}}{dy_i}=-2\\lambda+\\beta(x-\\mu)=0\n",
    "$$\n",
    "$\\Rightarrow$ $\\mathcal{I}$'s optimal demand as:\n",
    "$$\n",
    "y_i=\\frac{\\phi}{2\\lambda}(x-\\mu)\n",
    "$$\n",
    "where \n",
    "$$\n",
    "\\phi=\\beta=\\frac{\\sigma^2}{\\sigma^2+\\sigma_{\\epsilon}^2}\n",
    "$$"
   ]
  },
  {
   "cell_type": "markdown",
   "metadata": {},
   "source": [
    "#### Answer of (c)\n",
    "\n",
    "* From (a) and (b), we have:\n",
    "$$\n",
    "y_i=\\frac{\\phi}{2\\lambda}(x-\\mu)=a+bx\n",
    "$$\n",
    "where $a=\\frac{-\\phi \\mu}{2\\lambda}, b=\\frac{\\phi}{2\\lambda}$\n",
    "$$x \\sim N\\left(\\mu, \\sigma^2+\\sigma_{\\epsilon}^2\\right)$$\n",
    "$$y_i \\sim N \\left( a+b\\mu, b^2 \\left(\\sigma^2+\\sigma_{\\epsilon}^2\\right) \\right)$$\n",
    "$$\\tilde{S} \\sim N\\left(\\mu,\\sigma^2\\right)$$\n",
    "And denote\n",
    "$$y_u \\sim N\\left(0,\\sigma_u^2\\right)$$\n",
    "\n",
    "* Regression $\\tilde{S}$ on $y=y_i+y_u$:\n",
    "$$\\mathbb{E} [\\tilde S|y]=\\mathbb{E} [\\tilde S]+\\frac{\\mbox{Cov}[\\tilde S,y]}{\\mbox{Var}[y]}\\left(y-\\mathbb{E} [y]\\right)$$\n",
    "and $$p(y)=\\mu+\\lambda\\,y=\\mathbb{E} [\\tilde S|y]$$\n",
    "\n",
    "* We have:\n",
    "$$\\mathbb{E}(y)=\\mathbb{E}(a+bx+y_u)=\\frac{-\\phi\\mu}{2\\lambda}+\\frac{\\phi\\mu}{2\\lambda}+0=0$$\n",
    "$$\\text{Cov}\\left(\\tilde{S},y\\right)=\\text{Cov}\\left(\\tilde{S},a+b(\\tilde{S}+\\epsilon)+y_u\\right)=b\\cdot \\text{Var}(\\tilde{S})=b\\sigma^2$$\n",
    "$$\\text{Var}(y)=\\text{Var}(a+bx+y_u)=b^2(\\sigma^2+\\sigma_{\\epsilon}^2)+\\sigma_u^2$$\n",
    "$\\Rightarrow$\n",
    "$$\\mu+\\lambda y=\\mu+\\frac{b\\sigma^2}{b^2(\\sigma^2+\\sigma_{\\epsilon}^2)+\\sigma_u^2}y$$\n",
    "$\\Rightarrow$\n",
    "$$\\lambda=\\frac{b\\sigma^2}{b^2(\\sigma^2+\\sigma_{\\epsilon}^2)+\\sigma_u^2}$$\n",
    "With $\\phi=\\frac{\\sigma^2}{\\sigma^2+\\sigma_{\\epsilon}^2}$ and $b=\\frac{\\phi}{2\\lambda}$ $\\Rightarrow$\n",
    "$$\\lambda=\\frac{\\sigma}{2\\sigma_u}\\sqrt{\\phi}$$"
   ]
  },
  {
   "cell_type": "markdown",
   "metadata": {},
   "source": [
    "### 2. (2 points) \n",
    "In the Kyle model, if the characteristic uninformed demand $\\sigma_u$ increases by some factor $\\theta$, what happens to the optimal informed trader demand $y_i$?"
   ]
  },
  {
   "cell_type": "markdown",
   "metadata": {},
   "source": [
    "### Answer of Q2"
   ]
  },
  {
   "cell_type": "markdown",
   "metadata": {},
   "source": [
    "* From Q1, we know:\n",
    "$$y_i=\\frac{\\phi}{2\\lambda}(x-\\mu)$$\n",
    "and\n",
    "$$\\lambda=\\frac{\\sigma}{2\\sigma_u^2}\\sqrt{\\phi}$$\n",
    "with \n",
    "$$\\phi=\\frac{\\sigma^2}{\\sigma^2+\\sigma_{\\epsilon}^2}$$\n",
    "$\\Rightarrow$\n",
    "$$y_i=\\frac{\\sigma_u\\sqrt{\\phi}}{\\sigma}(x-\\mu)$$\n",
    "\n",
    "* From the equation above, we can see that $y_i$ will increase same factor $\\theta$, if uninformed demand $\\sigma_u$ increases by factor $\\theta$."
   ]
  },
  {
   "cell_type": "markdown",
   "metadata": {},
   "source": [
    "### 3. (6 points) \n",
    "\n",
    "As in Exercise 7.3 of Hasbrouck (but with different notation), suppose that a broker $\\mathcal P$ spots an insider and decides to submit his own piggyback orders.  Specifically, if $\\mathcal I$ submits demand $y_i$, $\\mathcal P$ submits demand $\\gamma\\,y_i$ with $\\gamma>0$.\n",
    "\n",
    "(a) Assuming that $\\mathcal I$ can detect how much piggyback order flow there is, deduce that the equilibrium Kyle lambda is unchanged from the original case where there are no piggyback orders.\n",
    "\n",
    "(b) Derive expressions for $\\mathcal I$'s optimal demand $y_i$ and his expected P&L.\n",
    "\n",
    "(c) Explain to a non-expert what happens to your trade capacity and your profitability if someone is piggybacking on your trades.\n"
   ]
  },
  {
   "cell_type": "markdown",
   "metadata": {},
   "source": [
    "### Answer of Q3"
   ]
  },
  {
   "cell_type": "markdown",
   "metadata": {},
   "source": [
    "#### Answer of (a)\n",
    "\n"
   ]
  },
  {
   "cell_type": "markdown",
   "metadata": {},
   "source": [
    "* Since only $\\mathcal{I}$ knows the information of piggyback orders, $\\mathcal{M}$ will still consider $\\mathcal{I}$'s demand as (from lecture notes 5):\n",
    "$$y_i=\\frac{\\tilde{S}-\\mu}{2\\lambda}=a+b\\tilde{S}$$\n",
    "with\n",
    "$$a= -\\frac{\\mu}{2\\,\\lambda} \\text { and } b= \\frac{1}{2\\,\\lambda}.$$\n",
    "\n",
    "* Regression of $\\tilde{S}$ on y (Equation 8 in lecture notes 5):\n",
    "$$\\mathbb{E} [\\tilde S|y]=\\mathbb{E} [\\tilde S]+\\frac{\\mbox{Cov}[\\tilde S,y]}{\\mbox{Var}[y]}\\left(y-\\mathbb{E} [y]\\right)$$\n",
    "\n",
    "* Since $\\mathcal{M}$ has no information of piggyback orders, all the values of $\\mathbb{E}, \\text{Cov}{\\tilde{S},y}, \\text{and} \\text{Var}(y)$ keep the same. Therefore, we have:\n",
    "$$\\lambda = \\frac{b\\,\\sigma^2}{\\sigma_u^2+b^2\\,\\sigma^2}.$$ \n",
    "$\\Rightarrow$ equilibrium Kyle lambda:\n",
    "$$\\lambda=\\frac{1}{2}\\,\\frac{\\sigma}{\\sigma_u}$$\n",
    "with\n",
    "$$b=\\frac{1}{2\\,\\lambda}=\\frac{\\sigma_u}{\\sigma}$$\n",
    "\n",
    "\n",
    "* Thus the equilibrium Kyle lambda is unchanged whether piggyback orders were submitted or not."
   ]
  },
  {
   "cell_type": "markdown",
   "metadata": {},
   "source": [
    "#### Answer of (b)\n",
    "\n",
    "* Similar to Q1, but with trading singal $x=\\tilde{S}$. Thus we have the expected P&L is:\n",
    "$$\n",
    "\\begin{eqnarray}\n",
    "\\mathbb{E}(y_i(\\tilde{S}-p(y))|\\tilde{S}) &=& \\mathbb{E}(y_i(\\tilde{S}-\\mu-\\lambda(y_i+y_p+y_u))|\\tilde{S})\\\\\n",
    "&=&\\mathbb{E}(y_i(\\tilde{S}-\\mu-\\lambda(y_i+\\gamma y_i+y_u))|\\tilde{S})\\\\\n",
    "&=&\\mathbb{E}(y_i(\\tilde{S}-\\mu-\\lambda(1+\\gamma)y_i-\\lambda y_u)|\\tilde{S})\\\\\n",
    "&=&-\\lambda(1+r)y_i^2+(\\tilde{S}-\\mu)y_i\n",
    "\\end{eqnarray}\n",
    "$$\n",
    "since uninformed demand $y_u$ is independent of $\\tilde{S}$ and has mean 0.\n",
    "\n",
    "\n",
    "* Maximum the expected profit by taking direviate with respect to $y_i$:\n",
    "$$\\frac{d\\mathbb{E}}{dy_i}=-2\\lambda(1+r)y_i+(\\tilde{S}-\\mu)=0$$\n",
    "$\\Rightarrow$ $\\mathcal{I}'s$ optimal demand as:\n",
    "$$\n",
    "\\begin{eqnarray}\n",
    "y_i&=&\\frac{\\tilde{S}-\\mu}{2\\lambda(1+r)}\\\\\n",
    "&=&\\frac{(\\tilde{S}-\\mu)\\sigma_u}{(1+r)\\sigma}\n",
    "\\end{eqnarray}\n",
    "$$\n",
    "with $$\\lambda=\\frac{\\sigma}{2\\sigma_u}$$\n",
    "\n",
    "* Thus the expected P&L is:\n",
    "$$\n",
    "\\begin{eqnarray}\n",
    "\\mathbb{E}(y_i(\\tilde{S}-p(y))| \\tilde{S}) &=& -\\lambda(1+r)y_i^2+(\\tilde{S}-\\mu)y_i\\\\\n",
    "&=& -\\lambda (1+r) \\frac{(\\tilde{S}-\\mu)^2}{4\\lambda^2(1+r)^2}+(\\tilde{S}-\\mu) \\frac{\\tilde{S}-\\mu}{2\\lambda(1+r)}\\\\\n",
    "&=& \\frac{(\\tilde{S}-\\mu)^2}{4\\lambda(1+r)}\\\\\n",
    "&=& \\frac{(\\tilde{S}-\\mu)^2 \\sigma_u}{2\\sigma(1+r)}\n",
    "\\end{eqnarray}\n",
    "$$\n",
    "with $$\\lambda=\\frac{\\sigma}{2\\sigma_u}$$"
   ]
  },
  {
   "cell_type": "markdown",
   "metadata": {},
   "source": [
    "#### Answer of (c)\n",
    "\n",
    "* From (a) we know equilibrium Kyle lambda $\\lambda$ is unchanged whether piggyback orders were submitted or not.\n",
    "\n",
    "* $\\mathcal{I}$'s demand $y_i$ and $\\mathcal{I}$'s expeced P&L $\\mathbb{E}(y_i(\\tilde{S}-p(y))| \\tilde{S})$ as following:\n",
    "    * No piggyback orders:\n",
    "    $$y_i=\\frac{\\tilde S-\\mu}{2\\,\\lambda}$$\n",
    "    \n",
    "    $$\\mathbb{E}(y_i(\\tilde{S}-p(y))| \\tilde{S})=\\frac{(\\tilde S-\\mu)^2}{2}\\,\\frac{\\sigma_u}{\\sigma}$$\n",
    "    * Has piggyback orders:\n",
    "    $$y_i=\\frac{\\tilde{S}-\\mu}{2\\lambda(1+r)}$$\n",
    "    \n",
    "    $$\\mathbb{E}(y_i(\\tilde{S}-p(y))| \\tilde{S})=\\frac{(\\tilde{S}-\\mu)^2}{2(1+r)}\\frac{\\sigma_u}{\\sigma}$$\n",
    "\n",
    "\n",
    "* Since $\\gamma>0$, the $\\mathcal{I}$'s demand and expected P&L will both decrease if someone is piggybacking on $\\mathcal{I}$'s trade, i.e., the capacity and profitability will both decreases w.r.t existing of piggybacking.\n",
    "\n",
    "\n",
    "* Since broker $\\mathcal{P}$ submites $\\gamma y_i$ piggyback orders, which has the same trategy as $\\mathcal{I}$ has. This implies that $\\mathcal{P}$ plays like an informed trader as $\\mathcal{I}$. Since profit is fixed at given time, more informed trader, less profit $\\mathcal{I}$ gets. This is similar to divide a given cake to people. The more people, the less pieces each person gets."
   ]
  }
 ],
 "metadata": {
  "kernelspec": {
   "display_name": "R",
   "language": "R",
   "name": "ir"
  },
  "language_info": {
   "codemirror_mode": "r",
   "file_extension": ".r",
   "mimetype": "text/x-r-source",
   "name": "R",
   "pygments_lexer": "r",
   "version": "3.3.2"
  }
 },
 "nbformat": 4,
 "nbformat_minor": 0
}
