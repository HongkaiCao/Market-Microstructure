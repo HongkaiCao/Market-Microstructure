{
 "cells": [
  {
   "cell_type": "markdown",
   "metadata": {},
   "source": [
    "# MTH9879 Homework 2\n",
    "\n",
    "Assigned: February 7, 2017.\n",
    "Due: February 21, 2017 by 6pm. \n",
    "\n",
    "Late homework **will not be accepted**.\n",
    "\n",
    "$$\n",
    "\\newcommand{\\supp}{\\mathrm{supp}}\n",
    "\\newcommand{\\E}{\\mathbb{E} }\n",
    "\\def\\Cov{{ \\mbox{Cov} }}\n",
    "\\def\\Var{{ \\mbox{Var} }}\n",
    "\\newcommand{\\1}{\\mathbf{1} }\n",
    "\\newcommand{\\PP}{\\mathbb{P} }\n",
    "%\\newcommand{\\Pr}{\\mathrm{Pr} }\n",
    "\\newcommand{\\QQ}{\\mathbb{Q} }\n",
    "\\newcommand{\\RR}{\\mathbb{R} }\n",
    "\\newcommand{\\DD}{\\mathbb{D} }\n",
    "\\newcommand{\\HH}{\\mathbb{H} }\n",
    "\\newcommand{\\spn}{\\mathrm{span} }\n",
    "\\newcommand{\\cov}{\\mathrm{cov} }\n",
    "\\newcommand{\\sgn}{\\mathrm{sgn} }\n",
    "\\newcommand{\\HS}{\\mathcal{L}_{\\mathrm{HS}} }\n",
    "%\\newcommand{\\HS}{\\mathrm{HS} }\n",
    "\\newcommand{\\trace}{\\mathrm{trace} }\n",
    "\\newcommand{\\LL}{\\mathcal{L} }\n",
    "%\\newcommand{\\LL}{\\mathrm{L} }\n",
    "\\newcommand{\\s}{\\mathcal{S} }\n",
    "\\newcommand{\\ee}{\\mathcal{E} }\n",
    "\\newcommand{\\ff}{\\mathcal{F} }\n",
    "\\newcommand{\\hh}{\\mathcal{H} }\n",
    "\\newcommand{\\bb}{\\mathcal{B} }\n",
    "\\newcommand{\\dd}{\\mathcal{D} }\n",
    "\\newcommand{\\g}{\\mathcal{G} }\n",
    "\\newcommand{\\p}{\\partial}\n",
    "\\newcommand{\\half}{\\frac{1}{2} }\n",
    "\\newcommand{\\T}{\\mathcal{T} }\n",
    "\\newcommand{\\bi}{\\begin{itemize}}\n",
    "\\newcommand{\\ei}{\\end{itemize}}\n",
    "\\newcommand{\\beq}{\\begin{equation}}\n",
    "\\newcommand{\\eeq}{\\end{equation}}\n",
    "\\newcommand{\\beas}{\\begin{eqnarray*}}\n",
    "\\newcommand{\\eeas}{\\end{eqnarray*}}\n",
    "\\newcommand{\\cO}{\\mathcal{O}}\n",
    "\\newcommand{\\cF}{\\mathcal{F}}\n",
    "\\newcommand{\\cL}{\\mathcal{L}}\n",
    "\\newcommand{\\BS}{\\text{BS}}\n",
    "$$"
   ]
  },
  {
   "cell_type": "markdown",
   "metadata": {},
   "source": [
    "<font color = \"red\">Homework is to be done by each student individually.  To receive full credit, you must email a completed copy of this iPython notebook to Victor Istratov (stavka@gmail.com), Yassine Ghalem (yassine.ghalem@gmail.com) and Jim Gatheral (jim.gatheral@gmail.com) by the due date and time.  All R-code must run correctly and solutions must be written up neatly in Markdown/LaTeX format.\n"
   ]
  },
  {
   "cell_type": "markdown",
   "metadata": {},
   "source": [
    "* **Author: Hongchao Pan**\n",
    "* Kernel Version: R 3.3.2\n",
    "* Packages/Libraries: repr\n",
    "* Notes:\n",
    "    * The running time of this notebook is around 2mins (MacOS i5)\n",
    "    * Formula of Q4(e) should be: $\\sigma^2_{DA} = \\frac{\\mu\\,\\delta}{\\alpha^2} \\rightarrow $ $\\sigma^2_{DA} = \\frac{\\mu^2\\,\\delta}{\\alpha^2}.$"
   ]
  },
  {
   "cell_type": "code",
   "execution_count": 1,
   "metadata": {
    "collapsed": true
   },
   "outputs": [],
   "source": [
    "# Loading libraries\n",
    "library(repr) # For changing plot features"
   ]
  },
  {
   "cell_type": "code",
   "execution_count": 2,
   "metadata": {
    "collapsed": true
   },
   "outputs": [],
   "source": [
    "# Record the total running time of this notebook\n",
    "# Starting record the time\n",
    "ptm<-proc.time()"
   ]
  },
  {
   "cell_type": "markdown",
   "metadata": {},
   "source": [
    "### 0. (0 points) \n",
    "\n",
    "Read Chapter 12 of Hasbrouck and Section 6.4 of Foucault, Pagano and R&ouml;ell.\n"
   ]
  },
  {
   "cell_type": "markdown",
   "metadata": {},
   "source": [
    "## The Parlour (1998) model"
   ]
  },
  {
   "cell_type": "markdown",
   "metadata": {},
   "source": [
    "### 1. (10 points) \n",
    "Consider the first step $t = 1$ of the 3-step order book case presented in the lecture slides. Suppose that the order book at (or just before) $t = 1$ has one share offered and one share bid ($n_B = n_A = 1$).\n",
    "\n",
    "Give the probabilities as of a market buy, market sell, limit buy and limit sell at $t = 1$,\n",
    "You may use my Mathematica notebook *Parlour.nb* as a guide (if you wish)."
   ]
  },
  {
   "cell_type": "markdown",
   "metadata": {},
   "source": [
    "### Answer of Q1"
   ]
  },
  {
   "cell_type": "markdown",
   "metadata": {},
   "source": [
    "* Set up the Parlou model parameters:\n",
    "    $$V=5.5;\\ B=5;\\ A=6;\\, T=3;\\, \\text{ and } \\beta_t \\sim U(0,2)$$\n",
    "\n",
    "\n",
    "* At time $t=T=3$:\n",
    "    $$\n",
    "\\mathbb{P} (MS|S)  =\\frac{1}{2}\\,\\int_0^2\\,d\\beta\\,{{\\mathbf 1} }_{\\beta<B/V}\n",
    "=\\frac{1}{2}\\,\\int_0^{10/11}\\,d\\beta = \\frac{5}{11}.\n",
    "$$\n",
    "\n",
    "    Thus, the market of a trder to submit a market sell order is:\n",
    "\n",
    "$$\\PP^S_3=\\frac{5}{22}.$$ \n",
    "\n",
    "    By symmetry, the trader to submit a market buy order is:\n",
    "$$\\PP^B_3=\\frac{5}{22}.$$\n",
    "\n",
    "* At time $t=2$:\n",
    "    \n",
    "    Since the order book at $t=1$ has one share offered and one share bid, and a limit order at time $t=1$ get filled must have market order been filled at $t=2$ and $t=3$. Therefore, a **new** trader to submit a market sell/buy order at $t=2$ is same as t=3, i.e.,\n",
    "    $$\\PP^S_2=\\frac{5}{22}.$$ \n",
    "    $$\\PP^B_2=\\frac{5}{22}.$$\n",
    "    \n",
    "* At time $t=1$:\n",
    "\n",
    "    -   The utility of a market sell order is $B - \\beta_t\\,V$.\n",
    "\n",
    "    -   The utility of a limit sell order is\n",
    "    $(A - \\beta_t\\,V) \\,{\\mathbb{P} }^B_3{\\mathbb{P} }^B_2$.\n",
    "    \n",
    "    Thus, submit a MS only if $B - \\beta_t\\,V \\geq\\ (A - \\beta_t\\,V) \\,{\\mathbb{P} }^B_3{\\mathbb{P} }^B_2$"
   ]
  },
  {
   "cell_type": "markdown",
   "metadata": {},
   "source": [
    "    Continuing in this way, we compute that a seller will choose as follows:\n",
    "\n",
    "\n",
    "| Action         | Condition | Numerically |\n",
    "|----------------|-----------|-------------|\n",
    "| Market sell (MS) |     if $B-\\beta_t\\,V \\geq (A-\\beta_t\\,V)\\,{\\mathbb{P} }^B_{3}{\\mathbb{P} }^B_{2} \\text{ and} (A-\\beta_t\\,V)\\,{\\mathbb{P} }^B_{3}{\\mathbb{P} }^B_{2} \\geq 0$     |    $0 \\leq \\beta_t<\\frac{4540}{5049}$         |\n",
    "| Limit sell (LS)  |     if $(A-\\beta_t\\,V)\\,{\\mathbb{P} }^B_{3}{\\mathbb{P} }^B_{2}>(B-\\beta_t\\,V) \\text{ and }(A-\\beta_t\\,V)>0 $      |   $\\frac{4540}{5049} \\leq \\beta_t<\\frac{12}{11}$          |\n",
    "| Do nothing     |     otherwise      |   $\\frac{12}{11}\\leq \\beta_t \\leq 2$          |"
   ]
  },
  {
   "cell_type": "markdown",
   "metadata": {},
   "source": [
    "Therefore, at time $t=1$:\n",
    "\n",
    "$$\\mathbb{P} (MS|S)  =\\frac{1}{2}\\,\\int_0^2\\,d\\beta\\,{{\\mathbf 1} }_{\\beta<\\frac{4540}{5049}}\n",
    "= \\frac{2270}{5049}.\n",
    "$$\n",
    "\n",
    "$$\\mathbb{P} (LS|S)  =\\frac{1}{2}\\,\\int_0^2\\,d\\beta\\,{{\\mathbf 1} }_{\\frac{4540}{5049}<\\beta<\\frac{12}{11}}\n",
    "= \\frac{44}{459}.\n",
    "$$\n",
    "\n",
    "Thus, the probability of a trader to submit a market sell order is:\n",
    "\n",
    "$${\\mathbb{P} }^S_1=\\frac{1135}{5049}$$\n",
    "\n",
    "the probability of a trader to submit a limit sell order is:\n",
    "\n",
    "$${\\mathbb{P} }^{LS}_1=\\frac{22}{459}$$\n",
    "\n",
    "By symmetry, the probability of a trader to submit a market buy order is:\n",
    "\n",
    "$${\\mathbb{P} }^B_1=\\frac{1135}{5049}$$\n",
    "\n",
    "the probability of a trader to submit a limit buy order is:\n",
    "\n",
    "$${\\mathbb{P} }^{LB}_1=\\frac{22}{459}$$\n",
    "\n"
   ]
  },
  {
   "cell_type": "markdown",
   "metadata": {},
   "source": [
    "### 2. (4 points) \n",
    "Explain why the optimal market/limit order decision depends in general on quantity available on both sides of the order book in the Parlour model."
   ]
  },
  {
   "cell_type": "markdown",
   "metadata": {},
   "source": [
    "### Answer of Q2"
   ]
  },
  {
   "cell_type": "markdown",
   "metadata": {},
   "source": [
    "The reason of optimal order decision depends on the quantity available on both sides of the order book can be described as following:\n",
    "\n",
    "* An increase in book depth $n_B$ on the bid-side decreases the probability of a limit buy order. And a decrease in book depth $n_A$ on the ask-side decreases the probability of a market sell order in subsequent periods and so decreases the probability of a limit buy order.\n",
    "\n",
    "* Since at each step, only one limit buy/sell order can be filled depends on the **position and also the length of the queue (the quantity on both sides of the order book)**. Consider the situation of a sell, the longer the queue on the bid side, the more likely it is that a market buy order will be submitted in subsequent periods and the more likely that a limit sell order will be filled. Similar for a buyer.\n",
    "\n",
    "* The *herding* effect causes the order signs are correlated. In particular, a market sell order increases the probability of a subsequent market sell and decreases the probability of a subsequent market buy.\n",
    "\n",
    "Therefore, the optimal market/limit order desicision depends on quantity available on both sides of the order book in the Parlour model."
   ]
  },
  {
   "cell_type": "markdown",
   "metadata": {},
   "source": [
    "### Set up R-environment"
   ]
  },
  {
   "cell_type": "code",
   "execution_count": 3,
   "metadata": {
    "collapsed": false
   },
   "outputs": [],
   "source": [
    "download.file(url=\"http://mfe.baruch.cuny.edu/wp-content/uploads/2015/01/ziSetup.zip\", destfile=\"ziSetup.zip\")\n",
    "unzip(zipfile=\"ziSetup.zip\")\n",
    "source(\"ziSetup.R\")"
   ]
  },
  {
   "cell_type": "markdown",
   "metadata": {},
   "source": [
    "## Cont-Kukanov optimal order placement"
   ]
  },
  {
   "cell_type": "markdown",
   "metadata": {},
   "source": [
    "### 3. (16 points)\n",
    "\n",
    "Consider the two BATS exchanges BZX and BYX.  Suppose you are trying to buy shares of MSFT in 3.9 minutes ($1\\%$ of the trading day).  Suppose further that the two exchanges have the following characteristics:\n",
    "\n",
    "**Exchange** | **Make fee** | **Take fee** | **Daily volume** \n",
    "-----|-----:|-------:| ---- |\n",
    "| **(per share)** | **(per share)** | **(shares)** \n",
    "BZX | -0.32¢ | +0.30¢ | 10,500,000\n",
    "BYX | +0.03¢ | -0.03¢ | 1,300,000\n",
    "\n",
    "Assume the daily volatility of MSFT is $1\\%$ and that MSFT is trading at $\\$37.50$.\n",
    "\n",
    "(a) We may suppose that if your order is only partially filled, that's because the price moved away (*adverse selection*).  This suggests that we penalize any under fill of limit orders by $\\sigma\\,\\sqrt{T}$ where $T$ is the order duration.  Compute the corresponding value of $\\lambda_u$ in cents per share.\n",
    "\n",
    "\n",
    "(b) Assuming a spread of $1$ cent, what are $h$, $f$, and $r$ for BZX and BYX respectively (in cents per share)?\n",
    "\n",
    "\n",
    "(c) Assuming no seasonality, what is the mean value $\\bar \\xi$ of $\\xi$ (over 3.9 minutes) for BZX and BYX respectively (in shares)?\n",
    "\n",
    "\n",
    "(d)  Assume that $\\xi$ is log normally distributed with\n",
    "\n",
    "$$\n",
    "\\xi = \\bar \\xi \\,\\exp\\left\\{\\sigma\\,Z-\\frac 12\\,\\sigma^2\\right\\}.\n",
    "$$\n",
    "\n",
    "where $Z \\sim N(0,1)$ and $\\sigma = 1/2$.  What is the standard deviation of $\\xi$ (in terms of $\\bar \\xi$)?\n",
    "\n",
    "\n",
    "(e) Write R-code to determine the optimal order size $L^\\star+Q$ on BZX and BYX respectively. Assume here that you will either trade on BZX or BYX; there is no splitting of the order between the two exchanges. <br>\n",
    "(Hint: You may find the R function *qnorm(. )* useful).\n",
    "\n",
    "\n",
    "(f) Compare the optimal limit order sizes from part (e) with the ratios of quote sizes and volumes on BZX and BYX.  Are your results from part (e) roughly consistent with observation.  You may assume that the quote sizes shown on the MSFT BATS slides from Lecture 1 are typical."
   ]
  },
  {
   "cell_type": "markdown",
   "metadata": {},
   "source": [
    "### Answer of Q3"
   ]
  },
  {
   "cell_type": "markdown",
   "metadata": {},
   "source": [
    "#### Answer of (a)"
   ]
  },
  {
   "cell_type": "code",
   "execution_count": 4,
   "metadata": {
    "collapsed": false
   },
   "outputs": [
    {
     "name": "stdout",
     "output_type": "stream",
     "text": [
      "[1] \"The lambda_u in cents per share is: \"\n",
      "[1] 3.75\n"
     ]
    }
   ],
   "source": [
    "# Retrive (set up) the parameters\n",
    "vol<- 0.01  # Volatility\n",
    "T<- 0.01    # Maturity 3.9 min (1% of trading day)\n",
    "price<- 37.5  # The daily price of MSFT\n",
    "\n",
    "# Since the lambda_u is price adverse selection\n",
    "lambda_u<- vol*price*100 *sqrt(T)     # 100: unit of lambda_u is cents\n",
    "print(\"The lambda_u in cents per share is: \")\n",
    "print(lambda_u)"
   ]
  },
  {
   "cell_type": "markdown",
   "metadata": {},
   "source": [
    "#### Answer of (b)"
   ]
  },
  {
   "cell_type": "code",
   "execution_count": 5,
   "metadata": {
    "collapsed": false
   },
   "outputs": [
    {
     "name": "stdout",
     "output_type": "stream",
     "text": [
      "[1] \"The h, f and r for BZX are:\"\n",
      "[1] 0.50 0.30 0.32\n",
      "[1] \"The h, f and r for BYX are:\"\n",
      "[1]  0.50 -0.03 -0.03\n"
     ]
    }
   ],
   "source": [
    "# Set up parameters\n",
    "s<- 1  # Spread is 1 cent \n",
    "h<- 0.5*s  # h: half-spread\n",
    "# f: take fees\n",
    "f_BZX<- 0.3\n",
    "f_BYX<- -0.03\n",
    "# r: make rebates\n",
    "r_BZX<- 0.32\n",
    "r_BYX<- -0.03\n",
    "\n",
    "print(\"The h, f and r for BZX are:\")\n",
    "print(c(h,f_BZX,r_BZX))\n",
    "\n",
    "print(\"The h, f and r for BYX are:\")\n",
    "print(c(h,f_BYX,r_BYX))"
   ]
  },
  {
   "cell_type": "markdown",
   "metadata": {},
   "source": [
    "#### Answer of (c)"
   ]
  },
  {
   "cell_type": "markdown",
   "metadata": {},
   "source": [
    "With no seasonality condition, the mean value $\\bar \\xi $ of $\\xi$ is $\\xi\\sqrt{T}$. Therefore:\n",
    "\n",
    "$$\\bar \\xi_{BZX}=\\xi_{BZX}\\sqrt{T}=10,500,000\\times 1\\%=105,000$$\n",
    "\n",
    "$$\\bar \\xi_{BYX}=\\xi_{BYX}\\sqrt{T}=1,300,000\\times 1\\%=13,000$$"
   ]
  },
  {
   "cell_type": "markdown",
   "metadata": {},
   "source": [
    "#### Answer of (d)"
   ]
  },
  {
   "cell_type": "markdown",
   "metadata": {},
   "source": [
    "Since $Z \\sim N(0,1)$ and $\\sigma=1/2$,\n",
    "\n",
    "$$\n",
    "\\xi = \\bar \\xi \\,\\exp\\left\\{\\sigma\\,Z-\\frac 12\\,\\sigma^2\\right\\}\n",
    "$$\n",
    "\n",
    "$$\\iff  \\xi = \\bar \\xi \\,e^{-\\frac{1}{8}}\\,e^{\\frac{Z}{2}}$$\n",
    "\n",
    "$$\\Rightarrow \\xi^2=\\bar \\xi^2\\, e^{-\\frac{1}{4}}\\,e^{Z}$$\n",
    "\n",
    "And,\n",
    "\n",
    "\n",
    "$$E(\\xi)=e^{-\\frac{1}{8}}\\bar\\xi\\, E(e^{\\frac{Z}{2}}) $$\n",
    "\n",
    "$$= \\bar\\xi\\, e^{-\\frac{1}{8}}\\, e^{\\frac{1}{2}\\cdot\\frac{1}{4}}  (*)$$\n",
    "\n",
    "\n",
    "\n",
    "$$ E(\\xi^2)=\\bar\\xi^2\\,e^{\\frac{1}{4}}\\,E(e^Z)$$\n",
    "\n",
    "$$=\\bar\\xi^2\\,e^{\\frac{1}{4}}\\,e^{\\frac{1}{2}} (**)$$\n",
    "\n",
    "Therefore:\n",
    "\n",
    "$$var(\\xi)=E(\\xi^2)-{E(\\xi)}^2=\\bar\\xi^2\\cdot(e^{\\frac{1}{4}}-1)$$\n",
    "\n",
    "$$\\sigma(\\xi)=\\bar\\xi\\cdot\\sqrt{e^{\\frac{1}{4}}-1}$$\n",
    "\n",
    "Where(\\*) and (\\**): $E(e^{tZ})=e^{\\mu t+\\frac{1}{2} \\sigma^2 t^2},\\, Z \\sim N(\\mu,\\sigma^2)$"
   ]
  },
  {
   "cell_type": "markdown",
   "metadata": {},
   "source": [
    "#### Answer of (e)\n",
    "The optimal order size of $Z$ is $F^{-1}(\\frac{2h+f+r}{\\lambda_u +h+r})$, where the $F$ is the cdf of $Z$. Since $\n",
    "\\xi = \\bar \\xi \\,\\exp\\left\\{\\sigma\\,Z-\\frac 12\\,\\sigma^2\\right\\}\n",
    "$, the optimal order size of $\\xi$ is $\\bar\\xi \\exp\\left\\{\\sigma Z_{\\#opt} -\\frac12\\,\\sigma^2\\right\\}$. \n",
    "\n",
    "Therefore the optimal order sizes are:\n",
    "\n",
    "|$BZX$     |$BYZ$\n",
    "------------:|---------:|--------\n",
    "$L^\\star$ +$Q$ |76887.361|7834.038\n",
    "\n",
    "\n",
    "\n",
    "Detailed codes are written as following:"
   ]
  },
  {
   "cell_type": "code",
   "execution_count": 6,
   "metadata": {
    "collapsed": false
   },
   "outputs": [
    {
     "name": "stdout",
     "output_type": "stream",
     "text": [
      "[1] \"The optimal order size (L_star+Q) in BZX and BYZ are:\"\n",
      "[1] 76887.361  7834.038\n"
     ]
    }
   ],
   "source": [
    "# Retrive parameters (some are written in (a) and (b))\n",
    "xi_BZX<- 10500000\n",
    "xi_BYX<- 1300000\n",
    "sigma_p<- 0.5  # parameter in the formula of xi and Z\n",
    "\n",
    "# qnorm: cdf of (standard) normal distribution\n",
    "# Optimal order size of BZX\n",
    "num_opt_BZX<- (xi_BZX*T)* exp(sigma_p*qnorm((2.0*h+f_BZX+r_BZX)/(lambda_u+h+r_BZX))-0.5*sigma_p*sigma_p)\n",
    "# Optimal order size of BYX\n",
    "num_opt_BYX<- (xi_BYX*T)* exp(sigma_p*qnorm((2.0*h+f_BYX+r_BYX)/(lambda_u+h+r_BYX))-0.5*sigma_p*sigma_p)\n",
    "\n",
    "print(\"The optimal order size (L_star+Q) in BZX and BYZ are:\")\n",
    "print(c(num_opt_BZX,num_opt_BYX))"
   ]
  },
  {
   "cell_type": "markdown",
   "metadata": {},
   "source": [
    "#### Answer of (f)"
   ]
  },
  {
   "cell_type": "code",
   "execution_count": 7,
   "metadata": {
    "collapsed": false
   },
   "outputs": [
    {
     "data": {
      "text/html": [
       "<table>\n",
       "<thead><tr><th scope=col>ratio of optimal orders(BZX/BYX)</th><th scope=col>(average) quote size ration (BZX/BYX)</th><th scope=col>volumes ratio (BZX/BYX)</th></tr></thead>\n",
       "<tbody>\n",
       "\t<tr><td>9.814525</td><td>6.058   </td><td>3.46903 </td></tr>\n",
       "</tbody>\n",
       "</table>\n"
      ],
      "text/latex": [
       "\\begin{tabular}{r|lll}\n",
       " ratio of optimal orders(BZX/BYX) & (average) quote size ration (BZX/BYX) & volumes ratio (BZX/BYX)\\\\\n",
       "\\hline\n",
       "\t 9.814525 & 6.058    & 3.46903 \\\\\n",
       "\\end{tabular}\n"
      ],
      "text/markdown": [
       "\n",
       "ratio of optimal orders(BZX/BYX) | (average) quote size ration (BZX/BYX) | volumes ratio (BZX/BYX) | \n",
       "|---|\n",
       "| 9.814525 | 6.058    | 3.46903  | \n",
       "\n",
       "\n"
      ],
      "text/plain": [
       "  ratio of optimal orders(BZX/BYX) (average) quote size ration (BZX/BYX)\n",
       "1 9.814525                         6.058                                \n",
       "  volumes ratio (BZX/BYX)\n",
       "1 3.46903                "
      ]
     },
     "metadata": {},
     "output_type": "display_data"
    }
   ],
   "source": [
    "# Get the average quote size of MSFT on BZX and BYX from picture in Lecture 1\n",
    "Avg_BZX<- mean(c(1700,1558,1300,1100,700,800,900,900,1258,1900))\n",
    "Avg_BYZ<- mean(c(100,100,100,200,200,100,400,400,200,200))\n",
    "# Get the volumes of MSFT on BZX and BYX from picture in Lecture 1\n",
    "volu_BZX<- 1078386\n",
    "volu_BYX<- 310861\n",
    "\n",
    "# Compute the ratios\n",
    "opt_ratio<- num_opt_BZX/num_opt_BYX\n",
    "qte_ratio<- Avg_BZX/Avg_BYZ\n",
    "volu_ratio<- volu_BZX/volu_BYX\n",
    "\n",
    "res<-data.frame(opt_ratio,qte_ratio,volu_ratio)\n",
    "# rename the columns names of the dataframe\n",
    "colnames(res)<- c(\"ratio of optimal orders(BZX/BYX)\",\"(average) quote size ration (BZX/BYX)\",\n",
    "                 \"volumes ratio (BZX/BYX)\")\n",
    "res"
   ]
  },
  {
   "cell_type": "markdown",
   "metadata": {},
   "source": [
    "Table 1 The rations of BZX over BYX"
   ]
  },
  {
   "cell_type": "markdown",
   "metadata": {},
   "source": [
    "**Observation**:\n",
    "\n",
    "* The results from table above show that the results from part(e) are roughly consistent with the observation."
   ]
  },
  {
   "cell_type": "markdown",
   "metadata": {},
   "source": [
    "## The Bouchaud-M&eacute;zard-Potters order book approximation"
   ]
  },
  {
   "cell_type": "markdown",
   "metadata": {},
   "source": [
    "### 4. (16 points)\n",
    "\n",
    "When $\\lambda(u)=\\alpha$,  a constant, the BMP order density becomes\n",
    "\n",
    "\\begin{eqnarray*}\n",
    "\\rho_{BMP}(\\Delta) &=& \\frac{\\alpha}{\\delta}\\,\\left\\{e^{-\\Delta/{\\tilde \\Delta}}\\,\\int_0^{\\Delta/{\\tilde\\Delta}}\\,\\sinh(u)\\,du + \\sinh(\\Delta/{\\tilde \\Delta})\\,\\int_{\\Delta/{\\tilde\\Delta}}^\\infty\\,e^{-u}\\,du\\right\\} \\\\\n",
    "&=&\\frac{\\alpha}{\\delta}\\,\\left\\{1 - e^{-\\Delta/{\\tilde \\Delta}}  \\right\\}\n",
    "\\end{eqnarray*}\n",
    "\n",
    "where the characteristic distance\n",
    "\n",
    "$$\n",
    "\\tilde \\Delta=\\sqrt{\\frac{\\sigma^2}{2\\,\\delta}}.\n",
    "$$\n",
    "\n",
    "(a) Amend the SFGK zero intelligence code from Problem 3 of HW1 to count the number of limit orders generated in addition to computing the average book shape.\n",
    "\n",
    "(b) With $\\alpha = 1$, $\\mu = 10$ and $\\delta = \\frac15$, simulate 100,000 events and plot the resulting average book shape in red (in a band $\\pm 20$ around the mid price).\n",
    "\n",
    "(c) From your simulation, what is the probability $P_L$ of a limit order at a given level conditional on an event? (Recall that there are 60 limit order levels in the simulation).\n",
    "\n",
    "(d) In [Gatheral and Oomen]<sup id=\"cite_ref-GO\" class=\"reference\"><a href=\"#cite_note-GO\"><span>[</span>1<span>]</span></a></sup>, with these SFGK parameters, realized variance per event was estimated as\n",
    "\n",
    "$$\n",
    "\\sigma^2_{GO} = 0.083.\n",
    "$$\n",
    "\n",
    "Using your estimate $P_L$ of limit orders per level per event, convert this estimate to variance per limit order (recall that $\\alpha=1$).  Denote your result by $\\sigma^2_{GO}$.  Compute the characteristic distance $\\tilde \\Delta_{GO}$ with this estimate $\\sigma^2_{GO}$.\n",
    "\n",
    "(e) In Lecture 1, using dimensional analysis, we estimated that variance $\\sigma^2_{DA}$ per unit time should be of the order of\n",
    "\n",
    "$$\n",
    "\\sigma^2_{DA} = \\frac{\\mu^2\\,\\delta}{\\alpha^2}.\n",
    "$$\n",
    "\n",
    "Compute the characteristic distance $\\tilde \\Delta_{DA}$ with this estimate $\\sigma^2_{DA}$.\n",
    "\n",
    "(f)  Using your two estimates of $\\tilde \\Delta$ from parts (d) and (e),  write functions to compute the corresponding order book densities $\\rho_{GO}(\\Delta)$ and $\\rho_{DA}(\\Delta)$.\n",
    "\n",
    "(g)\n",
    "Superimpose plots of the asymptotic densities $\\rho_{DA}(\\Delta)$ (in blue) and $\\rho_{DA}(\\Delta)$ (in orange) on your plot of the average book shape."
   ]
  },
  {
   "cell_type": "markdown",
   "metadata": {},
   "source": [
    "### Answer of Q4"
   ]
  },
  {
   "cell_type": "markdown",
   "metadata": {},
   "source": [
    "#### Answer of (a)"
   ]
  },
  {
   "cell_type": "code",
   "execution_count": 8,
   "metadata": {
    "collapsed": true
   },
   "outputs": [],
   "source": [
    "# Modify the code of limit order buy/sell function to record the number of limit orders\n",
    "num_limit_buy<<- 0   # Set global variable\n",
    "num_limit_sell<<-0   # Set global variable\n",
    "\n",
    "# Modify the functions\n",
    "#Buy limit order\n",
    "limitBuyOrder <- function(price=NA){\n",
    "    # Add buy record\n",
    "    num_limit_buy<<- num_limit_buy+1\n",
    "  if (is.na(price))\n",
    "  {prx <<- (bestOffer()-pick(L))}\n",
    "  else prx <<-price  \n",
    "  if(logging==T){eventLog[count,]<<- c(\"LB\",prx)} \n",
    "  book$buySize[book$Price==prx]<<-book$buySize[book$Price==prx]+1} \n",
    "\n",
    "#Sell limit order\n",
    "limitSellOrder <- function(price=NA){\n",
    "    # Add sell record\n",
    "    num_limit_sell<<- num_limit_sell+1\n",
    "  if (is.na(price))\n",
    "  {prx <<- (bestBid()+pick(L))}\n",
    "  else prx <<-price  \n",
    "  if(logging==T){eventLog[count,] <<- c(\"LS\",prx)}  \n",
    "  book$sellSize[book$Price==prx]<<-book$sellSize[book$Price==prx]+1} \n"
   ]
  },
  {
   "cell_type": "markdown",
   "metadata": {},
   "source": [
    "#### Answer of (b)"
   ]
  },
  {
   "cell_type": "code",
   "execution_count": 9,
   "metadata": {
    "collapsed": true
   },
   "outputs": [],
   "source": [
    "logging <- F  # Speed up the simulation\n",
    "\n",
    "#Book setup\n",
    "L <- 30 #Set number of price levels to be included in iterations\n",
    "\n",
    "# Generate initial book\n",
    "LL <- 1000 #Total number of levels in buy and sell books\n",
    "\n",
    "# Initialize the order book with initializeBook5() function with asymptotic depth of 5 shares\n",
    "initializeBook5()\n",
    "\n",
    "# Set up parameters\n",
    "alpha<- 1.0\n",
    "mu<- 10\n",
    "delta<- 1.0/5\n",
    "\n",
    "# Generate 100,000 evenets with given parameters\n",
    "#NumEvents<-100  # Test events\n",
    "NumEvents<- 100000 # Average over 100,000 events\n",
    "\n",
    "# Burn in for 100 events\n",
    "for(count in 1:100){\n",
    "    generateEvent()\n",
    "            \n",
    "}\n",
    "avgbookshape <- bookShape(20)/NumEvents\n",
    "\n",
    "for(count in 2:NumEvents){\n",
    "    generateEvent()\n",
    "    avgbookshape<-avgbookshape+bookShape(20)/NumEvents\n",
    "}\n"
   ]
  },
  {
   "cell_type": "code",
   "execution_count": 10,
   "metadata": {
    "collapsed": false
   },
   "outputs": [
    {
     "data": {
      "image/png": "[encoded data removed]",
      "text/plain": [
       "Plot with title “NA”"
      ]
     },
     "metadata": {},
     "output_type": "display_data"
    }
   ],
   "source": [
    "# Plot the order book shape\n",
    "options(repr.plot.height=5, repr.plot.width=6)\n",
    "plot(-20:20,avgbookshape,main=NA,xlab=\"Relative price\",ylab=\"# Shares\", \n",
    "      col=\"red\", type=\"b\")"
   ]
  },
  {
   "cell_type": "markdown",
   "metadata": {},
   "source": [
    "Figure 1 order book shape with $\\alpha$=1, $\\mu$=10, $\\delta$=1/5"
   ]
  },
  {
   "cell_type": "markdown",
   "metadata": {},
   "source": [
    "#### Answer of (c)"
   ]
  },
  {
   "cell_type": "code",
   "execution_count": 11,
   "metadata": {
    "collapsed": false
   },
   "outputs": [
    {
     "name": "stdout",
     "output_type": "stream",
     "text": [
      "[1] \"The conditional probability of a limit order at a given level is:\"\n",
      "[2] \"0.00833666666666667\"                                              \n"
     ]
    }
   ],
   "source": [
    "# The total levels are 2*L=60\n",
    "P_L<- (num_limit_buy+num_limit_sell)/(2*L)/NumEvents\n",
    "print(c('The conditional probability of a limit order at a given level is:',P_L))"
   ]
  },
  {
   "cell_type": "markdown",
   "metadata": {},
   "source": [
    "#### Answer of (d)"
   ]
  },
  {
   "cell_type": "markdown",
   "metadata": {},
   "source": [
    "* The variance per limit order is:\n",
    "\n",
    "$$ \\sigma^2_{GO\\,PLO}=\\sigma^2_{GO}/(2*P_L)$$\n",
    "\n",
    "\n",
    "* The characteristic distance of GO per limit order is:\n",
    "\n",
    "$$ \\tilde \\Delta_{GO\\,PLO}=\\sqrt{\\frac{\\sigma^2_{GO\\,PLO}}{2*\\delta}}$$\n",
    "\n",
    "* The numbers are as following:"
   ]
  },
  {
   "cell_type": "code",
   "execution_count": 12,
   "metadata": {
    "collapsed": false
   },
   "outputs": [
    {
     "name": "stdout",
     "output_type": "stream",
     "text": [
      "[1] \"The variance per limit order is:\" \"4.97800879648141\"                \n",
      "[1] \"The characteristic distance of GO per limit order is:\"\n",
      "[2] \"3.5277502733617\"                                      \n"
     ]
    }
   ],
   "source": [
    "sigma2_GO<- 0.083\n",
    "sigma2_GOPLO<- sigma2_GO/(2*P_L)\n",
    "cd_GOPLO<- sqrt(sigma2_GOPLO/(2*delta))\n",
    "\n",
    "print(c(\"The variance per limit order is:\",sigma2_GOPLO))\n",
    "print(c(\"The characteristic distance of GO per limit order is:\",cd_GOPLO))"
   ]
  },
  {
   "cell_type": "markdown",
   "metadata": {},
   "source": [
    "#### Answer of (e)"
   ]
  },
  {
   "cell_type": "code",
   "execution_count": 13,
   "metadata": {
    "collapsed": false
   },
   "outputs": [
    {
     "name": "stdout",
     "output_type": "stream",
     "text": [
      "[1] \"The characteristic distance of DA  is:\"\n",
      "[2] \"7.07106781186548\"                      \n"
     ]
    }
   ],
   "source": [
    "sigma2_DA<- (mu^2)*delta/(alpha^2)\n",
    "cd_DA<- sqrt(sigma2_DA/(2*delta))\n",
    "print(c(\"The characteristic distance of DA  is:\",cd_DA))"
   ]
  },
  {
   "cell_type": "markdown",
   "metadata": {},
   "source": [
    "#### Answer of (f)"
   ]
  },
  {
   "cell_type": "markdown",
   "metadata": {},
   "source": [
    "The order book densities of GO and DA can be computed by:\n",
    "\n",
    "\\begin{eqnarray*}\n",
    "\\rho_{BMP}(\\Delta) &=& \\frac{\\alpha}{\\delta}\\,\\left\\{e^{-\\Delta/{\\tilde \\Delta}}\\,\\int_0^{\\Delta/{\\tilde\\Delta}}\\,\\sinh(u)\\,du + \\sinh(\\Delta/{\\tilde \\Delta})\\,\\int_{\\Delta/{\\tilde\\Delta}}^\\infty\\,e^{-u}\\,du\\right\\} \\\\\n",
    "&=&\\frac{\\alpha}{\\delta}\\,\\left\\{1 - e^{-\\Delta/{\\tilde \\Delta}}  \\right\\}\n",
    "\\end{eqnarray*}"
   ]
  },
  {
   "cell_type": "markdown",
   "metadata": {},
   "source": [
    "#### Answer of (g)"
   ]
  },
  {
   "cell_type": "code",
   "execution_count": 14,
   "metadata": {
    "collapsed": false
   },
   "outputs": [],
   "source": [
    "# The function of computing the densities\n",
    "rho_BMP<- function(alpha,delta,deltaD,deltaDT){\n",
    "    \n",
    "    # formula from (f)\n",
    "    return (alpha*(1-exp(-abs(deltaD)/deltaDT))/delta)\n",
    "    # abs: to get the curve of negative DELTA\n",
    "}"
   ]
  },
  {
   "cell_type": "code",
   "execution_count": 15,
   "metadata": {
    "collapsed": false
   },
   "outputs": [
    {
     "data": {
      "image/png": "[encoded data removed]",
      "text/plain": [
       "Plot with title “NA”"
      ]
     },
     "metadata": {},
     "output_type": "display_data"
    }
   ],
   "source": [
    "# Plot the order book shape and the curves from GO and DA estimation\n",
    "# Plot the order book shape\n",
    "options(repr.plot.height=5, repr.plot.width=6)\n",
    "plot(-20:20,avgbookshape,main=NA,xlab=\"Relative price\",ylab=\"# Shares\", \n",
    "      col=\"red\", type=\"b\")\n",
    "curve(rho_BMP(1,1/5,x,cd_GOPLO),from=-20,to=20,col=\"blue\",add=TRUE)\n",
    "curve(rho_BMP(1,1/5,x,cd_DA),from=-20,to=20,col=\"orange\",add=TRUE)\n",
    "legend(\"bottomright\",legend = c(\"ZI model\",\"GO estimation\",\"DA estimation\"),lty=c(1,1,1),\n",
    "      col=c(\"red\",\"blue\",\"orange\"),text.col=c(\"red\",\"blue\",\"orange\"),\n",
    "        cex=0.7,text.width=7.0,y.intersp=1.5)"
   ]
  },
  {
   "cell_type": "markdown",
   "metadata": {},
   "source": [
    "Figure 2 order book shape (red) with $\\alpha$=1, $\\mu$=10, $\\delta$=1/5, GO estimation plot (blue) and DA estimation plot (orange)"
   ]
  },
  {
   "cell_type": "markdown",
   "metadata": {},
   "source": [
    "### 5. (6 points)\n",
    "\n",
    "Another of Mike and Farmer's observations is that the distribution of marketable as well as unmarketable limit orders as a function of distance $\\Delta$ to the same-side best quote is well-described by a Student-$t$ distribution.  Assume $\\mu=1/2$ as above.\n",
    "\n",
    "(a) Derive an expression in terms of the Student-$t$ cumulative density function for the ratio of arrival rates of limit to market orders as a function of the spread $s$.  How does this ratio vary with $s$?\n",
    "\n",
    "(b) Relative to the zero-intelligence model, does this empirically observed strategic behavior make the spread revert faster or more slowly?"
   ]
  },
  {
   "cell_type": "markdown",
   "metadata": {},
   "source": [
    "### Answer of Q5"
   ]
  },
  {
   "cell_type": "markdown",
   "metadata": {},
   "source": [
    "#### Answer of (a)"
   ]
  },
  {
   "cell_type": "markdown",
   "metadata": {},
   "source": [
    "Denote $F$ is the cumulative density function of Student-$t$ distribution. The limit orders as a function of distance $\\Delta$ to the same-side best quote is Student-$t$ distribution, and distance to the best bid quote plus the distance to the best offer quote is the spread $s$. Therefore:\n",
    "\n",
    "* The **number of limit orders** with spread $s$ is $F(s)$.\n",
    "* The number of market orders is $1-F(s)$.\n",
    "* The ratio of limit orders over market orders is $F(s)/(1-F(s))$.\n",
    "* The cdf of Studnet-$t$ is monotonous increasing function in the domain. Thereby, the ratio increases with increasing of spread $s$."
   ]
  },
  {
   "cell_type": "markdown",
   "metadata": {},
   "source": [
    "#### Answer of (b)"
   ]
  },
  {
   "cell_type": "markdown",
   "metadata": {},
   "source": [
    "This observed behavior makes the spread revert faster, since the cdf of Studnet-$t$ is monotonous increasing function in the domain.\n",
    "\n",
    "* $s$ increases $\\rightarrow F(s)$ increases: The number of market orders increases with increasing spread $s$. And then the increasing number of market orders widen the spread.\n",
    "* $s$ decreases $\\rightarrow 1-F(s)$ increases: The number of limit orders increases with decreasing spread $s$. And then the increasing number of limit orders narrow the spread.\n",
    "\n",
    "Therefore, the empirically observed strategic behavior makes the spread revert faster."
   ]
  },
  {
   "cell_type": "markdown",
   "metadata": {},
   "source": [
    "### References\n",
    "\n",
    "<div class=\"reflist\" style=\"list-style-type: decimal;\">\n",
    "\n",
    "<ol>\n",
    "\n",
    "  <li id=\"cite_note-GO\"><span class=\"mw-cite-backlink\"><b><a href=\"#cite_ref-GO\">^</a></b></span> Jim Gatheral and Roel C. A Oomen, Zero-intelligence realized variance estimation, <span>*Finance and Stochastics*,</span> <span>**14**</span>(2) 249–283, 2010.</li>\n",
    "\n",
    "</ol>"
   ]
  },
  {
   "cell_type": "code",
   "execution_count": 16,
   "metadata": {
    "collapsed": false
   },
   "outputs": [
    {
     "name": "stdout",
     "output_type": "stream",
     "text": [
      "[1] \"The running time of this notebooks is: \"\n"
     ]
    },
    {
     "data": {
      "text/plain": [
       "   user  system elapsed \n",
       " 115.51    1.11  121.93 "
      ]
     },
     "metadata": {},
     "output_type": "display_data"
    }
   ],
   "source": [
    "# End recording the running time\n",
    "print('The running time of this notebooks is: ')\n",
    "proc.time()-ptm"
   ]
  }
 ],
 "metadata": {
  "kernelspec": {
   "display_name": "R",
   "language": "R",
   "name": "ir"
  },
  "language_info": {
   "codemirror_mode": "r",
   "file_extension": ".r",
   "mimetype": "text/x-r-source",
   "name": "R",
   "pygments_lexer": "r",
   "version": "3.3.2"
  }
 },
 "nbformat": 4,
 "nbformat_minor": 0
}
